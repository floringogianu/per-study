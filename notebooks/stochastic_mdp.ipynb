{
 "cells": [
  {
   "cell_type": "markdown",
   "metadata": {},
   "source": [
    "# Do a seaborn like lineplot for bokeh"
   ]
  },
  {
   "cell_type": "code",
   "execution_count": 1,
   "metadata": {},
   "outputs": [
    {
     "data": {
      "text/html": [
       "\n",
       "    <div class=\"bk-root\">\n",
       "        <a href=\"https://bokeh.pydata.org\" target=\"_blank\" class=\"bk-logo bk-logo-small bk-logo-notebook\"></a>\n",
       "        <span id=\"1001\">Loading BokehJS ...</span>\n",
       "    </div>"
      ]
     },
     "metadata": {},
     "output_type": "display_data"
    },
    {
     "data": {
      "application/javascript": [
       "\n",
       "(function(root) {\n",
       "  function now() {\n",
       "    return new Date();\n",
       "  }\n",
       "\n",
       "  var force = true;\n",
       "\n",
       "  if (typeof (root._bokeh_onload_callbacks) === \"undefined\" || force === true) {\n",
       "    root._bokeh_onload_callbacks = [];\n",
       "    root._bokeh_is_loading = undefined;\n",
       "  }\n",
       "\n",
       "  var JS_MIME_TYPE = 'application/javascript';\n",
       "  var HTML_MIME_TYPE = 'text/html';\n",
       "  var EXEC_MIME_TYPE = 'application/vnd.bokehjs_exec.v0+json';\n",
       "  var CLASS_NAME = 'output_bokeh rendered_html';\n",
       "\n",
       "  /**\n",
       "   * Render data to the DOM node\n",
       "   */\n",
       "  function render(props, node) {\n",
       "    var script = document.createElement(\"script\");\n",
       "    node.appendChild(script);\n",
       "  }\n",
       "\n",
       "  /**\n",
       "   * Handle when an output is cleared or removed\n",
       "   */\n",
       "  function handleClearOutput(event, handle) {\n",
       "    var cell = handle.cell;\n",
       "\n",
       "    var id = cell.output_area._bokeh_element_id;\n",
       "    var server_id = cell.output_area._bokeh_server_id;\n",
       "    // Clean up Bokeh references\n",
       "    if (id != null && id in Bokeh.index) {\n",
       "      Bokeh.index[id].model.document.clear();\n",
       "      delete Bokeh.index[id];\n",
       "    }\n",
       "\n",
       "    if (server_id !== undefined) {\n",
       "      // Clean up Bokeh references\n",
       "      var cmd = \"from bokeh.io.state import curstate; print(curstate().uuid_to_server['\" + server_id + \"'].get_sessions()[0].document.roots[0]._id)\";\n",
       "      cell.notebook.kernel.execute(cmd, {\n",
       "        iopub: {\n",
       "          output: function(msg) {\n",
       "            var id = msg.content.text.trim();\n",
       "            if (id in Bokeh.index) {\n",
       "              Bokeh.index[id].model.document.clear();\n",
       "              delete Bokeh.index[id];\n",
       "            }\n",
       "          }\n",
       "        }\n",
       "      });\n",
       "      // Destroy server and session\n",
       "      var cmd = \"import bokeh.io.notebook as ion; ion.destroy_server('\" + server_id + \"')\";\n",
       "      cell.notebook.kernel.execute(cmd);\n",
       "    }\n",
       "  }\n",
       "\n",
       "  /**\n",
       "   * Handle when a new output is added\n",
       "   */\n",
       "  function handleAddOutput(event, handle) {\n",
       "    var output_area = handle.output_area;\n",
       "    var output = handle.output;\n",
       "\n",
       "    // limit handleAddOutput to display_data with EXEC_MIME_TYPE content only\n",
       "    if ((output.output_type != \"display_data\") || (!output.data.hasOwnProperty(EXEC_MIME_TYPE))) {\n",
       "      return\n",
       "    }\n",
       "\n",
       "    var toinsert = output_area.element.find(\".\" + CLASS_NAME.split(' ')[0]);\n",
       "\n",
       "    if (output.metadata[EXEC_MIME_TYPE][\"id\"] !== undefined) {\n",
       "      toinsert[toinsert.length - 1].firstChild.textContent = output.data[JS_MIME_TYPE];\n",
       "      // store reference to embed id on output_area\n",
       "      output_area._bokeh_element_id = output.metadata[EXEC_MIME_TYPE][\"id\"];\n",
       "    }\n",
       "    if (output.metadata[EXEC_MIME_TYPE][\"server_id\"] !== undefined) {\n",
       "      var bk_div = document.createElement(\"div\");\n",
       "      bk_div.innerHTML = output.data[HTML_MIME_TYPE];\n",
       "      var script_attrs = bk_div.children[0].attributes;\n",
       "      for (var i = 0; i < script_attrs.length; i++) {\n",
       "        toinsert[toinsert.length - 1].firstChild.setAttribute(script_attrs[i].name, script_attrs[i].value);\n",
       "      }\n",
       "      // store reference to server id on output_area\n",
       "      output_area._bokeh_server_id = output.metadata[EXEC_MIME_TYPE][\"server_id\"];\n",
       "    }\n",
       "  }\n",
       "\n",
       "  function register_renderer(events, OutputArea) {\n",
       "\n",
       "    function append_mime(data, metadata, element) {\n",
       "      // create a DOM node to render to\n",
       "      var toinsert = this.create_output_subarea(\n",
       "        metadata,\n",
       "        CLASS_NAME,\n",
       "        EXEC_MIME_TYPE\n",
       "      );\n",
       "      this.keyboard_manager.register_events(toinsert);\n",
       "      // Render to node\n",
       "      var props = {data: data, metadata: metadata[EXEC_MIME_TYPE]};\n",
       "      render(props, toinsert[toinsert.length - 1]);\n",
       "      element.append(toinsert);\n",
       "      return toinsert\n",
       "    }\n",
       "\n",
       "    /* Handle when an output is cleared or removed */\n",
       "    events.on('clear_output.CodeCell', handleClearOutput);\n",
       "    events.on('delete.Cell', handleClearOutput);\n",
       "\n",
       "    /* Handle when a new output is added */\n",
       "    events.on('output_added.OutputArea', handleAddOutput);\n",
       "\n",
       "    /**\n",
       "     * Register the mime type and append_mime function with output_area\n",
       "     */\n",
       "    OutputArea.prototype.register_mime_type(EXEC_MIME_TYPE, append_mime, {\n",
       "      /* Is output safe? */\n",
       "      safe: true,\n",
       "      /* Index of renderer in `output_area.display_order` */\n",
       "      index: 0\n",
       "    });\n",
       "  }\n",
       "\n",
       "  // register the mime type if in Jupyter Notebook environment and previously unregistered\n",
       "  if (root.Jupyter !== undefined) {\n",
       "    var events = require('base/js/events');\n",
       "    var OutputArea = require('notebook/js/outputarea').OutputArea;\n",
       "\n",
       "    if (OutputArea.prototype.mime_types().indexOf(EXEC_MIME_TYPE) == -1) {\n",
       "      register_renderer(events, OutputArea);\n",
       "    }\n",
       "  }\n",
       "\n",
       "  \n",
       "  if (typeof (root._bokeh_timeout) === \"undefined\" || force === true) {\n",
       "    root._bokeh_timeout = Date.now() + 5000;\n",
       "    root._bokeh_failed_load = false;\n",
       "  }\n",
       "\n",
       "  var NB_LOAD_WARNING = {'data': {'text/html':\n",
       "     \"<div style='background-color: #fdd'>\\n\"+\n",
       "     \"<p>\\n\"+\n",
       "     \"BokehJS does not appear to have successfully loaded. If loading BokehJS from CDN, this \\n\"+\n",
       "     \"may be due to a slow or bad network connection. Possible fixes:\\n\"+\n",
       "     \"</p>\\n\"+\n",
       "     \"<ul>\\n\"+\n",
       "     \"<li>re-rerun `output_notebook()` to attempt to load from CDN again, or</li>\\n\"+\n",
       "     \"<li>use INLINE resources instead, as so:</li>\\n\"+\n",
       "     \"</ul>\\n\"+\n",
       "     \"<code>\\n\"+\n",
       "     \"from bokeh.resources import INLINE\\n\"+\n",
       "     \"output_notebook(resources=INLINE)\\n\"+\n",
       "     \"</code>\\n\"+\n",
       "     \"</div>\"}};\n",
       "\n",
       "  function display_loaded() {\n",
       "    var el = document.getElementById(\"1001\");\n",
       "    if (el != null) {\n",
       "      el.textContent = \"BokehJS is loading...\";\n",
       "    }\n",
       "    if (root.Bokeh !== undefined) {\n",
       "      if (el != null) {\n",
       "        el.textContent = \"BokehJS \" + root.Bokeh.version + \" successfully loaded.\";\n",
       "      }\n",
       "    } else if (Date.now() < root._bokeh_timeout) {\n",
       "      setTimeout(display_loaded, 100)\n",
       "    }\n",
       "  }\n",
       "\n",
       "\n",
       "  function run_callbacks() {\n",
       "    try {\n",
       "      root._bokeh_onload_callbacks.forEach(function(callback) { callback() });\n",
       "    }\n",
       "    finally {\n",
       "      delete root._bokeh_onload_callbacks\n",
       "    }\n",
       "    console.info(\"Bokeh: all callbacks have finished\");\n",
       "  }\n",
       "\n",
       "  function load_libs(js_urls, callback) {\n",
       "    root._bokeh_onload_callbacks.push(callback);\n",
       "    if (root._bokeh_is_loading > 0) {\n",
       "      console.log(\"Bokeh: BokehJS is being loaded, scheduling callback at\", now());\n",
       "      return null;\n",
       "    }\n",
       "    if (js_urls == null || js_urls.length === 0) {\n",
       "      run_callbacks();\n",
       "      return null;\n",
       "    }\n",
       "    console.log(\"Bokeh: BokehJS not loaded, scheduling load and callback at\", now());\n",
       "    root._bokeh_is_loading = js_urls.length;\n",
       "    for (var i = 0; i < js_urls.length; i++) {\n",
       "      var url = js_urls[i];\n",
       "      var s = document.createElement('script');\n",
       "      s.src = url;\n",
       "      s.async = false;\n",
       "      s.onreadystatechange = s.onload = function() {\n",
       "        root._bokeh_is_loading--;\n",
       "        if (root._bokeh_is_loading === 0) {\n",
       "          console.log(\"Bokeh: all BokehJS libraries loaded\");\n",
       "          run_callbacks()\n",
       "        }\n",
       "      };\n",
       "      s.onerror = function() {\n",
       "        console.warn(\"failed to load library \" + url);\n",
       "      };\n",
       "      console.log(\"Bokeh: injecting script tag for BokehJS library: \", url);\n",
       "      document.getElementsByTagName(\"head\")[0].appendChild(s);\n",
       "    }\n",
       "  };var element = document.getElementById(\"1001\");\n",
       "  if (element == null) {\n",
       "    console.log(\"Bokeh: ERROR: autoload.js configured with elementid '1001' but no matching script tag was found. \")\n",
       "    return false;\n",
       "  }\n",
       "\n",
       "  var js_urls = [\"https://cdn.pydata.org/bokeh/release/bokeh-1.0.1.min.js\", \"https://cdn.pydata.org/bokeh/release/bokeh-widgets-1.0.1.min.js\", \"https://cdn.pydata.org/bokeh/release/bokeh-tables-1.0.1.min.js\", \"https://cdn.pydata.org/bokeh/release/bokeh-gl-1.0.1.min.js\"];\n",
       "\n",
       "  var inline_js = [\n",
       "    function(Bokeh) {\n",
       "      Bokeh.set_log_level(\"info\");\n",
       "    },\n",
       "    \n",
       "    function(Bokeh) {\n",
       "      \n",
       "    },\n",
       "    function(Bokeh) {\n",
       "      console.log(\"Bokeh: injecting CSS: https://cdn.pydata.org/bokeh/release/bokeh-1.0.1.min.css\");\n",
       "      Bokeh.embed.inject_css(\"https://cdn.pydata.org/bokeh/release/bokeh-1.0.1.min.css\");\n",
       "      console.log(\"Bokeh: injecting CSS: https://cdn.pydata.org/bokeh/release/bokeh-widgets-1.0.1.min.css\");\n",
       "      Bokeh.embed.inject_css(\"https://cdn.pydata.org/bokeh/release/bokeh-widgets-1.0.1.min.css\");\n",
       "      console.log(\"Bokeh: injecting CSS: https://cdn.pydata.org/bokeh/release/bokeh-tables-1.0.1.min.css\");\n",
       "      Bokeh.embed.inject_css(\"https://cdn.pydata.org/bokeh/release/bokeh-tables-1.0.1.min.css\");\n",
       "    }\n",
       "  ];\n",
       "\n",
       "  function run_inline_js() {\n",
       "    \n",
       "    if ((root.Bokeh !== undefined) || (force === true)) {\n",
       "      for (var i = 0; i < inline_js.length; i++) {\n",
       "        inline_js[i].call(root, root.Bokeh);\n",
       "      }if (force === true) {\n",
       "        display_loaded();\n",
       "      }} else if (Date.now() < root._bokeh_timeout) {\n",
       "      setTimeout(run_inline_js, 100);\n",
       "    } else if (!root._bokeh_failed_load) {\n",
       "      console.log(\"Bokeh: BokehJS failed to load within specified timeout.\");\n",
       "      root._bokeh_failed_load = true;\n",
       "    } else if (force !== true) {\n",
       "      var cell = $(document.getElementById(\"1001\")).parents('.cell').data().cell;\n",
       "      cell.output_area.append_execute_result(NB_LOAD_WARNING)\n",
       "    }\n",
       "\n",
       "  }\n",
       "\n",
       "  if (root._bokeh_is_loading === 0) {\n",
       "    console.log(\"Bokeh: BokehJS loaded, going straight to plotting\");\n",
       "    run_inline_js();\n",
       "  } else {\n",
       "    load_libs(js_urls, function() {\n",
       "      console.log(\"Bokeh: BokehJS plotting callback run at\", now());\n",
       "      run_inline_js();\n",
       "    });\n",
       "  }\n",
       "}(window));"
      ],
      "application/vnd.bokehjs_load.v0+json": "\n(function(root) {\n  function now() {\n    return new Date();\n  }\n\n  var force = true;\n\n  if (typeof (root._bokeh_onload_callbacks) === \"undefined\" || force === true) {\n    root._bokeh_onload_callbacks = [];\n    root._bokeh_is_loading = undefined;\n  }\n\n  \n\n  \n  if (typeof (root._bokeh_timeout) === \"undefined\" || force === true) {\n    root._bokeh_timeout = Date.now() + 5000;\n    root._bokeh_failed_load = false;\n  }\n\n  var NB_LOAD_WARNING = {'data': {'text/html':\n     \"<div style='background-color: #fdd'>\\n\"+\n     \"<p>\\n\"+\n     \"BokehJS does not appear to have successfully loaded. If loading BokehJS from CDN, this \\n\"+\n     \"may be due to a slow or bad network connection. Possible fixes:\\n\"+\n     \"</p>\\n\"+\n     \"<ul>\\n\"+\n     \"<li>re-rerun `output_notebook()` to attempt to load from CDN again, or</li>\\n\"+\n     \"<li>use INLINE resources instead, as so:</li>\\n\"+\n     \"</ul>\\n\"+\n     \"<code>\\n\"+\n     \"from bokeh.resources import INLINE\\n\"+\n     \"output_notebook(resources=INLINE)\\n\"+\n     \"</code>\\n\"+\n     \"</div>\"}};\n\n  function display_loaded() {\n    var el = document.getElementById(\"1001\");\n    if (el != null) {\n      el.textContent = \"BokehJS is loading...\";\n    }\n    if (root.Bokeh !== undefined) {\n      if (el != null) {\n        el.textContent = \"BokehJS \" + root.Bokeh.version + \" successfully loaded.\";\n      }\n    } else if (Date.now() < root._bokeh_timeout) {\n      setTimeout(display_loaded, 100)\n    }\n  }\n\n\n  function run_callbacks() {\n    try {\n      root._bokeh_onload_callbacks.forEach(function(callback) { callback() });\n    }\n    finally {\n      delete root._bokeh_onload_callbacks\n    }\n    console.info(\"Bokeh: all callbacks have finished\");\n  }\n\n  function load_libs(js_urls, callback) {\n    root._bokeh_onload_callbacks.push(callback);\n    if (root._bokeh_is_loading > 0) {\n      console.log(\"Bokeh: BokehJS is being loaded, scheduling callback at\", now());\n      return null;\n    }\n    if (js_urls == null || js_urls.length === 0) {\n      run_callbacks();\n      return null;\n    }\n    console.log(\"Bokeh: BokehJS not loaded, scheduling load and callback at\", now());\n    root._bokeh_is_loading = js_urls.length;\n    for (var i = 0; i < js_urls.length; i++) {\n      var url = js_urls[i];\n      var s = document.createElement('script');\n      s.src = url;\n      s.async = false;\n      s.onreadystatechange = s.onload = function() {\n        root._bokeh_is_loading--;\n        if (root._bokeh_is_loading === 0) {\n          console.log(\"Bokeh: all BokehJS libraries loaded\");\n          run_callbacks()\n        }\n      };\n      s.onerror = function() {\n        console.warn(\"failed to load library \" + url);\n      };\n      console.log(\"Bokeh: injecting script tag for BokehJS library: \", url);\n      document.getElementsByTagName(\"head\")[0].appendChild(s);\n    }\n  };var element = document.getElementById(\"1001\");\n  if (element == null) {\n    console.log(\"Bokeh: ERROR: autoload.js configured with elementid '1001' but no matching script tag was found. \")\n    return false;\n  }\n\n  var js_urls = [\"https://cdn.pydata.org/bokeh/release/bokeh-1.0.1.min.js\", \"https://cdn.pydata.org/bokeh/release/bokeh-widgets-1.0.1.min.js\", \"https://cdn.pydata.org/bokeh/release/bokeh-tables-1.0.1.min.js\", \"https://cdn.pydata.org/bokeh/release/bokeh-gl-1.0.1.min.js\"];\n\n  var inline_js = [\n    function(Bokeh) {\n      Bokeh.set_log_level(\"info\");\n    },\n    \n    function(Bokeh) {\n      \n    },\n    function(Bokeh) {\n      console.log(\"Bokeh: injecting CSS: https://cdn.pydata.org/bokeh/release/bokeh-1.0.1.min.css\");\n      Bokeh.embed.inject_css(\"https://cdn.pydata.org/bokeh/release/bokeh-1.0.1.min.css\");\n      console.log(\"Bokeh: injecting CSS: https://cdn.pydata.org/bokeh/release/bokeh-widgets-1.0.1.min.css\");\n      Bokeh.embed.inject_css(\"https://cdn.pydata.org/bokeh/release/bokeh-widgets-1.0.1.min.css\");\n      console.log(\"Bokeh: injecting CSS: https://cdn.pydata.org/bokeh/release/bokeh-tables-1.0.1.min.css\");\n      Bokeh.embed.inject_css(\"https://cdn.pydata.org/bokeh/release/bokeh-tables-1.0.1.min.css\");\n    }\n  ];\n\n  function run_inline_js() {\n    \n    if ((root.Bokeh !== undefined) || (force === true)) {\n      for (var i = 0; i < inline_js.length; i++) {\n        inline_js[i].call(root, root.Bokeh);\n      }if (force === true) {\n        display_loaded();\n      }} else if (Date.now() < root._bokeh_timeout) {\n      setTimeout(run_inline_js, 100);\n    } else if (!root._bokeh_failed_load) {\n      console.log(\"Bokeh: BokehJS failed to load within specified timeout.\");\n      root._bokeh_failed_load = true;\n    } else if (force !== true) {\n      var cell = $(document.getElementById(\"1001\")).parents('.cell').data().cell;\n      cell.output_area.append_execute_result(NB_LOAD_WARNING)\n    }\n\n  }\n\n  if (root._bokeh_is_loading === 0) {\n    console.log(\"Bokeh: BokehJS loaded, going straight to plotting\");\n    run_inline_js();\n  } else {\n    load_libs(js_urls, function() {\n      console.log(\"Bokeh: BokehJS plotting callback run at\", now());\n      run_inline_js();\n    });\n  }\n}(window));"
     },
     "metadata": {},
     "output_type": "display_data"
    }
   ],
   "source": [
    "import numpy as np\n",
    "import pandas as pd\n",
    "\n",
    "from bokeh.io import push_notebook, show, output_notebook\n",
    "from bokeh.plotting import figure\n",
    "from bokeh.layouts import column\n",
    "from bokeh.models import Band, ColumnDataSource, NumeralTickFormatter\n",
    "from bokeh.palettes import plasma\n",
    "output_notebook()\n",
    "\n",
    "from liftoff.liftoff_results import collect_results\n",
    "from functools import partial"
   ]
  },
  {
   "cell_type": "code",
   "execution_count": 2,
   "metadata": {},
   "outputs": [],
   "source": [
    "collect_results = partial(collect_results, results_dir='../results', names=['results.msgpack'])\n",
    "\n",
    "def get_last_experiment(experiment_name):\n",
    "    result_paths = collect_results(experiment_name=experiment_name)\n",
    "    result_paths = [p for p in result_paths if p[1]]\n",
    "    result_data_frames = [pd.read_msgpack(f'{p[0]}/{p[1][0]}') for p in result_paths]\n",
    "    return pd.concat(result_data_frames, ignore_index=True, sort=False)\n",
    "\n",
    "\n",
    "def get_with_timestamps(experiment_name, timestamps):\n",
    "    result_paths = [collect_results(experiment_name=experiment_name, timestamp=tstmp) for tstmp in timestamps]\n",
    "    result_paths = [[p for p in tstmp if p[1]] for tstmp in result_paths]\n",
    "    # result_paths = [p for tstmp in result_paths for p in tstmp]\n",
    "    result_data_frames = [[pd.read_msgpack(f'{p[0]}/{p[1][0]}') for p in tstmp] for tstmp in result_paths]\n",
    "    # ugly fix\n",
    "    result_data_frames = [pd.concat(tstmp, ignore_index=True, sort=False) for tstmp in result_data_frames]\n",
    "    trial_no = 0\n",
    "    for i in range(len(result_data_frames)):\n",
    "        result_data_frames[i]['trial'] += trial_no\n",
    "        trial_no = result_data_frames[i]['trial'].unique().max()\n",
    "    return pd.concat(result_data_frames, ignore_index=True, sort=False)\n",
    "\n",
    "\n",
    "def get_data(experiment_name, timestamps=None):\n",
    "    if timestamps:\n",
    "        return get_with_timestamps(experiment_name, timestamps)\n",
    "    return get_last_experiment(experiment_name)"
   ]
  },
  {
   "cell_type": "code",
   "execution_count": 3,
   "metadata": {},
   "outputs": [],
   "source": [
    "def monkey_patch(dest, src, col='sampling_type', vals=['rank-td_stoch:0.05']):\n",
    "    src = src.loc[src[col].isin(vals)]\n",
    "    return pd.concat([dest, src], ignore_index=True, sort=False)"
   ]
  },
  {
   "cell_type": "code",
   "execution_count": 35,
   "metadata": {},
   "outputs": [],
   "source": [
    "def transform(data, groupby, y, transform='mean'):\n",
    "    if transform == 'mean':\n",
    "        return data.groupby(groupby)[y].mean().to_frame().reset_index()\n",
    "    elif transform == 'std':\n",
    "        return data.groupby(groupby)[y].std().to_frame().reset_index()\n",
    "    else:\n",
    "        raise ValueError\n",
    "\n",
    "\n",
    "def set_figure(title, y_axis_scale='linear', y_axis_format=\".00\"):\n",
    "    fig = figure(title=title, plot_height=500, plot_width=950,\n",
    "                  y_axis_type=y_axis_scale, background_fill_color='#ffffff')\n",
    "    fig.yaxis.formatter=NumeralTickFormatter(format=y_axis_format)\n",
    "    \n",
    "    if y_axis_scale == 'log':\n",
    "        fig.ygrid.minor_grid_line_color = '#5B5B5B'\n",
    "        fig.ygrid.minor_grid_line_alpha = 0.1\n",
    "    \n",
    "    return fig\n",
    "\n",
    "\n",
    "def add_trials(data, x, y, event, trials, event_name, fig, color, aggregate):\n",
    "    dff = data.loc[data[event] == event_name]\n",
    "    \n",
    "    trial_names = dff[trials].unique()\n",
    "    \n",
    "    alpha = 1 if not aggregate else 0.7\n",
    "    alpha_stop = 0.2\n",
    "    alpha_step = (alpha - alpha_stop) / (len(trial_names) - 1)\n",
    "    \n",
    "    lw = 3 if not aggregate else 2\n",
    "    \n",
    "    for trial_name in trial_names:\n",
    "        df = dff.loc[dff[trials] == trial_name]\n",
    "        df = df.sort_values(by=[x]).reset_index(drop=True)\n",
    "        fig.line(x=x, y=y, legend=event_name, source=df, line_width=lw, color=color, alpha=alpha)\n",
    "        alpha -= alpha_step\n",
    "    return fig\n",
    "\n",
    "\n",
    "def add_band(x, y, hue_mean, hue_var, hue_name, fig, color):\n",
    "    hue_var['lower'] = hue_mean[y] - hue_var[y]\n",
    "    hue_var['upper'] = hue_mean[y] + hue_var[y]\n",
    "    \n",
    "    # Bollinger shading glyph:\n",
    "    band_x = np.append(hue_var[x].values, hue_var[x].values[::-1])\n",
    "    band_y = np.append(hue_var['lower'].values, hue_var['upper'].values[::-1])\n",
    "    \n",
    "    fig.patch(x=band_x, y=band_y, legend=hue_name, color=color, alpha=0.3)\n",
    "    \n",
    "    return fig\n",
    "\n",
    "\n",
    "def lineplot(data, x, y, hue=None, trials=None, aggregate=True, legend_pos='top_left', y_axis_format=\".00\",\n",
    "             title=\"Plot\", y_axis_scale='linear'):\n",
    "    # set the figure\n",
    "    fig = set_figure(title, y_axis_format=y_axis_format, y_axis_scale=y_axis_scale)        \n",
    "    \n",
    "    # get the mean of each event\n",
    "    y_mean = transform(data, [x, hue], y)\n",
    "    \n",
    "    # get the names of each event we're plotting\n",
    "    hues = y_mean[hue].unique()\n",
    "    palette = plasma(len(hues))\n",
    "    \n",
    "    # iterate through events and create a line for each\n",
    "    for hue_name, color in zip(hues, palette):\n",
    "        \n",
    "        hue_mean = y_mean.loc[y_mean[hue] == hue_name]\n",
    "        if aggregate:\n",
    "            fig.line(x=x, y=y, legend=hue_name, source=hue_mean, line_width=4, color=color, alpha=1)\n",
    "        \n",
    "        if trials:\n",
    "            fig = add_trials(data, x, y, hue, trials, hue_name, fig, color, aggregate)\n",
    "        else:\n",
    "            y_var = transform(data, [x, hue], y, transform='std')\n",
    "            hue_var = y_var.loc[y_var[hue] == hue_name].copy()\n",
    "            fig = add_band(x, y, hue_mean, hue_var, hue_name, fig, color)\n",
    "    \n",
    "    # additional settings\n",
    "    fig.legend.location = legend_pos\n",
    "    fig.legend.click_policy=\"hide\"\n",
    "    return fig\n",
    "\n",
    "\n",
    "def simple_plot(data, x=None):\n",
    "    fig = set_figure(y_axis_format='0.0000[00]')\n",
    "    \n",
    "    columns = data.columns\n",
    "    palette = plasma(len(columns))\n",
    "    x = x if not None else data.index\n",
    "    for col, color in zip(columns, palette):\n",
    "        fig.line(x=data.index, y=data[col], legend=col, line_width=2, color=color, alpha=1)\n",
    "    return fig"
   ]
  },
  {
   "cell_type": "markdown",
   "metadata": {},
   "source": [
    "## Experiments with fixed priors"
   ]
  },
  {
   "cell_type": "code",
   "execution_count": 67,
   "metadata": {},
   "outputs": [
    {
     "data": {
      "text/html": [
       "<div>\n",
       "<style scoped>\n",
       "    .dataframe tbody tr th:only-of-type {\n",
       "        vertical-align: middle;\n",
       "    }\n",
       "\n",
       "    .dataframe tbody tr th {\n",
       "        vertical-align: top;\n",
       "    }\n",
       "\n",
       "    .dataframe thead th {\n",
       "        text-align: right;\n",
       "    }\n",
       "</style>\n",
       "<table border=\"1\" class=\"dataframe\">\n",
       "  <thead>\n",
       "    <tr style=\"text-align: right;\">\n",
       "      <th></th>\n",
       "      <th>N</th>\n",
       "      <th>mem_size</th>\n",
       "      <th>optim_steps</th>\n",
       "      <th>vote_optim_steps</th>\n",
       "      <th>trial</th>\n",
       "      <th>sampling_type</th>\n",
       "    </tr>\n",
       "  </thead>\n",
       "  <tbody>\n",
       "    <tr>\n",
       "      <th>1122</th>\n",
       "      <td>9</td>\n",
       "      <td>1022</td>\n",
       "      <td>14227</td>\n",
       "      <td>14227.0</td>\n",
       "      <td>11</td>\n",
       "      <td>rank-bayes-β0.001-p0.5_stoch:0.05</td>\n",
       "    </tr>\n",
       "    <tr>\n",
       "      <th>1084</th>\n",
       "      <td>12</td>\n",
       "      <td>8190</td>\n",
       "      <td>21285</td>\n",
       "      <td>21285.0</td>\n",
       "      <td>14</td>\n",
       "      <td>rank-bayes-β0.001-p0.5_stoch:0.01</td>\n",
       "    </tr>\n",
       "    <tr>\n",
       "      <th>1845</th>\n",
       "      <td>9</td>\n",
       "      <td>1022</td>\n",
       "      <td>4925</td>\n",
       "      <td>4925.0</td>\n",
       "      <td>16</td>\n",
       "      <td>rank-bayes-β0.001-p0.9_stoch:0.01</td>\n",
       "    </tr>\n",
       "  </tbody>\n",
       "</table>\n",
       "</div>"
      ],
      "text/plain": [
       "       N  mem_size  optim_steps  vote_optim_steps  trial  \\\n",
       "1122   9      1022        14227           14227.0     11   \n",
       "1084  12      8190        21285           21285.0     14   \n",
       "1845   9      1022         4925            4925.0     16   \n",
       "\n",
       "                          sampling_type  \n",
       "1122  rank-bayes-β0.001-p0.5_stoch:0.05  \n",
       "1084  rank-bayes-β0.001-p0.5_stoch:0.01  \n",
       "1845  rank-bayes-β0.001-p0.9_stoch:0.01  "
      ]
     },
     "execution_count": 67,
     "metadata": {},
     "output_type": "execute_result"
    }
   ],
   "source": [
    "df1 = get_data('stochastic_rank', ['2018Dec07-131313', '2018Dec07-141639'])\n",
    "df1.vote_optim_steps.fillna(df1.optim_steps, inplace=True)\n",
    "df1.sample(3)"
   ]
  },
  {
   "cell_type": "code",
   "execution_count": 68,
   "metadata": {},
   "outputs": [
    {
     "data": {
      "text/html": [
       "<div>\n",
       "<style scoped>\n",
       "    .dataframe tbody tr th:only-of-type {\n",
       "        vertical-align: middle;\n",
       "    }\n",
       "\n",
       "    .dataframe tbody tr th {\n",
       "        vertical-align: top;\n",
       "    }\n",
       "\n",
       "    .dataframe thead th {\n",
       "        text-align: right;\n",
       "    }\n",
       "</style>\n",
       "<table border=\"1\" class=\"dataframe\">\n",
       "  <thead>\n",
       "    <tr style=\"text-align: right;\">\n",
       "      <th></th>\n",
       "      <th>N</th>\n",
       "      <th>mem_size</th>\n",
       "      <th>optim_steps</th>\n",
       "      <th>vote_optim_steps</th>\n",
       "      <th>trial</th>\n",
       "      <th>sampling_type</th>\n",
       "    </tr>\n",
       "  </thead>\n",
       "  <tbody>\n",
       "    <tr>\n",
       "      <th>300</th>\n",
       "      <td>16</td>\n",
       "      <td>131070</td>\n",
       "      <td>1083023</td>\n",
       "      <td>1083021.0</td>\n",
       "      <td>3</td>\n",
       "      <td>rank-bayes-β0.001-p0.5_stoch:0.05</td>\n",
       "    </tr>\n",
       "    <tr>\n",
       "      <th>301</th>\n",
       "      <td>16</td>\n",
       "      <td>131070</td>\n",
       "      <td>640615</td>\n",
       "      <td>640606.0</td>\n",
       "      <td>9</td>\n",
       "      <td>rank-bayes-β0.001-p0.5_stoch:0.05</td>\n",
       "    </tr>\n",
       "    <tr>\n",
       "      <th>304</th>\n",
       "      <td>16</td>\n",
       "      <td>131070</td>\n",
       "      <td>1049623</td>\n",
       "      <td>1047258.0</td>\n",
       "      <td>0</td>\n",
       "      <td>rank-bayes-β0.001-p0.5_stoch:0.05</td>\n",
       "    </tr>\n",
       "    <tr>\n",
       "      <th>323</th>\n",
       "      <td>9</td>\n",
       "      <td>1022</td>\n",
       "      <td>15902</td>\n",
       "      <td>15901.0</td>\n",
       "      <td>2</td>\n",
       "      <td>rank-bayes-β0.001-p0.5_stoch:0.05</td>\n",
       "    </tr>\n",
       "    <tr>\n",
       "      <th>410</th>\n",
       "      <td>14</td>\n",
       "      <td>32766</td>\n",
       "      <td>102834</td>\n",
       "      <td>102754.0</td>\n",
       "      <td>3</td>\n",
       "      <td>rank-bayes-β0.001-p0.5_stoch:0.05</td>\n",
       "    </tr>\n",
       "    <tr>\n",
       "      <th>1475</th>\n",
       "      <td>8</td>\n",
       "      <td>510</td>\n",
       "      <td>3601</td>\n",
       "      <td>3210.0</td>\n",
       "      <td>16</td>\n",
       "      <td>rank-bayes-β0.001-p0.5_stoch:0.01</td>\n",
       "    </tr>\n",
       "    <tr>\n",
       "      <th>1543</th>\n",
       "      <td>11</td>\n",
       "      <td>4094</td>\n",
       "      <td>69367</td>\n",
       "      <td>21301.0</td>\n",
       "      <td>10</td>\n",
       "      <td>rank-bayes-β0.001-p0.5_det</td>\n",
       "    </tr>\n",
       "    <tr>\n",
       "      <th>1638</th>\n",
       "      <td>5</td>\n",
       "      <td>62</td>\n",
       "      <td>705</td>\n",
       "      <td>558.0</td>\n",
       "      <td>18</td>\n",
       "      <td>rank-bayes-β0.001-p0.5_stoch:0.05</td>\n",
       "    </tr>\n",
       "    <tr>\n",
       "      <th>1785</th>\n",
       "      <td>9</td>\n",
       "      <td>1022</td>\n",
       "      <td>4502</td>\n",
       "      <td>3844.0</td>\n",
       "      <td>16</td>\n",
       "      <td>rank-bayes-β0.001-p0.5_det</td>\n",
       "    </tr>\n",
       "    <tr>\n",
       "      <th>2085</th>\n",
       "      <td>5</td>\n",
       "      <td>62</td>\n",
       "      <td>920</td>\n",
       "      <td>782.0</td>\n",
       "      <td>16</td>\n",
       "      <td>rank-bayes-β0.001-p0.5_det</td>\n",
       "    </tr>\n",
       "  </tbody>\n",
       "</table>\n",
       "</div>"
      ],
      "text/plain": [
       "       N  mem_size  optim_steps  vote_optim_steps  trial  \\\n",
       "300   16    131070      1083023         1083021.0      3   \n",
       "301   16    131070       640615          640606.0      9   \n",
       "304   16    131070      1049623         1047258.0      0   \n",
       "323    9      1022        15902           15901.0      2   \n",
       "410   14     32766       102834          102754.0      3   \n",
       "1475   8       510         3601            3210.0     16   \n",
       "1543  11      4094        69367           21301.0     10   \n",
       "1638   5        62          705             558.0     18   \n",
       "1785   9      1022         4502            3844.0     16   \n",
       "2085   5        62          920             782.0     16   \n",
       "\n",
       "                          sampling_type  \n",
       "300   rank-bayes-β0.001-p0.5_stoch:0.05  \n",
       "301   rank-bayes-β0.001-p0.5_stoch:0.05  \n",
       "304   rank-bayes-β0.001-p0.5_stoch:0.05  \n",
       "323   rank-bayes-β0.001-p0.5_stoch:0.05  \n",
       "410   rank-bayes-β0.001-p0.5_stoch:0.05  \n",
       "1475  rank-bayes-β0.001-p0.5_stoch:0.01  \n",
       "1543         rank-bayes-β0.001-p0.5_det  \n",
       "1638  rank-bayes-β0.001-p0.5_stoch:0.05  \n",
       "1785         rank-bayes-β0.001-p0.5_det  \n",
       "2085         rank-bayes-β0.001-p0.5_det  "
      ]
     },
     "execution_count": 68,
     "metadata": {},
     "output_type": "execute_result"
    }
   ],
   "source": [
    "df1.loc[df1['optim_steps'] != df1['vote_optim_steps']]"
   ]
  },
  {
   "cell_type": "code",
   "execution_count": 69,
   "metadata": {},
   "outputs": [],
   "source": [
    "# show(lineplot(data, 'N', 'optim_steps', 'sampling_type', 'trial', y_axis_format='00'))"
   ]
  },
  {
   "cell_type": "code",
   "execution_count": 70,
   "metadata": {},
   "outputs": [
    {
     "data": {
      "text/html": [
       "\n",
       "\n",
       "\n",
       "\n",
       "\n",
       "\n",
       "  <div class=\"bk-root\" id=\"e9c47468-aa22-41c0-8490-a9f2a26507ac\"></div>\n"
      ]
     },
     "metadata": {},
     "output_type": "display_data"
    },
    {
     "data": {
      "application/javascript": [
       "(function(root) {\n",
       "  function embed_document(root) {\n",
       "    \n",
       "  var docs_json = {\"eebf551e-ce5d-4a48-8418-aa6de5d629b8\":{\"roots\":{\"references\":[{\"attributes\":{\"below\":[{\"id\":\"21981\",\"type\":\"LinearAxis\"}],\"left\":[{\"id\":\"21986\",\"type\":\"LinearAxis\"}],\"plot_height\":500,\"plot_width\":950,\"renderers\":[{\"id\":\"21981\",\"type\":\"LinearAxis\"},{\"id\":\"21985\",\"type\":\"Grid\"},{\"id\":\"21986\",\"type\":\"LinearAxis\"},{\"id\":\"21990\",\"type\":\"Grid\"},{\"id\":\"21999\",\"type\":\"BoxAnnotation\"},{\"id\":\"22019\",\"type\":\"Legend\"},{\"id\":\"22012\",\"type\":\"GlyphRenderer\"},{\"id\":\"22024\",\"type\":\"GlyphRenderer\"},{\"id\":\"22037\",\"type\":\"GlyphRenderer\"},{\"id\":\"22052\",\"type\":\"GlyphRenderer\"},{\"id\":\"22069\",\"type\":\"GlyphRenderer\"},{\"id\":\"22088\",\"type\":\"GlyphRenderer\"},{\"id\":\"22109\",\"type\":\"GlyphRenderer\"},{\"id\":\"22132\",\"type\":\"GlyphRenderer\"},{\"id\":\"22157\",\"type\":\"GlyphRenderer\"},{\"id\":\"22184\",\"type\":\"GlyphRenderer\"},{\"id\":\"22213\",\"type\":\"GlyphRenderer\"},{\"id\":\"22244\",\"type\":\"GlyphRenderer\"},{\"id\":\"22277\",\"type\":\"GlyphRenderer\"},{\"id\":\"22312\",\"type\":\"GlyphRenderer\"},{\"id\":\"22349\",\"type\":\"GlyphRenderer\"},{\"id\":\"22388\",\"type\":\"GlyphRenderer\"},{\"id\":\"22429\",\"type\":\"GlyphRenderer\"},{\"id\":\"22472\",\"type\":\"GlyphRenderer\"}],\"title\":{\"id\":\"21970\",\"type\":\"Title\"},\"toolbar\":{\"id\":\"21997\",\"type\":\"Toolbar\"},\"x_range\":{\"id\":\"21973\",\"type\":\"DataRange1d\"},\"x_scale\":{\"id\":\"21977\",\"type\":\"LinearScale\"},\"y_range\":{\"id\":\"21975\",\"type\":\"DataRange1d\"},\"y_scale\":{\"id\":\"21979\",\"type\":\"LinearScale\"}},\"id\":\"21971\",\"subtype\":\"Figure\",\"type\":\"Plot\"},{\"attributes\":{},\"id\":\"21995\",\"type\":\"ResetTool\"},{\"attributes\":{\"overlay\":{\"id\":\"21999\",\"type\":\"BoxAnnotation\"}},\"id\":\"21993\",\"type\":\"BoxZoomTool\"},{\"attributes\":{},\"id\":\"21992\",\"type\":\"WheelZoomTool\"},{\"attributes\":{},\"id\":\"21991\",\"type\":\"PanTool\"},{\"attributes\":{\"fill_alpha\":0.3,\"fill_color\":\"#7C02A7\",\"line_alpha\":0.3,\"line_color\":\"#7C02A7\",\"x\":{\"field\":\"x\"},\"y\":{\"field\":\"y\"}},\"id\":\"22086\",\"type\":\"Patch\"},{\"attributes\":{\"data_source\":{\"id\":\"22033\",\"type\":\"ColumnDataSource\"},\"glyph\":{\"id\":\"22035\",\"type\":\"Line\"},\"hover_glyph\":null,\"muted_glyph\":null,\"nonselection_glyph\":{\"id\":\"22036\",\"type\":\"Line\"},\"selection_glyph\":null,\"view\":{\"id\":\"22038\",\"type\":\"CDSView\"}},\"id\":\"22037\",\"type\":\"GlyphRenderer\"},{\"attributes\":{\"callback\":null,\"data\":{\"x\":[5,6,7,8,9,10,11,12,13,14,15,16,16,15,14,13,12,11,10,9,8,7,6,5],\"y\":{\"__ndarray__\":\"y5DJ9UwLd0BZhPzFR9+EQIr8yGJLUphAjyyAmvZypkCaTQ+N09SiQDLKk/f2VrBAnmQ06Wqr0EA+l0kZrPXWQAbno49GteNAZGXB+QNQ5EAixveQQKEOQTAlWL1f6AJBwGG7bqKXP0HedChCUUAsQe5sYRp1FhtBCtPjKE+JC0EtASjABhztQLHNZYv6Fu5AuoYNIcFU4ECaLLwcywHNQIS2jH9Rmb1AIegBtUC9rUC3q03b+h+hQM5qTriMzY9A\",\"dtype\":\"float64\",\"shape\":[24]}},\"selected\":{\"id\":\"22126\",\"type\":\"Selection\"},\"selection_policy\":{\"id\":\"22127\",\"type\":\"UnionRenderers\"}},\"id\":\"22085\",\"type\":\"ColumnDataSource\"},{\"attributes\":{},\"id\":\"22271\",\"type\":\"Selection\"},{\"attributes\":{},\"id\":\"21994\",\"type\":\"SaveTool\"},{\"attributes\":{},\"id\":\"22083\",\"type\":\"UnionRenderers\"},{\"attributes\":{\"source\":{\"id\":\"22085\",\"type\":\"ColumnDataSource\"}},\"id\":\"22089\",\"type\":\"CDSView\"},{\"attributes\":{\"source\":{\"id\":\"22241\",\"type\":\"ColumnDataSource\"}},\"id\":\"22245\",\"type\":\"CDSView\"},{\"attributes\":{\"plot\":null,\"text\":\"Plot\"},\"id\":\"21970\",\"type\":\"Title\"},{\"attributes\":{\"source\":{\"id\":\"22033\",\"type\":\"ColumnDataSource\"}},\"id\":\"22038\",\"type\":\"CDSView\"},{\"attributes\":{\"line_alpha\":0.1,\"line_color\":\"#1f77b4\",\"line_width\":4,\"x\":{\"field\":\"N\"},\"y\":{\"field\":\"optim_steps\"}},\"id\":\"22036\",\"type\":\"Line\"},{\"attributes\":{\"callback\":null},\"id\":\"21973\",\"type\":\"DataRange1d\"},{\"attributes\":{\"data_source\":{\"id\":\"22085\",\"type\":\"ColumnDataSource\"},\"glyph\":{\"id\":\"22086\",\"type\":\"Patch\"},\"hover_glyph\":null,\"muted_glyph\":null,\"nonselection_glyph\":{\"id\":\"22087\",\"type\":\"Patch\"},\"selection_glyph\":null,\"view\":{\"id\":\"22089\",\"type\":\"CDSView\"}},\"id\":\"22088\",\"type\":\"GlyphRenderer\"},{\"attributes\":{\"line_color\":\"#0C0786\",\"line_width\":4,\"x\":{\"field\":\"N\"},\"y\":{\"field\":\"optim_steps\"}},\"id\":\"22010\",\"type\":\"Line\"},{\"attributes\":{\"data_source\":{\"id\":\"22241\",\"type\":\"ColumnDataSource\"},\"glyph\":{\"id\":\"22242\",\"type\":\"Patch\"},\"hover_glyph\":null,\"muted_glyph\":null,\"nonselection_glyph\":{\"id\":\"22243\",\"type\":\"Patch\"},\"selection_glyph\":null,\"view\":{\"id\":\"22245\",\"type\":\"CDSView\"}},\"id\":\"22244\",\"type\":\"GlyphRenderer\"},{\"attributes\":{\"label\":{\"value\":\"rank-bayes-\\u03b20.001-p0.5_stoch:0.05\"},\"renderers\":[{\"id\":\"22069\",\"type\":\"GlyphRenderer\"},{\"id\":\"22088\",\"type\":\"GlyphRenderer\"}]},\"id\":\"22084\",\"type\":\"LegendItem\"},{\"attributes\":{\"data_source\":{\"id\":\"22469\",\"type\":\"ColumnDataSource\"},\"glyph\":{\"id\":\"22470\",\"type\":\"Patch\"},\"hover_glyph\":null,\"muted_glyph\":null,\"nonselection_glyph\":{\"id\":\"22471\",\"type\":\"Patch\"},\"selection_glyph\":null,\"view\":{\"id\":\"22473\",\"type\":\"CDSView\"}},\"id\":\"22472\",\"type\":\"GlyphRenderer\"},{\"attributes\":{\"source\":{\"id\":\"22209\",\"type\":\"ColumnDataSource\"}},\"id\":\"22214\",\"type\":\"CDSView\"},{\"attributes\":{\"data_source\":{\"id\":\"22021\",\"type\":\"ColumnDataSource\"},\"glyph\":{\"id\":\"22022\",\"type\":\"Patch\"},\"hover_glyph\":null,\"muted_glyph\":null,\"nonselection_glyph\":{\"id\":\"22023\",\"type\":\"Patch\"},\"selection_glyph\":null,\"view\":{\"id\":\"22025\",\"type\":\"CDSView\"}},\"id\":\"22024\",\"type\":\"GlyphRenderer\"},{\"attributes\":{\"source\":{\"id\":\"22021\",\"type\":\"ColumnDataSource\"}},\"id\":\"22025\",\"type\":\"CDSView\"},{\"attributes\":{},\"id\":\"21982\",\"type\":\"BasicTicker\"},{\"attributes\":{\"fill_alpha\":0.1,\"fill_color\":\"#1f77b4\",\"line_alpha\":0.1,\"line_color\":\"#1f77b4\",\"x\":{\"field\":\"x\"},\"y\":{\"field\":\"y\"}},\"id\":\"22087\",\"type\":\"Patch\"},{\"attributes\":{},\"id\":\"22063\",\"type\":\"Selection\"},{\"attributes\":{},\"id\":\"22178\",\"type\":\"Selection\"},{\"attributes\":{\"source\":{\"id\":\"22049\",\"type\":\"ColumnDataSource\"}},\"id\":\"22053\",\"type\":\"CDSView\"},{\"attributes\":{\"source\":{\"id\":\"22153\",\"type\":\"ColumnDataSource\"}},\"id\":\"22158\",\"type\":\"CDSView\"},{\"attributes\":{\"fill_alpha\":0.3,\"fill_color\":\"#4A02A0\",\"line_alpha\":0.3,\"line_color\":\"#4A02A0\",\"x\":{\"field\":\"x\"},\"y\":{\"field\":\"y\"}},\"id\":\"22050\",\"type\":\"Patch\"},{\"attributes\":{\"data_source\":{\"id\":\"22153\",\"type\":\"ColumnDataSource\"},\"glyph\":{\"id\":\"22155\",\"type\":\"Line\"},\"hover_glyph\":null,\"muted_glyph\":null,\"nonselection_glyph\":{\"id\":\"22156\",\"type\":\"Line\"},\"selection_glyph\":null,\"view\":{\"id\":\"22158\",\"type\":\"CDSView\"}},\"id\":\"22157\",\"type\":\"GlyphRenderer\"},{\"attributes\":{\"formatter\":{\"id\":\"22015\",\"type\":\"BasicTickFormatter\"},\"plot\":{\"id\":\"21971\",\"subtype\":\"Figure\",\"type\":\"Plot\"},\"ticker\":{\"id\":\"21982\",\"type\":\"BasicTicker\"}},\"id\":\"21981\",\"type\":\"LinearAxis\"},{\"attributes\":{},\"id\":\"22064\",\"type\":\"UnionRenderers\"},{\"attributes\":{},\"id\":\"22179\",\"type\":\"UnionRenderers\"},{\"attributes\":{},\"id\":\"22047\",\"type\":\"UnionRenderers\"},{\"attributes\":{},\"id\":\"22103\",\"type\":\"Selection\"},{\"attributes\":{\"line_alpha\":0.1,\"line_color\":\"#1f77b4\",\"line_width\":4,\"x\":{\"field\":\"N\"},\"y\":{\"field\":\"optim_steps\"}},\"id\":\"22108\",\"type\":\"Line\"},{\"attributes\":{\"callback\":null,\"data\":{\"N\":[5,6,7,8,9,10,11,12,13,14,15,16],\"index\":[6,15,24,33,42,51,60,69,78,87,96,105],\"optim_steps\":{\"__ndarray__\":\"AAAAAADkfUDNzMzMzKKOQAAAAAAAoZ5AMzMzM7OJp0AAAAAAANK2QJqZmZm5mcBAZmZmZibfx0CamZmZ+d3RQM3MzMwkoONAzczMzMw88kDNzMzM1I/5QGZmZmZaSwZB\",\"dtype\":\"float64\",\"shape\":[12]},\"sampling_type\":[\"rank-td_det\",\"rank-td_det\",\"rank-td_det\",\"rank-td_det\",\"rank-td_det\",\"rank-td_det\",\"rank-td_det\",\"rank-td_det\",\"rank-td_det\",\"rank-td_det\",\"rank-td_det\",\"rank-td_det\"]},\"selected\":{\"id\":\"22343\",\"type\":\"Selection\"},\"selection_policy\":{\"id\":\"22344\",\"type\":\"UnionRenderers\"}},\"id\":\"22273\",\"type\":\"ColumnDataSource\"},{\"attributes\":{\"label\":{\"value\":\"rank-bayes-\\u03b20.001-p0.5_stoch:0.01\"},\"renderers\":[{\"id\":\"22037\",\"type\":\"GlyphRenderer\"},{\"id\":\"22052\",\"type\":\"GlyphRenderer\"}]},\"id\":\"22048\",\"type\":\"LegendItem\"},{\"attributes\":{\"format\":\"00\"},\"id\":\"22006\",\"type\":\"NumeralTickFormatter\"},{\"attributes\":{},\"id\":\"22512\",\"type\":\"UnionRenderers\"},{\"attributes\":{},\"id\":\"22238\",\"type\":\"Selection\"},{\"attributes\":{\"label\":{\"value\":\"rank-td_det\"},\"renderers\":[{\"id\":\"22277\",\"type\":\"GlyphRenderer\"},{\"id\":\"22312\",\"type\":\"GlyphRenderer\"}]},\"id\":\"22308\",\"type\":\"LegendItem\"},{\"attributes\":{},\"id\":\"22127\",\"type\":\"UnionRenderers\"},{\"attributes\":{},\"id\":\"22511\",\"type\":\"Selection\"},{\"attributes\":{\"source\":{\"id\":\"22469\",\"type\":\"ColumnDataSource\"}},\"id\":\"22473\",\"type\":\"CDSView\"},{\"attributes\":{},\"id\":\"22306\",\"type\":\"Selection\"},{\"attributes\":{\"data_source\":{\"id\":\"22209\",\"type\":\"ColumnDataSource\"},\"glyph\":{\"id\":\"22211\",\"type\":\"Line\"},\"hover_glyph\":null,\"muted_glyph\":null,\"nonselection_glyph\":{\"id\":\"22212\",\"type\":\"Line\"},\"selection_glyph\":null,\"view\":{\"id\":\"22214\",\"type\":\"CDSView\"}},\"id\":\"22213\",\"type\":\"GlyphRenderer\"},{\"attributes\":{},\"id\":\"22046\",\"type\":\"Selection\"},{\"attributes\":{\"fill_alpha\":0.1,\"fill_color\":\"#1f77b4\",\"line_alpha\":0.1,\"line_color\":\"#1f77b4\",\"x\":{\"field\":\"x\"},\"y\":{\"field\":\"y\"}},\"id\":\"22051\",\"type\":\"Patch\"},{\"attributes\":{\"callback\":null,\"data\":{\"x\":[5,6,7,8,9,10,11,12,13,14,15,16,16,15,14,13,12,11,10,9,8,7,6,5],\"y\":{\"__ndarray__\":\"oG2YI3H1bkCgUi1ocxZuQPllCLAtD5BA8jiUGvghlEBE6uQK/0GkQGf9G2viErNApBEnTtjds0BAsR/jbFGwQNgcry3uksZA0BoY3BUWw0Dap8MUJE7yQFhVQChqbPrA8J4dvKaYPEE+SQIuQDUcQVN+PqJujg1BMekWBz9S/kCGnmfLIqL3QDHVD4aDRd9ADGefy83P0kB4JCcUGgG5QPYkjiy17rFAajNijs+Hq0B4Isdf/r+dQDJ+s1A9rIZA\",\"dtype\":\"float64\",\"shape\":[24]}},\"selected\":{\"id\":\"22178\",\"type\":\"Selection\"},\"selection_policy\":{\"id\":\"22179\",\"type\":\"UnionRenderers\"}},\"id\":\"22129\",\"type\":\"ColumnDataSource\"},{\"attributes\":{},\"id\":\"22307\",\"type\":\"UnionRenderers\"},{\"attributes\":{\"dimension\":1,\"plot\":{\"id\":\"21971\",\"subtype\":\"Figure\",\"type\":\"Plot\"},\"ticker\":{\"id\":\"21987\",\"type\":\"BasicTicker\"}},\"id\":\"21990\",\"type\":\"Grid\"},{\"attributes\":{\"label\":{\"value\":\"rank-bayes-\\u03b20.001-p0.9_det\"},\"renderers\":[{\"id\":\"22109\",\"type\":\"GlyphRenderer\"},{\"id\":\"22132\",\"type\":\"GlyphRenderer\"}]},\"id\":\"22128\",\"type\":\"LegendItem\"},{\"attributes\":{\"line_color\":\"#E56B5C\",\"line_width\":4,\"x\":{\"field\":\"N\"},\"y\":{\"field\":\"optim_steps\"}},\"id\":\"22211\",\"type\":\"Line\"},{\"attributes\":{},\"id\":\"22126\",\"type\":\"Selection\"},{\"attributes\":{\"line_alpha\":0.1,\"line_color\":\"#1f77b4\",\"line_width\":4,\"x\":{\"field\":\"N\"},\"y\":{\"field\":\"optim_steps\"}},\"id\":\"22212\",\"type\":\"Line\"},{\"attributes\":{},\"id\":\"22208\",\"type\":\"UnionRenderers\"},{\"attributes\":{},\"id\":\"23160\",\"type\":\"UnionRenderers\"},{\"attributes\":{},\"id\":\"21987\",\"type\":\"BasicTicker\"},{\"attributes\":{\"callback\":null,\"data\":{\"x\":[5,6,7,8,9,10,11,12,13,14,15,16,16,15,14,13,12,11,10,9,8,7,6,5],\"y\":{\"__ndarray__\":\"1XRyy8hAd0BPmJhYcn2AQPxLVALZy4ZAW3kKvn51oUCLNFNNbuG1QIYPsybPlbxAOJEdoPKXuUDQXoz60RXFQDzIRIPvS+NAsoGN7mgxA0HGZHf65A0RQR8DGnY0/yBBOH95oopSQ0E0jcinaGEzQSc/uYglwhtBxjNk3HCdFkFZp+HzaDD8QLrzyqKlOPJAdQSQgTyz4ECq/3c5UdzTQHYuSh1txcFATkOCrFFsskByTU1t4KCbQGKSE2doyIxA\",\"dtype\":\"float64\",\"shape\":[24]}},\"selected\":{\"id\":\"23159\",\"type\":\"Selection\"},\"selection_policy\":{\"id\":\"23160\",\"type\":\"UnionRenderers\"}},\"id\":\"22469\",\"type\":\"ColumnDataSource\"},{\"attributes\":{\"line_color\":\"#7C02A7\",\"line_width\":4,\"x\":{\"field\":\"N\"},\"y\":{\"field\":\"optim_steps\"}},\"id\":\"22067\",\"type\":\"Line\"},{\"attributes\":{\"plot\":{\"id\":\"21971\",\"subtype\":\"Figure\",\"type\":\"Plot\"},\"ticker\":{\"id\":\"21982\",\"type\":\"BasicTicker\"}},\"id\":\"21985\",\"type\":\"Grid\"},{\"attributes\":{\"callback\":null,\"data\":{\"N\":[5,6,7,8,9,10,11,12,13,14,15,16],\"index\":[3,12,21,30,39,48,57,66,75,84,93,102],\"optim_steps\":{\"__ndarray__\":\"mpmZmZlpfkBmZmZmZsGQQDMzMzOzx6FAMzMzMzP3pkDNzMzMDJGxQGZmZmaGlMdAzczMzHwe0kCamZmZOafoQGZmZmZOkvBAAAAAANC//kCamZmZZGQQQZqZmRng8SpB\",\"dtype\":\"float64\",\"shape\":[12]},\"sampling_type\":[\"rank-bayes-\\u03b20.001-p0.9_det\",\"rank-bayes-\\u03b20.001-p0.9_det\",\"rank-bayes-\\u03b20.001-p0.9_det\",\"rank-bayes-\\u03b20.001-p0.9_det\",\"rank-bayes-\\u03b20.001-p0.9_det\",\"rank-bayes-\\u03b20.001-p0.9_det\",\"rank-bayes-\\u03b20.001-p0.9_det\",\"rank-bayes-\\u03b20.001-p0.9_det\",\"rank-bayes-\\u03b20.001-p0.9_det\",\"rank-bayes-\\u03b20.001-p0.9_det\",\"rank-bayes-\\u03b20.001-p0.9_det\",\"rank-bayes-\\u03b20.001-p0.9_det\"]},\"selected\":{\"id\":\"22151\",\"type\":\"Selection\"},\"selection_policy\":{\"id\":\"22152\",\"type\":\"UnionRenderers\"}},\"id\":\"22105\",\"type\":\"ColumnDataSource\"},{\"attributes\":{\"fill_alpha\":0.1,\"fill_color\":\"#1f77b4\",\"line_alpha\":0.1,\"line_color\":\"#1f77b4\",\"x\":{\"field\":\"x\"},\"y\":{\"field\":\"y\"}},\"id\":\"22471\",\"type\":\"Patch\"},{\"attributes\":{\"source\":{\"id\":\"22385\",\"type\":\"ColumnDataSource\"}},\"id\":\"22389\",\"type\":\"CDSView\"},{\"attributes\":{},\"id\":\"22104\",\"type\":\"UnionRenderers\"},{\"attributes\":{\"fill_alpha\":0.3,\"fill_color\":\"#EFF821\",\"line_alpha\":0.3,\"line_color\":\"#EFF821\",\"x\":{\"field\":\"x\"},\"y\":{\"field\":\"y\"}},\"id\":\"22470\",\"type\":\"Patch\"},{\"attributes\":{\"formatter\":{\"id\":\"22006\",\"type\":\"NumeralTickFormatter\"},\"plot\":{\"id\":\"21971\",\"subtype\":\"Figure\",\"type\":\"Plot\"},\"ticker\":{\"id\":\"21987\",\"type\":\"BasicTicker\"}},\"id\":\"21986\",\"type\":\"LinearAxis\"},{\"attributes\":{\"fill_alpha\":0.1,\"fill_color\":\"#1f77b4\",\"line_alpha\":0.1,\"line_color\":\"#1f77b4\",\"x\":{\"field\":\"x\"},\"y\":{\"field\":\"y\"}},\"id\":\"22131\",\"type\":\"Patch\"},{\"attributes\":{\"fill_alpha\":0.1,\"fill_color\":\"#1f77b4\",\"line_alpha\":0.1,\"line_color\":\"#1f77b4\",\"x\":{\"field\":\"x\"},\"y\":{\"field\":\"y\"}},\"id\":\"22243\",\"type\":\"Patch\"},{\"attributes\":{\"data_source\":{\"id\":\"22309\",\"type\":\"ColumnDataSource\"},\"glyph\":{\"id\":\"22310\",\"type\":\"Patch\"},\"hover_glyph\":null,\"muted_glyph\":null,\"nonselection_glyph\":{\"id\":\"22311\",\"type\":\"Patch\"},\"selection_glyph\":null,\"view\":{\"id\":\"22313\",\"type\":\"CDSView\"}},\"id\":\"22312\",\"type\":\"GlyphRenderer\"},{\"attributes\":{\"line_color\":\"#CA4678\",\"line_width\":4,\"x\":{\"field\":\"N\"},\"y\":{\"field\":\"optim_steps\"}},\"id\":\"22155\",\"type\":\"Line\"},{\"attributes\":{\"fill_alpha\":0.3,\"fill_color\":\"#CA4678\",\"line_alpha\":0.3,\"line_color\":\"#CA4678\",\"x\":{\"field\":\"x\"},\"y\":{\"field\":\"y\"}},\"id\":\"22182\",\"type\":\"Patch\"},{\"attributes\":{\"source\":{\"id\":\"22105\",\"type\":\"ColumnDataSource\"}},\"id\":\"22110\",\"type\":\"CDSView\"},{\"attributes\":{},\"id\":\"21996\",\"type\":\"HelpTool\"},{\"attributes\":{\"callback\":null,\"data\":{\"N\":[5,6,7,8,9,10,11,12,13,14,15,16],\"index\":[1,10,19,28,37,46,55,64,73,82,91,100],\"optim_steps\":{\"__ndarray__\":\"MzMzMzOnhUAAAAAAAN6SQGZmZmZmY59AmpmZmRlyr0AzMzMz8zy1QM3MzMzs3cVAzczMzAwmykDNzMzM7NTdQAAAAAAw1eFAzczMzJRX8UBmZmZm4tcDQZqZmZmNwxBB\",\"dtype\":\"float64\",\"shape\":[12]},\"sampling_type\":[\"rank-bayes-\\u03b20.001-p0.5_stoch:0.01\",\"rank-bayes-\\u03b20.001-p0.5_stoch:0.01\",\"rank-bayes-\\u03b20.001-p0.5_stoch:0.01\",\"rank-bayes-\\u03b20.001-p0.5_stoch:0.01\",\"rank-bayes-\\u03b20.001-p0.5_stoch:0.01\",\"rank-bayes-\\u03b20.001-p0.5_stoch:0.01\",\"rank-bayes-\\u03b20.001-p0.5_stoch:0.01\",\"rank-bayes-\\u03b20.001-p0.5_stoch:0.01\",\"rank-bayes-\\u03b20.001-p0.5_stoch:0.01\",\"rank-bayes-\\u03b20.001-p0.5_stoch:0.01\",\"rank-bayes-\\u03b20.001-p0.5_stoch:0.01\",\"rank-bayes-\\u03b20.001-p0.5_stoch:0.01\"]},\"selected\":{\"id\":\"22063\",\"type\":\"Selection\"},\"selection_policy\":{\"id\":\"22064\",\"type\":\"UnionRenderers\"}},\"id\":\"22033\",\"type\":\"ColumnDataSource\"},{\"attributes\":{\"source\":{\"id\":\"22065\",\"type\":\"ColumnDataSource\"}},\"id\":\"22070\",\"type\":\"CDSView\"},{\"attributes\":{\"line_alpha\":0.1,\"line_color\":\"#1f77b4\",\"line_width\":4,\"x\":{\"field\":\"N\"},\"y\":{\"field\":\"optim_steps\"}},\"id\":\"22156\",\"type\":\"Line\"},{\"attributes\":{\"data_source\":{\"id\":\"22105\",\"type\":\"ColumnDataSource\"},\"glyph\":{\"id\":\"22107\",\"type\":\"Line\"},\"hover_glyph\":null,\"muted_glyph\":null,\"nonselection_glyph\":{\"id\":\"22108\",\"type\":\"Line\"},\"selection_glyph\":null,\"view\":{\"id\":\"22110\",\"type\":\"CDSView\"}},\"id\":\"22109\",\"type\":\"GlyphRenderer\"},{\"attributes\":{},\"id\":\"22082\",\"type\":\"Selection\"},{\"attributes\":{\"data_source\":{\"id\":\"22065\",\"type\":\"ColumnDataSource\"},\"glyph\":{\"id\":\"22067\",\"type\":\"Line\"},\"hover_glyph\":null,\"muted_glyph\":null,\"nonselection_glyph\":{\"id\":\"22068\",\"type\":\"Line\"},\"selection_glyph\":null,\"view\":{\"id\":\"22070\",\"type\":\"CDSView\"}},\"id\":\"22069\",\"type\":\"GlyphRenderer\"},{\"attributes\":{\"fill_alpha\":0.3,\"fill_color\":\"#F79341\",\"line_alpha\":0.3,\"line_color\":\"#F79341\",\"x\":{\"field\":\"x\"},\"y\":{\"field\":\"y\"}},\"id\":\"22310\",\"type\":\"Patch\"},{\"attributes\":{\"line_alpha\":0.1,\"line_color\":\"#1f77b4\",\"line_width\":4,\"x\":{\"field\":\"N\"},\"y\":{\"field\":\"optim_steps\"}},\"id\":\"22068\",\"type\":\"Line\"},{\"attributes\":{\"callback\":null,\"data\":{\"N\":[5,6,7,8,9,10,11,12,13,14,15,16],\"index\":[5,14,23,32,41,50,59,68,77,86,95,104],\"optim_steps\":{\"__ndarray__\":\"mpmZmZldgUAAAAAAAEiVQM3MzMxMV6pAMzMzM/MRt0AAAAAAYAfGQDMzMzMjpdVAMzMzM4Pl6EBmZmZmAgoAQQAAAADsqAlBZmZmZlDDEkFeQ3kNPWUxQQAAABDMcz9B\",\"dtype\":\"float64\",\"shape\":[12]},\"sampling_type\":[\"rank-bayes-\\u03b20.001-p0.9_stoch:0.05\",\"rank-bayes-\\u03b20.001-p0.9_stoch:0.05\",\"rank-bayes-\\u03b20.001-p0.9_stoch:0.05\",\"rank-bayes-\\u03b20.001-p0.9_stoch:0.05\",\"rank-bayes-\\u03b20.001-p0.9_stoch:0.05\",\"rank-bayes-\\u03b20.001-p0.9_stoch:0.05\",\"rank-bayes-\\u03b20.001-p0.9_stoch:0.05\",\"rank-bayes-\\u03b20.001-p0.9_stoch:0.05\",\"rank-bayes-\\u03b20.001-p0.9_stoch:0.05\",\"rank-bayes-\\u03b20.001-p0.9_stoch:0.05\",\"rank-bayes-\\u03b20.001-p0.9_stoch:0.05\",\"rank-bayes-\\u03b20.001-p0.9_stoch:0.05\"]},\"selected\":{\"id\":\"22271\",\"type\":\"Selection\"},\"selection_policy\":{\"id\":\"22272\",\"type\":\"UnionRenderers\"}},\"id\":\"22209\",\"type\":\"ColumnDataSource\"},{\"attributes\":{\"callback\":null,\"data\":{\"N\":[5,6,7,8,9,10,11,12,13,14,15,16],\"index\":[4,13,22,31,40,49,58,67,76,85,94,103],\"optim_steps\":{\"__ndarray__\":\"mpmZmZkFfUBmZmZmZmORQDMzMzMzT5pAMzMzM7PzsEBmZmZmRl7AQJqZmZm55M1AAAAAAED+1kCamZmZiWnbQDMzMzP/mvJAAAAAAGIaA0EzMzMzd9QZQQAAAICAByJB\",\"dtype\":\"float64\",\"shape\":[12]},\"sampling_type\":[\"rank-bayes-\\u03b20.001-p0.9_stoch:0.01\",\"rank-bayes-\\u03b20.001-p0.9_stoch:0.01\",\"rank-bayes-\\u03b20.001-p0.9_stoch:0.01\",\"rank-bayes-\\u03b20.001-p0.9_stoch:0.01\",\"rank-bayes-\\u03b20.001-p0.9_stoch:0.01\",\"rank-bayes-\\u03b20.001-p0.9_stoch:0.01\",\"rank-bayes-\\u03b20.001-p0.9_stoch:0.01\",\"rank-bayes-\\u03b20.001-p0.9_stoch:0.01\",\"rank-bayes-\\u03b20.001-p0.9_stoch:0.01\",\"rank-bayes-\\u03b20.001-p0.9_stoch:0.01\",\"rank-bayes-\\u03b20.001-p0.9_stoch:0.01\",\"rank-bayes-\\u03b20.001-p0.9_stoch:0.01\"]},\"selected\":{\"id\":\"22207\",\"type\":\"Selection\"},\"selection_policy\":{\"id\":\"22208\",\"type\":\"UnionRenderers\"}},\"id\":\"22153\",\"type\":\"ColumnDataSource\"},{\"attributes\":{\"source\":{\"id\":\"22129\",\"type\":\"ColumnDataSource\"}},\"id\":\"22133\",\"type\":\"CDSView\"},{\"attributes\":{},\"id\":\"22344\",\"type\":\"UnionRenderers\"},{\"attributes\":{},\"id\":\"22343\",\"type\":\"Selection\"},{\"attributes\":{\"line_color\":\"#F79341\",\"line_width\":4,\"x\":{\"field\":\"N\"},\"y\":{\"field\":\"optim_steps\"}},\"id\":\"22275\",\"type\":\"Line\"},{\"attributes\":{\"data_source\":{\"id\":\"22273\",\"type\":\"ColumnDataSource\"},\"glyph\":{\"id\":\"22275\",\"type\":\"Line\"},\"hover_glyph\":null,\"muted_glyph\":null,\"nonselection_glyph\":{\"id\":\"22276\",\"type\":\"Line\"},\"selection_glyph\":null,\"view\":{\"id\":\"22278\",\"type\":\"CDSView\"}},\"id\":\"22277\",\"type\":\"GlyphRenderer\"},{\"attributes\":{\"source\":{\"id\":\"22273\",\"type\":\"ColumnDataSource\"}},\"id\":\"22278\",\"type\":\"CDSView\"},{\"attributes\":{\"data_source\":{\"id\":\"22049\",\"type\":\"ColumnDataSource\"},\"glyph\":{\"id\":\"22050\",\"type\":\"Patch\"},\"hover_glyph\":null,\"muted_glyph\":null,\"nonselection_glyph\":{\"id\":\"22051\",\"type\":\"Patch\"},\"selection_glyph\":null,\"view\":{\"id\":\"22053\",\"type\":\"CDSView\"}},\"id\":\"22052\",\"type\":\"GlyphRenderer\"},{\"attributes\":{\"data_source\":{\"id\":\"22129\",\"type\":\"ColumnDataSource\"},\"glyph\":{\"id\":\"22130\",\"type\":\"Patch\"},\"hover_glyph\":null,\"muted_glyph\":null,\"nonselection_glyph\":{\"id\":\"22131\",\"type\":\"Patch\"},\"selection_glyph\":null,\"view\":{\"id\":\"22133\",\"type\":\"CDSView\"}},\"id\":\"22132\",\"type\":\"GlyphRenderer\"},{\"attributes\":{\"fill_alpha\":0.3,\"fill_color\":\"#FDC328\",\"line_alpha\":0.3,\"line_color\":\"#FDC328\",\"x\":{\"field\":\"x\"},\"y\":{\"field\":\"y\"}},\"id\":\"22386\",\"type\":\"Patch\"},{\"attributes\":{},\"id\":\"22423\",\"type\":\"Selection\"},{\"attributes\":{\"fill_alpha\":0.1,\"fill_color\":\"#1f77b4\",\"line_alpha\":0.1,\"line_color\":\"#1f77b4\",\"x\":{\"field\":\"x\"},\"y\":{\"field\":\"y\"}},\"id\":\"22183\",\"type\":\"Patch\"},{\"attributes\":{},\"id\":\"22207\",\"type\":\"Selection\"},{\"attributes\":{},\"id\":\"22466\",\"type\":\"Selection\"},{\"attributes\":{\"source\":{\"id\":\"22181\",\"type\":\"ColumnDataSource\"}},\"id\":\"22185\",\"type\":\"CDSView\"},{\"attributes\":{\"callback\":null,\"data\":{\"x\":[5,6,7,8,9,10,11,12,13,14,15,16,16,15,14,13,12,11,10,9,8,7,6,5],\"y\":{\"__ndarray__\":\"zrYUYmSEcEB6QIwrF3p6QKsY1VDs04ZAdsA1pX+SkECpD1LIlbSkQPbNKcGGPaBAcJpOY8zwk8DE1EByxm60QKCaSh1qUb1Al5YYuQwQ6UBIKoayHgAPwYDPRkm1e/VARFkKiqUULkEWkh0jYjYyQfRzU2uCyQNBxUSvSBZPBUE0soT+Ez/tQDrbgMnMrORAQcbaJ49d0UAs+NYbNdW/QMUfZS3Afa5A1bnK6wT2pECuvOkBR+qUQDM+j2hnF4NA\",\"dtype\":\"float64\",\"shape\":[24]}},\"selected\":{\"id\":\"22466\",\"type\":\"Selection\"},\"selection_policy\":{\"id\":\"22467\",\"type\":\"UnionRenderers\"}},\"id\":\"22385\",\"type\":\"ColumnDataSource\"},{\"attributes\":{\"data_source\":{\"id\":\"22181\",\"type\":\"ColumnDataSource\"},\"glyph\":{\"id\":\"22182\",\"type\":\"Patch\"},\"hover_glyph\":null,\"muted_glyph\":null,\"nonselection_glyph\":{\"id\":\"22183\",\"type\":\"Patch\"},\"selection_glyph\":null,\"view\":{\"id\":\"22185\",\"type\":\"CDSView\"}},\"id\":\"22184\",\"type\":\"GlyphRenderer\"},{\"attributes\":{\"callback\":null,\"data\":{\"x\":[5,6,7,8,9,10,11,12,13,14,15,16,16,15,14,13,12,11,10,9,8,7,6,5],\"y\":{\"__ndarray__\":\"bD2kdl1JdUAiitaCoxKIQEhG+7P8tplAT+j7PdDYoEA2NsMOaUqvQDcDSieZocFA/drAq8VS00D8uv690u7dQJVDk2qzw/VAeK0cbcYR9kBuBAmm3H0XQWjvIdfldypBJoQ3mtLVSEGgRXDxAus8QbfQwpgXASBBGy9bJf83FEFs9Qx1KlYMQXT8QsjREPRAZbJg6bw84UA5mSfeEh7SQB85tCO/28JAO/vNn43ps0DvupQ+roaeQH4U4XeEFohA\",\"dtype\":\"float64\",\"shape\":[24]}},\"selected\":{\"id\":\"22306\",\"type\":\"Selection\"},\"selection_policy\":{\"id\":\"22307\",\"type\":\"UnionRenderers\"}},\"id\":\"22241\",\"type\":\"ColumnDataSource\"},{\"attributes\":{},\"id\":\"22467\",\"type\":\"UnionRenderers\"},{\"attributes\":{\"source\":{\"id\":\"22425\",\"type\":\"ColumnDataSource\"}},\"id\":\"22430\",\"type\":\"CDSView\"},{\"attributes\":{\"line_color\":\"#A82296\",\"line_width\":4,\"x\":{\"field\":\"N\"},\"y\":{\"field\":\"optim_steps\"}},\"id\":\"22107\",\"type\":\"Line\"},{\"attributes\":{\"label\":{\"value\":\"rank-td_stoch:0.05\"},\"renderers\":[{\"id\":\"22429\",\"type\":\"GlyphRenderer\"},{\"id\":\"22472\",\"type\":\"GlyphRenderer\"}]},\"id\":\"22468\",\"type\":\"LegendItem\"},{\"attributes\":{\"callback\":null,\"data\":{\"x\":[5,6,7,8,9,10,11,12,13,14,15,16,16,15,14,13,12,11,10,9,8,7,6,5],\"y\":{\"__ndarray__\":\"xNo+uZoScUDcOjm4oWlyQKZb0ZFrJoJA3HPUHCZjjkBcwfkukRukQCiL5XZnHa1A4HeLsCj4sEAREO1/Y0fLQGgOvB35jdVAxO1MPOGU40CIRhswBznrQGb/khxgigZBJkDb+GhsLkHKfjHA5iAoQUhidtjFpxBBzGL3HoDS/0CWVZ65sJfkQASR7uk63+RANei8qgxB2kB1XA6BqLXLQOrXy6IBG75ASty+TpjFpUAVfr5eZCyeQDgs+jxMfIRA\",\"dtype\":\"float64\",\"shape\":[24]}},\"selected\":{\"id\":\"22238\",\"type\":\"Selection\"},\"selection_policy\":{\"id\":\"22239\",\"type\":\"UnionRenderers\"}},\"id\":\"22181\",\"type\":\"ColumnDataSource\"},{\"attributes\":{\"label\":{\"value\":\"rank-bayes-\\u03b20.001-p0.9_stoch:0.01\"},\"renderers\":[{\"id\":\"22157\",\"type\":\"GlyphRenderer\"},{\"id\":\"22184\",\"type\":\"GlyphRenderer\"}]},\"id\":\"22180\",\"type\":\"LegendItem\"},{\"attributes\":{\"data_source\":{\"id\":\"22008\",\"type\":\"ColumnDataSource\"},\"glyph\":{\"id\":\"22010\",\"type\":\"Line\"},\"hover_glyph\":null,\"muted_glyph\":null,\"nonselection_glyph\":{\"id\":\"22011\",\"type\":\"Line\"},\"selection_glyph\":null,\"view\":{\"id\":\"22013\",\"type\":\"CDSView\"}},\"id\":\"22012\",\"type\":\"GlyphRenderer\"},{\"attributes\":{\"fill_alpha\":0.1,\"fill_color\":\"#1f77b4\",\"line_alpha\":0.1,\"line_color\":\"#1f77b4\",\"x\":{\"field\":\"x\"},\"y\":{\"field\":\"y\"}},\"id\":\"22387\",\"type\":\"Patch\"},{\"attributes\":{\"fill_alpha\":0.3,\"fill_color\":\"#E56B5C\",\"line_alpha\":0.3,\"line_color\":\"#E56B5C\",\"x\":{\"field\":\"x\"},\"y\":{\"field\":\"y\"}},\"id\":\"22242\",\"type\":\"Patch\"},{\"attributes\":{},\"id\":\"23159\",\"type\":\"Selection\"},{\"attributes\":{\"data_source\":{\"id\":\"22385\",\"type\":\"ColumnDataSource\"},\"glyph\":{\"id\":\"22386\",\"type\":\"Patch\"},\"hover_glyph\":null,\"muted_glyph\":null,\"nonselection_glyph\":{\"id\":\"22387\",\"type\":\"Patch\"},\"selection_glyph\":null,\"view\":{\"id\":\"22389\",\"type\":\"CDSView\"}},\"id\":\"22388\",\"type\":\"GlyphRenderer\"},{\"attributes\":{\"label\":{\"value\":\"rank-bayes-\\u03b20.001-p0.9_stoch:0.05\"},\"renderers\":[{\"id\":\"22213\",\"type\":\"GlyphRenderer\"},{\"id\":\"22244\",\"type\":\"GlyphRenderer\"}]},\"id\":\"22240\",\"type\":\"LegendItem\"},{\"attributes\":{},\"id\":\"22031\",\"type\":\"Selection\"},{\"attributes\":{\"source\":{\"id\":\"22008\",\"type\":\"ColumnDataSource\"}},\"id\":\"22013\",\"type\":\"CDSView\"},{\"attributes\":{},\"id\":\"22015\",\"type\":\"BasicTickFormatter\"},{\"attributes\":{},\"id\":\"22239\",\"type\":\"UnionRenderers\"},{\"attributes\":{},\"id\":\"22151\",\"type\":\"Selection\"},{\"attributes\":{\"data_source\":{\"id\":\"22425\",\"type\":\"ColumnDataSource\"},\"glyph\":{\"id\":\"22427\",\"type\":\"Line\"},\"hover_glyph\":null,\"muted_glyph\":null,\"nonselection_glyph\":{\"id\":\"22428\",\"type\":\"Line\"},\"selection_glyph\":null,\"view\":{\"id\":\"22430\",\"type\":\"CDSView\"}},\"id\":\"22429\",\"type\":\"GlyphRenderer\"},{\"attributes\":{\"line_alpha\":0.1,\"line_color\":\"#1f77b4\",\"line_width\":4,\"x\":{\"field\":\"N\"},\"y\":{\"field\":\"optim_steps\"}},\"id\":\"22011\",\"type\":\"Line\"},{\"attributes\":{\"fill_alpha\":0.3,\"fill_color\":\"#A82296\",\"line_alpha\":0.3,\"line_color\":\"#A82296\",\"x\":{\"field\":\"x\"},\"y\":{\"field\":\"y\"}},\"id\":\"22130\",\"type\":\"Patch\"},{\"attributes\":{},\"id\":\"22424\",\"type\":\"UnionRenderers\"},{\"attributes\":{\"label\":{\"value\":\"rank-bayes-\\u03b20.001-p0.5_det\"},\"renderers\":[{\"id\":\"22012\",\"type\":\"GlyphRenderer\"},{\"id\":\"22024\",\"type\":\"GlyphRenderer\"}]},\"id\":\"22020\",\"type\":\"LegendItem\"},{\"attributes\":{\"source\":{\"id\":\"22345\",\"type\":\"ColumnDataSource\"}},\"id\":\"22350\",\"type\":\"CDSView\"},{\"attributes\":{},\"id\":\"22032\",\"type\":\"UnionRenderers\"},{\"attributes\":{\"callback\":null,\"data\":{\"N\":[5,6,7,8,9,10,11,12,13,14,15,16],\"index\":[2,11,20,29,38,47,56,65,74,83,92,101],\"optim_steps\":{\"__ndarray__\":\"mpmZmZmphUDNzMzMzFeWQDMzMzMz86RAZmZmZmZptEAAAAAAgNvAQAAAAACgX9JAAAAAAFg240BmZmZmbkvkQGZmZmZQOwBBmpmZmXWgDUEzMzOzUPQhQTMzMzNX+jBB\",\"dtype\":\"float64\",\"shape\":[12]},\"sampling_type\":[\"rank-bayes-\\u03b20.001-p0.5_stoch:0.05\",\"rank-bayes-\\u03b20.001-p0.5_stoch:0.05\",\"rank-bayes-\\u03b20.001-p0.5_stoch:0.05\",\"rank-bayes-\\u03b20.001-p0.5_stoch:0.05\",\"rank-bayes-\\u03b20.001-p0.5_stoch:0.05\",\"rank-bayes-\\u03b20.001-p0.5_stoch:0.05\",\"rank-bayes-\\u03b20.001-p0.5_stoch:0.05\",\"rank-bayes-\\u03b20.001-p0.5_stoch:0.05\",\"rank-bayes-\\u03b20.001-p0.5_stoch:0.05\",\"rank-bayes-\\u03b20.001-p0.5_stoch:0.05\",\"rank-bayes-\\u03b20.001-p0.5_stoch:0.05\",\"rank-bayes-\\u03b20.001-p0.5_stoch:0.05\"]},\"selected\":{\"id\":\"22103\",\"type\":\"Selection\"},\"selection_policy\":{\"id\":\"22104\",\"type\":\"UnionRenderers\"}},\"id\":\"22065\",\"type\":\"ColumnDataSource\"},{\"attributes\":{\"callback\":null,\"data\":{\"x\":[5,6,7,8,9,10,11,12,13,14,15,16,16,15,14,13,12,11,10,9,8,7,6,5],\"y\":{\"__ndarray__\":\"oOrf6owzcUBcawfdLmCBQEb1pWhYloxAfLtJFGaajkBAebNcPaGTQJDnyWeRNYZA4GV8peXhusC+qqiL9KC7QJh/vqNaGrrA4JRLBwHZpMC0G6k2sKPpQJjocJSjvANBNORbOBHaCEHghSK/6CYDQSD76dAwkAJBxrQId8pB9UCECEkQttPcQN5/xc+fl95Au5S2HBrQz0DYkGlU2F3EQMT7qXBmtrNAroLW5Wl7p0AfF0letfKVQLAKkIo5SoVA\",\"dtype\":\"float64\",\"shape\":[24]}},\"selected\":{\"id\":\"22382\",\"type\":\"Selection\"},\"selection_policy\":{\"id\":\"22383\",\"type\":\"UnionRenderers\"}},\"id\":\"22309\",\"type\":\"ColumnDataSource\"},{\"attributes\":{\"line_color\":\"#EFF821\",\"line_width\":4,\"x\":{\"field\":\"N\"},\"y\":{\"field\":\"optim_steps\"}},\"id\":\"22427\",\"type\":\"Line\"},{\"attributes\":{\"fill_alpha\":0.1,\"fill_color\":\"#1f77b4\",\"line_alpha\":0.1,\"line_color\":\"#1f77b4\",\"x\":{\"field\":\"x\"},\"y\":{\"field\":\"y\"}},\"id\":\"22311\",\"type\":\"Patch\"},{\"attributes\":{},\"id\":\"22152\",\"type\":\"UnionRenderers\"},{\"attributes\":{\"click_policy\":\"hide\",\"items\":[{\"id\":\"22020\",\"type\":\"LegendItem\"},{\"id\":\"22048\",\"type\":\"LegendItem\"},{\"id\":\"22084\",\"type\":\"LegendItem\"},{\"id\":\"22128\",\"type\":\"LegendItem\"},{\"id\":\"22180\",\"type\":\"LegendItem\"},{\"id\":\"22240\",\"type\":\"LegendItem\"},{\"id\":\"22308\",\"type\":\"LegendItem\"},{\"id\":\"22384\",\"type\":\"LegendItem\"},{\"id\":\"22468\",\"type\":\"LegendItem\"}],\"location\":\"top_left\",\"plot\":{\"id\":\"21971\",\"subtype\":\"Figure\",\"type\":\"Plot\"}},\"id\":\"22019\",\"type\":\"Legend\"},{\"attributes\":{\"label\":{\"value\":\"rank-td_stoch:0.01\"},\"renderers\":[{\"id\":\"22349\",\"type\":\"GlyphRenderer\"},{\"id\":\"22388\",\"type\":\"GlyphRenderer\"}]},\"id\":\"22384\",\"type\":\"LegendItem\"},{\"attributes\":{},\"id\":\"21979\",\"type\":\"LinearScale\"},{\"attributes\":{\"source\":{\"id\":\"22309\",\"type\":\"ColumnDataSource\"}},\"id\":\"22313\",\"type\":\"CDSView\"},{\"attributes\":{},\"id\":\"22382\",\"type\":\"Selection\"},{\"attributes\":{\"callback\":null,\"data\":{\"N\":[5,6,7,8,9,10,11,12,13,14,15,16],\"index\":[8,17,26,35,44,53,62,71,80,89,98,107],\"optim_steps\":{\"__ndarray__\":\"ZmZmZmY0hEDNzMzMzO+RQM3MzMzMRaVAzczMzMwitkDNzMzMrFTJQGZmZmb2RdRAzczMzCTS40AzMzMzI9PuQM3MzMzuBglBAAAAAG2tEkFmZmbm4aQnQQAAAMBXkjdB\",\"dtype\":\"float64\",\"shape\":[12]},\"sampling_type\":[\"rank-td_stoch:0.05\",\"rank-td_stoch:0.05\",\"rank-td_stoch:0.05\",\"rank-td_stoch:0.05\",\"rank-td_stoch:0.05\",\"rank-td_stoch:0.05\",\"rank-td_stoch:0.05\",\"rank-td_stoch:0.05\",\"rank-td_stoch:0.05\",\"rank-td_stoch:0.05\",\"rank-td_stoch:0.05\",\"rank-td_stoch:0.05\"]},\"selected\":{\"id\":\"22511\",\"type\":\"Selection\"},\"selection_policy\":{\"id\":\"22512\",\"type\":\"UnionRenderers\"}},\"id\":\"22425\",\"type\":\"ColumnDataSource\"},{\"attributes\":{\"line_color\":\"#4A02A0\",\"line_width\":4,\"x\":{\"field\":\"N\"},\"y\":{\"field\":\"optim_steps\"}},\"id\":\"22035\",\"type\":\"Line\"},{\"attributes\":{},\"id\":\"22383\",\"type\":\"UnionRenderers\"},{\"attributes\":{},\"id\":\"21977\",\"type\":\"LinearScale\"},{\"attributes\":{\"line_alpha\":0.1,\"line_color\":\"#1f77b4\",\"line_width\":4,\"x\":{\"field\":\"N\"},\"y\":{\"field\":\"optim_steps\"}},\"id\":\"22428\",\"type\":\"Line\"},{\"attributes\":{\"callback\":null,\"data\":{\"N\":[5,6,7,8,9,10,11,12,13,14,15,16],\"index\":[0,9,18,27,36,45,54,63,72,81,90,99],\"optim_steps\":{\"__ndarray__\":\"AAAAAACChUAAAAAAAIaPQAAAAAAA3KJAMzMzM7MHrUAzMzMzs+20QGZmZmYG38RAzczMzIw61UAAAAAAYHfgQM3MzMwEXuRAZmZmZi5o8EDNzMzMntkBQQAAAACykg9B\",\"dtype\":\"float64\",\"shape\":[12]},\"sampling_type\":[\"rank-bayes-\\u03b20.001-p0.5_det\",\"rank-bayes-\\u03b20.001-p0.5_det\",\"rank-bayes-\\u03b20.001-p0.5_det\",\"rank-bayes-\\u03b20.001-p0.5_det\",\"rank-bayes-\\u03b20.001-p0.5_det\",\"rank-bayes-\\u03b20.001-p0.5_det\",\"rank-bayes-\\u03b20.001-p0.5_det\",\"rank-bayes-\\u03b20.001-p0.5_det\",\"rank-bayes-\\u03b20.001-p0.5_det\",\"rank-bayes-\\u03b20.001-p0.5_det\",\"rank-bayes-\\u03b20.001-p0.5_det\",\"rank-bayes-\\u03b20.001-p0.5_det\"]},\"selected\":{\"id\":\"22031\",\"type\":\"Selection\"},\"selection_policy\":{\"id\":\"22032\",\"type\":\"UnionRenderers\"}},\"id\":\"22008\",\"type\":\"ColumnDataSource\"},{\"attributes\":{\"bottom_units\":\"screen\",\"fill_alpha\":{\"value\":0.5},\"fill_color\":{\"value\":\"lightgrey\"},\"left_units\":\"screen\",\"level\":\"overlay\",\"line_alpha\":{\"value\":1.0},\"line_color\":{\"value\":\"black\"},\"line_dash\":[4,4],\"line_width\":{\"value\":2},\"plot\":null,\"render_mode\":\"css\",\"right_units\":\"screen\",\"top_units\":\"screen\"},\"id\":\"21999\",\"type\":\"BoxAnnotation\"},{\"attributes\":{\"callback\":null},\"id\":\"21975\",\"type\":\"DataRange1d\"},{\"attributes\":{\"active_drag\":\"auto\",\"active_inspect\":\"auto\",\"active_multi\":null,\"active_scroll\":\"auto\",\"active_tap\":\"auto\",\"tools\":[{\"id\":\"21991\",\"type\":\"PanTool\"},{\"id\":\"21992\",\"type\":\"WheelZoomTool\"},{\"id\":\"21993\",\"type\":\"BoxZoomTool\"},{\"id\":\"21994\",\"type\":\"SaveTool\"},{\"id\":\"21995\",\"type\":\"ResetTool\"},{\"id\":\"21996\",\"type\":\"HelpTool\"}]},\"id\":\"21997\",\"type\":\"Toolbar\"},{\"attributes\":{\"fill_alpha\":0.3,\"fill_color\":\"#0C0786\",\"line_alpha\":0.3,\"line_color\":\"#0C0786\",\"x\":{\"field\":\"x\"},\"y\":{\"field\":\"y\"}},\"id\":\"22022\",\"type\":\"Patch\"},{\"attributes\":{\"callback\":null,\"data\":{\"N\":[5,6,7,8,9,10,11,12,13,14,15,16],\"index\":[7,16,25,34,43,52,61,70,79,88,97,106],\"optim_steps\":{\"__ndarray__\":\"mpmZmZlZe0DNzMzMzIiLQAAAAAAAq5pAAAAAAIBjo0AAAAAAwBe1QAAAAABAZcNAZmZmZkYN1EDNzMzM7MzfQJqZmZmhOfZAmpmZmYUN+kCamZmZvKwcQZqZmRkOYiBB\",\"dtype\":\"float64\",\"shape\":[12]},\"sampling_type\":[\"rank-td_stoch:0.01\",\"rank-td_stoch:0.01\",\"rank-td_stoch:0.01\",\"rank-td_stoch:0.01\",\"rank-td_stoch:0.01\",\"rank-td_stoch:0.01\",\"rank-td_stoch:0.01\",\"rank-td_stoch:0.01\",\"rank-td_stoch:0.01\",\"rank-td_stoch:0.01\",\"rank-td_stoch:0.01\",\"rank-td_stoch:0.01\"]},\"selected\":{\"id\":\"22423\",\"type\":\"Selection\"},\"selection_policy\":{\"id\":\"22424\",\"type\":\"UnionRenderers\"}},\"id\":\"22345\",\"type\":\"ColumnDataSource\"},{\"attributes\":{\"line_alpha\":0.1,\"line_color\":\"#1f77b4\",\"line_width\":4,\"x\":{\"field\":\"N\"},\"y\":{\"field\":\"optim_steps\"}},\"id\":\"22348\",\"type\":\"Line\"},{\"attributes\":{},\"id\":\"22272\",\"type\":\"UnionRenderers\"},{\"attributes\":{\"data_source\":{\"id\":\"22345\",\"type\":\"ColumnDataSource\"},\"glyph\":{\"id\":\"22347\",\"type\":\"Line\"},\"hover_glyph\":null,\"muted_glyph\":null,\"nonselection_glyph\":{\"id\":\"22348\",\"type\":\"Line\"},\"selection_glyph\":null,\"view\":{\"id\":\"22350\",\"type\":\"CDSView\"}},\"id\":\"22349\",\"type\":\"GlyphRenderer\"},{\"attributes\":{\"callback\":null,\"data\":{\"x\":[5,6,7,8,9,10,11,12,13,14,15,16,16,15,14,13,12,11,10,9,8,7,6,5],\"y\":{\"__ndarray__\":\"gevUiqg1fECOQO46VSKDQKWqbL1/kZJAWYt1V5iXn0C76PSR2fmoQAq4ZK6Db6xAMDXWi+X4p0AY+5Zp30ilQBwWIGYW49dAdddwix0v60DYUlUzsRrzQC92KbWxKwpB6ERrJdl8EkEu8O7/5CUKQRJhFAfOOPNAjI6JZn7K7EBOkGYJMprvQHppD3T+uuNAZc+Z8BVR0UAI8mudeV69QF3QVR3NIbVArqpJIUBvrEC534hi1fSVQECKlbor6YxA\",\"dtype\":\"float64\",\"shape\":[24]}},\"selected\":{\"id\":\"22046\",\"type\":\"Selection\"},\"selection_policy\":{\"id\":\"22047\",\"type\":\"UnionRenderers\"}},\"id\":\"22021\",\"type\":\"ColumnDataSource\"},{\"attributes\":{\"callback\":null,\"data\":{\"x\":[5,6,7,8,9,10,11,12,13,14,15,16,16,15,14,13,12,11,10,9,8,7,6,5],\"y\":{\"__ndarray__\":\"7AXq2Wtde0CjMVD0b0uDQIRciyr6PZZAGCbdu6UIhUBPHKGnk06lQNwCLEaA8LFAE1ADq1ZHt0BYVhzAuu2swHosZiZm7N1AOKWDzC6m60B10pbSeQb3QMhP1TkQlglBUItIFhO8FEGSY4HjhywMQf7GVzMS3PRAw+nM7Cy05EAyks54yKPvQMj4CyI3VNRAFsxBu8xh0UA+2JWSnNK/QNf0HeIE0bxAJLggUWlEpEAu59cFSBacQHBjcXmwn41A\",\"dtype\":\"float64\",\"shape\":[24]}},\"selected\":{\"id\":\"22082\",\"type\":\"Selection\"},\"selection_policy\":{\"id\":\"22083\",\"type\":\"UnionRenderers\"}},\"id\":\"22049\",\"type\":\"ColumnDataSource\"},{\"attributes\":{\"line_color\":\"#FDC328\",\"line_width\":4,\"x\":{\"field\":\"N\"},\"y\":{\"field\":\"optim_steps\"}},\"id\":\"22347\",\"type\":\"Line\"},{\"attributes\":{\"line_alpha\":0.1,\"line_color\":\"#1f77b4\",\"line_width\":4,\"x\":{\"field\":\"N\"},\"y\":{\"field\":\"optim_steps\"}},\"id\":\"22276\",\"type\":\"Line\"},{\"attributes\":{\"fill_alpha\":0.1,\"fill_color\":\"#1f77b4\",\"line_alpha\":0.1,\"line_color\":\"#1f77b4\",\"x\":{\"field\":\"x\"},\"y\":{\"field\":\"y\"}},\"id\":\"22023\",\"type\":\"Patch\"}],\"root_ids\":[\"21971\"]},\"title\":\"Bokeh Application\",\"version\":\"1.0.1\"}};\n",
       "  var render_items = [{\"docid\":\"eebf551e-ce5d-4a48-8418-aa6de5d629b8\",\"roots\":{\"21971\":\"e9c47468-aa22-41c0-8490-a9f2a26507ac\"}}];\n",
       "  root.Bokeh.embed.embed_items_notebook(docs_json, render_items);\n",
       "\n",
       "  }\n",
       "  if (root.Bokeh !== undefined) {\n",
       "    embed_document(root);\n",
       "  } else {\n",
       "    var attempts = 0;\n",
       "    var timer = setInterval(function(root) {\n",
       "      if (root.Bokeh !== undefined) {\n",
       "        embed_document(root);\n",
       "        clearInterval(timer);\n",
       "      }\n",
       "      attempts++;\n",
       "      if (attempts > 100) {\n",
       "        console.log(\"Bokeh: ERROR: Unable to run BokehJS code because BokehJS library is missing\");\n",
       "        clearInterval(timer);\n",
       "      }\n",
       "    }, 10, root)\n",
       "  }\n",
       "})(window);"
      ],
      "application/vnd.bokehjs_exec.v0+json": ""
     },
     "metadata": {
      "application/vnd.bokehjs_exec.v0+json": {
       "id": "21971"
      }
     },
     "output_type": "display_data"
    }
   ],
   "source": [
    "show(lineplot(df1, 'N', 'optim_steps', 'sampling_type', y_axis_format='00'))"
   ]
  },
  {
   "cell_type": "code",
   "execution_count": 71,
   "metadata": {},
   "outputs": [],
   "source": [
    "# show(lineplot(data, 'N', 'vote_optim_steps', 'sampling_type'))"
   ]
  },
  {
   "cell_type": "markdown",
   "metadata": {},
   "source": [
    "## Experiments with sampled priors"
   ]
  },
  {
   "cell_type": "code",
   "execution_count": 72,
   "metadata": {},
   "outputs": [
    {
     "data": {
      "text/html": [
       "<div>\n",
       "<style scoped>\n",
       "    .dataframe tbody tr th:only-of-type {\n",
       "        vertical-align: middle;\n",
       "    }\n",
       "\n",
       "    .dataframe tbody tr th {\n",
       "        vertical-align: top;\n",
       "    }\n",
       "\n",
       "    .dataframe thead th {\n",
       "        text-align: right;\n",
       "    }\n",
       "</style>\n",
       "<table border=\"1\" class=\"dataframe\">\n",
       "  <thead>\n",
       "    <tr style=\"text-align: right;\">\n",
       "      <th></th>\n",
       "      <th>step</th>\n",
       "      <th>loss</th>\n",
       "      <th>vote</th>\n",
       "      <th>optim_steps</th>\n",
       "      <th>vote_optim_steps</th>\n",
       "      <th>N</th>\n",
       "      <th>mem</th>\n",
       "      <th>trial</th>\n",
       "      <th>sampling_type</th>\n",
       "      <th>loss_fn</th>\n",
       "    </tr>\n",
       "  </thead>\n",
       "  <tbody>\n",
       "    <tr>\n",
       "      <th>1267811</th>\n",
       "      <td>2964900.0</td>\n",
       "      <td>0.002298</td>\n",
       "      <td>1.0</td>\n",
       "      <td>3065171</td>\n",
       "      <td>3065171</td>\n",
       "      <td>16</td>\n",
       "      <td>131070</td>\n",
       "      <td>18</td>\n",
       "      <td>rank-bayes-β0.001-p0.5_stoch:0.05</td>\n",
       "      <td>mse</td>\n",
       "    </tr>\n",
       "    <tr>\n",
       "      <th>1949320</th>\n",
       "      <td>235200.0</td>\n",
       "      <td>0.007772</td>\n",
       "      <td>0.0</td>\n",
       "      <td>1238043</td>\n",
       "      <td>1238043</td>\n",
       "      <td>15</td>\n",
       "      <td>65534</td>\n",
       "      <td>18</td>\n",
       "      <td>rank-bayes-β0.01-p0.5_stoch:0.05</td>\n",
       "      <td>mse</td>\n",
       "    </tr>\n",
       "    <tr>\n",
       "      <th>1368174</th>\n",
       "      <td>97900.0</td>\n",
       "      <td>0.015247</td>\n",
       "      <td>0.0</td>\n",
       "      <td>154240</td>\n",
       "      <td>154240</td>\n",
       "      <td>15</td>\n",
       "      <td>65534</td>\n",
       "      <td>16</td>\n",
       "      <td>rank-bayes-β0.001-p0.5_det</td>\n",
       "      <td>mse</td>\n",
       "    </tr>\n",
       "  </tbody>\n",
       "</table>\n",
       "</div>"
      ],
      "text/plain": [
       "              step      loss  vote  optim_steps  vote_optim_steps   N     mem  \\\n",
       "1267811  2964900.0  0.002298   1.0      3065171           3065171  16  131070   \n",
       "1949320   235200.0  0.007772   0.0      1238043           1238043  15   65534   \n",
       "1368174    97900.0  0.015247   0.0       154240            154240  15   65534   \n",
       "\n",
       "         trial                      sampling_type loss_fn  \n",
       "1267811     18  rank-bayes-β0.001-p0.5_stoch:0.05     mse  \n",
       "1949320     18   rank-bayes-β0.01-p0.5_stoch:0.05     mse  \n",
       "1368174     16         rank-bayes-β0.001-p0.5_det     mse  "
      ]
     },
     "execution_count": 72,
     "metadata": {},
     "output_type": "execute_result"
    }
   ],
   "source": [
    "df2 = get_data('stochastic_rank_redux', [\n",
    "    #'2018Dec10-001827',\n",
    "    #'2018Dec10-003234',\n",
    "    '2018Dec10-034221',\n",
    "    '2018Dec10-034218'\n",
    "])\n",
    "df2.sample(3)"
   ]
  },
  {
   "cell_type": "code",
   "execution_count": 73,
   "metadata": {},
   "outputs": [],
   "source": [
    "# df2.loc[df2['optim_steps'] != df2['vote_optim_steps']]"
   ]
  },
  {
   "cell_type": "code",
   "execution_count": 74,
   "metadata": {},
   "outputs": [],
   "source": [
    "# show(lineplot(df2, 'N', 'optim_steps', 'sampling_type', y_axis_format='00'))"
   ]
  },
  {
   "cell_type": "code",
   "execution_count": 75,
   "metadata": {},
   "outputs": [],
   "source": [
    "df3 = monkey_patch(df2, df1, col='sampling_type', vals=['rank-td_stoch:0.05', 'rank-td_det'])"
   ]
  },
  {
   "cell_type": "code",
   "execution_count": 76,
   "metadata": {},
   "outputs": [
    {
     "data": {
      "text/html": [
       "\n",
       "\n",
       "\n",
       "\n",
       "\n",
       "\n",
       "  <div class=\"bk-root\" id=\"cacaa583-85a7-4b23-900a-76e2c2881fd9\"></div>\n"
      ]
     },
     "metadata": {},
     "output_type": "display_data"
    },
    {
     "data": {
      "application/javascript": [
       "(function(root) {\n",
       "  function embed_document(root) {\n",
       "    \n",
       "  var docs_json = {\"964d9856-1c44-47db-876f-fc80d1c8f102\":{\"roots\":{\"references\":[{\"attributes\":{\"below\":[{\"id\":\"23418\",\"type\":\"LinearAxis\"}],\"left\":[{\"id\":\"23423\",\"type\":\"LinearAxis\"}],\"plot_height\":500,\"plot_width\":950,\"renderers\":[{\"id\":\"23418\",\"type\":\"LinearAxis\"},{\"id\":\"23422\",\"type\":\"Grid\"},{\"id\":\"23423\",\"type\":\"LinearAxis\"},{\"id\":\"23427\",\"type\":\"Grid\"},{\"id\":\"23436\",\"type\":\"BoxAnnotation\"},{\"id\":\"23456\",\"type\":\"Legend\"},{\"id\":\"23449\",\"type\":\"GlyphRenderer\"},{\"id\":\"23461\",\"type\":\"GlyphRenderer\"},{\"id\":\"23474\",\"type\":\"GlyphRenderer\"},{\"id\":\"23489\",\"type\":\"GlyphRenderer\"},{\"id\":\"23506\",\"type\":\"GlyphRenderer\"},{\"id\":\"23525\",\"type\":\"GlyphRenderer\"},{\"id\":\"23546\",\"type\":\"GlyphRenderer\"},{\"id\":\"23569\",\"type\":\"GlyphRenderer\"},{\"id\":\"23594\",\"type\":\"GlyphRenderer\"},{\"id\":\"23621\",\"type\":\"GlyphRenderer\"},{\"id\":\"23650\",\"type\":\"GlyphRenderer\"},{\"id\":\"23681\",\"type\":\"GlyphRenderer\"}],\"title\":{\"id\":\"23407\",\"type\":\"Title\"},\"toolbar\":{\"id\":\"23434\",\"type\":\"Toolbar\"},\"x_range\":{\"id\":\"23410\",\"type\":\"DataRange1d\"},\"x_scale\":{\"id\":\"23414\",\"type\":\"LinearScale\"},\"y_range\":{\"id\":\"23412\",\"type\":\"DataRange1d\"},\"y_scale\":{\"id\":\"23416\",\"type\":\"LinearScale\"}},\"id\":\"23408\",\"subtype\":\"Figure\",\"type\":\"Plot\"},{\"attributes\":{\"callback\":null,\"data\":{\"x\":[5,6,7,8,9,10,11,12,13,14,15,16,16,15,14,13,12,11,10,9,8,7,6,5],\"y\":{\"__ndarray__\":\"oOrf6owzcUBcawfdLmCBQEb1pWhYloxAfLtJFGaajkBAebNcPaGTQJDnyWeRNYZA4GV8peXhusC+qqiL9KC7QJh/vqNaGrrA4JRLBwHZpMC0G6k2sKPpQJjocJSjvANBNORbOBHaCEHghSK/6CYDQSD76dAwkAJBxrQId8pB9UCECEkQttPcQN5/xc+fl95Au5S2HBrQz0DYkGlU2F3EQMT7qXBmtrNAroLW5Wl7p0AfF0letfKVQLAKkIo5SoVA\",\"dtype\":\"float64\",\"shape\":[24]}},\"selected\":{\"id\":\"23675\",\"type\":\"Selection\"},\"selection_policy\":{\"id\":\"23676\",\"type\":\"UnionRenderers\"}},\"id\":\"23618\",\"type\":\"ColumnDataSource\"},{\"attributes\":{\"data_source\":{\"id\":\"23618\",\"type\":\"ColumnDataSource\"},\"glyph\":{\"id\":\"23619\",\"type\":\"Patch\"},\"hover_glyph\":null,\"muted_glyph\":null,\"nonselection_glyph\":{\"id\":\"23620\",\"type\":\"Patch\"},\"selection_glyph\":null,\"view\":{\"id\":\"23622\",\"type\":\"CDSView\"}},\"id\":\"23621\",\"type\":\"GlyphRenderer\"},{\"attributes\":{\"fill_alpha\":0.3,\"fill_color\":\"#FCA635\",\"line_alpha\":0.3,\"line_color\":\"#FCA635\",\"x\":{\"field\":\"x\"},\"y\":{\"field\":\"y\"}},\"id\":\"23619\",\"type\":\"Patch\"},{\"attributes\":{},\"id\":\"24385\",\"type\":\"Selection\"},{\"attributes\":{\"callback\":null,\"data\":{\"N\":[5,6,7,8,9,10,11,12,13,14,15,16],\"index\":[2,8,14,20,26,32,38,44,50,56,62,68],\"optim_steps\":{\"__ndarray__\":\"8xrKayjXi0BhpacWVmyUQAnCWke+3KJAeUGEmkzXsUAQqlgYeh3JQPmKr/gK58VACJsCHL3k1UD8qSNpx//TQMv5iPtlYuxAcvwo82Cs8UDMKXh593oCQcyn7orLGxJB\",\"dtype\":\"float64\",\"shape\":[12]},\"sampling_type\":[\"rank-bayes-\\u03b20.01-p0.5_det\",\"rank-bayes-\\u03b20.01-p0.5_det\",\"rank-bayes-\\u03b20.01-p0.5_det\",\"rank-bayes-\\u03b20.01-p0.5_det\",\"rank-bayes-\\u03b20.01-p0.5_det\",\"rank-bayes-\\u03b20.01-p0.5_det\",\"rank-bayes-\\u03b20.01-p0.5_det\",\"rank-bayes-\\u03b20.01-p0.5_det\",\"rank-bayes-\\u03b20.01-p0.5_det\",\"rank-bayes-\\u03b20.01-p0.5_det\",\"rank-bayes-\\u03b20.01-p0.5_det\",\"rank-bayes-\\u03b20.01-p0.5_det\"]},\"selected\":{\"id\":\"23540\",\"type\":\"Selection\"},\"selection_policy\":{\"id\":\"23541\",\"type\":\"UnionRenderers\"}},\"id\":\"23502\",\"type\":\"ColumnDataSource\"},{\"attributes\":{\"fill_alpha\":0.1,\"fill_color\":\"#1f77b4\",\"line_alpha\":0.1,\"line_color\":\"#1f77b4\",\"x\":{\"field\":\"x\"},\"y\":{\"field\":\"y\"}},\"id\":\"23620\",\"type\":\"Patch\"},{\"attributes\":{\"label\":{\"value\":\"rank-bayes-\\u03b20.001-p0.5_det\"},\"renderers\":[{\"id\":\"23449\",\"type\":\"GlyphRenderer\"},{\"id\":\"23461\",\"type\":\"GlyphRenderer\"}]},\"id\":\"23457\",\"type\":\"LegendItem\"},{\"attributes\":{\"label\":{\"value\":\"rank-td_det\"},\"renderers\":[{\"id\":\"23594\",\"type\":\"GlyphRenderer\"},{\"id\":\"23621\",\"type\":\"GlyphRenderer\"}]},\"id\":\"23617\",\"type\":\"LegendItem\"},{\"attributes\":{},\"id\":\"23616\",\"type\":\"UnionRenderers\"},{\"attributes\":{},\"id\":\"23615\",\"type\":\"Selection\"},{\"attributes\":{\"fill_alpha\":0.1,\"fill_color\":\"#1f77b4\",\"line_alpha\":0.1,\"line_color\":\"#1f77b4\",\"x\":{\"field\":\"x\"},\"y\":{\"field\":\"y\"}},\"id\":\"23460\",\"type\":\"Patch\"},{\"attributes\":{\"source\":{\"id\":\"23590\",\"type\":\"ColumnDataSource\"}},\"id\":\"23595\",\"type\":\"CDSView\"},{\"attributes\":{\"data_source\":{\"id\":\"23458\",\"type\":\"ColumnDataSource\"},\"glyph\":{\"id\":\"23459\",\"type\":\"Patch\"},\"hover_glyph\":null,\"muted_glyph\":null,\"nonselection_glyph\":{\"id\":\"23460\",\"type\":\"Patch\"},\"selection_glyph\":null,\"view\":{\"id\":\"23462\",\"type\":\"CDSView\"}},\"id\":\"23461\",\"type\":\"GlyphRenderer\"},{\"attributes\":{\"data_source\":{\"id\":\"23590\",\"type\":\"ColumnDataSource\"},\"glyph\":{\"id\":\"23592\",\"type\":\"Line\"},\"hover_glyph\":null,\"muted_glyph\":null,\"nonselection_glyph\":{\"id\":\"23593\",\"type\":\"Line\"},\"selection_glyph\":null,\"view\":{\"id\":\"23595\",\"type\":\"CDSView\"}},\"id\":\"23594\",\"type\":\"GlyphRenderer\"},{\"attributes\":{\"line_color\":\"#FCA635\",\"line_width\":4,\"x\":{\"field\":\"N\"},\"y\":{\"field\":\"optim_steps\"}},\"id\":\"23592\",\"type\":\"Line\"},{\"attributes\":{\"click_policy\":\"hide\",\"items\":[{\"id\":\"23457\",\"type\":\"LegendItem\"},{\"id\":\"23485\",\"type\":\"LegendItem\"},{\"id\":\"23521\",\"type\":\"LegendItem\"},{\"id\":\"23565\",\"type\":\"LegendItem\"},{\"id\":\"23617\",\"type\":\"LegendItem\"},{\"id\":\"23677\",\"type\":\"LegendItem\"}],\"location\":\"top_left\",\"plot\":{\"id\":\"23408\",\"subtype\":\"Figure\",\"type\":\"Plot\"}},\"id\":\"23456\",\"type\":\"Legend\"},{\"attributes\":{},\"id\":\"23452\",\"type\":\"BasicTickFormatter\"},{\"attributes\":{\"source\":{\"id\":\"23445\",\"type\":\"ColumnDataSource\"}},\"id\":\"23450\",\"type\":\"CDSView\"},{\"attributes\":{\"data_source\":{\"id\":\"23445\",\"type\":\"ColumnDataSource\"},\"glyph\":{\"id\":\"23447\",\"type\":\"Line\"},\"hover_glyph\":null,\"muted_glyph\":null,\"nonselection_glyph\":{\"id\":\"23448\",\"type\":\"Line\"},\"selection_glyph\":null,\"view\":{\"id\":\"23450\",\"type\":\"CDSView\"}},\"id\":\"23449\",\"type\":\"GlyphRenderer\"},{\"attributes\":{\"line_alpha\":0.1,\"line_color\":\"#1f77b4\",\"line_width\":4,\"x\":{\"field\":\"N\"},\"y\":{\"field\":\"optim_steps\"}},\"id\":\"23593\",\"type\":\"Line\"},{\"attributes\":{\"source\":{\"id\":\"23458\",\"type\":\"ColumnDataSource\"}},\"id\":\"23462\",\"type\":\"CDSView\"},{\"attributes\":{\"line_color\":\"#0C0786\",\"line_width\":4,\"x\":{\"field\":\"N\"},\"y\":{\"field\":\"optim_steps\"}},\"id\":\"23447\",\"type\":\"Line\"},{\"attributes\":{\"callback\":null,\"data\":{\"N\":[5,6,7,8,9,10,11,12,13,14,15,16],\"index\":[5,11,17,23,29,35,41,47,53,59,65,71],\"optim_steps\":{\"__ndarray__\":\"ZmZmZmY0hEDNzMzMzO+RQM3MzMzMRaVAzczMzMwitkDNzMzMrFTJQGZmZmb2RdRAzczMzCTS40AzMzMzI9PuQM3MzMzuBglBAAAAAG2tEkFmZmbm4aQnQQAAAMBXkjdB\",\"dtype\":\"float64\",\"shape\":[12]},\"sampling_type\":[\"rank-td_stoch:0.05\",\"rank-td_stoch:0.05\",\"rank-td_stoch:0.05\",\"rank-td_stoch:0.05\",\"rank-td_stoch:0.05\",\"rank-td_stoch:0.05\",\"rank-td_stoch:0.05\",\"rank-td_stoch:0.05\",\"rank-td_stoch:0.05\",\"rank-td_stoch:0.05\",\"rank-td_stoch:0.05\",\"rank-td_stoch:0.05\"]},\"selected\":{\"id\":\"23708\",\"type\":\"Selection\"},\"selection_policy\":{\"id\":\"23709\",\"type\":\"UnionRenderers\"}},\"id\":\"23646\",\"type\":\"ColumnDataSource\"},{\"attributes\":{\"line_alpha\":0.1,\"line_color\":\"#1f77b4\",\"line_width\":4,\"x\":{\"field\":\"N\"},\"y\":{\"field\":\"optim_steps\"}},\"id\":\"23649\",\"type\":\"Line\"},{\"attributes\":{\"line_color\":\"#EFF821\",\"line_width\":4,\"x\":{\"field\":\"N\"},\"y\":{\"field\":\"optim_steps\"}},\"id\":\"23648\",\"type\":\"Line\"},{\"attributes\":{},\"id\":\"23589\",\"type\":\"UnionRenderers\"},{\"attributes\":{},\"id\":\"23588\",\"type\":\"Selection\"},{\"attributes\":{\"line_alpha\":0.1,\"line_color\":\"#1f77b4\",\"line_width\":4,\"x\":{\"field\":\"N\"},\"y\":{\"field\":\"optim_steps\"}},\"id\":\"23448\",\"type\":\"Line\"},{\"attributes\":{\"source\":{\"id\":\"23566\",\"type\":\"ColumnDataSource\"}},\"id\":\"23570\",\"type\":\"CDSView\"},{\"attributes\":{\"data_source\":{\"id\":\"23566\",\"type\":\"ColumnDataSource\"},\"glyph\":{\"id\":\"23567\",\"type\":\"Patch\"},\"hover_glyph\":null,\"muted_glyph\":null,\"nonselection_glyph\":{\"id\":\"23568\",\"type\":\"Patch\"},\"selection_glyph\":null,\"view\":{\"id\":\"23570\",\"type\":\"CDSView\"}},\"id\":\"23569\",\"type\":\"GlyphRenderer\"},{\"attributes\":{},\"id\":\"23468\",\"type\":\"Selection\"},{\"attributes\":{\"callback\":null,\"data\":{\"N\":[5,6,7,8,9,10,11,12,13,14,15,16],\"index\":[0,6,12,18,24,30,36,42,48,54,60,66],\"optim_steps\":{\"__ndarray__\":\"KmKpiKUCiEAtgU37yWaUQCouGYJ1PKdABLguTrytp0ArebNzaYm9QJ3if+lFZ85AojWv52eM0EBc1xhP6QvgQJx1wliUOP1AbkIiTy348kBqFFNr6Rb/QK+F8PQDmBhB\",\"dtype\":\"float64\",\"shape\":[12]},\"sampling_type\":[\"rank-bayes-\\u03b20.001-p0.5_det\",\"rank-bayes-\\u03b20.001-p0.5_det\",\"rank-bayes-\\u03b20.001-p0.5_det\",\"rank-bayes-\\u03b20.001-p0.5_det\",\"rank-bayes-\\u03b20.001-p0.5_det\",\"rank-bayes-\\u03b20.001-p0.5_det\",\"rank-bayes-\\u03b20.001-p0.5_det\",\"rank-bayes-\\u03b20.001-p0.5_det\",\"rank-bayes-\\u03b20.001-p0.5_det\",\"rank-bayes-\\u03b20.001-p0.5_det\",\"rank-bayes-\\u03b20.001-p0.5_det\",\"rank-bayes-\\u03b20.001-p0.5_det\"]},\"selected\":{\"id\":\"23468\",\"type\":\"Selection\"},\"selection_policy\":{\"id\":\"23469\",\"type\":\"UnionRenderers\"}},\"id\":\"23445\",\"type\":\"ColumnDataSource\"},{\"attributes\":{\"callback\":null,\"data\":{\"N\":[5,6,7,8,9,10,11,12,13,14,15,16],\"index\":[1,7,13,19,25,31,37,43,49,55,61,67],\"optim_steps\":{\"__ndarray__\":\"9xHcR3DPhEBimrvgrwSYQN5o6vza4qhA1y5Ncsy3s0AacNL2CybDQCNRauy5LdNADU2551sU5kCPku1cHsH8QLNrMhW7sghBLGPu25CEFUE1Q0bhpw0oQc1cdEKeEkFB\",\"dtype\":\"float64\",\"shape\":[12]},\"sampling_type\":[\"rank-bayes-\\u03b20.001-p0.5_stoch:0.05\",\"rank-bayes-\\u03b20.001-p0.5_stoch:0.05\",\"rank-bayes-\\u03b20.001-p0.5_stoch:0.05\",\"rank-bayes-\\u03b20.001-p0.5_stoch:0.05\",\"rank-bayes-\\u03b20.001-p0.5_stoch:0.05\",\"rank-bayes-\\u03b20.001-p0.5_stoch:0.05\",\"rank-bayes-\\u03b20.001-p0.5_stoch:0.05\",\"rank-bayes-\\u03b20.001-p0.5_stoch:0.05\",\"rank-bayes-\\u03b20.001-p0.5_stoch:0.05\",\"rank-bayes-\\u03b20.001-p0.5_stoch:0.05\",\"rank-bayes-\\u03b20.001-p0.5_stoch:0.05\",\"rank-bayes-\\u03b20.001-p0.5_stoch:0.05\"]},\"selected\":{\"id\":\"23500\",\"type\":\"Selection\"},\"selection_policy\":{\"id\":\"23501\",\"type\":\"UnionRenderers\"}},\"id\":\"23470\",\"type\":\"ColumnDataSource\"},{\"attributes\":{\"fill_alpha\":0.1,\"fill_color\":\"#1f77b4\",\"line_alpha\":0.1,\"line_color\":\"#1f77b4\",\"x\":{\"field\":\"x\"},\"y\":{\"field\":\"y\"}},\"id\":\"23568\",\"type\":\"Patch\"},{\"attributes\":{\"bottom_units\":\"screen\",\"fill_alpha\":{\"value\":0.5},\"fill_color\":{\"value\":\"lightgrey\"},\"left_units\":\"screen\",\"level\":\"overlay\",\"line_alpha\":{\"value\":1.0},\"line_color\":{\"value\":\"black\"},\"line_dash\":[4,4],\"line_width\":{\"value\":2},\"plot\":null,\"render_mode\":\"css\",\"right_units\":\"screen\",\"top_units\":\"screen\"},\"id\":\"23436\",\"type\":\"BoxAnnotation\"},{\"attributes\":{\"line_color\":\"#B02A8F\",\"line_width\":4,\"x\":{\"field\":\"N\"},\"y\":{\"field\":\"optim_steps\"}},\"id\":\"23504\",\"type\":\"Line\"},{\"attributes\":{\"callback\":null,\"data\":{\"N\":[5,6,7,8,9,10,11,12,13,14,15,16],\"index\":[3,9,15,21,27,33,39,45,51,57,63,69],\"optim_steps\":{\"__ndarray__\":\"dM3qMMqMjEBoMIQGQ0CbQN7d3d1du6dAJuAScMn/tEB9Q1Zs5XPNQDXipnKHQ9lAlhue+tv75EC9/IcRpa75QFr9CpDMnRFBSUG8pnrJIEEF6dmV0kwkQVc2fs/+wzVB\",\"dtype\":\"float64\",\"shape\":[12]},\"sampling_type\":[\"rank-bayes-\\u03b20.01-p0.5_stoch:0.05\",\"rank-bayes-\\u03b20.01-p0.5_stoch:0.05\",\"rank-bayes-\\u03b20.01-p0.5_stoch:0.05\",\"rank-bayes-\\u03b20.01-p0.5_stoch:0.05\",\"rank-bayes-\\u03b20.01-p0.5_stoch:0.05\",\"rank-bayes-\\u03b20.01-p0.5_stoch:0.05\",\"rank-bayes-\\u03b20.01-p0.5_stoch:0.05\",\"rank-bayes-\\u03b20.01-p0.5_stoch:0.05\",\"rank-bayes-\\u03b20.01-p0.5_stoch:0.05\",\"rank-bayes-\\u03b20.01-p0.5_stoch:0.05\",\"rank-bayes-\\u03b20.01-p0.5_stoch:0.05\",\"rank-bayes-\\u03b20.01-p0.5_stoch:0.05\"]},\"selected\":{\"id\":\"23588\",\"type\":\"Selection\"},\"selection_policy\":{\"id\":\"23589\",\"type\":\"UnionRenderers\"}},\"id\":\"23542\",\"type\":\"ColumnDataSource\"},{\"attributes\":{\"active_drag\":\"auto\",\"active_inspect\":\"auto\",\"active_multi\":null,\"active_scroll\":\"auto\",\"active_tap\":\"auto\",\"tools\":[{\"id\":\"23428\",\"type\":\"PanTool\"},{\"id\":\"23429\",\"type\":\"WheelZoomTool\"},{\"id\":\"23430\",\"type\":\"BoxZoomTool\"},{\"id\":\"23431\",\"type\":\"SaveTool\"},{\"id\":\"23432\",\"type\":\"ResetTool\"},{\"id\":\"23433\",\"type\":\"HelpTool\"}]},\"id\":\"23434\",\"type\":\"Toolbar\"},{\"attributes\":{},\"id\":\"23541\",\"type\":\"UnionRenderers\"},{\"attributes\":{},\"id\":\"23433\",\"type\":\"HelpTool\"},{\"attributes\":{},\"id\":\"23501\",\"type\":\"UnionRenderers\"},{\"attributes\":{},\"id\":\"23432\",\"type\":\"ResetTool\"},{\"attributes\":{},\"id\":\"23500\",\"type\":\"Selection\"},{\"attributes\":{},\"id\":\"23431\",\"type\":\"SaveTool\"},{\"attributes\":{\"source\":{\"id\":\"23486\",\"type\":\"ColumnDataSource\"}},\"id\":\"23490\",\"type\":\"CDSView\"},{\"attributes\":{\"fill_alpha\":0.3,\"fill_color\":\"#E06461\",\"line_alpha\":0.3,\"line_color\":\"#E06461\",\"x\":{\"field\":\"x\"},\"y\":{\"field\":\"y\"}},\"id\":\"23567\",\"type\":\"Patch\"},{\"attributes\":{\"overlay\":{\"id\":\"23436\",\"type\":\"BoxAnnotation\"}},\"id\":\"23430\",\"type\":\"BoxZoomTool\"},{\"attributes\":{\"callback\":null,\"data\":{\"x\":[5,6,7,8,9,10,11,12,13,14,15,16,16,15,14,13,12,11,10,9,8,7,6,5],\"y\":{\"__ndarray__\":\"C2M04PkXhEAWBZJViAeOQBvmzJA9FaFAXgEdPuI4pkACkp/I9MS4QEeHUPUxg8tAA9GHaFYS00C0AysU333hQNQHfyDoZOVAehDYAd2SCkEnm9UYIwkWQW4BqYujXydB9+sn2SvYP0F2BEmfE5UtQXR+Ag0+7ipB3QwDDn5HIEHQO31MLU8FQVUnfGBGN/BAY8BS9bpi4kD8Xi46qELXQJ0/F8Eh475AodXuKn5hrkAirx/xYL6jQO6b0EDNgJJA\",\"dtype\":\"float64\",\"shape\":[24]}},\"selected\":{\"id\":\"23615\",\"type\":\"Selection\"},\"selection_policy\":{\"id\":\"23616\",\"type\":\"UnionRenderers\"}},\"id\":\"23566\",\"type\":\"ColumnDataSource\"},{\"attributes\":{},\"id\":\"23429\",\"type\":\"WheelZoomTool\"},{\"attributes\":{},\"id\":\"23428\",\"type\":\"PanTool\"},{\"attributes\":{\"callback\":null,\"data\":{\"x\":[5,6,7,8,9,10,11,12,13,14,15,16,16,15,14,13,12,11,10,9,8,7,6,5],\"y\":{\"__ndarray__\":\"3tL6TpDhfkDVgaF2PraPQGKhDinSeplA6l9GA9EZqkBylOtL68q1QLXYsXnVscRAhcFCU/Bl2kDqvvL8gKnmQB+QyvY6ZvRAAWvwT/9oBEFp3DQpqdYRQf53D/gopSlBmtvkRvK7S0EbDPmW/ZczQWxI8gdRaiBBq8d/VyyZE0HU4rAdvhYHQVg50aW/9e5A7LX7G4kC3ED7Fa9HombLQLkt92KwYrpAhsCmciaEskDtORNDIBegQH+6OmgYLopA\",\"dtype\":\"float64\",\"shape\":[24]}},\"selected\":{\"id\":\"23519\",\"type\":\"Selection\"},\"selection_policy\":{\"id\":\"23520\",\"type\":\"UnionRenderers\"}},\"id\":\"23486\",\"type\":\"ColumnDataSource\"},{\"attributes\":{},\"id\":\"23675\",\"type\":\"Selection\"},{\"attributes\":{\"format\":\"00\"},\"id\":\"23443\",\"type\":\"NumeralTickFormatter\"},{\"attributes\":{\"label\":{\"value\":\"rank-bayes-\\u03b20.01-p0.5_stoch:0.05\"},\"renderers\":[{\"id\":\"23546\",\"type\":\"GlyphRenderer\"},{\"id\":\"23569\",\"type\":\"GlyphRenderer\"}]},\"id\":\"23565\",\"type\":\"LegendItem\"},{\"attributes\":{},\"id\":\"24386\",\"type\":\"UnionRenderers\"},{\"attributes\":{\"data_source\":{\"id\":\"23486\",\"type\":\"ColumnDataSource\"},\"glyph\":{\"id\":\"23487\",\"type\":\"Patch\"},\"hover_glyph\":null,\"muted_glyph\":null,\"nonselection_glyph\":{\"id\":\"23488\",\"type\":\"Patch\"},\"selection_glyph\":null,\"view\":{\"id\":\"23490\",\"type\":\"CDSView\"}},\"id\":\"23489\",\"type\":\"GlyphRenderer\"},{\"attributes\":{\"dimension\":1,\"plot\":{\"id\":\"23408\",\"subtype\":\"Figure\",\"type\":\"Plot\"},\"ticker\":{\"id\":\"23424\",\"type\":\"BasicTicker\"}},\"id\":\"23427\",\"type\":\"Grid\"},{\"attributes\":{},\"id\":\"23564\",\"type\":\"UnionRenderers\"},{\"attributes\":{\"fill_alpha\":0.3,\"fill_color\":\"#6A00A7\",\"line_alpha\":0.3,\"line_color\":\"#6A00A7\",\"x\":{\"field\":\"x\"},\"y\":{\"field\":\"y\"}},\"id\":\"23487\",\"type\":\"Patch\"},{\"attributes\":{},\"id\":\"23709\",\"type\":\"UnionRenderers\"},{\"attributes\":{},\"id\":\"23424\",\"type\":\"BasicTicker\"},{\"attributes\":{},\"id\":\"23563\",\"type\":\"Selection\"},{\"attributes\":{},\"id\":\"23708\",\"type\":\"Selection\"},{\"attributes\":{\"formatter\":{\"id\":\"23443\",\"type\":\"NumeralTickFormatter\"},\"plot\":{\"id\":\"23408\",\"subtype\":\"Figure\",\"type\":\"Plot\"},\"ticker\":{\"id\":\"23424\",\"type\":\"BasicTicker\"}},\"id\":\"23423\",\"type\":\"LinearAxis\"},{\"attributes\":{\"source\":{\"id\":\"23542\",\"type\":\"ColumnDataSource\"}},\"id\":\"23547\",\"type\":\"CDSView\"},{\"attributes\":{\"source\":{\"id\":\"23678\",\"type\":\"ColumnDataSource\"}},\"id\":\"23682\",\"type\":\"CDSView\"},{\"attributes\":{},\"id\":\"23540\",\"type\":\"Selection\"},{\"attributes\":{\"plot\":{\"id\":\"23408\",\"subtype\":\"Figure\",\"type\":\"Plot\"},\"ticker\":{\"id\":\"23419\",\"type\":\"BasicTicker\"}},\"id\":\"23422\",\"type\":\"Grid\"},{\"attributes\":{\"fill_alpha\":0.1,\"fill_color\":\"#1f77b4\",\"line_alpha\":0.1,\"line_color\":\"#1f77b4\",\"x\":{\"field\":\"x\"},\"y\":{\"field\":\"y\"}},\"id\":\"23488\",\"type\":\"Patch\"},{\"attributes\":{\"source\":{\"id\":\"23522\",\"type\":\"ColumnDataSource\"}},\"id\":\"23526\",\"type\":\"CDSView\"},{\"attributes\":{\"callback\":null,\"data\":{\"N\":[5,6,7,8,9,10,11,12,13,14,15,16],\"index\":[4,10,16,22,28,34,40,46,52,58,64,70],\"optim_steps\":{\"__ndarray__\":\"AAAAAADkfUDNzMzMzKKOQAAAAAAAoZ5AMzMzM7OJp0AAAAAAANK2QJqZmZm5mcBAZmZmZibfx0CamZmZ+d3RQM3MzMwkoONAzczMzMw88kDNzMzM1I/5QGZmZmZaSwZB\",\"dtype\":\"float64\",\"shape\":[12]},\"sampling_type\":[\"rank-td_det\",\"rank-td_det\",\"rank-td_det\",\"rank-td_det\",\"rank-td_det\",\"rank-td_det\",\"rank-td_det\",\"rank-td_det\",\"rank-td_det\",\"rank-td_det\",\"rank-td_det\",\"rank-td_det\"]},\"selected\":{\"id\":\"23644\",\"type\":\"Selection\"},\"selection_policy\":{\"id\":\"23645\",\"type\":\"UnionRenderers\"}},\"id\":\"23590\",\"type\":\"ColumnDataSource\"},{\"attributes\":{},\"id\":\"23419\",\"type\":\"BasicTicker\"},{\"attributes\":{},\"id\":\"23676\",\"type\":\"UnionRenderers\"},{\"attributes\":{\"formatter\":{\"id\":\"23452\",\"type\":\"BasicTickFormatter\"},\"plot\":{\"id\":\"23408\",\"subtype\":\"Figure\",\"type\":\"Plot\"},\"ticker\":{\"id\":\"23419\",\"type\":\"BasicTicker\"}},\"id\":\"23418\",\"type\":\"LinearAxis\"},{\"attributes\":{\"callback\":null,\"data\":{\"x\":[5,6,7,8,9,10,11,12,13,14,15,16,16,15,14,13,12,11,10,9,8,7,6,5],\"y\":{\"__ndarray__\":\"1XRyy8hAd0BPmJhYcn2AQPxLVALZy4ZAW3kKvn51oUCLNFNNbuG1QIYPsybPlbxAOJEdoPKXuUDQXoz60RXFQDzIRIPvS+NAsoGN7mgxA0HGZHf65A0RQR8DGnY0/yBBOH95oopSQ0E0jcinaGEzQSc/uYglwhtBxjNk3HCdFkFZp+HzaDD8QLrzyqKlOPJAdQSQgTyz4ECq/3c5UdzTQHYuSh1txcFATkOCrFFsskByTU1t4KCbQGKSE2doyIxA\",\"dtype\":\"float64\",\"shape\":[24]}},\"selected\":{\"id\":\"24385\",\"type\":\"Selection\"},\"selection_policy\":{\"id\":\"24386\",\"type\":\"UnionRenderers\"}},\"id\":\"23678\",\"type\":\"ColumnDataSource\"},{\"attributes\":{},\"id\":\"23416\",\"type\":\"LinearScale\"},{\"attributes\":{\"label\":{\"value\":\"rank-bayes-\\u03b20.001-p0.5_stoch:0.05\"},\"renderers\":[{\"id\":\"23474\",\"type\":\"GlyphRenderer\"},{\"id\":\"23489\",\"type\":\"GlyphRenderer\"}]},\"id\":\"23485\",\"type\":\"LegendItem\"},{\"attributes\":{\"callback\":null,\"data\":{\"x\":[5,6,7,8,9,10,11,12,13,14,15,16,16,15,14,13,12,11,10,9,8,7,6,5],\"y\":{\"__ndarray__\":\"gJXGXHPQe0CiWj949CaMQKxDN+rinZZAq7mi3Ao9pkDIG7Y9wQCSQJMuiUVcibhAgKB/O3OFxECxWIv7hnPOQOwAi/zt2MpAmLUahs3O7UCCXTAM+LP5QKTKn9oLMQxBRmqNKBEfFkHXJNjs8hsIQRieRCNbcfRArpn3O0gH+UCgp4FUy8XYQOiyIk1gw+BAqH6azmeJz0BUSH0Ebv3XQBwmt8YTkLhAPOKZGYtqqkBxnS/xMcWaQJN1mJQL45RA\",\"dtype\":\"float64\",\"shape\":[24]}},\"selected\":{\"id\":\"23563\",\"type\":\"Selection\"},\"selection_policy\":{\"id\":\"23564\",\"type\":\"UnionRenderers\"}},\"id\":\"23522\",\"type\":\"ColumnDataSource\"},{\"attributes\":{},\"id\":\"23414\",\"type\":\"LinearScale\"},{\"attributes\":{},\"id\":\"23484\",\"type\":\"UnionRenderers\"},{\"attributes\":{\"callback\":null},\"id\":\"23412\",\"type\":\"DataRange1d\"},{\"attributes\":{},\"id\":\"23483\",\"type\":\"Selection\"},{\"attributes\":{\"data_source\":{\"id\":\"23678\",\"type\":\"ColumnDataSource\"},\"glyph\":{\"id\":\"23679\",\"type\":\"Patch\"},\"hover_glyph\":null,\"muted_glyph\":null,\"nonselection_glyph\":{\"id\":\"23680\",\"type\":\"Patch\"},\"selection_glyph\":null,\"view\":{\"id\":\"23682\",\"type\":\"CDSView\"}},\"id\":\"23681\",\"type\":\"GlyphRenderer\"},{\"attributes\":{\"callback\":null},\"id\":\"23410\",\"type\":\"DataRange1d\"},{\"attributes\":{\"source\":{\"id\":\"23470\",\"type\":\"ColumnDataSource\"}},\"id\":\"23475\",\"type\":\"CDSView\"},{\"attributes\":{\"data_source\":{\"id\":\"23522\",\"type\":\"ColumnDataSource\"},\"glyph\":{\"id\":\"23523\",\"type\":\"Patch\"},\"hover_glyph\":null,\"muted_glyph\":null,\"nonselection_glyph\":{\"id\":\"23524\",\"type\":\"Patch\"},\"selection_glyph\":null,\"view\":{\"id\":\"23526\",\"type\":\"CDSView\"}},\"id\":\"23525\",\"type\":\"GlyphRenderer\"},{\"attributes\":{\"fill_alpha\":0.3,\"fill_color\":\"#EFF821\",\"line_alpha\":0.3,\"line_color\":\"#EFF821\",\"x\":{\"field\":\"x\"},\"y\":{\"field\":\"y\"}},\"id\":\"23679\",\"type\":\"Patch\"},{\"attributes\":{\"data_source\":{\"id\":\"23470\",\"type\":\"ColumnDataSource\"},\"glyph\":{\"id\":\"23472\",\"type\":\"Line\"},\"hover_glyph\":null,\"muted_glyph\":null,\"nonselection_glyph\":{\"id\":\"23473\",\"type\":\"Line\"},\"selection_glyph\":null,\"view\":{\"id\":\"23475\",\"type\":\"CDSView\"}},\"id\":\"23474\",\"type\":\"GlyphRenderer\"},{\"attributes\":{\"source\":{\"id\":\"23646\",\"type\":\"ColumnDataSource\"}},\"id\":\"23651\",\"type\":\"CDSView\"},{\"attributes\":{\"plot\":null,\"text\":\"Plot\"},\"id\":\"23407\",\"type\":\"Title\"},{\"attributes\":{\"fill_alpha\":0.3,\"fill_color\":\"#B02A8F\",\"line_alpha\":0.3,\"line_color\":\"#B02A8F\",\"x\":{\"field\":\"x\"},\"y\":{\"field\":\"y\"}},\"id\":\"23523\",\"type\":\"Patch\"},{\"attributes\":{\"line_color\":\"#E06461\",\"line_width\":4,\"x\":{\"field\":\"N\"},\"y\":{\"field\":\"optim_steps\"}},\"id\":\"23544\",\"type\":\"Line\"},{\"attributes\":{\"fill_alpha\":0.3,\"fill_color\":\"#0C0786\",\"line_alpha\":0.3,\"line_color\":\"#0C0786\",\"x\":{\"field\":\"x\"},\"y\":{\"field\":\"y\"}},\"id\":\"23459\",\"type\":\"Patch\"},{\"attributes\":{\"line_color\":\"#6A00A7\",\"line_width\":4,\"x\":{\"field\":\"N\"},\"y\":{\"field\":\"optim_steps\"}},\"id\":\"23472\",\"type\":\"Line\"},{\"attributes\":{\"fill_alpha\":0.1,\"fill_color\":\"#1f77b4\",\"line_alpha\":0.1,\"line_color\":\"#1f77b4\",\"x\":{\"field\":\"x\"},\"y\":{\"field\":\"y\"}},\"id\":\"23680\",\"type\":\"Patch\"},{\"attributes\":{\"data_source\":{\"id\":\"23646\",\"type\":\"ColumnDataSource\"},\"glyph\":{\"id\":\"23648\",\"type\":\"Line\"},\"hover_glyph\":null,\"muted_glyph\":null,\"nonselection_glyph\":{\"id\":\"23649\",\"type\":\"Line\"},\"selection_glyph\":null,\"view\":{\"id\":\"23651\",\"type\":\"CDSView\"}},\"id\":\"23650\",\"type\":\"GlyphRenderer\"},{\"attributes\":{\"line_alpha\":0.1,\"line_color\":\"#1f77b4\",\"line_width\":4,\"x\":{\"field\":\"N\"},\"y\":{\"field\":\"optim_steps\"}},\"id\":\"23545\",\"type\":\"Line\"},{\"attributes\":{\"fill_alpha\":0.1,\"fill_color\":\"#1f77b4\",\"line_alpha\":0.1,\"line_color\":\"#1f77b4\",\"x\":{\"field\":\"x\"},\"y\":{\"field\":\"y\"}},\"id\":\"23524\",\"type\":\"Patch\"},{\"attributes\":{\"data_source\":{\"id\":\"23542\",\"type\":\"ColumnDataSource\"},\"glyph\":{\"id\":\"23544\",\"type\":\"Line\"},\"hover_glyph\":null,\"muted_glyph\":null,\"nonselection_glyph\":{\"id\":\"23545\",\"type\":\"Line\"},\"selection_glyph\":null,\"view\":{\"id\":\"23547\",\"type\":\"CDSView\"}},\"id\":\"23546\",\"type\":\"GlyphRenderer\"},{\"attributes\":{\"label\":{\"value\":\"rank-bayes-\\u03b20.01-p0.5_det\"},\"renderers\":[{\"id\":\"23506\",\"type\":\"GlyphRenderer\"},{\"id\":\"23525\",\"type\":\"GlyphRenderer\"}]},\"id\":\"23521\",\"type\":\"LegendItem\"},{\"attributes\":{},\"id\":\"23469\",\"type\":\"UnionRenderers\"},{\"attributes\":{},\"id\":\"23520\",\"type\":\"UnionRenderers\"},{\"attributes\":{\"source\":{\"id\":\"23618\",\"type\":\"ColumnDataSource\"}},\"id\":\"23622\",\"type\":\"CDSView\"},{\"attributes\":{},\"id\":\"23519\",\"type\":\"Selection\"},{\"attributes\":{\"source\":{\"id\":\"23502\",\"type\":\"ColumnDataSource\"}},\"id\":\"23507\",\"type\":\"CDSView\"},{\"attributes\":{\"data_source\":{\"id\":\"23502\",\"type\":\"ColumnDataSource\"},\"glyph\":{\"id\":\"23504\",\"type\":\"Line\"},\"hover_glyph\":null,\"muted_glyph\":null,\"nonselection_glyph\":{\"id\":\"23505\",\"type\":\"Line\"},\"selection_glyph\":null,\"view\":{\"id\":\"23507\",\"type\":\"CDSView\"}},\"id\":\"23506\",\"type\":\"GlyphRenderer\"},{\"attributes\":{\"label\":{\"value\":\"rank-td_stoch:0.05\"},\"renderers\":[{\"id\":\"23650\",\"type\":\"GlyphRenderer\"},{\"id\":\"23681\",\"type\":\"GlyphRenderer\"}]},\"id\":\"23677\",\"type\":\"LegendItem\"},{\"attributes\":{\"line_alpha\":0.1,\"line_color\":\"#1f77b4\",\"line_width\":4,\"x\":{\"field\":\"N\"},\"y\":{\"field\":\"optim_steps\"}},\"id\":\"23505\",\"type\":\"Line\"},{\"attributes\":{},\"id\":\"23644\",\"type\":\"Selection\"},{\"attributes\":{\"line_alpha\":0.1,\"line_color\":\"#1f77b4\",\"line_width\":4,\"x\":{\"field\":\"N\"},\"y\":{\"field\":\"optim_steps\"}},\"id\":\"23473\",\"type\":\"Line\"},{\"attributes\":{},\"id\":\"23645\",\"type\":\"UnionRenderers\"},{\"attributes\":{\"callback\":null,\"data\":{\"x\":[5,6,7,8,9,10,11,12,13,14,15,16,16,15,14,13,12,11,10,9,8,7,6,5],\"y\":{\"__ndarray__\":\"jG23Nbr0gUAViwOG2uqLQHSzM53NE5JAsiJl9Q02oUBePfPKibqsQIUt45vxR75AsNTXxFVsvECYAgd9tITIQCAa1nOjutdAxkA/+qU+6EBmbO0PMif7QGx9RYY2uPhAAtYnJP2AJUE3XlxjUIMBQXnkJKEH0flAWLJH6j9BCkES7u9+pfbpQBh2KF66/dlAPBeHgknV1kDUqfYAx1rGQFZN+KZqJa5ATUHMGoK3skDQPJmzJtiaQMhWm9uQEI5A\",\"dtype\":\"float64\",\"shape\":[24]}},\"selected\":{\"id\":\"23483\",\"type\":\"Selection\"},\"selection_policy\":{\"id\":\"23484\",\"type\":\"UnionRenderers\"}},\"id\":\"23458\",\"type\":\"ColumnDataSource\"}],\"root_ids\":[\"23408\"]},\"title\":\"Bokeh Application\",\"version\":\"1.0.1\"}};\n",
       "  var render_items = [{\"docid\":\"964d9856-1c44-47db-876f-fc80d1c8f102\",\"roots\":{\"23408\":\"cacaa583-85a7-4b23-900a-76e2c2881fd9\"}}];\n",
       "  root.Bokeh.embed.embed_items_notebook(docs_json, render_items);\n",
       "\n",
       "  }\n",
       "  if (root.Bokeh !== undefined) {\n",
       "    embed_document(root);\n",
       "  } else {\n",
       "    var attempts = 0;\n",
       "    var timer = setInterval(function(root) {\n",
       "      if (root.Bokeh !== undefined) {\n",
       "        embed_document(root);\n",
       "        clearInterval(timer);\n",
       "      }\n",
       "      attempts++;\n",
       "      if (attempts > 100) {\n",
       "        console.log(\"Bokeh: ERROR: Unable to run BokehJS code because BokehJS library is missing\");\n",
       "        clearInterval(timer);\n",
       "      }\n",
       "    }, 10, root)\n",
       "  }\n",
       "})(window);"
      ],
      "application/vnd.bokehjs_exec.v0+json": ""
     },
     "metadata": {
      "application/vnd.bokehjs_exec.v0+json": {
       "id": "23408"
      }
     },
     "output_type": "display_data"
    }
   ],
   "source": [
    "show(lineplot(df3, 'N', 'optim_steps', 'sampling_type', y_axis_format='00'))"
   ]
  },
  {
   "cell_type": "code",
   "execution_count": 77,
   "metadata": {},
   "outputs": [
    {
     "data": {
      "text/plain": [
       "array([ 7,  8,  3,  4,  2,  0,  5,  1,  6, 15, 16, 11, 17, 18, 12, 10, 13,\n",
       "        9, 14])"
      ]
     },
     "execution_count": 77,
     "metadata": {},
     "output_type": "execute_result"
    }
   ],
   "source": [
    "df2.loc[(df2['sampling_type'] == 'rank-bayes-β0.001-p0.5_stoch:0.05') & (df2['N'] == 15)]['trial'].unique()"
   ]
  },
  {
   "cell_type": "markdown",
   "metadata": {},
   "source": [
    "## Anchored Priors"
   ]
  },
  {
   "cell_type": "code",
   "execution_count": 78,
   "metadata": {},
   "outputs": [],
   "source": [
    "df2 = get_data('stochastic_rank_anchored', [\n",
    "    '2018Dec10-115611',\n",
    "    '2018Dec10-115620'\n",
    "])\n",
    "df3 = monkey_patch(df2, df1, col='sampling_type', vals=['rank-td_stoch:0.05', 'rank-td_det'])"
   ]
  },
  {
   "cell_type": "code",
   "execution_count": 79,
   "metadata": {},
   "outputs": [
    {
     "data": {
      "text/html": [
       "\n",
       "\n",
       "\n",
       "\n",
       "\n",
       "\n",
       "  <div class=\"bk-root\" id=\"a8b0cc18-4906-4e5a-b98f-ee764a20ea67\"></div>\n"
      ]
     },
     "metadata": {},
     "output_type": "display_data"
    },
    {
     "data": {
      "application/javascript": [
       "(function(root) {\n",
       "  function embed_document(root) {\n",
       "    \n",
       "  var docs_json = {\"d1b6b5a1-458d-43a8-b202-e48619e63b6a\":{\"roots\":{\"references\":[{\"attributes\":{\"below\":[{\"id\":\"24572\",\"type\":\"LinearAxis\"}],\"left\":[{\"id\":\"24577\",\"type\":\"LinearAxis\"}],\"plot_height\":500,\"plot_width\":950,\"renderers\":[{\"id\":\"24572\",\"type\":\"LinearAxis\"},{\"id\":\"24576\",\"type\":\"Grid\"},{\"id\":\"24577\",\"type\":\"LinearAxis\"},{\"id\":\"24581\",\"type\":\"Grid\"},{\"id\":\"24590\",\"type\":\"BoxAnnotation\"},{\"id\":\"24610\",\"type\":\"Legend\"},{\"id\":\"24603\",\"type\":\"GlyphRenderer\"},{\"id\":\"24615\",\"type\":\"GlyphRenderer\"},{\"id\":\"24628\",\"type\":\"GlyphRenderer\"},{\"id\":\"24643\",\"type\":\"GlyphRenderer\"},{\"id\":\"24660\",\"type\":\"GlyphRenderer\"},{\"id\":\"24679\",\"type\":\"GlyphRenderer\"},{\"id\":\"24700\",\"type\":\"GlyphRenderer\"},{\"id\":\"24723\",\"type\":\"GlyphRenderer\"},{\"id\":\"24748\",\"type\":\"GlyphRenderer\"},{\"id\":\"24775\",\"type\":\"GlyphRenderer\"},{\"id\":\"24804\",\"type\":\"GlyphRenderer\"},{\"id\":\"24835\",\"type\":\"GlyphRenderer\"}],\"title\":{\"id\":\"24561\",\"type\":\"Title\"},\"toolbar\":{\"id\":\"24588\",\"type\":\"Toolbar\"},\"x_range\":{\"id\":\"24564\",\"type\":\"DataRange1d\"},\"x_scale\":{\"id\":\"24568\",\"type\":\"LinearScale\"},\"y_range\":{\"id\":\"24566\",\"type\":\"DataRange1d\"},\"y_scale\":{\"id\":\"24570\",\"type\":\"LinearScale\"}},\"id\":\"24562\",\"subtype\":\"Figure\",\"type\":\"Plot\"},{\"attributes\":{},\"id\":\"24674\",\"type\":\"UnionRenderers\"},{\"attributes\":{\"data_source\":{\"id\":\"24800\",\"type\":\"ColumnDataSource\"},\"glyph\":{\"id\":\"24802\",\"type\":\"Line\"},\"hover_glyph\":null,\"muted_glyph\":null,\"nonselection_glyph\":{\"id\":\"24803\",\"type\":\"Line\"},\"selection_glyph\":null,\"view\":{\"id\":\"24805\",\"type\":\"CDSView\"}},\"id\":\"24804\",\"type\":\"GlyphRenderer\"},{\"attributes\":{\"label\":{\"value\":\"rank-bayes-\\u03b20.01-p0.5_det\"},\"renderers\":[{\"id\":\"24660\",\"type\":\"GlyphRenderer\"},{\"id\":\"24679\",\"type\":\"GlyphRenderer\"}]},\"id\":\"24675\",\"type\":\"LegendItem\"},{\"attributes\":{\"line_color\":\"#6A00A7\",\"line_width\":4,\"x\":{\"field\":\"N\"},\"y\":{\"field\":\"optim_steps\"}},\"id\":\"24626\",\"type\":\"Line\"},{\"attributes\":{},\"id\":\"25568\",\"type\":\"Selection\"},{\"attributes\":{\"callback\":null,\"data\":{\"N\":[5,6,7,8,9,10,11,12,13,14,15,16],\"index\":[2,8,14,20,26,32,38,44,50,56,62,68],\"optim_steps\":{\"__ndarray__\":\"+RMJpzRXiUDtStSuRFGeQDVfq2eHhq1AK75ppOzzxEBLp8XSaSbLQEB0vrprSeJAxOk1XuMc8UBuH5qtq1QCQTaJHMabDhJBlqUKpfYkIEEnFvduODYzQa7QxrJapS1B\",\"dtype\":\"float64\",\"shape\":[12]},\"sampling_type\":[\"rank-bayes-\\u03b20.01-p0.5_det\",\"rank-bayes-\\u03b20.01-p0.5_det\",\"rank-bayes-\\u03b20.01-p0.5_det\",\"rank-bayes-\\u03b20.01-p0.5_det\",\"rank-bayes-\\u03b20.01-p0.5_det\",\"rank-bayes-\\u03b20.01-p0.5_det\",\"rank-bayes-\\u03b20.01-p0.5_det\",\"rank-bayes-\\u03b20.01-p0.5_det\",\"rank-bayes-\\u03b20.01-p0.5_det\",\"rank-bayes-\\u03b20.01-p0.5_det\",\"rank-bayes-\\u03b20.01-p0.5_det\",\"rank-bayes-\\u03b20.01-p0.5_det\"]},\"selected\":{\"id\":\"24694\",\"type\":\"Selection\"},\"selection_policy\":{\"id\":\"24695\",\"type\":\"UnionRenderers\"}},\"id\":\"24656\",\"type\":\"ColumnDataSource\"},{\"attributes\":{\"fill_alpha\":0.1,\"fill_color\":\"#1f77b4\",\"line_alpha\":0.1,\"line_color\":\"#1f77b4\",\"x\":{\"field\":\"x\"},\"y\":{\"field\":\"y\"}},\"id\":\"24678\",\"type\":\"Patch\"},{\"attributes\":{\"line_alpha\":0.1,\"line_color\":\"#1f77b4\",\"line_width\":4,\"x\":{\"field\":\"N\"},\"y\":{\"field\":\"optim_steps\"}},\"id\":\"24803\",\"type\":\"Line\"},{\"attributes\":{\"callback\":null,\"data\":{\"x\":[5,6,7,8,9,10,11,12,13,14,15,16,16,15,14,13,12,11,10,9,8,7,6,5],\"y\":{\"__ndarray__\":\"QDny2ONIg0BXMK1OPOOOQLZwdmCq5KFAKPyWv+EksECBOiZ17jG5QJBcGTDvaNBAtAfQ1NI130DQ3j1TdPnrQCy/aa8ey/VAwKS9hIuhDkFqjs3hWasQQeMSQM9yeyRBPMcmS6FnM0FaZL0yzSBBQfzh5WiKoShBoaJe4G+qHkEox2RG+qoNQZvRNwdSbPpAODpw3V9e7ECrGHw17tnUQCH/gzS06tBA2iZwNzKUtEDX/iibdZimQLLuH3WFZY9A\",\"dtype\":\"float64\",\"shape\":[24]}},\"selected\":{\"id\":\"24717\",\"type\":\"Selection\"},\"selection_policy\":{\"id\":\"24718\",\"type\":\"UnionRenderers\"}},\"id\":\"24676\",\"type\":\"ColumnDataSource\"},{\"attributes\":{\"callback\":null,\"data\":{\"N\":[5,6,7,8,9,10,11,12,13,14,15,16],\"index\":[4,10,16,22,28,34,40,46,52,58,64,70],\"optim_steps\":{\"__ndarray__\":\"AAAAAADkfUDNzMzMzKKOQAAAAAAAoZ5AMzMzM7OJp0AAAAAAANK2QJqZmZm5mcBAZmZmZibfx0CamZmZ+d3RQM3MzMwkoONAzczMzMw88kDNzMzM1I/5QGZmZmZaSwZB\",\"dtype\":\"float64\",\"shape\":[12]},\"sampling_type\":[\"rank-td_det\",\"rank-td_det\",\"rank-td_det\",\"rank-td_det\",\"rank-td_det\",\"rank-td_det\",\"rank-td_det\",\"rank-td_det\",\"rank-td_det\",\"rank-td_det\",\"rank-td_det\",\"rank-td_det\"]},\"selected\":{\"id\":\"24798\",\"type\":\"Selection\"},\"selection_policy\":{\"id\":\"24799\",\"type\":\"UnionRenderers\"}},\"id\":\"24744\",\"type\":\"ColumnDataSource\"},{\"attributes\":{},\"id\":\"25569\",\"type\":\"UnionRenderers\"},{\"attributes\":{},\"id\":\"24623\",\"type\":\"UnionRenderers\"},{\"attributes\":{},\"id\":\"24673\",\"type\":\"Selection\"},{\"attributes\":{\"fill_alpha\":0.3,\"fill_color\":\"#EFF821\",\"line_alpha\":0.3,\"line_color\":\"#EFF821\",\"x\":{\"field\":\"x\"},\"y\":{\"field\":\"y\"}},\"id\":\"24833\",\"type\":\"Patch\"},{\"attributes\":{},\"id\":\"24622\",\"type\":\"Selection\"},{\"attributes\":{\"source\":{\"id\":\"24656\",\"type\":\"ColumnDataSource\"}},\"id\":\"24661\",\"type\":\"CDSView\"},{\"attributes\":{\"fill_alpha\":0.1,\"fill_color\":\"#1f77b4\",\"line_alpha\":0.1,\"line_color\":\"#1f77b4\",\"x\":{\"field\":\"x\"},\"y\":{\"field\":\"y\"}},\"id\":\"24834\",\"type\":\"Patch\"},{\"attributes\":{\"source\":{\"id\":\"24612\",\"type\":\"ColumnDataSource\"}},\"id\":\"24616\",\"type\":\"CDSView\"},{\"attributes\":{\"data_source\":{\"id\":\"24656\",\"type\":\"ColumnDataSource\"},\"glyph\":{\"id\":\"24658\",\"type\":\"Line\"},\"hover_glyph\":null,\"muted_glyph\":null,\"nonselection_glyph\":{\"id\":\"24659\",\"type\":\"Line\"},\"selection_glyph\":null,\"view\":{\"id\":\"24661\",\"type\":\"CDSView\"}},\"id\":\"24660\",\"type\":\"GlyphRenderer\"},{\"attributes\":{\"label\":{\"value\":\"rank-td_stoch:0.05\"},\"renderers\":[{\"id\":\"24804\",\"type\":\"GlyphRenderer\"},{\"id\":\"24835\",\"type\":\"GlyphRenderer\"}]},\"id\":\"24831\",\"type\":\"LegendItem\"},{\"attributes\":{\"data_source\":{\"id\":\"24612\",\"type\":\"ColumnDataSource\"},\"glyph\":{\"id\":\"24613\",\"type\":\"Patch\"},\"hover_glyph\":null,\"muted_glyph\":null,\"nonselection_glyph\":{\"id\":\"24614\",\"type\":\"Patch\"},\"selection_glyph\":null,\"view\":{\"id\":\"24616\",\"type\":\"CDSView\"}},\"id\":\"24615\",\"type\":\"GlyphRenderer\"},{\"attributes\":{\"data_source\":{\"id\":\"24676\",\"type\":\"ColumnDataSource\"},\"glyph\":{\"id\":\"24677\",\"type\":\"Patch\"},\"hover_glyph\":null,\"muted_glyph\":null,\"nonselection_glyph\":{\"id\":\"24678\",\"type\":\"Patch\"},\"selection_glyph\":null,\"view\":{\"id\":\"24680\",\"type\":\"CDSView\"}},\"id\":\"24679\",\"type\":\"GlyphRenderer\"},{\"attributes\":{},\"id\":\"24829\",\"type\":\"Selection\"},{\"attributes\":{\"line_color\":\"#B02A8F\",\"line_width\":4,\"x\":{\"field\":\"N\"},\"y\":{\"field\":\"optim_steps\"}},\"id\":\"24658\",\"type\":\"Line\"},{\"attributes\":{\"source\":{\"id\":\"24800\",\"type\":\"ColumnDataSource\"}},\"id\":\"24805\",\"type\":\"CDSView\"},{\"attributes\":{},\"id\":\"24799\",\"type\":\"UnionRenderers\"},{\"attributes\":{},\"id\":\"24798\",\"type\":\"Selection\"},{\"attributes\":{\"line_alpha\":0.1,\"line_color\":\"#1f77b4\",\"line_width\":4,\"x\":{\"field\":\"N\"},\"y\":{\"field\":\"optim_steps\"}},\"id\":\"24659\",\"type\":\"Line\"},{\"attributes\":{\"source\":{\"id\":\"24772\",\"type\":\"ColumnDataSource\"}},\"id\":\"24776\",\"type\":\"CDSView\"},{\"attributes\":{\"callback\":null,\"data\":{\"N\":[5,6,7,8,9,10,11,12,13,14,15,16],\"index\":[3,9,15,21,27,33,39,45,51,57,63,69],\"optim_steps\":{\"__ndarray__\":\"KfEzSvxQikAlSZIkyfigQESanbEpQ61A0YlYXWmlvEAqv8flzkXKQAehk4w6jdxAXqFrN3bE6UCTLAA+eewAQWaxhCxRMRVB/SK1eBRoIUFn4unqxUooQf4aBzVrzzZB\",\"dtype\":\"float64\",\"shape\":[12]},\"sampling_type\":[\"rank-bayes-\\u03b20.01-p0.5_stoch:0.05\",\"rank-bayes-\\u03b20.01-p0.5_stoch:0.05\",\"rank-bayes-\\u03b20.01-p0.5_stoch:0.05\",\"rank-bayes-\\u03b20.01-p0.5_stoch:0.05\",\"rank-bayes-\\u03b20.01-p0.5_stoch:0.05\",\"rank-bayes-\\u03b20.01-p0.5_stoch:0.05\",\"rank-bayes-\\u03b20.01-p0.5_stoch:0.05\",\"rank-bayes-\\u03b20.01-p0.5_stoch:0.05\",\"rank-bayes-\\u03b20.01-p0.5_stoch:0.05\",\"rank-bayes-\\u03b20.01-p0.5_stoch:0.05\",\"rank-bayes-\\u03b20.01-p0.5_stoch:0.05\",\"rank-bayes-\\u03b20.01-p0.5_stoch:0.05\"]},\"selected\":{\"id\":\"24742\",\"type\":\"Selection\"},\"selection_policy\":{\"id\":\"24743\",\"type\":\"UnionRenderers\"}},\"id\":\"24696\",\"type\":\"ColumnDataSource\"},{\"attributes\":{\"line_color\":\"#E06461\",\"line_width\":4,\"x\":{\"field\":\"N\"},\"y\":{\"field\":\"optim_steps\"}},\"id\":\"24698\",\"type\":\"Line\"},{\"attributes\":{\"callback\":null,\"data\":{\"x\":[5,6,7,8,9,10,11,12,13,14,15,16,16,15,14,13,12,11,10,9,8,7,6,5],\"y\":{\"__ndarray__\":\"oOrf6owzcUBcawfdLmCBQEb1pWhYloxAfLtJFGaajkBAebNcPaGTQJDnyWeRNYZA4GV8peXhusC+qqiL9KC7QJh/vqNaGrrA4JRLBwHZpMC0G6k2sKPpQJjocJSjvANBNORbOBHaCEHghSK/6CYDQSD76dAwkAJBxrQId8pB9UCECEkQttPcQN5/xc+fl95Au5S2HBrQz0DYkGlU2F3EQMT7qXBmtrNAroLW5Wl7p0AfF0letfKVQLAKkIo5SoVA\",\"dtype\":\"float64\",\"shape\":[24]}},\"selected\":{\"id\":\"24829\",\"type\":\"Selection\"},\"selection_policy\":{\"id\":\"24830\",\"type\":\"UnionRenderers\"}},\"id\":\"24772\",\"type\":\"ColumnDataSource\"},{\"attributes\":{},\"id\":\"24655\",\"type\":\"UnionRenderers\"},{\"attributes\":{},\"id\":\"24695\",\"type\":\"UnionRenderers\"},{\"attributes\":{\"callback\":null,\"data\":{\"x\":[5,6,7,8,9,10,11,12,13,14,15,16,16,15,14,13,12,11,10,9,8,7,6,5],\"y\":{\"__ndarray__\":\"1hev1h5bgEDLvgRDBSiQQOjjP1ZsKqBAlpFma4gFskC5eweddsW7QETm0RmVytBAAfYhTqnR3EB8gbBKnUnmQMFo6FGG7fxA5Gzec1MOBEGcB9d6mEwfQUrpeHjM8CZBsIP6e34IQ0FH959CcVMzQfaGb7REuiVBtqi7goD3FkFiFZmOgA4RQdcc957KhPNA9FOJhawl50BfYFW70pbRQJn48Hj4IMdAKz9UANirsEAhrFM3DJefQA7/V437iZdA\",\"dtype\":\"float64\",\"shape\":[24]}},\"selected\":{\"id\":\"24637\",\"type\":\"Selection\"},\"selection_policy\":{\"id\":\"24638\",\"type\":\"UnionRenderers\"}},\"id\":\"24612\",\"type\":\"ColumnDataSource\"},{\"attributes\":{},\"id\":\"24654\",\"type\":\"Selection\"},{\"attributes\":{\"source\":{\"id\":\"24640\",\"type\":\"ColumnDataSource\"}},\"id\":\"24644\",\"type\":\"CDSView\"},{\"attributes\":{\"fill_alpha\":0.3,\"fill_color\":\"#0C0786\",\"line_alpha\":0.3,\"line_color\":\"#0C0786\",\"x\":{\"field\":\"x\"},\"y\":{\"field\":\"y\"}},\"id\":\"24613\",\"type\":\"Patch\"},{\"attributes\":{\"data_source\":{\"id\":\"24772\",\"type\":\"ColumnDataSource\"},\"glyph\":{\"id\":\"24773\",\"type\":\"Patch\"},\"hover_glyph\":null,\"muted_glyph\":null,\"nonselection_glyph\":{\"id\":\"24774\",\"type\":\"Patch\"},\"selection_glyph\":null,\"view\":{\"id\":\"24776\",\"type\":\"CDSView\"}},\"id\":\"24775\",\"type\":\"GlyphRenderer\"},{\"attributes\":{\"label\":{\"value\":\"rank-bayes-\\u03b20.001-p0.5_det\"},\"renderers\":[{\"id\":\"24603\",\"type\":\"GlyphRenderer\"},{\"id\":\"24615\",\"type\":\"GlyphRenderer\"}]},\"id\":\"24611\",\"type\":\"LegendItem\"},{\"attributes\":{\"callback\":null,\"data\":{\"x\":[5,6,7,8,9,10,11,12,13,14,15,16,16,15,14,13,12,11,10,9,8,7,6,5],\"y\":{\"__ndarray__\":\"BIcydpaFgUDO56yH/AiVQJwYAAjFHZpA4zW8fgCmskAktvMUCY68QPB6xMdoDdBA9H2S2kju4UBNsVSi4oTwQFyyjj+ETQBBmP1kFeVoDkGc8lURXjIeQXwGPMfufy1B2dzXCRwhQUG9++FXizEzQeqlfNhxCyxBEiqB+EuWFEHnKYAFl/IQQYRtrtfzFfZAgxMo02wC4UCwoopsDcDPQFqzr3VNg8lAF1Hy0N80uEAHoVZYgxylQIXYD98WrZBA\",\"dtype\":\"float64\",\"shape\":[24]}},\"selected\":{\"id\":\"24673\",\"type\":\"Selection\"},\"selection_policy\":{\"id\":\"24674\",\"type\":\"UnionRenderers\"}},\"id\":\"24640\",\"type\":\"ColumnDataSource\"},{\"attributes\":{\"click_policy\":\"hide\",\"items\":[{\"id\":\"24611\",\"type\":\"LegendItem\"},{\"id\":\"24639\",\"type\":\"LegendItem\"},{\"id\":\"24675\",\"type\":\"LegendItem\"},{\"id\":\"24719\",\"type\":\"LegendItem\"},{\"id\":\"24771\",\"type\":\"LegendItem\"},{\"id\":\"24831\",\"type\":\"LegendItem\"}],\"location\":\"top_left\",\"plot\":{\"id\":\"24562\",\"subtype\":\"Figure\",\"type\":\"Plot\"}},\"id\":\"24610\",\"type\":\"Legend\"},{\"attributes\":{\"data_source\":{\"id\":\"24640\",\"type\":\"ColumnDataSource\"},\"glyph\":{\"id\":\"24641\",\"type\":\"Patch\"},\"hover_glyph\":null,\"muted_glyph\":null,\"nonselection_glyph\":{\"id\":\"24642\",\"type\":\"Patch\"},\"selection_glyph\":null,\"view\":{\"id\":\"24644\",\"type\":\"CDSView\"}},\"id\":\"24643\",\"type\":\"GlyphRenderer\"},{\"attributes\":{\"fill_alpha\":0.3,\"fill_color\":\"#FCA635\",\"line_alpha\":0.3,\"line_color\":\"#FCA635\",\"x\":{\"field\":\"x\"},\"y\":{\"field\":\"y\"}},\"id\":\"24773\",\"type\":\"Patch\"},{\"attributes\":{\"fill_alpha\":0.3,\"fill_color\":\"#6A00A7\",\"line_alpha\":0.3,\"line_color\":\"#6A00A7\",\"x\":{\"field\":\"x\"},\"y\":{\"field\":\"y\"}},\"id\":\"24641\",\"type\":\"Patch\"},{\"attributes\":{\"source\":{\"id\":\"24676\",\"type\":\"ColumnDataSource\"}},\"id\":\"24680\",\"type\":\"CDSView\"},{\"attributes\":{\"callback\":null,\"data\":{\"x\":[5,6,7,8,9,10,11,12,13,14,15,16,16,15,14,13,12,11,10,9,8,7,6,5],\"y\":{\"__ndarray__\":\"1XRyy8hAd0BPmJhYcn2AQPxLVALZy4ZAW3kKvn51oUCLNFNNbuG1QIYPsybPlbxAOJEdoPKXuUDQXoz60RXFQDzIRIPvS+NAsoGN7mgxA0HGZHf65A0RQR8DGnY0/yBBOH95oopSQ0E0jcinaGEzQSc/uYglwhtBxjNk3HCdFkFZp+HzaDD8QLrzyqKlOPJAdQSQgTyz4ECq/3c5UdzTQHYuSh1txcFATkOCrFFsskByTU1t4KCbQGKSE2doyIxA\",\"dtype\":\"float64\",\"shape\":[24]}},\"selected\":{\"id\":\"25568\",\"type\":\"Selection\"},\"selection_policy\":{\"id\":\"25569\",\"type\":\"UnionRenderers\"}},\"id\":\"24832\",\"type\":\"ColumnDataSource\"},{\"attributes\":{\"data_source\":{\"id\":\"24599\",\"type\":\"ColumnDataSource\"},\"glyph\":{\"id\":\"24601\",\"type\":\"Line\"},\"hover_glyph\":null,\"muted_glyph\":null,\"nonselection_glyph\":{\"id\":\"24602\",\"type\":\"Line\"},\"selection_glyph\":null,\"view\":{\"id\":\"24604\",\"type\":\"CDSView\"}},\"id\":\"24603\",\"type\":\"GlyphRenderer\"},{\"attributes\":{\"fill_alpha\":0.1,\"fill_color\":\"#1f77b4\",\"line_alpha\":0.1,\"line_color\":\"#1f77b4\",\"x\":{\"field\":\"x\"},\"y\":{\"field\":\"y\"}},\"id\":\"24774\",\"type\":\"Patch\"},{\"attributes\":{\"callback\":null,\"data\":{\"N\":[5,6,7,8,9,10,11,12,13,14,15,16],\"index\":[5,11,17,23,29,35,41,47,53,59,65,71],\"optim_steps\":{\"__ndarray__\":\"ZmZmZmY0hEDNzMzMzO+RQM3MzMzMRaVAzczMzMwitkDNzMzMrFTJQGZmZmb2RdRAzczMzCTS40AzMzMzI9PuQM3MzMzuBglBAAAAAG2tEkFmZmbm4aQnQQAAAMBXkjdB\",\"dtype\":\"float64\",\"shape\":[12]},\"sampling_type\":[\"rank-td_stoch:0.05\",\"rank-td_stoch:0.05\",\"rank-td_stoch:0.05\",\"rank-td_stoch:0.05\",\"rank-td_stoch:0.05\",\"rank-td_stoch:0.05\",\"rank-td_stoch:0.05\",\"rank-td_stoch:0.05\",\"rank-td_stoch:0.05\",\"rank-td_stoch:0.05\",\"rank-td_stoch:0.05\",\"rank-td_stoch:0.05\"]},\"selected\":{\"id\":\"24862\",\"type\":\"Selection\"},\"selection_policy\":{\"id\":\"24863\",\"type\":\"UnionRenderers\"}},\"id\":\"24800\",\"type\":\"ColumnDataSource\"},{\"attributes\":{\"fill_alpha\":0.1,\"fill_color\":\"#1f77b4\",\"line_alpha\":0.1,\"line_color\":\"#1f77b4\",\"x\":{\"field\":\"x\"},\"y\":{\"field\":\"y\"}},\"id\":\"24642\",\"type\":\"Patch\"},{\"attributes\":{\"source\":{\"id\":\"24599\",\"type\":\"ColumnDataSource\"}},\"id\":\"24604\",\"type\":\"CDSView\"},{\"attributes\":{},\"id\":\"24694\",\"type\":\"Selection\"},{\"attributes\":{},\"id\":\"24830\",\"type\":\"UnionRenderers\"},{\"attributes\":{},\"id\":\"24606\",\"type\":\"BasicTickFormatter\"},{\"attributes\":{\"label\":{\"value\":\"rank-td_det\"},\"renderers\":[{\"id\":\"24748\",\"type\":\"GlyphRenderer\"},{\"id\":\"24775\",\"type\":\"GlyphRenderer\"}]},\"id\":\"24771\",\"type\":\"LegendItem\"},{\"attributes\":{\"label\":{\"value\":\"rank-bayes-\\u03b20.001-p0.5_stoch:0.05\"},\"renderers\":[{\"id\":\"24628\",\"type\":\"GlyphRenderer\"},{\"id\":\"24643\",\"type\":\"GlyphRenderer\"}]},\"id\":\"24639\",\"type\":\"LegendItem\"},{\"attributes\":{\"line_color\":\"#0C0786\",\"line_width\":4,\"x\":{\"field\":\"N\"},\"y\":{\"field\":\"optim_steps\"}},\"id\":\"24601\",\"type\":\"Line\"},{\"attributes\":{},\"id\":\"24770\",\"type\":\"UnionRenderers\"},{\"attributes\":{},\"id\":\"24638\",\"type\":\"UnionRenderers\"},{\"attributes\":{},\"id\":\"24769\",\"type\":\"Selection\"},{\"attributes\":{},\"id\":\"24637\",\"type\":\"Selection\"},{\"attributes\":{\"source\":{\"id\":\"24744\",\"type\":\"ColumnDataSource\"}},\"id\":\"24749\",\"type\":\"CDSView\"},{\"attributes\":{\"source\":{\"id\":\"24624\",\"type\":\"ColumnDataSource\"}},\"id\":\"24629\",\"type\":\"CDSView\"},{\"attributes\":{\"data_source\":{\"id\":\"24744\",\"type\":\"ColumnDataSource\"},\"glyph\":{\"id\":\"24746\",\"type\":\"Line\"},\"hover_glyph\":null,\"muted_glyph\":null,\"nonselection_glyph\":{\"id\":\"24747\",\"type\":\"Line\"},\"selection_glyph\":null,\"view\":{\"id\":\"24749\",\"type\":\"CDSView\"}},\"id\":\"24748\",\"type\":\"GlyphRenderer\"},{\"attributes\":{\"line_alpha\":0.1,\"line_color\":\"#1f77b4\",\"line_width\":4,\"x\":{\"field\":\"N\"},\"y\":{\"field\":\"optim_steps\"}},\"id\":\"24602\",\"type\":\"Line\"},{\"attributes\":{\"data_source\":{\"id\":\"24624\",\"type\":\"ColumnDataSource\"},\"glyph\":{\"id\":\"24626\",\"type\":\"Line\"},\"hover_glyph\":null,\"muted_glyph\":null,\"nonselection_glyph\":{\"id\":\"24627\",\"type\":\"Line\"},\"selection_glyph\":null,\"view\":{\"id\":\"24629\",\"type\":\"CDSView\"}},\"id\":\"24628\",\"type\":\"GlyphRenderer\"},{\"attributes\":{\"fill_alpha\":0.1,\"fill_color\":\"#1f77b4\",\"line_alpha\":0.1,\"line_color\":\"#1f77b4\",\"x\":{\"field\":\"x\"},\"y\":{\"field\":\"y\"}},\"id\":\"24614\",\"type\":\"Patch\"},{\"attributes\":{\"line_alpha\":0.1,\"line_color\":\"#1f77b4\",\"line_width\":4,\"x\":{\"field\":\"N\"},\"y\":{\"field\":\"optim_steps\"}},\"id\":\"24747\",\"type\":\"Line\"},{\"attributes\":{\"line_alpha\":0.1,\"line_color\":\"#1f77b4\",\"line_width\":4,\"x\":{\"field\":\"N\"},\"y\":{\"field\":\"optim_steps\"}},\"id\":\"24627\",\"type\":\"Line\"},{\"attributes\":{\"callback\":null},\"id\":\"24566\",\"type\":\"DataRange1d\"},{\"attributes\":{\"callback\":null},\"id\":\"24564\",\"type\":\"DataRange1d\"},{\"attributes\":{\"plot\":null,\"text\":\"Plot\"},\"id\":\"24561\",\"type\":\"Title\"},{\"attributes\":{\"line_color\":\"#FCA635\",\"line_width\":4,\"x\":{\"field\":\"N\"},\"y\":{\"field\":\"optim_steps\"}},\"id\":\"24746\",\"type\":\"Line\"},{\"attributes\":{\"format\":\"00\"},\"id\":\"24597\",\"type\":\"NumeralTickFormatter\"},{\"attributes\":{},\"id\":\"24743\",\"type\":\"UnionRenderers\"},{\"attributes\":{},\"id\":\"24742\",\"type\":\"Selection\"},{\"attributes\":{\"source\":{\"id\":\"24720\",\"type\":\"ColumnDataSource\"}},\"id\":\"24724\",\"type\":\"CDSView\"},{\"attributes\":{\"callback\":null,\"data\":{\"N\":[5,6,7,8,9,10,11,12,13,14,15,16],\"index\":[0,6,12,18,24,30,36,42,48,54,60,66],\"optim_steps\":{\"__ndarray__\":\"+Yqv+Iq3j0B2NSy9iN+XQB8xdCsOwahAsiBSV94RwEBNP5diMIjIQBZHchL3it9AV5p/8jS56kCSJe83tNcDQebCNRfiMg5BLyJnkdm9GkEuuVVhlyYrQQK+GJqxxDhB\",\"dtype\":\"float64\",\"shape\":[12]},\"sampling_type\":[\"rank-bayes-\\u03b20.001-p0.5_det\",\"rank-bayes-\\u03b20.001-p0.5_det\",\"rank-bayes-\\u03b20.001-p0.5_det\",\"rank-bayes-\\u03b20.001-p0.5_det\",\"rank-bayes-\\u03b20.001-p0.5_det\",\"rank-bayes-\\u03b20.001-p0.5_det\",\"rank-bayes-\\u03b20.001-p0.5_det\",\"rank-bayes-\\u03b20.001-p0.5_det\",\"rank-bayes-\\u03b20.001-p0.5_det\",\"rank-bayes-\\u03b20.001-p0.5_det\",\"rank-bayes-\\u03b20.001-p0.5_det\",\"rank-bayes-\\u03b20.001-p0.5_det\"]},\"selected\":{\"id\":\"24622\",\"type\":\"Selection\"},\"selection_policy\":{\"id\":\"24623\",\"type\":\"UnionRenderers\"}},\"id\":\"24599\",\"type\":\"ColumnDataSource\"},{\"attributes\":{\"data_source\":{\"id\":\"24720\",\"type\":\"ColumnDataSource\"},\"glyph\":{\"id\":\"24721\",\"type\":\"Patch\"},\"hover_glyph\":null,\"muted_glyph\":null,\"nonselection_glyph\":{\"id\":\"24722\",\"type\":\"Patch\"},\"selection_glyph\":null,\"view\":{\"id\":\"24724\",\"type\":\"CDSView\"}},\"id\":\"24723\",\"type\":\"GlyphRenderer\"},{\"attributes\":{\"fill_alpha\":0.3,\"fill_color\":\"#E06461\",\"line_alpha\":0.3,\"line_color\":\"#E06461\",\"x\":{\"field\":\"x\"},\"y\":{\"field\":\"y\"}},\"id\":\"24721\",\"type\":\"Patch\"},{\"attributes\":{\"callback\":null,\"data\":{\"N\":[5,6,7,8,9,10,11,12,13,14,15,16],\"index\":[1,7,13,19,25,31,37,43,49,55,61,67],\"optim_steps\":{\"__ndarray__\":\"BxwpGuJviUDuFC2cAaGfQD5X8hJRvK5AJueG2iZrwUDhPoL7iAPHQPtQCjchCdlAfqz3RBgN70A6VhWuzxMFQUCDSBgOvQxBqPLqjtXSIUFkeDfcIr4qQXjeprsXgThB\",\"dtype\":\"float64\",\"shape\":[12]},\"sampling_type\":[\"rank-bayes-\\u03b20.001-p0.5_stoch:0.05\",\"rank-bayes-\\u03b20.001-p0.5_stoch:0.05\",\"rank-bayes-\\u03b20.001-p0.5_stoch:0.05\",\"rank-bayes-\\u03b20.001-p0.5_stoch:0.05\",\"rank-bayes-\\u03b20.001-p0.5_stoch:0.05\",\"rank-bayes-\\u03b20.001-p0.5_stoch:0.05\",\"rank-bayes-\\u03b20.001-p0.5_stoch:0.05\",\"rank-bayes-\\u03b20.001-p0.5_stoch:0.05\",\"rank-bayes-\\u03b20.001-p0.5_stoch:0.05\",\"rank-bayes-\\u03b20.001-p0.5_stoch:0.05\",\"rank-bayes-\\u03b20.001-p0.5_stoch:0.05\",\"rank-bayes-\\u03b20.001-p0.5_stoch:0.05\"]},\"selected\":{\"id\":\"24654\",\"type\":\"Selection\"},\"selection_policy\":{\"id\":\"24655\",\"type\":\"UnionRenderers\"}},\"id\":\"24624\",\"type\":\"ColumnDataSource\"},{\"attributes\":{\"fill_alpha\":0.1,\"fill_color\":\"#1f77b4\",\"line_alpha\":0.1,\"line_color\":\"#1f77b4\",\"x\":{\"field\":\"x\"},\"y\":{\"field\":\"y\"}},\"id\":\"24722\",\"type\":\"Patch\"},{\"attributes\":{\"bottom_units\":\"screen\",\"fill_alpha\":{\"value\":0.5},\"fill_color\":{\"value\":\"lightgrey\"},\"left_units\":\"screen\",\"level\":\"overlay\",\"line_alpha\":{\"value\":1.0},\"line_color\":{\"value\":\"black\"},\"line_dash\":[4,4],\"line_width\":{\"value\":2},\"plot\":null,\"render_mode\":\"css\",\"right_units\":\"screen\",\"top_units\":\"screen\"},\"id\":\"24590\",\"type\":\"BoxAnnotation\"},{\"attributes\":{\"active_drag\":\"auto\",\"active_inspect\":\"auto\",\"active_multi\":null,\"active_scroll\":\"auto\",\"active_tap\":\"auto\",\"tools\":[{\"id\":\"24582\",\"type\":\"PanTool\"},{\"id\":\"24583\",\"type\":\"WheelZoomTool\"},{\"id\":\"24584\",\"type\":\"BoxZoomTool\"},{\"id\":\"24585\",\"type\":\"SaveTool\"},{\"id\":\"24586\",\"type\":\"ResetTool\"},{\"id\":\"24587\",\"type\":\"HelpTool\"}]},\"id\":\"24588\",\"type\":\"Toolbar\"},{\"attributes\":{},\"id\":\"24587\",\"type\":\"HelpTool\"},{\"attributes\":{\"label\":{\"value\":\"rank-bayes-\\u03b20.01-p0.5_stoch:0.05\"},\"renderers\":[{\"id\":\"24700\",\"type\":\"GlyphRenderer\"},{\"id\":\"24723\",\"type\":\"GlyphRenderer\"}]},\"id\":\"24719\",\"type\":\"LegendItem\"},{\"attributes\":{},\"id\":\"24586\",\"type\":\"ResetTool\"},{\"attributes\":{},\"id\":\"24718\",\"type\":\"UnionRenderers\"},{\"attributes\":{},\"id\":\"24585\",\"type\":\"SaveTool\"},{\"attributes\":{},\"id\":\"24717\",\"type\":\"Selection\"},{\"attributes\":{\"overlay\":{\"id\":\"24590\",\"type\":\"BoxAnnotation\"}},\"id\":\"24584\",\"type\":\"BoxZoomTool\"},{\"attributes\":{\"source\":{\"id\":\"24696\",\"type\":\"ColumnDataSource\"}},\"id\":\"24701\",\"type\":\"CDSView\"},{\"attributes\":{},\"id\":\"24583\",\"type\":\"WheelZoomTool\"},{\"attributes\":{\"data_source\":{\"id\":\"24696\",\"type\":\"ColumnDataSource\"},\"glyph\":{\"id\":\"24698\",\"type\":\"Line\"},\"hover_glyph\":null,\"muted_glyph\":null,\"nonselection_glyph\":{\"id\":\"24699\",\"type\":\"Line\"},\"selection_glyph\":null,\"view\":{\"id\":\"24701\",\"type\":\"CDSView\"}},\"id\":\"24700\",\"type\":\"GlyphRenderer\"},{\"attributes\":{},\"id\":\"24582\",\"type\":\"PanTool\"},{\"attributes\":{\"dimension\":1,\"plot\":{\"id\":\"24562\",\"subtype\":\"Figure\",\"type\":\"Plot\"},\"ticker\":{\"id\":\"24578\",\"type\":\"BasicTicker\"}},\"id\":\"24581\",\"type\":\"Grid\"},{\"attributes\":{},\"id\":\"24578\",\"type\":\"BasicTicker\"},{\"attributes\":{\"line_color\":\"#EFF821\",\"line_width\":4,\"x\":{\"field\":\"N\"},\"y\":{\"field\":\"optim_steps\"}},\"id\":\"24802\",\"type\":\"Line\"},{\"attributes\":{\"formatter\":{\"id\":\"24597\",\"type\":\"NumeralTickFormatter\"},\"plot\":{\"id\":\"24562\",\"subtype\":\"Figure\",\"type\":\"Plot\"},\"ticker\":{\"id\":\"24578\",\"type\":\"BasicTicker\"}},\"id\":\"24577\",\"type\":\"LinearAxis\"},{\"attributes\":{\"callback\":null,\"data\":{\"x\":[5,6,7,8,9,10,11,12,13,14,15,16,16,15,14,13,12,11,10,9,8,7,6,5],\"y\":{\"__ndarray__\":\"njp3MVT0gkD2VbCfdoGVQDRHSt0WFqBAsmyM7KkMskCsv9jMw6fCQHuYG6wvjMpA6YsFkgsv3UC0lLmIpfvwQDqfRWg8pgFBdJOIjk+YDkFC0yihojgaQbkzTWEa6yNBEM6znKTUQUGWrZ9CnbwxQR0hyA0VKitBmElzEsLHIEHMjqO3H1sJQWQ+6lKzePJA6LqMoS7q5UBUX1v/7PHQQHhTEmcUn8NAqnb4Qh44tUBPZ0z51jCnQNpTeDHS1pBA\",\"dtype\":\"float64\",\"shape\":[24]}},\"selected\":{\"id\":\"24769\",\"type\":\"Selection\"},\"selection_policy\":{\"id\":\"24770\",\"type\":\"UnionRenderers\"}},\"id\":\"24720\",\"type\":\"ColumnDataSource\"},{\"attributes\":{},\"id\":\"24863\",\"type\":\"UnionRenderers\"},{\"attributes\":{\"fill_alpha\":0.3,\"fill_color\":\"#B02A8F\",\"line_alpha\":0.3,\"line_color\":\"#B02A8F\",\"x\":{\"field\":\"x\"},\"y\":{\"field\":\"y\"}},\"id\":\"24677\",\"type\":\"Patch\"},{\"attributes\":{\"plot\":{\"id\":\"24562\",\"subtype\":\"Figure\",\"type\":\"Plot\"},\"ticker\":{\"id\":\"24573\",\"type\":\"BasicTicker\"}},\"id\":\"24576\",\"type\":\"Grid\"},{\"attributes\":{},\"id\":\"24862\",\"type\":\"Selection\"},{\"attributes\":{\"line_alpha\":0.1,\"line_color\":\"#1f77b4\",\"line_width\":4,\"x\":{\"field\":\"N\"},\"y\":{\"field\":\"optim_steps\"}},\"id\":\"24699\",\"type\":\"Line\"},{\"attributes\":{},\"id\":\"24573\",\"type\":\"BasicTicker\"},{\"attributes\":{\"source\":{\"id\":\"24832\",\"type\":\"ColumnDataSource\"}},\"id\":\"24836\",\"type\":\"CDSView\"},{\"attributes\":{\"formatter\":{\"id\":\"24606\",\"type\":\"BasicTickFormatter\"},\"plot\":{\"id\":\"24562\",\"subtype\":\"Figure\",\"type\":\"Plot\"},\"ticker\":{\"id\":\"24573\",\"type\":\"BasicTicker\"}},\"id\":\"24572\",\"type\":\"LinearAxis\"},{\"attributes\":{},\"id\":\"24570\",\"type\":\"LinearScale\"},{\"attributes\":{\"data_source\":{\"id\":\"24832\",\"type\":\"ColumnDataSource\"},\"glyph\":{\"id\":\"24833\",\"type\":\"Patch\"},\"hover_glyph\":null,\"muted_glyph\":null,\"nonselection_glyph\":{\"id\":\"24834\",\"type\":\"Patch\"},\"selection_glyph\":null,\"view\":{\"id\":\"24836\",\"type\":\"CDSView\"}},\"id\":\"24835\",\"type\":\"GlyphRenderer\"},{\"attributes\":{},\"id\":\"24568\",\"type\":\"LinearScale\"}],\"root_ids\":[\"24562\"]},\"title\":\"Bokeh Application\",\"version\":\"1.0.1\"}};\n",
       "  var render_items = [{\"docid\":\"d1b6b5a1-458d-43a8-b202-e48619e63b6a\",\"roots\":{\"24562\":\"a8b0cc18-4906-4e5a-b98f-ee764a20ea67\"}}];\n",
       "  root.Bokeh.embed.embed_items_notebook(docs_json, render_items);\n",
       "\n",
       "  }\n",
       "  if (root.Bokeh !== undefined) {\n",
       "    embed_document(root);\n",
       "  } else {\n",
       "    var attempts = 0;\n",
       "    var timer = setInterval(function(root) {\n",
       "      if (root.Bokeh !== undefined) {\n",
       "        embed_document(root);\n",
       "        clearInterval(timer);\n",
       "      }\n",
       "      attempts++;\n",
       "      if (attempts > 100) {\n",
       "        console.log(\"Bokeh: ERROR: Unable to run BokehJS code because BokehJS library is missing\");\n",
       "        clearInterval(timer);\n",
       "      }\n",
       "    }, 10, root)\n",
       "  }\n",
       "})(window);"
      ],
      "application/vnd.bokehjs_exec.v0+json": ""
     },
     "metadata": {
      "application/vnd.bokehjs_exec.v0+json": {
       "id": "24562"
      }
     },
     "output_type": "display_data"
    }
   ],
   "source": [
    "show(lineplot(df3, 'N', 'optim_steps', 'sampling_type', y_axis_format='00'))"
   ]
  },
  {
   "cell_type": "markdown",
   "metadata": {},
   "source": [
    "## Noisier MDP"
   ]
  },
  {
   "cell_type": "code",
   "execution_count": 5,
   "metadata": {},
   "outputs": [
    {
     "data": {
      "text/html": [
       "<div>\n",
       "<style scoped>\n",
       "    .dataframe tbody tr th:only-of-type {\n",
       "        vertical-align: middle;\n",
       "    }\n",
       "\n",
       "    .dataframe tbody tr th {\n",
       "        vertical-align: top;\n",
       "    }\n",
       "\n",
       "    .dataframe thead th {\n",
       "        text-align: right;\n",
       "    }\n",
       "</style>\n",
       "<table border=\"1\" class=\"dataframe\">\n",
       "  <thead>\n",
       "    <tr style=\"text-align: right;\">\n",
       "      <th></th>\n",
       "      <th>step</th>\n",
       "      <th>loss</th>\n",
       "      <th>vote</th>\n",
       "      <th>optim_steps</th>\n",
       "      <th>vote_optim_steps</th>\n",
       "      <th>N</th>\n",
       "      <th>mem</th>\n",
       "      <th>trial</th>\n",
       "      <th>sampling_type</th>\n",
       "      <th>loss_fn</th>\n",
       "    </tr>\n",
       "  </thead>\n",
       "  <tbody>\n",
       "    <tr>\n",
       "      <th>2529789</th>\n",
       "      <td>21987600.0</td>\n",
       "      <td>0.025226</td>\n",
       "      <td>0.0</td>\n",
       "      <td>24590130</td>\n",
       "      <td>NaN</td>\n",
       "      <td>12</td>\n",
       "      <td>8190</td>\n",
       "      <td>11</td>\n",
       "      <td>rank-td_stoch:0.1</td>\n",
       "      <td>mse</td>\n",
       "    </tr>\n",
       "    <tr>\n",
       "      <th>855526</th>\n",
       "      <td>820000.0</td>\n",
       "      <td>0.006481</td>\n",
       "      <td>0.0</td>\n",
       "      <td>25968638</td>\n",
       "      <td>NaN</td>\n",
       "      <td>11</td>\n",
       "      <td>4094</td>\n",
       "      <td>18</td>\n",
       "      <td>rank-td_stoch:0.1</td>\n",
       "      <td>mse</td>\n",
       "    </tr>\n",
       "    <tr>\n",
       "      <th>963211</th>\n",
       "      <td>11588500.0</td>\n",
       "      <td>0.026370</td>\n",
       "      <td>0.0</td>\n",
       "      <td>25968638</td>\n",
       "      <td>NaN</td>\n",
       "      <td>11</td>\n",
       "      <td>4094</td>\n",
       "      <td>18</td>\n",
       "      <td>rank-td_stoch:0.1</td>\n",
       "      <td>mse</td>\n",
       "    </tr>\n",
       "  </tbody>\n",
       "</table>\n",
       "</div>"
      ],
      "text/plain": [
       "               step      loss  vote  optim_steps  vote_optim_steps   N   mem  \\\n",
       "2529789  21987600.0  0.025226   0.0     24590130               NaN  12  8190   \n",
       "855526     820000.0  0.006481   0.0     25968638               NaN  11  4094   \n",
       "963211   11588500.0  0.026370   0.0     25968638               NaN  11  4094   \n",
       "\n",
       "         trial      sampling_type loss_fn  \n",
       "2529789     11  rank-td_stoch:0.1     mse  \n",
       "855526      18  rank-td_stoch:0.1     mse  \n",
       "963211      18  rank-td_stoch:0.1     mse  "
      ]
     },
     "execution_count": 5,
     "metadata": {},
     "output_type": "execute_result"
    }
   ],
   "source": [
    "rank_vs_bayes = get_data('endgame', ['2018Dec10-133632', '2018Dec10-133639'])\n",
    "rank_vs_bayes.sample(3)"
   ]
  },
  {
   "cell_type": "code",
   "execution_count": 33,
   "metadata": {},
   "outputs": [
    {
     "data": {
      "text/html": [
       "\n",
       "\n",
       "\n",
       "\n",
       "\n",
       "\n",
       "  <div class=\"bk-root\" id=\"8b08dd39-be62-4b1d-bded-037a7e365041\"></div>\n"
      ]
     },
     "metadata": {},
     "output_type": "display_data"
    },
    {
     "data": {
      "application/javascript": [
       "(function(root) {\n",
       "  function embed_document(root) {\n",
       "    \n",
       "  var docs_json = {\"9249001c-f67a-4b13-9262-f886699b04ca\":{\"roots\":{\"references\":[{\"attributes\":{\"below\":[{\"id\":\"6397\",\"type\":\"LinearAxis\"}],\"left\":[{\"id\":\"6402\",\"type\":\"LinearAxis\"}],\"plot_height\":500,\"plot_width\":950,\"renderers\":[{\"id\":\"6397\",\"type\":\"LinearAxis\"},{\"id\":\"6401\",\"type\":\"Grid\"},{\"id\":\"6402\",\"type\":\"LinearAxis\"},{\"id\":\"6406\",\"type\":\"Grid\"},{\"id\":\"6415\",\"type\":\"BoxAnnotation\"},{\"id\":\"6435\",\"type\":\"Legend\"},{\"id\":\"6428\",\"type\":\"GlyphRenderer\"},{\"id\":\"6440\",\"type\":\"GlyphRenderer\"},{\"id\":\"6453\",\"type\":\"GlyphRenderer\"},{\"id\":\"6468\",\"type\":\"GlyphRenderer\"},{\"id\":\"6485\",\"type\":\"GlyphRenderer\"},{\"id\":\"6504\",\"type\":\"GlyphRenderer\"}],\"title\":{\"id\":\"6386\",\"type\":\"Title\"},\"toolbar\":{\"id\":\"6413\",\"type\":\"Toolbar\"},\"x_range\":{\"id\":\"6389\",\"type\":\"DataRange1d\"},\"x_scale\":{\"id\":\"6393\",\"type\":\"LinearScale\"},\"y_range\":{\"id\":\"6391\",\"type\":\"DataRange1d\"},\"y_scale\":{\"id\":\"6395\",\"type\":\"LinearScale\"}},\"id\":\"6387\",\"subtype\":\"Figure\",\"type\":\"Plot\"},{\"attributes\":{\"formatter\":{\"id\":\"6422\",\"type\":\"NumeralTickFormatter\"},\"plot\":{\"id\":\"6387\",\"subtype\":\"Figure\",\"type\":\"Plot\"},\"ticker\":{\"id\":\"6403\",\"type\":\"BasicTicker\"}},\"id\":\"6402\",\"type\":\"LinearAxis\"},{\"attributes\":{\"source\":{\"id\":\"6424\",\"type\":\"ColumnDataSource\"}},\"id\":\"6429\",\"type\":\"CDSView\"},{\"attributes\":{},\"id\":\"6403\",\"type\":\"BasicTicker\"},{\"attributes\":{},\"id\":\"6462\",\"type\":\"Selection\"},{\"attributes\":{\"line_color\":\"#EFF821\",\"line_width\":4,\"x\":{\"field\":\"N\"},\"y\":{\"field\":\"optim_steps\"}},\"id\":\"6483\",\"type\":\"Line\"},{\"attributes\":{\"callback\":null,\"data\":{\"x\":[5,6,7,8,9,10,11,12,12,11,10,9,8,7,6,5],\"y\":{\"__ndarray__\":\"zh8i4DaLkEAoHpj4LO2SQLsyWkf54a1AEpiQOVowv0DeEAWeKkXYQMAu2wewpd1A7GrXTW0V9kD38YwcU+4GQRxWm3gb/B1BagmZxEH+B0HMiccgvY75QMcfEp2rjulA35rshozdzkDxyO9HkgvCQAuf0ufF1rVAXNI3V2HznkA=\",\"dtype\":\"float64\",\"shape\":[16]}},\"selected\":{\"id\":\"6462\",\"type\":\"Selection\"},\"selection_policy\":{\"id\":\"6461\",\"type\":\"UnionRenderers\"}},\"id\":\"6437\",\"type\":\"ColumnDataSource\"},{\"attributes\":{\"fill_alpha\":0.3,\"fill_color\":\"#CA4678\",\"line_alpha\":0.3,\"line_color\":\"#CA4678\",\"x\":{\"field\":\"x\"},\"y\":{\"field\":\"y\"}},\"id\":\"6466\",\"type\":\"Patch\"},{\"attributes\":{\"fill_alpha\":0.3,\"fill_color\":\"#0C0786\",\"line_alpha\":0.3,\"line_color\":\"#0C0786\",\"x\":{\"field\":\"x\"},\"y\":{\"field\":\"y\"}},\"id\":\"6438\",\"type\":\"Patch\"},{\"attributes\":{\"callback\":null,\"data\":{\"x\":[5,6,7,8,9,10,11,12,12,11,10,9,8,7,6,5],\"y\":{\"__ndarray__\":\"syAJFQbfrUC4M7Q/3azIQFKw7MViPfVALMpdg/YeEUGO8X25FbkhQXPedmbqo0VBKHrq+vZTYkHiUlQDEtp3QbldGEzn7oRBFHdxdeHSeEHyM4tucDNaQX3b5rGSUzlBa8ikRTbYMEHNS5nWUlkKQczzG4azLO9Ayot6sMbFwUA=\",\"dtype\":\"float64\",\"shape\":[16]}},\"selected\":{\"id\":\"6789\",\"type\":\"Selection\"},\"selection_policy\":{\"id\":\"6788\",\"type\":\"UnionRenderers\"}},\"id\":\"6501\",\"type\":\"ColumnDataSource\"},{\"attributes\":{},\"id\":\"6410\",\"type\":\"SaveTool\"},{\"attributes\":{},\"id\":\"6412\",\"type\":\"HelpTool\"},{\"attributes\":{},\"id\":\"6461\",\"type\":\"UnionRenderers\"},{\"attributes\":{\"source\":{\"id\":\"6449\",\"type\":\"ColumnDataSource\"}},\"id\":\"6454\",\"type\":\"CDSView\"},{\"attributes\":{\"source\":{\"id\":\"6481\",\"type\":\"ColumnDataSource\"}},\"id\":\"6486\",\"type\":\"CDSView\"},{\"attributes\":{},\"id\":\"6408\",\"type\":\"WheelZoomTool\"},{\"attributes\":{\"callback\":null},\"id\":\"6391\",\"type\":\"DataRange1d\"},{\"attributes\":{\"label\":{\"value\":\"rank-bayes-\\u03b20.01-p0.5_stoch:0.1\"},\"renderers\":[{\"id\":\"6453\",\"type\":\"GlyphRenderer\"},{\"id\":\"6468\",\"type\":\"GlyphRenderer\"}]},\"id\":\"6464\",\"type\":\"LegendItem\"},{\"attributes\":{\"callback\":null,\"data\":{\"x\":[5,6,7,8,9,10,11,12,12,11,10,9,8,7,6,5],\"y\":{\"__ndarray__\":\"S/l6R6Agj0BcrygqhGedQJRSKKBSFLBAKOjTwyRnu0CyNAbOAvjTQLwtyJ886uFA0BNXlqSl70DivwDF3e4FQdWV1uXFOhxBI0699hdFBUGzcuuS+tDyQHfMHz0YruhAyy85EsOd4EDK5ivjMiDHQMgdYWCztq1AUvIl5o6lnUA=\",\"dtype\":\"float64\",\"shape\":[16]}},\"selected\":{\"id\":\"6498\",\"type\":\"Selection\"},\"selection_policy\":{\"id\":\"6497\",\"type\":\"UnionRenderers\"}},\"id\":\"6465\",\"type\":\"ColumnDataSource\"},{\"attributes\":{\"data_source\":{\"id\":\"6501\",\"type\":\"ColumnDataSource\"},\"glyph\":{\"id\":\"6502\",\"type\":\"Patch\"},\"hover_glyph\":null,\"muted_glyph\":null,\"nonselection_glyph\":{\"id\":\"6503\",\"type\":\"Patch\"},\"selection_glyph\":null,\"view\":{\"id\":\"6505\",\"type\":\"CDSView\"}},\"id\":\"6504\",\"type\":\"GlyphRenderer\"},{\"attributes\":{\"fill_alpha\":0.1,\"fill_color\":\"#1f77b4\",\"line_alpha\":0.1,\"line_color\":\"#1f77b4\",\"x\":{\"field\":\"x\"},\"y\":{\"field\":\"y\"}},\"id\":\"6503\",\"type\":\"Patch\"},{\"attributes\":{},\"id\":\"6519\",\"type\":\"Selection\"},{\"attributes\":{},\"id\":\"6393\",\"type\":\"LinearScale\"},{\"attributes\":{\"data_source\":{\"id\":\"6449\",\"type\":\"ColumnDataSource\"},\"glyph\":{\"id\":\"6451\",\"type\":\"Line\"},\"hover_glyph\":null,\"muted_glyph\":null,\"nonselection_glyph\":{\"id\":\"6452\",\"type\":\"Line\"},\"selection_glyph\":null,\"view\":{\"id\":\"6454\",\"type\":\"CDSView\"}},\"id\":\"6453\",\"type\":\"GlyphRenderer\"},{\"attributes\":{\"format\":\"00\"},\"id\":\"6422\",\"type\":\"NumeralTickFormatter\"},{\"attributes\":{},\"id\":\"6518\",\"type\":\"UnionRenderers\"},{\"attributes\":{},\"id\":\"6497\",\"type\":\"UnionRenderers\"},{\"attributes\":{\"click_policy\":\"hide\",\"items\":[{\"id\":\"6436\",\"type\":\"LegendItem\"},{\"id\":\"6464\",\"type\":\"LegendItem\"},{\"id\":\"6500\",\"type\":\"LegendItem\"}],\"location\":\"top_left\",\"plot\":{\"id\":\"6387\",\"subtype\":\"Figure\",\"type\":\"Plot\"}},\"id\":\"6435\",\"type\":\"Legend\"},{\"attributes\":{},\"id\":\"6788\",\"type\":\"UnionRenderers\"},{\"attributes\":{\"active_drag\":\"auto\",\"active_inspect\":\"auto\",\"active_multi\":null,\"active_scroll\":\"auto\",\"active_tap\":\"auto\",\"tools\":[{\"id\":\"6407\",\"type\":\"PanTool\"},{\"id\":\"6408\",\"type\":\"WheelZoomTool\"},{\"id\":\"6409\",\"type\":\"BoxZoomTool\"},{\"id\":\"6410\",\"type\":\"SaveTool\"},{\"id\":\"6411\",\"type\":\"ResetTool\"},{\"id\":\"6412\",\"type\":\"HelpTool\"}]},\"id\":\"6413\",\"type\":\"Toolbar\"},{\"attributes\":{\"fill_alpha\":0.3,\"fill_color\":\"#EFF821\",\"line_alpha\":0.3,\"line_color\":\"#EFF821\",\"x\":{\"field\":\"x\"},\"y\":{\"field\":\"y\"}},\"id\":\"6502\",\"type\":\"Patch\"},{\"attributes\":{\"callback\":null,\"data\":{\"N\":[5,6,7,8,9,10,11,12],\"index\":[1,4,7,10,13,16,19,22],\"optim_steps\":{\"__ndarray__\":\"fLfxhO+alkC7urq6OjWmQBQQQDNcKr9A0KyzqqcK1EBocxHSDFXhQJGJz+IYxutAFxNTHIEu/UDjeitkGpkTQQ==\",\"dtype\":\"float64\",\"shape\":[8]},\"sampling_type\":[\"rank-bayes-\\u03b20.01-p0.5_stoch:0.1\",\"rank-bayes-\\u03b20.01-p0.5_stoch:0.1\",\"rank-bayes-\\u03b20.01-p0.5_stoch:0.1\",\"rank-bayes-\\u03b20.01-p0.5_stoch:0.1\",\"rank-bayes-\\u03b20.01-p0.5_stoch:0.1\",\"rank-bayes-\\u03b20.01-p0.5_stoch:0.1\",\"rank-bayes-\\u03b20.01-p0.5_stoch:0.1\",\"rank-bayes-\\u03b20.01-p0.5_stoch:0.1\"]},\"selected\":{\"id\":\"6479\",\"type\":\"Selection\"},\"selection_policy\":{\"id\":\"6478\",\"type\":\"UnionRenderers\"}},\"id\":\"6449\",\"type\":\"ColumnDataSource\"},{\"attributes\":{\"line_color\":\"#0C0786\",\"line_width\":4,\"x\":{\"field\":\"N\"},\"y\":{\"field\":\"optim_steps\"}},\"id\":\"6426\",\"type\":\"Line\"},{\"attributes\":{},\"id\":\"6407\",\"type\":\"PanTool\"},{\"attributes\":{\"label\":{\"value\":\"rank-bayes-\\u03b20.001-p0.5_stoch:0.1\"},\"renderers\":[{\"id\":\"6428\",\"type\":\"GlyphRenderer\"},{\"id\":\"6440\",\"type\":\"GlyphRenderer\"}]},\"id\":\"6436\",\"type\":\"LegendItem\"},{\"attributes\":{},\"id\":\"6432\",\"type\":\"BasicTickFormatter\"},{\"attributes\":{\"bottom_units\":\"screen\",\"fill_alpha\":{\"value\":0.5},\"fill_color\":{\"value\":\"lightgrey\"},\"left_units\":\"screen\",\"level\":\"overlay\",\"line_alpha\":{\"value\":1.0},\"line_color\":{\"value\":\"black\"},\"line_dash\":[4,4],\"line_width\":{\"value\":2},\"plot\":null,\"render_mode\":\"css\",\"right_units\":\"screen\",\"top_units\":\"screen\"},\"id\":\"6415\",\"type\":\"BoxAnnotation\"},{\"attributes\":{\"formatter\":{\"id\":\"6432\",\"type\":\"BasicTickFormatter\"},\"plot\":{\"id\":\"6387\",\"subtype\":\"Figure\",\"type\":\"Plot\"},\"ticker\":{\"id\":\"6398\",\"type\":\"BasicTicker\"}},\"id\":\"6397\",\"type\":\"LinearAxis\"},{\"attributes\":{\"dimension\":1,\"plot\":{\"id\":\"6387\",\"subtype\":\"Figure\",\"type\":\"Plot\"},\"ticker\":{\"id\":\"6403\",\"type\":\"BasicTicker\"}},\"id\":\"6406\",\"type\":\"Grid\"},{\"attributes\":{\"data_source\":{\"id\":\"6481\",\"type\":\"ColumnDataSource\"},\"glyph\":{\"id\":\"6483\",\"type\":\"Line\"},\"hover_glyph\":null,\"muted_glyph\":null,\"nonselection_glyph\":{\"id\":\"6484\",\"type\":\"Line\"},\"selection_glyph\":null,\"view\":{\"id\":\"6486\",\"type\":\"CDSView\"}},\"id\":\"6485\",\"type\":\"GlyphRenderer\"},{\"attributes\":{\"plot\":{\"id\":\"6387\",\"subtype\":\"Figure\",\"type\":\"Plot\"},\"ticker\":{\"id\":\"6398\",\"type\":\"BasicTicker\"}},\"id\":\"6401\",\"type\":\"Grid\"},{\"attributes\":{\"callback\":null},\"id\":\"6389\",\"type\":\"DataRange1d\"},{\"attributes\":{\"line_alpha\":0.1,\"line_color\":\"#1f77b4\",\"line_width\":4,\"x\":{\"field\":\"N\"},\"y\":{\"field\":\"optim_steps\"}},\"id\":\"6484\",\"type\":\"Line\"},{\"attributes\":{},\"id\":\"6789\",\"type\":\"Selection\"},{\"attributes\":{},\"id\":\"6447\",\"type\":\"Selection\"},{\"attributes\":{},\"id\":\"6479\",\"type\":\"Selection\"},{\"attributes\":{\"plot\":null,\"text\":\"Plot\"},\"id\":\"6386\",\"type\":\"Title\"},{\"attributes\":{\"data_source\":{\"id\":\"6424\",\"type\":\"ColumnDataSource\"},\"glyph\":{\"id\":\"6426\",\"type\":\"Line\"},\"hover_glyph\":null,\"muted_glyph\":null,\"nonselection_glyph\":{\"id\":\"6427\",\"type\":\"Line\"},\"selection_glyph\":null,\"view\":{\"id\":\"6429\",\"type\":\"CDSView\"}},\"id\":\"6428\",\"type\":\"GlyphRenderer\"},{\"attributes\":{},\"id\":\"6478\",\"type\":\"UnionRenderers\"},{\"attributes\":{\"overlay\":{\"id\":\"6415\",\"type\":\"BoxAnnotation\"}},\"id\":\"6409\",\"type\":\"BoxZoomTool\"},{\"attributes\":{},\"id\":\"6446\",\"type\":\"UnionRenderers\"},{\"attributes\":{},\"id\":\"6498\",\"type\":\"Selection\"},{\"attributes\":{\"callback\":null,\"data\":{\"N\":[5,6,7,8,9,10,11,12],\"index\":[2,5,8,11,14,17,20,23],\"optim_steps\":{\"__ndarray__\":\"99O8NYg9uUBdgARr9aviQPvRxxwCfAJB9jp85vMfJUEi6lLHDhgxQZZR49CyglJBFFpzeW7+cEGVQ+Em+G2AQQ==\",\"dtype\":\"float64\",\"shape\":[8]},\"sampling_type\":[\"rank-td_stoch:0.1\",\"rank-td_stoch:0.1\",\"rank-td_stoch:0.1\",\"rank-td_stoch:0.1\",\"rank-td_stoch:0.1\",\"rank-td_stoch:0.1\",\"rank-td_stoch:0.1\",\"rank-td_stoch:0.1\"]},\"selected\":{\"id\":\"6519\",\"type\":\"Selection\"},\"selection_policy\":{\"id\":\"6518\",\"type\":\"UnionRenderers\"}},\"id\":\"6481\",\"type\":\"ColumnDataSource\"},{\"attributes\":{\"data_source\":{\"id\":\"6437\",\"type\":\"ColumnDataSource\"},\"glyph\":{\"id\":\"6438\",\"type\":\"Patch\"},\"hover_glyph\":null,\"muted_glyph\":null,\"nonselection_glyph\":{\"id\":\"6439\",\"type\":\"Patch\"},\"selection_glyph\":null,\"view\":{\"id\":\"6441\",\"type\":\"CDSView\"}},\"id\":\"6440\",\"type\":\"GlyphRenderer\"},{\"attributes\":{\"line_alpha\":0.1,\"line_color\":\"#1f77b4\",\"line_width\":4,\"x\":{\"field\":\"N\"},\"y\":{\"field\":\"optim_steps\"}},\"id\":\"6452\",\"type\":\"Line\"},{\"attributes\":{},\"id\":\"6395\",\"type\":\"LinearScale\"},{\"attributes\":{\"fill_alpha\":0.1,\"fill_color\":\"#1f77b4\",\"line_alpha\":0.1,\"line_color\":\"#1f77b4\",\"x\":{\"field\":\"x\"},\"y\":{\"field\":\"y\"}},\"id\":\"6467\",\"type\":\"Patch\"},{\"attributes\":{\"label\":{\"value\":\"rank-td_stoch:0.1\"},\"renderers\":[{\"id\":\"6485\",\"type\":\"GlyphRenderer\"},{\"id\":\"6504\",\"type\":\"GlyphRenderer\"}]},\"id\":\"6500\",\"type\":\"LegendItem\"},{\"attributes\":{},\"id\":\"6398\",\"type\":\"BasicTicker\"},{\"attributes\":{\"line_alpha\":0.1,\"line_color\":\"#1f77b4\",\"line_width\":4,\"x\":{\"field\":\"N\"},\"y\":{\"field\":\"optim_steps\"}},\"id\":\"6427\",\"type\":\"Line\"},{\"attributes\":{\"data_source\":{\"id\":\"6465\",\"type\":\"ColumnDataSource\"},\"glyph\":{\"id\":\"6466\",\"type\":\"Patch\"},\"hover_glyph\":null,\"muted_glyph\":null,\"nonselection_glyph\":{\"id\":\"6467\",\"type\":\"Patch\"},\"selection_glyph\":null,\"view\":{\"id\":\"6469\",\"type\":\"CDSView\"}},\"id\":\"6468\",\"type\":\"GlyphRenderer\"},{\"attributes\":{\"line_color\":\"#CA4678\",\"line_width\":4,\"x\":{\"field\":\"N\"},\"y\":{\"field\":\"optim_steps\"}},\"id\":\"6451\",\"type\":\"Line\"},{\"attributes\":{\"source\":{\"id\":\"6465\",\"type\":\"ColumnDataSource\"}},\"id\":\"6469\",\"type\":\"CDSView\"},{\"attributes\":{},\"id\":\"6411\",\"type\":\"ResetTool\"},{\"attributes\":{\"fill_alpha\":0.1,\"fill_color\":\"#1f77b4\",\"line_alpha\":0.1,\"line_color\":\"#1f77b4\",\"x\":{\"field\":\"x\"},\"y\":{\"field\":\"y\"}},\"id\":\"6439\",\"type\":\"Patch\"},{\"attributes\":{\"source\":{\"id\":\"6501\",\"type\":\"ColumnDataSource\"}},\"id\":\"6505\",\"type\":\"CDSView\"},{\"attributes\":{\"callback\":null,\"data\":{\"N\":[5,6,7,8,9,10,11,12],\"index\":[0,3,6,9,12,15,18,21],\"optim_steps\":{\"__ndarray__\":\"FfmsG0y/l0CVpvglEZKqQKBVxpkQhLlAdHPa0dw6x0AbVAp2oNjiQL4qX5EUfPBAcF/CNXyEAUGM53CDorkUQQ==\",\"dtype\":\"float64\",\"shape\":[8]},\"sampling_type\":[\"rank-bayes-\\u03b20.001-p0.5_stoch:0.1\",\"rank-bayes-\\u03b20.001-p0.5_stoch:0.1\",\"rank-bayes-\\u03b20.001-p0.5_stoch:0.1\",\"rank-bayes-\\u03b20.001-p0.5_stoch:0.1\",\"rank-bayes-\\u03b20.001-p0.5_stoch:0.1\",\"rank-bayes-\\u03b20.001-p0.5_stoch:0.1\",\"rank-bayes-\\u03b20.001-p0.5_stoch:0.1\",\"rank-bayes-\\u03b20.001-p0.5_stoch:0.1\"]},\"selected\":{\"id\":\"6447\",\"type\":\"Selection\"},\"selection_policy\":{\"id\":\"6446\",\"type\":\"UnionRenderers\"}},\"id\":\"6424\",\"type\":\"ColumnDataSource\"},{\"attributes\":{\"source\":{\"id\":\"6437\",\"type\":\"ColumnDataSource\"}},\"id\":\"6441\",\"type\":\"CDSView\"}],\"root_ids\":[\"6387\"]},\"title\":\"Bokeh Application\",\"version\":\"1.0.1\"}};\n",
       "  var render_items = [{\"docid\":\"9249001c-f67a-4b13-9262-f886699b04ca\",\"roots\":{\"6387\":\"8b08dd39-be62-4b1d-bded-037a7e365041\"}}];\n",
       "  root.Bokeh.embed.embed_items_notebook(docs_json, render_items);\n",
       "\n",
       "  }\n",
       "  if (root.Bokeh !== undefined) {\n",
       "    embed_document(root);\n",
       "  } else {\n",
       "    var attempts = 0;\n",
       "    var timer = setInterval(function(root) {\n",
       "      if (root.Bokeh !== undefined) {\n",
       "        embed_document(root);\n",
       "        clearInterval(timer);\n",
       "      }\n",
       "      attempts++;\n",
       "      if (attempts > 100) {\n",
       "        console.log(\"Bokeh: ERROR: Unable to run BokehJS code because BokehJS library is missing\");\n",
       "        clearInterval(timer);\n",
       "      }\n",
       "    }, 10, root)\n",
       "  }\n",
       "})(window);"
      ],
      "application/vnd.bokehjs_exec.v0+json": ""
     },
     "metadata": {
      "application/vnd.bokehjs_exec.v0+json": {
       "id": "6387"
      }
     },
     "output_type": "display_data"
    }
   ],
   "source": [
    "show(lineplot(rank_vs_bayes, 'N', 'optim_steps', 'sampling_type', y_axis_format='00'))"
   ]
  },
  {
   "cell_type": "code",
   "execution_count": 7,
   "metadata": {},
   "outputs": [],
   "source": [
    "# show(lineplot(df4, 'N', 'optim_steps', 'sampling_type', 'trial', y_axis_format='00'))"
   ]
  },
  {
   "cell_type": "code",
   "execution_count": 10,
   "metadata": {},
   "outputs": [
    {
     "data": {
      "text/html": [
       "<div>\n",
       "<style scoped>\n",
       "    .dataframe tbody tr th:only-of-type {\n",
       "        vertical-align: middle;\n",
       "    }\n",
       "\n",
       "    .dataframe tbody tr th {\n",
       "        vertical-align: top;\n",
       "    }\n",
       "\n",
       "    .dataframe thead th {\n",
       "        text-align: right;\n",
       "    }\n",
       "</style>\n",
       "<table border=\"1\" class=\"dataframe\">\n",
       "  <thead>\n",
       "    <tr style=\"text-align: right;\">\n",
       "      <th></th>\n",
       "      <th>step</th>\n",
       "      <th>loss</th>\n",
       "      <th>vote</th>\n",
       "      <th>optim_steps</th>\n",
       "      <th>vote_optim_steps</th>\n",
       "      <th>N</th>\n",
       "      <th>mem</th>\n",
       "      <th>trial</th>\n",
       "      <th>sampling_type</th>\n",
       "      <th>loss_fn</th>\n",
       "    </tr>\n",
       "  </thead>\n",
       "  <tbody>\n",
       "    <tr>\n",
       "      <th>7106023</th>\n",
       "      <td>3283100.0</td>\n",
       "      <td>0.007156</td>\n",
       "      <td>0.0</td>\n",
       "      <td>6095405</td>\n",
       "      <td>NaN</td>\n",
       "      <td>10</td>\n",
       "      <td>2046</td>\n",
       "      <td>9</td>\n",
       "      <td>uniform-td_stoch:0.1</td>\n",
       "      <td>mse</td>\n",
       "    </tr>\n",
       "    <tr>\n",
       "      <th>6539562</th>\n",
       "      <td>1972100.0</td>\n",
       "      <td>0.007090</td>\n",
       "      <td>0.0</td>\n",
       "      <td>3341293</td>\n",
       "      <td>NaN</td>\n",
       "      <td>9</td>\n",
       "      <td>1022</td>\n",
       "      <td>11</td>\n",
       "      <td>uniform-td_stoch:0.1</td>\n",
       "      <td>mse</td>\n",
       "    </tr>\n",
       "    <tr>\n",
       "      <th>3816095</th>\n",
       "      <td>10299400.0</td>\n",
       "      <td>0.058476</td>\n",
       "      <td>0.0</td>\n",
       "      <td>16543886</td>\n",
       "      <td>NaN</td>\n",
       "      <td>11</td>\n",
       "      <td>4094</td>\n",
       "      <td>2</td>\n",
       "      <td>uniform-td_stoch:0.1</td>\n",
       "      <td>mse</td>\n",
       "    </tr>\n",
       "  </tbody>\n",
       "</table>\n",
       "</div>"
      ],
      "text/plain": [
       "               step      loss  vote  optim_steps  vote_optim_steps   N   mem  \\\n",
       "7106023   3283100.0  0.007156   0.0      6095405               NaN  10  2046   \n",
       "6539562   1972100.0  0.007090   0.0      3341293               NaN   9  1022   \n",
       "3816095  10299400.0  0.058476   0.0     16543886               NaN  11  4094   \n",
       "\n",
       "         trial         sampling_type loss_fn  \n",
       "7106023      9  uniform-td_stoch:0.1     mse  \n",
       "6539562     11  uniform-td_stoch:0.1     mse  \n",
       "3816095      2  uniform-td_stoch:0.1     mse  "
      ]
     },
     "execution_count": 10,
     "metadata": {},
     "output_type": "execute_result"
    }
   ],
   "source": [
    "uni_vs_bayes = get_data('endgame_uni', ['2018Dec14-132025', '2018Dec14-142237'])\n",
    "uni_vs_bayes.sample(3)"
   ]
  },
  {
   "cell_type": "code",
   "execution_count": 11,
   "metadata": {},
   "outputs": [
    {
     "data": {
      "text/html": [
       "\n",
       "\n",
       "\n",
       "\n",
       "\n",
       "\n",
       "  <div class=\"bk-root\" id=\"2aacff18-2548-478c-a5b9-d4c5111ae7c9\"></div>\n"
      ]
     },
     "metadata": {},
     "output_type": "display_data"
    },
    {
     "data": {
      "application/javascript": [
       "(function(root) {\n",
       "  function embed_document(root) {\n",
       "    \n",
       "  var docs_json = {\"db89f94d-b7a8-4955-986b-30af91abd0b5\":{\"roots\":{\"references\":[{\"attributes\":{\"below\":[{\"id\":\"1470\",\"type\":\"LinearAxis\"}],\"left\":[{\"id\":\"1475\",\"type\":\"LinearAxis\"}],\"plot_height\":500,\"plot_width\":950,\"renderers\":[{\"id\":\"1470\",\"type\":\"LinearAxis\"},{\"id\":\"1474\",\"type\":\"Grid\"},{\"id\":\"1475\",\"type\":\"LinearAxis\"},{\"id\":\"1479\",\"type\":\"Grid\"},{\"id\":\"1488\",\"type\":\"BoxAnnotation\"},{\"id\":\"1508\",\"type\":\"Legend\"},{\"id\":\"1501\",\"type\":\"GlyphRenderer\"},{\"id\":\"1513\",\"type\":\"GlyphRenderer\"},{\"id\":\"1526\",\"type\":\"GlyphRenderer\"},{\"id\":\"1541\",\"type\":\"GlyphRenderer\"}],\"title\":{\"id\":\"1459\",\"type\":\"Title\"},\"toolbar\":{\"id\":\"1486\",\"type\":\"Toolbar\"},\"x_range\":{\"id\":\"1462\",\"type\":\"DataRange1d\"},\"x_scale\":{\"id\":\"1466\",\"type\":\"LinearScale\"},\"y_range\":{\"id\":\"1464\",\"type\":\"DataRange1d\"},\"y_scale\":{\"id\":\"1468\",\"type\":\"LinearScale\"}},\"id\":\"1460\",\"subtype\":\"Figure\",\"type\":\"Plot\"},{\"attributes\":{\"formatter\":{\"id\":\"1505\",\"type\":\"BasicTickFormatter\"},\"plot\":{\"id\":\"1460\",\"subtype\":\"Figure\",\"type\":\"Plot\"},\"ticker\":{\"id\":\"1471\",\"type\":\"BasicTicker\"}},\"id\":\"1470\",\"type\":\"LinearAxis\"},{\"attributes\":{\"format\":\"00\"},\"id\":\"1495\",\"type\":\"NumeralTickFormatter\"},{\"attributes\":{\"fill_alpha\":0.1,\"fill_color\":\"#1f77b4\",\"line_alpha\":0.1,\"line_color\":\"#1f77b4\",\"x\":{\"field\":\"x\"},\"y\":{\"field\":\"y\"}},\"id\":\"1540\",\"type\":\"Patch\"},{\"attributes\":{\"callback\":null},\"id\":\"1464\",\"type\":\"DataRange1d\"},{\"attributes\":{\"dimension\":1,\"plot\":{\"id\":\"1460\",\"subtype\":\"Figure\",\"type\":\"Plot\"},\"ticker\":{\"id\":\"1476\",\"type\":\"BasicTicker\"}},\"id\":\"1479\",\"type\":\"Grid\"},{\"attributes\":{\"label\":{\"value\":\"rank-bayes-\\u03b20.001-p0.5_stoch:0.1\"},\"renderers\":[{\"id\":\"1501\",\"type\":\"GlyphRenderer\"},{\"id\":\"1513\",\"type\":\"GlyphRenderer\"}]},\"id\":\"1509\",\"type\":\"LegendItem\"},{\"attributes\":{\"line_alpha\":0.1,\"line_color\":\"#1f77b4\",\"line_width\":4,\"x\":{\"field\":\"N\"},\"y\":{\"field\":\"optim_steps\"}},\"id\":\"1525\",\"type\":\"Line\"},{\"attributes\":{},\"id\":\"1594\",\"type\":\"UnionRenderers\"},{\"attributes\":{\"callback\":null,\"data\":{\"N\":[5,6,7,8,9,10,11,12],\"index\":[1,3,5,7,9,11,13,15],\"optim_steps\":{\"__ndarray__\":\"efNJptMPy0CHGUTV8P7WQKpCtXitgQhB7RnTKvtEN0EArBsg+NtDQTcQtJ1052hB5Ce5b3ageUEV4WmstuiKQQ==\",\"dtype\":\"float64\",\"shape\":[8]},\"sampling_type\":[\"uniform-td_stoch:0.1\",\"uniform-td_stoch:0.1\",\"uniform-td_stoch:0.1\",\"uniform-td_stoch:0.1\",\"uniform-td_stoch:0.1\",\"uniform-td_stoch:0.1\",\"uniform-td_stoch:0.1\",\"uniform-td_stoch:0.1\"]},\"selected\":{\"id\":\"1552\",\"type\":\"Selection\"},\"selection_policy\":{\"id\":\"1551\",\"type\":\"UnionRenderers\"}},\"id\":\"1522\",\"type\":\"ColumnDataSource\"},{\"attributes\":{\"plot\":{\"id\":\"1460\",\"subtype\":\"Figure\",\"type\":\"Plot\"},\"ticker\":{\"id\":\"1471\",\"type\":\"BasicTicker\"}},\"id\":\"1474\",\"type\":\"Grid\"},{\"attributes\":{\"click_policy\":\"hide\",\"items\":[{\"id\":\"1509\",\"type\":\"LegendItem\"},{\"id\":\"1537\",\"type\":\"LegendItem\"}],\"location\":\"top_left\",\"plot\":{\"id\":\"1460\",\"subtype\":\"Figure\",\"type\":\"Plot\"}},\"id\":\"1508\",\"type\":\"Legend\"},{\"attributes\":{\"callback\":null,\"data\":{\"x\":[5,6,7,8,9,10,11,12,12,11,10,9,8,7,6,5],\"y\":{\"__ndarray__\":\"0H6wn3IFqkA64RmiGUnDQL/nVmO4NPJAohhraDtMHUH+LBzi3Sg1QX8UiZETQFtBHu3ZBXIgaUHF323352uCQTLxsrDCspFBnKxC7llYg0EXy1G5bxdyQYFBKU+BI01B2bbFvXObQ0G6iN9ff/QTQTihvWyqLOJAn+NTUiXP10A=\",\"dtype\":\"float64\",\"shape\":[16]}},\"selected\":{\"id\":\"1595\",\"type\":\"Selection\"},\"selection_policy\":{\"id\":\"1594\",\"type\":\"UnionRenderers\"}},\"id\":\"1538\",\"type\":\"ColumnDataSource\"},{\"attributes\":{},\"id\":\"1471\",\"type\":\"BasicTicker\"},{\"attributes\":{},\"id\":\"1595\",\"type\":\"Selection\"},{\"attributes\":{\"bottom_units\":\"screen\",\"fill_alpha\":{\"value\":0.5},\"fill_color\":{\"value\":\"lightgrey\"},\"left_units\":\"screen\",\"level\":\"overlay\",\"line_alpha\":{\"value\":1.0},\"line_color\":{\"value\":\"black\"},\"line_dash\":[4,4],\"line_width\":{\"value\":2},\"plot\":null,\"render_mode\":\"css\",\"right_units\":\"screen\",\"top_units\":\"screen\"},\"id\":\"1488\",\"type\":\"BoxAnnotation\"},{\"attributes\":{\"source\":{\"id\":\"1497\",\"type\":\"ColumnDataSource\"}},\"id\":\"1502\",\"type\":\"CDSView\"},{\"attributes\":{\"fill_alpha\":0.3,\"fill_color\":\"#EFF821\",\"line_alpha\":0.3,\"line_color\":\"#EFF821\",\"x\":{\"field\":\"x\"},\"y\":{\"field\":\"y\"}},\"id\":\"1539\",\"type\":\"Patch\"},{\"attributes\":{},\"id\":\"1468\",\"type\":\"LinearScale\"},{\"attributes\":{},\"id\":\"1520\",\"type\":\"Selection\"},{\"attributes\":{\"active_drag\":\"auto\",\"active_inspect\":\"auto\",\"active_multi\":null,\"active_scroll\":\"auto\",\"active_tap\":\"auto\",\"tools\":[{\"id\":\"1480\",\"type\":\"PanTool\"},{\"id\":\"1481\",\"type\":\"WheelZoomTool\"},{\"id\":\"1482\",\"type\":\"BoxZoomTool\"},{\"id\":\"1483\",\"type\":\"SaveTool\"},{\"id\":\"1484\",\"type\":\"ResetTool\"},{\"id\":\"1485\",\"type\":\"HelpTool\"}]},\"id\":\"1486\",\"type\":\"Toolbar\"},{\"attributes\":{\"line_color\":\"#0C0786\",\"line_width\":4,\"x\":{\"field\":\"N\"},\"y\":{\"field\":\"optim_steps\"}},\"id\":\"1499\",\"type\":\"Line\"},{\"attributes\":{},\"id\":\"1519\",\"type\":\"UnionRenderers\"},{\"attributes\":{\"callback\":null},\"id\":\"1462\",\"type\":\"DataRange1d\"},{\"attributes\":{},\"id\":\"1485\",\"type\":\"HelpTool\"},{\"attributes\":{},\"id\":\"1535\",\"type\":\"Selection\"},{\"attributes\":{\"source\":{\"id\":\"1510\",\"type\":\"ColumnDataSource\"}},\"id\":\"1514\",\"type\":\"CDSView\"},{\"attributes\":{},\"id\":\"1476\",\"type\":\"BasicTicker\"},{\"attributes\":{},\"id\":\"1484\",\"type\":\"ResetTool\"},{\"attributes\":{},\"id\":\"1466\",\"type\":\"LinearScale\"},{\"attributes\":{},\"id\":\"1483\",\"type\":\"SaveTool\"},{\"attributes\":{\"line_alpha\":0.1,\"line_color\":\"#1f77b4\",\"line_width\":4,\"x\":{\"field\":\"N\"},\"y\":{\"field\":\"optim_steps\"}},\"id\":\"1500\",\"type\":\"Line\"},{\"attributes\":{\"plot\":null,\"text\":\"Plot\"},\"id\":\"1459\",\"type\":\"Title\"},{\"attributes\":{},\"id\":\"1505\",\"type\":\"BasicTickFormatter\"},{\"attributes\":{\"label\":{\"value\":\"uniform-td_stoch:0.1\"},\"renderers\":[{\"id\":\"1526\",\"type\":\"GlyphRenderer\"},{\"id\":\"1541\",\"type\":\"GlyphRenderer\"}]},\"id\":\"1537\",\"type\":\"LegendItem\"},{\"attributes\":{},\"id\":\"1552\",\"type\":\"Selection\"},{\"attributes\":{\"formatter\":{\"id\":\"1495\",\"type\":\"NumeralTickFormatter\"},\"plot\":{\"id\":\"1460\",\"subtype\":\"Figure\",\"type\":\"Plot\"},\"ticker\":{\"id\":\"1476\",\"type\":\"BasicTicker\"}},\"id\":\"1475\",\"type\":\"LinearAxis\"},{\"attributes\":{},\"id\":\"1551\",\"type\":\"UnionRenderers\"},{\"attributes\":{\"source\":{\"id\":\"1538\",\"type\":\"ColumnDataSource\"}},\"id\":\"1542\",\"type\":\"CDSView\"},{\"attributes\":{\"fill_alpha\":0.3,\"fill_color\":\"#0C0786\",\"line_alpha\":0.3,\"line_color\":\"#0C0786\",\"x\":{\"field\":\"x\"},\"y\":{\"field\":\"y\"}},\"id\":\"1511\",\"type\":\"Patch\"},{\"attributes\":{},\"id\":\"1534\",\"type\":\"UnionRenderers\"},{\"attributes\":{\"callback\":null,\"data\":{\"x\":[5,6,7,8,9,10,11,12,12,11,10,9,8,7,6,5],\"y\":{\"__ndarray__\":\"M/UdG2y8jkDrz5t69TKfQHzIRngj7KdA1hiGhtwBvkAg2eArg6ivQL0BUMtoueNAYwOFFwyn8EAUh5rTRw0IQVLw7v3YVxtBr9NmJ0duE0Ge2cBh07H6QIBeI4VIugBBPTryZmPqzEAjgI7AoHjCQEwzKiDHRbBAq3ow8dz0oEA=\",\"dtype\":\"float64\",\"shape\":[16]}},\"selected\":{\"id\":\"1535\",\"type\":\"Selection\"},\"selection_policy\":{\"id\":\"1534\",\"type\":\"UnionRenderers\"}},\"id\":\"1510\",\"type\":\"ColumnDataSource\"},{\"attributes\":{},\"id\":\"1480\",\"type\":\"PanTool\"},{\"attributes\":{\"source\":{\"id\":\"1522\",\"type\":\"ColumnDataSource\"}},\"id\":\"1527\",\"type\":\"CDSView\"},{\"attributes\":{},\"id\":\"1481\",\"type\":\"WheelZoomTool\"},{\"attributes\":{\"data_source\":{\"id\":\"1522\",\"type\":\"ColumnDataSource\"},\"glyph\":{\"id\":\"1524\",\"type\":\"Line\"},\"hover_glyph\":null,\"muted_glyph\":null,\"nonselection_glyph\":{\"id\":\"1525\",\"type\":\"Line\"},\"selection_glyph\":null,\"view\":{\"id\":\"1527\",\"type\":\"CDSView\"}},\"id\":\"1526\",\"type\":\"GlyphRenderer\"},{\"attributes\":{\"fill_alpha\":0.1,\"fill_color\":\"#1f77b4\",\"line_alpha\":0.1,\"line_color\":\"#1f77b4\",\"x\":{\"field\":\"x\"},\"y\":{\"field\":\"y\"}},\"id\":\"1512\",\"type\":\"Patch\"},{\"attributes\":{\"overlay\":{\"id\":\"1488\",\"type\":\"BoxAnnotation\"}},\"id\":\"1482\",\"type\":\"BoxZoomTool\"},{\"attributes\":{\"line_color\":\"#EFF821\",\"line_width\":4,\"x\":{\"field\":\"N\"},\"y\":{\"field\":\"optim_steps\"}},\"id\":\"1524\",\"type\":\"Line\"},{\"attributes\":{\"data_source\":{\"id\":\"1510\",\"type\":\"ColumnDataSource\"},\"glyph\":{\"id\":\"1511\",\"type\":\"Patch\"},\"hover_glyph\":null,\"muted_glyph\":null,\"nonselection_glyph\":{\"id\":\"1512\",\"type\":\"Patch\"},\"selection_glyph\":null,\"view\":{\"id\":\"1514\",\"type\":\"CDSView\"}},\"id\":\"1513\",\"type\":\"GlyphRenderer\"},{\"attributes\":{\"callback\":null,\"data\":{\"N\":[5,6,7,8,9,10,11,12],\"index\":[0,2,4,6,8,10,12,14],\"optim_steps\":{\"__ndarray__\":\"+Pf39/ejmEBHJ9F+hBKoQEIyoJ6pc7hAVKMa1aj1xUDl4dKR6jjxQD5ttONDR/JAiBRILQqYB0HuGd5zPq8TQQ==\",\"dtype\":\"float64\",\"shape\":[8]},\"sampling_type\":[\"rank-bayes-\\u03b20.001-p0.5_stoch:0.1\",\"rank-bayes-\\u03b20.001-p0.5_stoch:0.1\",\"rank-bayes-\\u03b20.001-p0.5_stoch:0.1\",\"rank-bayes-\\u03b20.001-p0.5_stoch:0.1\",\"rank-bayes-\\u03b20.001-p0.5_stoch:0.1\",\"rank-bayes-\\u03b20.001-p0.5_stoch:0.1\",\"rank-bayes-\\u03b20.001-p0.5_stoch:0.1\",\"rank-bayes-\\u03b20.001-p0.5_stoch:0.1\"]},\"selected\":{\"id\":\"1520\",\"type\":\"Selection\"},\"selection_policy\":{\"id\":\"1519\",\"type\":\"UnionRenderers\"}},\"id\":\"1497\",\"type\":\"ColumnDataSource\"},{\"attributes\":{\"data_source\":{\"id\":\"1538\",\"type\":\"ColumnDataSource\"},\"glyph\":{\"id\":\"1539\",\"type\":\"Patch\"},\"hover_glyph\":null,\"muted_glyph\":null,\"nonselection_glyph\":{\"id\":\"1540\",\"type\":\"Patch\"},\"selection_glyph\":null,\"view\":{\"id\":\"1542\",\"type\":\"CDSView\"}},\"id\":\"1541\",\"type\":\"GlyphRenderer\"},{\"attributes\":{\"data_source\":{\"id\":\"1497\",\"type\":\"ColumnDataSource\"},\"glyph\":{\"id\":\"1499\",\"type\":\"Line\"},\"hover_glyph\":null,\"muted_glyph\":null,\"nonselection_glyph\":{\"id\":\"1500\",\"type\":\"Line\"},\"selection_glyph\":null,\"view\":{\"id\":\"1502\",\"type\":\"CDSView\"}},\"id\":\"1501\",\"type\":\"GlyphRenderer\"}],\"root_ids\":[\"1460\"]},\"title\":\"Bokeh Application\",\"version\":\"1.0.1\"}};\n",
       "  var render_items = [{\"docid\":\"db89f94d-b7a8-4955-986b-30af91abd0b5\",\"roots\":{\"1460\":\"2aacff18-2548-478c-a5b9-d4c5111ae7c9\"}}];\n",
       "  root.Bokeh.embed.embed_items_notebook(docs_json, render_items);\n",
       "\n",
       "  }\n",
       "  if (root.Bokeh !== undefined) {\n",
       "    embed_document(root);\n",
       "  } else {\n",
       "    var attempts = 0;\n",
       "    var timer = setInterval(function(root) {\n",
       "      if (root.Bokeh !== undefined) {\n",
       "        embed_document(root);\n",
       "        clearInterval(timer);\n",
       "      }\n",
       "      attempts++;\n",
       "      if (attempts > 100) {\n",
       "        console.log(\"Bokeh: ERROR: Unable to run BokehJS code because BokehJS library is missing\");\n",
       "        clearInterval(timer);\n",
       "      }\n",
       "    }, 10, root)\n",
       "  }\n",
       "})(window);"
      ],
      "application/vnd.bokehjs_exec.v0+json": ""
     },
     "metadata": {
      "application/vnd.bokehjs_exec.v0+json": {
       "id": "1460"
      }
     },
     "output_type": "display_data"
    }
   ],
   "source": [
    "show(lineplot(uni_vs_bayes, 'N', 'optim_steps', 'sampling_type', y_axis_format='00'))"
   ]
  },
  {
   "cell_type": "code",
   "execution_count": 36,
   "metadata": {},
   "outputs": [
    {
     "data": {
      "text/html": [
       "\n",
       "\n",
       "\n",
       "\n",
       "\n",
       "\n",
       "  <div class=\"bk-root\" id=\"bc0dc704-f22e-427f-afe3-095dd14b0578\"></div>\n"
      ]
     },
     "metadata": {},
     "output_type": "display_data"
    },
    {
     "data": {
      "application/javascript": [
       "(function(root) {\n",
       "  function embed_document(root) {\n",
       "    \n",
       "  var docs_json = {\"d8705b9a-a42e-4ac6-bef2-dc2f40ff91d3\":{\"roots\":{\"references\":[{\"attributes\":{\"below\":[{\"id\":\"7504\",\"type\":\"LinearAxis\"}],\"left\":[{\"id\":\"7509\",\"type\":\"LogAxis\"}],\"plot_height\":500,\"plot_width\":950,\"renderers\":[{\"id\":\"7504\",\"type\":\"LinearAxis\"},{\"id\":\"7508\",\"type\":\"Grid\"},{\"id\":\"7509\",\"type\":\"LogAxis\"},{\"id\":\"7513\",\"type\":\"Grid\"},{\"id\":\"7522\",\"type\":\"BoxAnnotation\"},{\"id\":\"7542\",\"type\":\"Legend\"},{\"id\":\"7535\",\"type\":\"GlyphRenderer\"},{\"id\":\"7547\",\"type\":\"GlyphRenderer\"},{\"id\":\"7560\",\"type\":\"GlyphRenderer\"},{\"id\":\"7575\",\"type\":\"GlyphRenderer\"},{\"id\":\"7592\",\"type\":\"GlyphRenderer\"},{\"id\":\"7611\",\"type\":\"GlyphRenderer\"},{\"id\":\"7632\",\"type\":\"GlyphRenderer\"},{\"id\":\"7655\",\"type\":\"GlyphRenderer\"}],\"title\":{\"id\":\"7493\",\"type\":\"Title\"},\"toolbar\":{\"id\":\"7520\",\"type\":\"Toolbar\"},\"x_range\":{\"id\":\"7496\",\"type\":\"DataRange1d\"},\"x_scale\":{\"id\":\"7500\",\"type\":\"LinearScale\"},\"y_range\":{\"id\":\"7498\",\"type\":\"DataRange1d\"},\"y_scale\":{\"id\":\"7502\",\"type\":\"LogScale\"}},\"id\":\"7494\",\"subtype\":\"Figure\",\"type\":\"Plot\"},{\"attributes\":{\"callback\":null,\"data\":{\"N\":[5,6,7,8,9,10,11,12],\"index\":[3,7,11,15,19,23,27,31],\"optim_steps\":{\"__ndarray__\":\"efNJptMPy0CHGUTV8P7WQKpCtXitgQhB7RnTKvtEN0EArBsg+NtDQTcQtJ1052hB5Ce5b3ageUEV4WmstuiKQQ==\",\"dtype\":\"float64\",\"shape\":[8]},\"sampling_type\":[\"uniform-td_stoch:0.1\",\"uniform-td_stoch:0.1\",\"uniform-td_stoch:0.1\",\"uniform-td_stoch:0.1\",\"uniform-td_stoch:0.1\",\"uniform-td_stoch:0.1\",\"uniform-td_stoch:0.1\",\"uniform-td_stoch:0.1\"]},\"selected\":{\"id\":\"7674\",\"type\":\"Selection\"},\"selection_policy\":{\"id\":\"7673\",\"type\":\"UnionRenderers\"}},\"id\":\"7628\",\"type\":\"ColumnDataSource\"},{\"attributes\":{\"label\":{\"value\":\"rank-bayes-\\u03b20.01-p0.5_stoch:0.1\"},\"renderers\":[{\"id\":\"7560\",\"type\":\"GlyphRenderer\"},{\"id\":\"7575\",\"type\":\"GlyphRenderer\"}]},\"id\":\"7571\",\"type\":\"LegendItem\"},{\"attributes\":{\"callback\":null,\"data\":{\"x\":[5,6,7,8,9,10,11,12,12,11,10,9,8,7,6,5],\"y\":{\"__ndarray__\":\"0H6wn3IFqkA64RmiGUnDQL/nVmO4NPJAohhraDtMHUH+LBzi3Sg1QX8UiZETQFtBHu3ZBXIgaUHF323352uCQTLxsrDCspFBnKxC7llYg0EXy1G5bxdyQYFBKU+BI01B2bbFvXObQ0G6iN9ff/QTQTihvWyqLOJAn+NTUiXP10A=\",\"dtype\":\"float64\",\"shape\":[16]}},\"selected\":{\"id\":\"7986\",\"type\":\"Selection\"},\"selection_policy\":{\"id\":\"7985\",\"type\":\"UnionRenderers\"}},\"id\":\"7652\",\"type\":\"ColumnDataSource\"},{\"attributes\":{},\"id\":\"7554\",\"type\":\"Selection\"},{\"attributes\":{\"format\":\"00\"},\"id\":\"7529\",\"type\":\"NumeralTickFormatter\"},{\"attributes\":{\"fill_alpha\":0.1,\"fill_color\":\"#1f77b4\",\"line_alpha\":0.1,\"line_color\":\"#1f77b4\",\"x\":{\"field\":\"x\"},\"y\":{\"field\":\"y\"}},\"id\":\"7574\",\"type\":\"Patch\"},{\"attributes\":{\"line_alpha\":0.1,\"line_color\":\"#1f77b4\",\"line_width\":4,\"x\":{\"field\":\"N\"},\"y\":{\"field\":\"optim_steps\"}},\"id\":\"7559\",\"type\":\"Line\"},{\"attributes\":{\"line_color\":\"#EC7853\",\"line_width\":4,\"x\":{\"field\":\"N\"},\"y\":{\"field\":\"optim_steps\"}},\"id\":\"7590\",\"type\":\"Line\"},{\"attributes\":{\"data_source\":{\"id\":\"7608\",\"type\":\"ColumnDataSource\"},\"glyph\":{\"id\":\"7609\",\"type\":\"Patch\"},\"hover_glyph\":null,\"muted_glyph\":null,\"nonselection_glyph\":{\"id\":\"7610\",\"type\":\"Patch\"},\"selection_glyph\":null,\"view\":{\"id\":\"7612\",\"type\":\"CDSView\"}},\"id\":\"7611\",\"type\":\"GlyphRenderer\"},{\"attributes\":{},\"id\":\"7569\",\"type\":\"Selection\"},{\"attributes\":{\"fill_alpha\":0.1,\"fill_color\":\"#1f77b4\",\"line_alpha\":0.1,\"line_color\":\"#1f77b4\",\"x\":{\"field\":\"x\"},\"y\":{\"field\":\"y\"}},\"id\":\"7610\",\"type\":\"Patch\"},{\"attributes\":{\"callback\":null,\"data\":{\"N\":[5,6,7,8,9,10,11,12],\"index\":[2,6,10,14,18,22,26,30],\"optim_steps\":{\"__ndarray__\":\"99O8NYg9uUBdgARr9aviQPvRxxwCfAJB9jp85vMfJUEi6lLHDhgxQZZR49CyglJBFFpzeW7+cEGVQ+Em+G2AQQ==\",\"dtype\":\"float64\",\"shape\":[8]},\"sampling_type\":[\"rank-td_stoch:0.1\",\"rank-td_stoch:0.1\",\"rank-td_stoch:0.1\",\"rank-td_stoch:0.1\",\"rank-td_stoch:0.1\",\"rank-td_stoch:0.1\",\"rank-td_stoch:0.1\",\"rank-td_stoch:0.1\"]},\"selected\":{\"id\":\"7626\",\"type\":\"Selection\"},\"selection_policy\":{\"id\":\"7625\",\"type\":\"UnionRenderers\"}},\"id\":\"7588\",\"type\":\"ColumnDataSource\"},{\"attributes\":{},\"id\":\"7514\",\"type\":\"PanTool\"},{\"attributes\":{\"data_source\":{\"id\":\"7556\",\"type\":\"ColumnDataSource\"},\"glyph\":{\"id\":\"7558\",\"type\":\"Line\"},\"hover_glyph\":null,\"muted_glyph\":null,\"nonselection_glyph\":{\"id\":\"7559\",\"type\":\"Line\"},\"selection_glyph\":null,\"view\":{\"id\":\"7561\",\"type\":\"CDSView\"}},\"id\":\"7560\",\"type\":\"GlyphRenderer\"},{\"attributes\":{},\"id\":\"7585\",\"type\":\"UnionRenderers\"},{\"attributes\":{},\"id\":\"7500\",\"type\":\"LinearScale\"},{\"attributes\":{},\"id\":\"7625\",\"type\":\"UnionRenderers\"},{\"attributes\":{},\"id\":\"7986\",\"type\":\"Selection\"},{\"attributes\":{\"line_alpha\":0.1,\"line_color\":\"#1f77b4\",\"line_width\":4,\"x\":{\"field\":\"N\"},\"y\":{\"field\":\"optim_steps\"}},\"id\":\"7631\",\"type\":\"Line\"},{\"attributes\":{},\"id\":\"7515\",\"type\":\"WheelZoomTool\"},{\"attributes\":{\"formatter\":{\"id\":\"7539\",\"type\":\"BasicTickFormatter\"},\"plot\":{\"id\":\"7494\",\"subtype\":\"Figure\",\"type\":\"Plot\"},\"ticker\":{\"id\":\"7505\",\"type\":\"BasicTicker\"}},\"id\":\"7504\",\"type\":\"LinearAxis\"},{\"attributes\":{\"label\":{\"value\":\"rank-bayes-\\u03b20.001-p0.5_stoch:0.1\"},\"renderers\":[{\"id\":\"7535\",\"type\":\"GlyphRenderer\"},{\"id\":\"7547\",\"type\":\"GlyphRenderer\"}]},\"id\":\"7543\",\"type\":\"LegendItem\"},{\"attributes\":{\"callback\":null},\"id\":\"7498\",\"type\":\"DataRange1d\"},{\"attributes\":{},\"id\":\"7539\",\"type\":\"BasicTickFormatter\"},{\"attributes\":{\"data_source\":{\"id\":\"7572\",\"type\":\"ColumnDataSource\"},\"glyph\":{\"id\":\"7573\",\"type\":\"Patch\"},\"hover_glyph\":null,\"muted_glyph\":null,\"nonselection_glyph\":{\"id\":\"7574\",\"type\":\"Patch\"},\"selection_glyph\":null,\"view\":{\"id\":\"7576\",\"type\":\"CDSView\"}},\"id\":\"7575\",\"type\":\"GlyphRenderer\"},{\"attributes\":{\"fill_alpha\":0.3,\"fill_color\":\"#EFF821\",\"line_alpha\":0.3,\"line_color\":\"#EFF821\",\"x\":{\"field\":\"x\"},\"y\":{\"field\":\"y\"}},\"id\":\"7653\",\"type\":\"Patch\"},{\"attributes\":{},\"id\":\"7648\",\"type\":\"UnionRenderers\"},{\"attributes\":{\"data_source\":{\"id\":\"7588\",\"type\":\"ColumnDataSource\"},\"glyph\":{\"id\":\"7590\",\"type\":\"Line\"},\"hover_glyph\":null,\"muted_glyph\":null,\"nonselection_glyph\":{\"id\":\"7591\",\"type\":\"Line\"},\"selection_glyph\":null,\"view\":{\"id\":\"7593\",\"type\":\"CDSView\"}},\"id\":\"7592\",\"type\":\"GlyphRenderer\"},{\"attributes\":{},\"id\":\"7502\",\"type\":\"LogScale\"},{\"attributes\":{\"line_color\":\"#EFF821\",\"line_width\":4,\"x\":{\"field\":\"N\"},\"y\":{\"field\":\"optim_steps\"}},\"id\":\"7630\",\"type\":\"Line\"},{\"attributes\":{\"callback\":null},\"id\":\"7496\",\"type\":\"DataRange1d\"},{\"attributes\":{\"line_alpha\":0.1,\"line_color\":\"#1f77b4\",\"line_width\":4,\"x\":{\"field\":\"N\"},\"y\":{\"field\":\"optim_steps\"}},\"id\":\"7534\",\"type\":\"Line\"},{\"attributes\":{\"source\":{\"id\":\"7588\",\"type\":\"ColumnDataSource\"}},\"id\":\"7593\",\"type\":\"CDSView\"},{\"attributes\":{},\"id\":\"7553\",\"type\":\"UnionRenderers\"},{\"attributes\":{\"data_source\":{\"id\":\"7628\",\"type\":\"ColumnDataSource\"},\"glyph\":{\"id\":\"7630\",\"type\":\"Line\"},\"hover_glyph\":null,\"muted_glyph\":null,\"nonselection_glyph\":{\"id\":\"7631\",\"type\":\"Line\"},\"selection_glyph\":null,\"view\":{\"id\":\"7633\",\"type\":\"CDSView\"}},\"id\":\"7632\",\"type\":\"GlyphRenderer\"},{\"attributes\":{\"source\":{\"id\":\"7556\",\"type\":\"ColumnDataSource\"}},\"id\":\"7561\",\"type\":\"CDSView\"},{\"attributes\":{\"line_color\":\"#9B179E\",\"line_width\":4,\"x\":{\"field\":\"N\"},\"y\":{\"field\":\"optim_steps\"}},\"id\":\"7558\",\"type\":\"Line\"},{\"attributes\":{},\"id\":\"7505\",\"type\":\"BasicTicker\"},{\"attributes\":{},\"id\":\"7605\",\"type\":\"Selection\"},{\"attributes\":{\"data_source\":{\"id\":\"7652\",\"type\":\"ColumnDataSource\"},\"glyph\":{\"id\":\"7653\",\"type\":\"Patch\"},\"hover_glyph\":null,\"muted_glyph\":null,\"nonselection_glyph\":{\"id\":\"7654\",\"type\":\"Patch\"},\"selection_glyph\":null,\"view\":{\"id\":\"7656\",\"type\":\"CDSView\"}},\"id\":\"7655\",\"type\":\"GlyphRenderer\"},{\"attributes\":{\"fill_alpha\":0.3,\"fill_color\":\"#EC7853\",\"line_alpha\":0.3,\"line_color\":\"#EC7853\",\"x\":{\"field\":\"x\"},\"y\":{\"field\":\"y\"}},\"id\":\"7609\",\"type\":\"Patch\"},{\"attributes\":{\"fill_alpha\":0.1,\"fill_color\":\"#1f77b4\",\"line_alpha\":0.1,\"line_color\":\"#1f77b4\",\"x\":{\"field\":\"x\"},\"y\":{\"field\":\"y\"}},\"id\":\"7654\",\"type\":\"Patch\"},{\"attributes\":{},\"id\":\"7568\",\"type\":\"UnionRenderers\"},{\"attributes\":{},\"id\":\"7985\",\"type\":\"UnionRenderers\"},{\"attributes\":{\"overlay\":{\"id\":\"7522\",\"type\":\"BoxAnnotation\"}},\"id\":\"7516\",\"type\":\"BoxZoomTool\"},{\"attributes\":{\"label\":{\"value\":\"uniform-td_stoch:0.1\"},\"renderers\":[{\"id\":\"7632\",\"type\":\"GlyphRenderer\"},{\"id\":\"7655\",\"type\":\"GlyphRenderer\"}]},\"id\":\"7651\",\"type\":\"LegendItem\"},{\"attributes\":{\"source\":{\"id\":\"7544\",\"type\":\"ColumnDataSource\"}},\"id\":\"7548\",\"type\":\"CDSView\"},{\"attributes\":{\"click_policy\":\"hide\",\"items\":[{\"id\":\"7543\",\"type\":\"LegendItem\"},{\"id\":\"7571\",\"type\":\"LegendItem\"},{\"id\":\"7607\",\"type\":\"LegendItem\"},{\"id\":\"7651\",\"type\":\"LegendItem\"}],\"location\":\"top_left\",\"plot\":{\"id\":\"7494\",\"subtype\":\"Figure\",\"type\":\"Plot\"}},\"id\":\"7542\",\"type\":\"Legend\"},{\"attributes\":{\"source\":{\"id\":\"7572\",\"type\":\"ColumnDataSource\"}},\"id\":\"7576\",\"type\":\"CDSView\"},{\"attributes\":{},\"id\":\"7649\",\"type\":\"Selection\"},{\"attributes\":{\"source\":{\"id\":\"7531\",\"type\":\"ColumnDataSource\"}},\"id\":\"7536\",\"type\":\"CDSView\"},{\"attributes\":{\"formatter\":{\"id\":\"7529\",\"type\":\"NumeralTickFormatter\"},\"plot\":{\"id\":\"7494\",\"subtype\":\"Figure\",\"type\":\"Plot\"},\"ticker\":{\"id\":\"7510\",\"type\":\"LogTicker\"}},\"id\":\"7509\",\"type\":\"LogAxis\"},{\"attributes\":{\"data_source\":{\"id\":\"7531\",\"type\":\"ColumnDataSource\"},\"glyph\":{\"id\":\"7533\",\"type\":\"Line\"},\"hover_glyph\":null,\"muted_glyph\":null,\"nonselection_glyph\":{\"id\":\"7534\",\"type\":\"Line\"},\"selection_glyph\":null,\"view\":{\"id\":\"7536\",\"type\":\"CDSView\"}},\"id\":\"7535\",\"type\":\"GlyphRenderer\"},{\"attributes\":{\"num_minor_ticks\":10},\"id\":\"7510\",\"type\":\"LogTicker\"},{\"attributes\":{\"dimension\":1,\"minor_grid_line_alpha\":{\"value\":0.1},\"minor_grid_line_color\":{\"value\":\"#5B5B5B\"},\"plot\":{\"id\":\"7494\",\"subtype\":\"Figure\",\"type\":\"Plot\"},\"ticker\":{\"id\":\"7510\",\"type\":\"LogTicker\"}},\"id\":\"7513\",\"type\":\"Grid\"},{\"attributes\":{\"callback\":null,\"data\":{\"x\":[5,6,7,8,9,10,11,12,12,11,10,9,8,7,6,5],\"y\":{\"__ndarray__\":\"zh8i4DaLkEAoHpj4LO2SQLsyWkf54a1AEpiQOVowv0DeEAWeKkXYQMAu2wewpd1A7GrXTW0V9kD38YwcU+4GQRxWm3gb/B1BagmZxEH+B0HMiccgvY75QMcfEp2rjulA35rshozdzkDxyO9HkgvCQAuf0ufF1rVAXNI3V2HznkA=\",\"dtype\":\"float64\",\"shape\":[16]}},\"selected\":{\"id\":\"7569\",\"type\":\"Selection\"},\"selection_policy\":{\"id\":\"7568\",\"type\":\"UnionRenderers\"}},\"id\":\"7544\",\"type\":\"ColumnDataSource\"},{\"attributes\":{\"label\":{\"value\":\"rank-td_stoch:0.1\"},\"renderers\":[{\"id\":\"7592\",\"type\":\"GlyphRenderer\"},{\"id\":\"7611\",\"type\":\"GlyphRenderer\"}]},\"id\":\"7607\",\"type\":\"LegendItem\"},{\"attributes\":{\"plot\":{\"id\":\"7494\",\"subtype\":\"Figure\",\"type\":\"Plot\"},\"ticker\":{\"id\":\"7505\",\"type\":\"BasicTicker\"}},\"id\":\"7508\",\"type\":\"Grid\"},{\"attributes\":{},\"id\":\"7626\",\"type\":\"Selection\"},{\"attributes\":{\"source\":{\"id\":\"7628\",\"type\":\"ColumnDataSource\"}},\"id\":\"7633\",\"type\":\"CDSView\"},{\"attributes\":{\"line_alpha\":0.1,\"line_color\":\"#1f77b4\",\"line_width\":4,\"x\":{\"field\":\"N\"},\"y\":{\"field\":\"optim_steps\"}},\"id\":\"7591\",\"type\":\"Line\"},{\"attributes\":{\"source\":{\"id\":\"7608\",\"type\":\"ColumnDataSource\"}},\"id\":\"7612\",\"type\":\"CDSView\"},{\"attributes\":{},\"id\":\"7604\",\"type\":\"UnionRenderers\"},{\"attributes\":{\"plot\":null,\"text\":\"Plot\"},\"id\":\"7493\",\"type\":\"Title\"},{\"attributes\":{},\"id\":\"7586\",\"type\":\"Selection\"},{\"attributes\":{\"callback\":null,\"data\":{\"x\":[5,6,7,8,9,10,11,12,12,11,10,9,8,7,6,5],\"y\":{\"__ndarray__\":\"syAJFQbfrUC4M7Q/3azIQFKw7MViPfVALMpdg/YeEUGO8X25FbkhQXPedmbqo0VBKHrq+vZTYkHiUlQDEtp3QbldGEzn7oRBFHdxdeHSeEHyM4tucDNaQX3b5rGSUzlBa8ikRTbYMEHNS5nWUlkKQczzG4azLO9Ayot6sMbFwUA=\",\"dtype\":\"float64\",\"shape\":[16]}},\"selected\":{\"id\":\"7649\",\"type\":\"Selection\"},\"selection_policy\":{\"id\":\"7648\",\"type\":\"UnionRenderers\"}},\"id\":\"7608\",\"type\":\"ColumnDataSource\"},{\"attributes\":{\"callback\":null,\"data\":{\"N\":[5,6,7,8,9,10,11,12],\"index\":[0,4,8,12,16,20,24,28],\"optim_steps\":{\"__ndarray__\":\"FfmsG0y/l0CVpvglEZKqQKBVxpkQhLlAdHPa0dw6x0AbVAp2oNjiQL4qX5EUfPBAcF/CNXyEAUGM53CDorkUQQ==\",\"dtype\":\"float64\",\"shape\":[8]},\"sampling_type\":[\"rank-bayes-\\u03b20.001-p0.5_stoch:0.1\",\"rank-bayes-\\u03b20.001-p0.5_stoch:0.1\",\"rank-bayes-\\u03b20.001-p0.5_stoch:0.1\",\"rank-bayes-\\u03b20.001-p0.5_stoch:0.1\",\"rank-bayes-\\u03b20.001-p0.5_stoch:0.1\",\"rank-bayes-\\u03b20.001-p0.5_stoch:0.1\",\"rank-bayes-\\u03b20.001-p0.5_stoch:0.1\",\"rank-bayes-\\u03b20.001-p0.5_stoch:0.1\"]},\"selected\":{\"id\":\"7554\",\"type\":\"Selection\"},\"selection_policy\":{\"id\":\"7553\",\"type\":\"UnionRenderers\"}},\"id\":\"7531\",\"type\":\"ColumnDataSource\"},{\"attributes\":{\"callback\":null,\"data\":{\"N\":[5,6,7,8,9,10,11,12],\"index\":[1,5,9,13,17,21,25,29],\"optim_steps\":{\"__ndarray__\":\"fLfxhO+alkC7urq6OjWmQBQQQDNcKr9A0KyzqqcK1EBocxHSDFXhQJGJz+IYxutAFxNTHIEu/UDjeitkGpkTQQ==\",\"dtype\":\"float64\",\"shape\":[8]},\"sampling_type\":[\"rank-bayes-\\u03b20.01-p0.5_stoch:0.1\",\"rank-bayes-\\u03b20.01-p0.5_stoch:0.1\",\"rank-bayes-\\u03b20.01-p0.5_stoch:0.1\",\"rank-bayes-\\u03b20.01-p0.5_stoch:0.1\",\"rank-bayes-\\u03b20.01-p0.5_stoch:0.1\",\"rank-bayes-\\u03b20.01-p0.5_stoch:0.1\",\"rank-bayes-\\u03b20.01-p0.5_stoch:0.1\",\"rank-bayes-\\u03b20.01-p0.5_stoch:0.1\"]},\"selected\":{\"id\":\"7586\",\"type\":\"Selection\"},\"selection_policy\":{\"id\":\"7585\",\"type\":\"UnionRenderers\"}},\"id\":\"7556\",\"type\":\"ColumnDataSource\"},{\"attributes\":{},\"id\":\"7517\",\"type\":\"SaveTool\"},{\"attributes\":{\"data_source\":{\"id\":\"7544\",\"type\":\"ColumnDataSource\"},\"glyph\":{\"id\":\"7545\",\"type\":\"Patch\"},\"hover_glyph\":null,\"muted_glyph\":null,\"nonselection_glyph\":{\"id\":\"7546\",\"type\":\"Patch\"},\"selection_glyph\":null,\"view\":{\"id\":\"7548\",\"type\":\"CDSView\"}},\"id\":\"7547\",\"type\":\"GlyphRenderer\"},{\"attributes\":{},\"id\":\"7674\",\"type\":\"Selection\"},{\"attributes\":{\"active_drag\":\"auto\",\"active_inspect\":\"auto\",\"active_multi\":null,\"active_scroll\":\"auto\",\"active_tap\":\"auto\",\"tools\":[{\"id\":\"7514\",\"type\":\"PanTool\"},{\"id\":\"7515\",\"type\":\"WheelZoomTool\"},{\"id\":\"7516\",\"type\":\"BoxZoomTool\"},{\"id\":\"7517\",\"type\":\"SaveTool\"},{\"id\":\"7518\",\"type\":\"ResetTool\"},{\"id\":\"7519\",\"type\":\"HelpTool\"}]},\"id\":\"7520\",\"type\":\"Toolbar\"},{\"attributes\":{\"fill_alpha\":0.3,\"fill_color\":\"#9B179E\",\"line_alpha\":0.3,\"line_color\":\"#9B179E\",\"x\":{\"field\":\"x\"},\"y\":{\"field\":\"y\"}},\"id\":\"7573\",\"type\":\"Patch\"},{\"attributes\":{},\"id\":\"7518\",\"type\":\"ResetTool\"},{\"attributes\":{\"callback\":null,\"data\":{\"x\":[5,6,7,8,9,10,11,12,12,11,10,9,8,7,6,5],\"y\":{\"__ndarray__\":\"S/l6R6Agj0BcrygqhGedQJRSKKBSFLBAKOjTwyRnu0CyNAbOAvjTQLwtyJ886uFA0BNXlqSl70DivwDF3e4FQdWV1uXFOhxBI0699hdFBUGzcuuS+tDyQHfMHz0YruhAyy85EsOd4EDK5ivjMiDHQMgdYWCztq1AUvIl5o6lnUA=\",\"dtype\":\"float64\",\"shape\":[16]}},\"selected\":{\"id\":\"7605\",\"type\":\"Selection\"},\"selection_policy\":{\"id\":\"7604\",\"type\":\"UnionRenderers\"}},\"id\":\"7572\",\"type\":\"ColumnDataSource\"},{\"attributes\":{\"bottom_units\":\"screen\",\"fill_alpha\":{\"value\":0.5},\"fill_color\":{\"value\":\"lightgrey\"},\"left_units\":\"screen\",\"level\":\"overlay\",\"line_alpha\":{\"value\":1.0},\"line_color\":{\"value\":\"black\"},\"line_dash\":[4,4],\"line_width\":{\"value\":2},\"plot\":null,\"render_mode\":\"css\",\"right_units\":\"screen\",\"top_units\":\"screen\"},\"id\":\"7522\",\"type\":\"BoxAnnotation\"},{\"attributes\":{},\"id\":\"7673\",\"type\":\"UnionRenderers\"},{\"attributes\":{\"fill_alpha\":0.3,\"fill_color\":\"#0C0786\",\"line_alpha\":0.3,\"line_color\":\"#0C0786\",\"x\":{\"field\":\"x\"},\"y\":{\"field\":\"y\"}},\"id\":\"7545\",\"type\":\"Patch\"},{\"attributes\":{\"line_color\":\"#0C0786\",\"line_width\":4,\"x\":{\"field\":\"N\"},\"y\":{\"field\":\"optim_steps\"}},\"id\":\"7533\",\"type\":\"Line\"},{\"attributes\":{\"fill_alpha\":0.1,\"fill_color\":\"#1f77b4\",\"line_alpha\":0.1,\"line_color\":\"#1f77b4\",\"x\":{\"field\":\"x\"},\"y\":{\"field\":\"y\"}},\"id\":\"7546\",\"type\":\"Patch\"},{\"attributes\":{},\"id\":\"7519\",\"type\":\"HelpTool\"},{\"attributes\":{\"source\":{\"id\":\"7652\",\"type\":\"ColumnDataSource\"}},\"id\":\"7656\",\"type\":\"CDSView\"}],\"root_ids\":[\"7494\"]},\"title\":\"Bokeh Application\",\"version\":\"1.0.1\"}};\n",
       "  var render_items = [{\"docid\":\"d8705b9a-a42e-4ac6-bef2-dc2f40ff91d3\",\"roots\":{\"7494\":\"bc0dc704-f22e-427f-afe3-095dd14b0578\"}}];\n",
       "  root.Bokeh.embed.embed_items_notebook(docs_json, render_items);\n",
       "\n",
       "  }\n",
       "  if (root.Bokeh !== undefined) {\n",
       "    embed_document(root);\n",
       "  } else {\n",
       "    var attempts = 0;\n",
       "    var timer = setInterval(function(root) {\n",
       "      if (root.Bokeh !== undefined) {\n",
       "        embed_document(root);\n",
       "        clearInterval(timer);\n",
       "      }\n",
       "      attempts++;\n",
       "      if (attempts > 100) {\n",
       "        console.log(\"Bokeh: ERROR: Unable to run BokehJS code because BokehJS library is missing\");\n",
       "        clearInterval(timer);\n",
       "      }\n",
       "    }, 10, root)\n",
       "  }\n",
       "})(window);"
      ],
      "application/vnd.bokehjs_exec.v0+json": ""
     },
     "metadata": {
      "application/vnd.bokehjs_exec.v0+json": {
       "id": "7494"
      }
     },
     "output_type": "display_data"
    }
   ],
   "source": [
    "df = monkey_patch(rank_vs_bayes, uni_vs_bayes, col='sampling_type', vals=['uniform-td_stoch:0.1'])\n",
    "show(lineplot(df, 'N', 'optim_steps', 'sampling_type', y_axis_format='00', y_axis_scale='log'))"
   ]
  },
  {
   "cell_type": "markdown",
   "metadata": {},
   "source": [
    "## Looking at the loss"
   ]
  },
  {
   "cell_type": "code",
   "execution_count": null,
   "metadata": {},
   "outputs": [],
   "source": [
    "data = get_data('test')\n",
    "#data.to_pickle('results.pkl')\n",
    "data.sample(10)"
   ]
  },
  {
   "cell_type": "code",
   "execution_count": null,
   "metadata": {},
   "outputs": [],
   "source": [
    "show(lineplot(data, 'N', 'optim_steps', 'sampling_type', y_axis_format='00'))"
   ]
  },
  {
   "cell_type": "code",
   "execution_count": null,
   "metadata": {},
   "outputs": [],
   "source": [
    "def get_by_N(data, N=9):\n",
    "    df = data.loc[data['vote'] == 0]\n",
    "    return df.loc[df['N'] == N]"
   ]
  },
  {
   "cell_type": "code",
   "execution_count": null,
   "metadata": {},
   "outputs": [],
   "source": [
    "N=7\n",
    "show(lineplot(get_by_N(data, N=N), 'step', 'loss', 'sampling_type', 'trial', aggregate=False,\n",
    "     legend_pos='top_right', y_axis_format='0.000', title=f\"MSE Loss on deterministic MDP={N}. No of trials=5.\"))"
   ]
  },
  {
   "cell_type": "code",
   "execution_count": null,
   "metadata": {},
   "outputs": [],
   "source": [
    "def get_trial(data, trial_no, N):\n",
    "    df = data.loc[data['trial'] == trial_no]\n",
    "    df = df.loc[df['vote'] == 0]\n",
    "    df = df.loc[df['N'] == N]\n",
    "    df = df.drop(['vote', 'optim_steps', 'vote_optim_steps', 'N', 'mem', 'trial', 'loss_fn'], axis=1)\n",
    "    return pd.pivot_table(df, values='loss', index=['step'], columns=['sampling_type']).reset_index(drop=True)\n",
    "\n",
    "df_trial = get_trial(data, 3, 9)\n",
    "df_trial.head(20)"
   ]
  },
  {
   "cell_type": "code",
   "execution_count": null,
   "metadata": {},
   "outputs": [],
   "source": []
  },
  {
   "cell_type": "code",
   "execution_count": null,
   "metadata": {},
   "outputs": [],
   "source": [
    "data = get_data('test')\n",
    "N=9\n",
    "show(lineplot(get_by_N(data, N=N), 'step', 'loss', 'sampling_type', 'trial', aggregate=False,\n",
    "     legend_pos='top_right', y_axis_format='0.000', title=f\"MSE Loss on deterministic MDP={N}. No of trials=5.\"))"
   ]
  },
  {
   "cell_type": "code",
   "execution_count": null,
   "metadata": {},
   "outputs": [],
   "source": [
    "data = get_data('test')\n",
    "N=9\n",
    "show(lineplot(get_by_N(data, N=N), 'step', 'loss', 'sampling_type', 'trial', aggregate=False,\n",
    "     legend_pos='top_right', y_axis_format='0.000', title=f\"MSE Loss on deterministic MDP={N}. No of trials=5.\"))"
   ]
  },
  {
   "cell_type": "code",
   "execution_count": null,
   "metadata": {},
   "outputs": [],
   "source": [
    "data.sample(10)"
   ]
  }
 ],
 "metadata": {
  "kernelspec": {
   "display_name": "Python 3",
   "language": "python",
   "name": "python3"
  },
  "language_info": {
   "codemirror_mode": {
    "name": "ipython",
    "version": 3
   },
   "file_extension": ".py",
   "mimetype": "text/x-python",
   "name": "python",
   "nbconvert_exporter": "python",
   "pygments_lexer": "ipython3",
   "version": "3.7.0"
  }
 },
 "nbformat": 4,
 "nbformat_minor": 2
}
