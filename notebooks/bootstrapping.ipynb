{
 "cells": [
  {
   "cell_type": "markdown",
   "metadata": {},
   "source": [
    "# Bootstrapped regression\n",
    "\n",
    "Reproduces the bootstrapped regression experiments using neural networks from [**Bootstrapped DQN**](https://papers.nips.cc/paper/6501-deep-exploration-via-bootstrapped-dqn.pdf)."
   ]
  },
  {
   "cell_type": "code",
   "execution_count": 1,
   "metadata": {},
   "outputs": [
    {
     "data": {
      "text/html": [
       "\n",
       "    <div class=\"bk-root\">\n",
       "        <a href=\"https://bokeh.pydata.org\" target=\"_blank\" class=\"bk-logo bk-logo-small bk-logo-notebook\"></a>\n",
       "        <span id=\"1001\">Loading BokehJS ...</span>\n",
       "    </div>"
      ]
     },
     "metadata": {},
     "output_type": "display_data"
    },
    {
     "data": {
      "application/javascript": [
       "\n",
       "(function(root) {\n",
       "  function now() {\n",
       "    return new Date();\n",
       "  }\n",
       "\n",
       "  var force = true;\n",
       "\n",
       "  if (typeof (root._bokeh_onload_callbacks) === \"undefined\" || force === true) {\n",
       "    root._bokeh_onload_callbacks = [];\n",
       "    root._bokeh_is_loading = undefined;\n",
       "  }\n",
       "\n",
       "  var JS_MIME_TYPE = 'application/javascript';\n",
       "  var HTML_MIME_TYPE = 'text/html';\n",
       "  var EXEC_MIME_TYPE = 'application/vnd.bokehjs_exec.v0+json';\n",
       "  var CLASS_NAME = 'output_bokeh rendered_html';\n",
       "\n",
       "  /**\n",
       "   * Render data to the DOM node\n",
       "   */\n",
       "  function render(props, node) {\n",
       "    var script = document.createElement(\"script\");\n",
       "    node.appendChild(script);\n",
       "  }\n",
       "\n",
       "  /**\n",
       "   * Handle when an output is cleared or removed\n",
       "   */\n",
       "  function handleClearOutput(event, handle) {\n",
       "    var cell = handle.cell;\n",
       "\n",
       "    var id = cell.output_area._bokeh_element_id;\n",
       "    var server_id = cell.output_area._bokeh_server_id;\n",
       "    // Clean up Bokeh references\n",
       "    if (id != null && id in Bokeh.index) {\n",
       "      Bokeh.index[id].model.document.clear();\n",
       "      delete Bokeh.index[id];\n",
       "    }\n",
       "\n",
       "    if (server_id !== undefined) {\n",
       "      // Clean up Bokeh references\n",
       "      var cmd = \"from bokeh.io.state import curstate; print(curstate().uuid_to_server['\" + server_id + \"'].get_sessions()[0].document.roots[0]._id)\";\n",
       "      cell.notebook.kernel.execute(cmd, {\n",
       "        iopub: {\n",
       "          output: function(msg) {\n",
       "            var id = msg.content.text.trim();\n",
       "            if (id in Bokeh.index) {\n",
       "              Bokeh.index[id].model.document.clear();\n",
       "              delete Bokeh.index[id];\n",
       "            }\n",
       "          }\n",
       "        }\n",
       "      });\n",
       "      // Destroy server and session\n",
       "      var cmd = \"import bokeh.io.notebook as ion; ion.destroy_server('\" + server_id + \"')\";\n",
       "      cell.notebook.kernel.execute(cmd);\n",
       "    }\n",
       "  }\n",
       "\n",
       "  /**\n",
       "   * Handle when a new output is added\n",
       "   */\n",
       "  function handleAddOutput(event, handle) {\n",
       "    var output_area = handle.output_area;\n",
       "    var output = handle.output;\n",
       "\n",
       "    // limit handleAddOutput to display_data with EXEC_MIME_TYPE content only\n",
       "    if ((output.output_type != \"display_data\") || (!output.data.hasOwnProperty(EXEC_MIME_TYPE))) {\n",
       "      return\n",
       "    }\n",
       "\n",
       "    var toinsert = output_area.element.find(\".\" + CLASS_NAME.split(' ')[0]);\n",
       "\n",
       "    if (output.metadata[EXEC_MIME_TYPE][\"id\"] !== undefined) {\n",
       "      toinsert[toinsert.length - 1].firstChild.textContent = output.data[JS_MIME_TYPE];\n",
       "      // store reference to embed id on output_area\n",
       "      output_area._bokeh_element_id = output.metadata[EXEC_MIME_TYPE][\"id\"];\n",
       "    }\n",
       "    if (output.metadata[EXEC_MIME_TYPE][\"server_id\"] !== undefined) {\n",
       "      var bk_div = document.createElement(\"div\");\n",
       "      bk_div.innerHTML = output.data[HTML_MIME_TYPE];\n",
       "      var script_attrs = bk_div.children[0].attributes;\n",
       "      for (var i = 0; i < script_attrs.length; i++) {\n",
       "        toinsert[toinsert.length - 1].firstChild.setAttribute(script_attrs[i].name, script_attrs[i].value);\n",
       "      }\n",
       "      // store reference to server id on output_area\n",
       "      output_area._bokeh_server_id = output.metadata[EXEC_MIME_TYPE][\"server_id\"];\n",
       "    }\n",
       "  }\n",
       "\n",
       "  function register_renderer(events, OutputArea) {\n",
       "\n",
       "    function append_mime(data, metadata, element) {\n",
       "      // create a DOM node to render to\n",
       "      var toinsert = this.create_output_subarea(\n",
       "        metadata,\n",
       "        CLASS_NAME,\n",
       "        EXEC_MIME_TYPE\n",
       "      );\n",
       "      this.keyboard_manager.register_events(toinsert);\n",
       "      // Render to node\n",
       "      var props = {data: data, metadata: metadata[EXEC_MIME_TYPE]};\n",
       "      render(props, toinsert[toinsert.length - 1]);\n",
       "      element.append(toinsert);\n",
       "      return toinsert\n",
       "    }\n",
       "\n",
       "    /* Handle when an output is cleared or removed */\n",
       "    events.on('clear_output.CodeCell', handleClearOutput);\n",
       "    events.on('delete.Cell', handleClearOutput);\n",
       "\n",
       "    /* Handle when a new output is added */\n",
       "    events.on('output_added.OutputArea', handleAddOutput);\n",
       "\n",
       "    /**\n",
       "     * Register the mime type and append_mime function with output_area\n",
       "     */\n",
       "    OutputArea.prototype.register_mime_type(EXEC_MIME_TYPE, append_mime, {\n",
       "      /* Is output safe? */\n",
       "      safe: true,\n",
       "      /* Index of renderer in `output_area.display_order` */\n",
       "      index: 0\n",
       "    });\n",
       "  }\n",
       "\n",
       "  // register the mime type if in Jupyter Notebook environment and previously unregistered\n",
       "  if (root.Jupyter !== undefined) {\n",
       "    var events = require('base/js/events');\n",
       "    var OutputArea = require('notebook/js/outputarea').OutputArea;\n",
       "\n",
       "    if (OutputArea.prototype.mime_types().indexOf(EXEC_MIME_TYPE) == -1) {\n",
       "      register_renderer(events, OutputArea);\n",
       "    }\n",
       "  }\n",
       "\n",
       "  \n",
       "  if (typeof (root._bokeh_timeout) === \"undefined\" || force === true) {\n",
       "    root._bokeh_timeout = Date.now() + 5000;\n",
       "    root._bokeh_failed_load = false;\n",
       "  }\n",
       "\n",
       "  var NB_LOAD_WARNING = {'data': {'text/html':\n",
       "     \"<div style='background-color: #fdd'>\\n\"+\n",
       "     \"<p>\\n\"+\n",
       "     \"BokehJS does not appear to have successfully loaded. If loading BokehJS from CDN, this \\n\"+\n",
       "     \"may be due to a slow or bad network connection. Possible fixes:\\n\"+\n",
       "     \"</p>\\n\"+\n",
       "     \"<ul>\\n\"+\n",
       "     \"<li>re-rerun `output_notebook()` to attempt to load from CDN again, or</li>\\n\"+\n",
       "     \"<li>use INLINE resources instead, as so:</li>\\n\"+\n",
       "     \"</ul>\\n\"+\n",
       "     \"<code>\\n\"+\n",
       "     \"from bokeh.resources import INLINE\\n\"+\n",
       "     \"output_notebook(resources=INLINE)\\n\"+\n",
       "     \"</code>\\n\"+\n",
       "     \"</div>\"}};\n",
       "\n",
       "  function display_loaded() {\n",
       "    var el = document.getElementById(\"1001\");\n",
       "    if (el != null) {\n",
       "      el.textContent = \"BokehJS is loading...\";\n",
       "    }\n",
       "    if (root.Bokeh !== undefined) {\n",
       "      if (el != null) {\n",
       "        el.textContent = \"BokehJS \" + root.Bokeh.version + \" successfully loaded.\";\n",
       "      }\n",
       "    } else if (Date.now() < root._bokeh_timeout) {\n",
       "      setTimeout(display_loaded, 100)\n",
       "    }\n",
       "  }\n",
       "\n",
       "\n",
       "  function run_callbacks() {\n",
       "    try {\n",
       "      root._bokeh_onload_callbacks.forEach(function(callback) { callback() });\n",
       "    }\n",
       "    finally {\n",
       "      delete root._bokeh_onload_callbacks\n",
       "    }\n",
       "    console.info(\"Bokeh: all callbacks have finished\");\n",
       "  }\n",
       "\n",
       "  function load_libs(js_urls, callback) {\n",
       "    root._bokeh_onload_callbacks.push(callback);\n",
       "    if (root._bokeh_is_loading > 0) {\n",
       "      console.log(\"Bokeh: BokehJS is being loaded, scheduling callback at\", now());\n",
       "      return null;\n",
       "    }\n",
       "    if (js_urls == null || js_urls.length === 0) {\n",
       "      run_callbacks();\n",
       "      return null;\n",
       "    }\n",
       "    console.log(\"Bokeh: BokehJS not loaded, scheduling load and callback at\", now());\n",
       "    root._bokeh_is_loading = js_urls.length;\n",
       "    for (var i = 0; i < js_urls.length; i++) {\n",
       "      var url = js_urls[i];\n",
       "      var s = document.createElement('script');\n",
       "      s.src = url;\n",
       "      s.async = false;\n",
       "      s.onreadystatechange = s.onload = function() {\n",
       "        root._bokeh_is_loading--;\n",
       "        if (root._bokeh_is_loading === 0) {\n",
       "          console.log(\"Bokeh: all BokehJS libraries loaded\");\n",
       "          run_callbacks()\n",
       "        }\n",
       "      };\n",
       "      s.onerror = function() {\n",
       "        console.warn(\"failed to load library \" + url);\n",
       "      };\n",
       "      console.log(\"Bokeh: injecting script tag for BokehJS library: \", url);\n",
       "      document.getElementsByTagName(\"head\")[0].appendChild(s);\n",
       "    }\n",
       "  };var element = document.getElementById(\"1001\");\n",
       "  if (element == null) {\n",
       "    console.log(\"Bokeh: ERROR: autoload.js configured with elementid '1001' but no matching script tag was found. \")\n",
       "    return false;\n",
       "  }\n",
       "\n",
       "  var js_urls = [\"https://cdn.pydata.org/bokeh/release/bokeh-1.0.1.min.js\", \"https://cdn.pydata.org/bokeh/release/bokeh-widgets-1.0.1.min.js\", \"https://cdn.pydata.org/bokeh/release/bokeh-tables-1.0.1.min.js\", \"https://cdn.pydata.org/bokeh/release/bokeh-gl-1.0.1.min.js\"];\n",
       "\n",
       "  var inline_js = [\n",
       "    function(Bokeh) {\n",
       "      Bokeh.set_log_level(\"info\");\n",
       "    },\n",
       "    \n",
       "    function(Bokeh) {\n",
       "      \n",
       "    },\n",
       "    function(Bokeh) {\n",
       "      console.log(\"Bokeh: injecting CSS: https://cdn.pydata.org/bokeh/release/bokeh-1.0.1.min.css\");\n",
       "      Bokeh.embed.inject_css(\"https://cdn.pydata.org/bokeh/release/bokeh-1.0.1.min.css\");\n",
       "      console.log(\"Bokeh: injecting CSS: https://cdn.pydata.org/bokeh/release/bokeh-widgets-1.0.1.min.css\");\n",
       "      Bokeh.embed.inject_css(\"https://cdn.pydata.org/bokeh/release/bokeh-widgets-1.0.1.min.css\");\n",
       "      console.log(\"Bokeh: injecting CSS: https://cdn.pydata.org/bokeh/release/bokeh-tables-1.0.1.min.css\");\n",
       "      Bokeh.embed.inject_css(\"https://cdn.pydata.org/bokeh/release/bokeh-tables-1.0.1.min.css\");\n",
       "    }\n",
       "  ];\n",
       "\n",
       "  function run_inline_js() {\n",
       "    \n",
       "    if ((root.Bokeh !== undefined) || (force === true)) {\n",
       "      for (var i = 0; i < inline_js.length; i++) {\n",
       "        inline_js[i].call(root, root.Bokeh);\n",
       "      }if (force === true) {\n",
       "        display_loaded();\n",
       "      }} else if (Date.now() < root._bokeh_timeout) {\n",
       "      setTimeout(run_inline_js, 100);\n",
       "    } else if (!root._bokeh_failed_load) {\n",
       "      console.log(\"Bokeh: BokehJS failed to load within specified timeout.\");\n",
       "      root._bokeh_failed_load = true;\n",
       "    } else if (force !== true) {\n",
       "      var cell = $(document.getElementById(\"1001\")).parents('.cell').data().cell;\n",
       "      cell.output_area.append_execute_result(NB_LOAD_WARNING)\n",
       "    }\n",
       "\n",
       "  }\n",
       "\n",
       "  if (root._bokeh_is_loading === 0) {\n",
       "    console.log(\"Bokeh: BokehJS loaded, going straight to plotting\");\n",
       "    run_inline_js();\n",
       "  } else {\n",
       "    load_libs(js_urls, function() {\n",
       "      console.log(\"Bokeh: BokehJS plotting callback run at\", now());\n",
       "      run_inline_js();\n",
       "    });\n",
       "  }\n",
       "}(window));"
      ],
      "application/vnd.bokehjs_load.v0+json": "\n(function(root) {\n  function now() {\n    return new Date();\n  }\n\n  var force = true;\n\n  if (typeof (root._bokeh_onload_callbacks) === \"undefined\" || force === true) {\n    root._bokeh_onload_callbacks = [];\n    root._bokeh_is_loading = undefined;\n  }\n\n  \n\n  \n  if (typeof (root._bokeh_timeout) === \"undefined\" || force === true) {\n    root._bokeh_timeout = Date.now() + 5000;\n    root._bokeh_failed_load = false;\n  }\n\n  var NB_LOAD_WARNING = {'data': {'text/html':\n     \"<div style='background-color: #fdd'>\\n\"+\n     \"<p>\\n\"+\n     \"BokehJS does not appear to have successfully loaded. If loading BokehJS from CDN, this \\n\"+\n     \"may be due to a slow or bad network connection. Possible fixes:\\n\"+\n     \"</p>\\n\"+\n     \"<ul>\\n\"+\n     \"<li>re-rerun `output_notebook()` to attempt to load from CDN again, or</li>\\n\"+\n     \"<li>use INLINE resources instead, as so:</li>\\n\"+\n     \"</ul>\\n\"+\n     \"<code>\\n\"+\n     \"from bokeh.resources import INLINE\\n\"+\n     \"output_notebook(resources=INLINE)\\n\"+\n     \"</code>\\n\"+\n     \"</div>\"}};\n\n  function display_loaded() {\n    var el = document.getElementById(\"1001\");\n    if (el != null) {\n      el.textContent = \"BokehJS is loading...\";\n    }\n    if (root.Bokeh !== undefined) {\n      if (el != null) {\n        el.textContent = \"BokehJS \" + root.Bokeh.version + \" successfully loaded.\";\n      }\n    } else if (Date.now() < root._bokeh_timeout) {\n      setTimeout(display_loaded, 100)\n    }\n  }\n\n\n  function run_callbacks() {\n    try {\n      root._bokeh_onload_callbacks.forEach(function(callback) { callback() });\n    }\n    finally {\n      delete root._bokeh_onload_callbacks\n    }\n    console.info(\"Bokeh: all callbacks have finished\");\n  }\n\n  function load_libs(js_urls, callback) {\n    root._bokeh_onload_callbacks.push(callback);\n    if (root._bokeh_is_loading > 0) {\n      console.log(\"Bokeh: BokehJS is being loaded, scheduling callback at\", now());\n      return null;\n    }\n    if (js_urls == null || js_urls.length === 0) {\n      run_callbacks();\n      return null;\n    }\n    console.log(\"Bokeh: BokehJS not loaded, scheduling load and callback at\", now());\n    root._bokeh_is_loading = js_urls.length;\n    for (var i = 0; i < js_urls.length; i++) {\n      var url = js_urls[i];\n      var s = document.createElement('script');\n      s.src = url;\n      s.async = false;\n      s.onreadystatechange = s.onload = function() {\n        root._bokeh_is_loading--;\n        if (root._bokeh_is_loading === 0) {\n          console.log(\"Bokeh: all BokehJS libraries loaded\");\n          run_callbacks()\n        }\n      };\n      s.onerror = function() {\n        console.warn(\"failed to load library \" + url);\n      };\n      console.log(\"Bokeh: injecting script tag for BokehJS library: \", url);\n      document.getElementsByTagName(\"head\")[0].appendChild(s);\n    }\n  };var element = document.getElementById(\"1001\");\n  if (element == null) {\n    console.log(\"Bokeh: ERROR: autoload.js configured with elementid '1001' but no matching script tag was found. \")\n    return false;\n  }\n\n  var js_urls = [\"https://cdn.pydata.org/bokeh/release/bokeh-1.0.1.min.js\", \"https://cdn.pydata.org/bokeh/release/bokeh-widgets-1.0.1.min.js\", \"https://cdn.pydata.org/bokeh/release/bokeh-tables-1.0.1.min.js\", \"https://cdn.pydata.org/bokeh/release/bokeh-gl-1.0.1.min.js\"];\n\n  var inline_js = [\n    function(Bokeh) {\n      Bokeh.set_log_level(\"info\");\n    },\n    \n    function(Bokeh) {\n      \n    },\n    function(Bokeh) {\n      console.log(\"Bokeh: injecting CSS: https://cdn.pydata.org/bokeh/release/bokeh-1.0.1.min.css\");\n      Bokeh.embed.inject_css(\"https://cdn.pydata.org/bokeh/release/bokeh-1.0.1.min.css\");\n      console.log(\"Bokeh: injecting CSS: https://cdn.pydata.org/bokeh/release/bokeh-widgets-1.0.1.min.css\");\n      Bokeh.embed.inject_css(\"https://cdn.pydata.org/bokeh/release/bokeh-widgets-1.0.1.min.css\");\n      console.log(\"Bokeh: injecting CSS: https://cdn.pydata.org/bokeh/release/bokeh-tables-1.0.1.min.css\");\n      Bokeh.embed.inject_css(\"https://cdn.pydata.org/bokeh/release/bokeh-tables-1.0.1.min.css\");\n    }\n  ];\n\n  function run_inline_js() {\n    \n    if ((root.Bokeh !== undefined) || (force === true)) {\n      for (var i = 0; i < inline_js.length; i++) {\n        inline_js[i].call(root, root.Bokeh);\n      }if (force === true) {\n        display_loaded();\n      }} else if (Date.now() < root._bokeh_timeout) {\n      setTimeout(run_inline_js, 100);\n    } else if (!root._bokeh_failed_load) {\n      console.log(\"Bokeh: BokehJS failed to load within specified timeout.\");\n      root._bokeh_failed_load = true;\n    } else if (force !== true) {\n      var cell = $(document.getElementById(\"1001\")).parents('.cell').data().cell;\n      cell.output_area.append_execute_result(NB_LOAD_WARNING)\n    }\n\n  }\n\n  if (root._bokeh_is_loading === 0) {\n    console.log(\"Bokeh: BokehJS loaded, going straight to plotting\");\n    run_inline_js();\n  } else {\n    load_libs(js_urls, function() {\n      console.log(\"Bokeh: BokehJS plotting callback run at\", now());\n      run_inline_js();\n    });\n  }\n}(window));"
     },
     "metadata": {},
     "output_type": "display_data"
    }
   ],
   "source": [
    "import numpy as np\n",
    "import torch\n",
    "from torch.distributions import Uniform, Normal\n",
    "import pandas as pd\n",
    "\n",
    "import altair as alt\n",
    "alt.renderers.enable('notebook')\n",
    "\n",
    "import time\n",
    "from bokeh.io import push_notebook, show, output_notebook\n",
    "from bokeh.plotting import figure\n",
    "from bokeh.models import Band, ColumnDataSource\n",
    "output_notebook()"
   ]
  },
  {
   "cell_type": "code",
   "execution_count": 2,
   "metadata": {},
   "outputs": [],
   "source": [
    "def f(x, α=4, β=13, μ=0, σ=0.03, noisy=True):\n",
    "    w = 0\n",
    "    if noisy:\n",
    "        w = Normal(μ, σ).sample((x.shape[0],))\n",
    "    return x + torch.sin(α * (x + w)) + torch.sin(β * (x + w)) + w"
   ]
  },
  {
   "cell_type": "code",
   "execution_count": 3,
   "metadata": {},
   "outputs": [],
   "source": [
    "def generate_dataset():\n",
    "    columns = ['x', 'y', 'series']\n",
    "    data = pd.DataFrame(columns=columns)\n",
    "    \n",
    "    # the function that generates the data\n",
    "    x = torch.linspace(-1, 2, 100)\n",
    "    fx = f(x, noisy=False)\n",
    "    series_name = ['f(x)' for _ in range(100)]\n",
    "    \n",
    "    true_data = pd.DataFrame(list(zip(x.numpy(), fx.numpy(), series_name)), columns=columns)\n",
    "    data = data.append(true_data, ignore_index=False)\n",
    "\n",
    "    # the training dataset\n",
    "    x = torch.cat((Uniform(0, 0.6).sample((24,)), Uniform(0.8, 1).sample((11,))))\n",
    "    t = f(x, noisy=True)\n",
    "    series_name = ['obs' for _ in range(x.shape[0])]\n",
    "    df = pd.DataFrame(list(zip(x.numpy(), t.numpy(), series_name)), columns=columns)\n",
    "    data = data.append(df, ignore_index=True)\n",
    "    \n",
    "    # the test dataset\n",
    "    x = torch.cat((Uniform(0, 0.6).sample((24,)), Uniform(0.9, 1.1).sample((11,))))\n",
    "    t = f(x, noisy=True)\n",
    "    series_name = ['test' for _ in range(x.shape[0])]\n",
    "    df = pd.DataFrame(list(zip(x.numpy(), t.numpy(), series_name)), columns=columns)\n",
    "    data = data.append(df, ignore_index=True)\n",
    "    return data"
   ]
  },
  {
   "cell_type": "code",
   "execution_count": 4,
   "metadata": {},
   "outputs": [],
   "source": [
    "data = generate_dataset()"
   ]
  },
  {
   "cell_type": "code",
   "execution_count": 5,
   "metadata": {},
   "outputs": [],
   "source": [
    "true_data = data.loc[data['series'] == 'f(x)']\n",
    "obs_data = data.loc[data['series'] == 'obs']\n",
    "tst_data = data.loc[data['series'] == 'test']\n",
    "\n",
    "\n",
    "data_plt = figure(title=\"Data\",\n",
    "                  plot_height=400,\n",
    "                  plot_width=900,\n",
    "                  background_fill_color='#ffffff')\n",
    "\n",
    "fx = data_plt.line(true_data['x'].values, true_data['y'].values,\n",
    "                   color=\"springgreen\", line_width=3, alpha=0.8)\n",
    "tst = data_plt.scatter(tst_data['x'].values, tst_data['y'].values,\n",
    "                       size=7, fill_color=\"magenta\", alpha=0.8, line_color='magenta')\n",
    "obs = data_plt.scatter(obs_data['x'].values, obs_data['y'].values,\n",
    "                       size=10, fill_color=\"slateblue\", alpha=0.8, line_color='slateblue')"
   ]
  },
  {
   "cell_type": "code",
   "execution_count": 6,
   "metadata": {},
   "outputs": [
    {
     "data": {
      "text/html": [
       "\n",
       "\n",
       "\n",
       "\n",
       "\n",
       "\n",
       "  <div class=\"bk-root\" id=\"2ea6b457-a99c-49b6-8952-61a3bc7543a8\"></div>\n"
      ]
     },
     "metadata": {},
     "output_type": "display_data"
    },
    {
     "data": {
      "application/javascript": [
       "(function(root) {\n",
       "  function embed_document(root) {\n",
       "    \n",
       "  var docs_json = {\"8882cda2-3885-4c19-9a20-3c0a9ec439a5\":{\"roots\":{\"references\":[{\"attributes\":{\"below\":[{\"id\":\"1013\",\"type\":\"LinearAxis\"}],\"left\":[{\"id\":\"1018\",\"type\":\"LinearAxis\"}],\"plot_height\":400,\"plot_width\":900,\"renderers\":[{\"id\":\"1013\",\"type\":\"LinearAxis\"},{\"id\":\"1017\",\"type\":\"Grid\"},{\"id\":\"1018\",\"type\":\"LinearAxis\"},{\"id\":\"1022\",\"type\":\"Grid\"},{\"id\":\"1031\",\"type\":\"BoxAnnotation\"},{\"id\":\"1041\",\"type\":\"GlyphRenderer\"},{\"id\":\"1046\",\"type\":\"GlyphRenderer\"},{\"id\":\"1051\",\"type\":\"GlyphRenderer\"}],\"title\":{\"id\":\"1002\",\"type\":\"Title\"},\"toolbar\":{\"id\":\"1029\",\"type\":\"Toolbar\"},\"x_range\":{\"id\":\"1005\",\"type\":\"DataRange1d\"},\"x_scale\":{\"id\":\"1009\",\"type\":\"LinearScale\"},\"y_range\":{\"id\":\"1007\",\"type\":\"DataRange1d\"},\"y_scale\":{\"id\":\"1011\",\"type\":\"LinearScale\"}},\"id\":\"1003\",\"subtype\":\"Figure\",\"type\":\"Plot\"},{\"attributes\":{\"source\":{\"id\":\"1043\",\"type\":\"ColumnDataSource\"}},\"id\":\"1047\",\"type\":\"CDSView\"},{\"attributes\":{\"callback\":null,\"data\":{\"x\":{\"__ndarray__\":\"AAAAAAAA8L8AAAAAwgfvvwAAAOCDD+6/AAAAwEUX7b8AAADABx/svwAAAMDJJuu/AAAAoIsu6r8AAACATTbpvwAAAIAPPui/AAAAgNFF578AAABgk03mvwAAAEBVVeW/AAAAQBdd5L8AAABA2WTjvwAAACCbbOK/AAAAAF104b8AAAAAH3zgvwAAAADCB9+/AAAAwEUX3b8AAACAySbbvwAAAIBNNtm/AAAAgNFF178AAABAVVXVvwAAAADZZNO/AAAAAF100b8AAAAAwgfPvwAAAIDJJsu/AAAAANFFx78AAAAA2WTDvwAAAADCB7+/AAAAANFFt78AAAAAwAevvwAAAADAB5+/AAAAAAAAAAAAAAAAwAefPwAAAADEB68/AAAAANJFtz8AAAAAwge/PwAAAADaZMM/AAAAANJFxz8AAAAAyibLPwAAAADCB88/AAAAAF100T8AAACA2WTTPwAAAIBVVdU/AAAAgNFF1z8AAAAATjbZPwAAAADKJts/AAAAAEYX3T8AAAAAwgffPwAAAAAffOA/AAAAQF104T8AAABAm2ziPwAAAEDZZOM/AAAAgBdd5D8AAACAVVXlPwAAAICTTeY/AAAAgNFF5z8AAACADz7oPwAAAMBNNuk/AAAAwIsu6j8AAADAySbrPwAAAAAIH+w/AAAAAEYX7T8AAAAAhA/uPwAAAADCB+8/AAAAAAAA8D8AAAAAH3zwPwAAAAA++PA/AAAAQF108T8AAABAfPDxPwAAAECbbPI/AAAAQLro8j8AAABA2WTzPwAAAED44PM/AAAAQBdd9D8AAACANtn0PwAAAIBVVfU/AAAAgHTR9T8AAACAk032PwAAAICyyfY/AAAAgNFF9z8AAACA8MH3PwAAAIAPPvg/AAAAgC66+D8AAADATTb5PwAAAMBssvk/AAAAwIsu+j8AAADAqqr6PwAAAMDJJvs/AAAAwOii+z8AAADABx/8PwAAAAAnm/w/AAAAAEYX/T8AAAAAZZP9PwAAAACED/4/AAAAAKOL/j8AAAAAwgf/PwAAAADhg/8/AAAAAAAAAEA=\",\"dtype\":\"float64\",\"shape\":[100]},\"y\":{\"__ndarray__\":\"AAAAQEg65b8AAACAE5TVvwAAAAAsM46/AAAAwKJ+zz8AAABAjVLZPwAAAIBBo9k/AAAAABvXzz8AAAAAVMqovwAAACCSR92/AAAA4Iix7b8AAAAAeWT2vwAAAADe+/y/AAAAQC3kAMAAAADA6hoCwAAAAABDBALAAAAAwKayAMAAAADgXsv8vwAAAEAbAPe/AAAAQFHw8L8AAADgGhfnvwAAAEBRfN6/AAAAgAzZ1r8AAABAlxTYvwAAAOAXweC/AAAAQKSJ6L8AAACgW+rwvwAAAECNZPW/AAAAQJHG+L8AAACgPkj6vwAAAKB5Zfm/AAAAgDnz9b8AAAAA/ybwvwAAACAbH+G/AAAAAAAAAAAAAAAgGx/hPwAAAMAAJ/A/AAAAQDrz9T8AAACgeWX5PwAAAIA+SPo/AAAAgJDG+D8AAADAjGT1PwAAAKBb6vA/AAAAQKSJ6D8AAAAAFsHgPwAAAMCWFNg/AAAAgAzZ1j8AAABAVHzePwAAACAdF+c/AAAAQFLw8D8AAABAGwD3PwAAAOBey/w/AAAAQKeyAEAAAAAAQwQCQAAAAMDqGgJAAAAAoCzkAEAAAABA3Pv8PwAAAAB4ZPY/AAAA4Iix7T8AAAAgkkfdPwAAAAAyyqg/AAAAgBzXz78AAACAQaPZvwAAAICLUtm/AAAAQJl+z78AAAAAlDOOPwAAAIATlNU/AAAAQEg65T8AAADgN/btPwAAAGD7vPE/AAAAgNxm8j8AAADgYNbwPwAAAMC9kOo/AAAAwKyf4D8AAACAvvzFPwAAAEDlr8O/AAAAAJyQ2b8AAADgj5DgvwAAAEDan96/AAAAAOOQ0b8AAAAAtRO0PwAAAKDQXuE/AAAAIMgM8T8AAABgxF/5PwAAAIAQWgBAAAAAgLUfA0AAAAAAib8EQAAAAOCsJQVAAAAAQEBuBEAAAABAiOACQAAAAGCM4wBAAAAAwJrb/T8AAADAYeX6PwAAAEC9oPk/AAAAAPKB+j8AAACgpaL9PwAAAICyXgFAAAAAoN+bBEAAAAAgxRwIQAAAACDgZgtAAAAA4OwDDkA=\",\"dtype\":\"float64\",\"shape\":[100]}},\"selected\":{\"id\":\"1059\",\"type\":\"Selection\"},\"selection_policy\":{\"id\":\"1060\",\"type\":\"UnionRenderers\"}},\"id\":\"1038\",\"type\":\"ColumnDataSource\"},{\"attributes\":{\"line_alpha\":0.8,\"line_color\":\"springgreen\",\"line_width\":3,\"x\":{\"field\":\"x\"},\"y\":{\"field\":\"y\"}},\"id\":\"1039\",\"type\":\"Line\"},{\"attributes\":{\"callback\":null,\"data\":{\"x\":{\"__ndarray__\":\"AAAAIFqW3z8AAACA2cHePwAAAIAM7sI/AAAAICvH0j8AAABADTHHPwAAAMAiq9w/AAAAwADk4j8AAACgrZfXPwAAAIAaWsI/AAAA4P0G3j8AAAAAziHBPwAAACBbPcw/AAAA4MKCxj8AAABAbVeiPwAAAADTKuE/AAAAYGKC4D8AAADgNvnbPwAAACDTGOI/AAAAQHvEkj8AAACAodDVPwAAAIChGuM/AAAA4B3h2D8AAAAgbPrMPwAAACCHf94/AAAAgEi36T8AAAAg4lftPwAAAKAOw+8/AAAAgOG46z8AAADg49/sPwAAACDJc+4/AAAAAEXl7T8AAABA5njtPwAAAGCAo+4/AAAAQN+z7z8AAABALODpPw==\",\"dtype\":\"float64\",\"shape\":[35]},\"y\":{\"__ndarray__\":\"AAAA4OLx+T8AAADAEbX5PwAAAICUl/c/AAAAQKhy1z8AAADga3v1PwAAAGBLlPA/AAAA4OOA9z8AAABgTmzYPwAAAEBXFPo/AAAAYLeb7T8AAADgOyP6PwAAAGAAUPY/AAAAwNf0+T8AAACA8YfnPwAAAMAtSPw/AAAAABPbAEAAAAAAs0nXPwAAAOBaAAJAAAAA4DSn6D8AAABgxKTWPwAAAEBwNAJAAAAAAJCP1j8AAACAkFP3PwAAAKDVmvE/AAAAoFv8kL8AAACA+Z3XvwAAAACmPt0/AAAA4D9R2r8AAACgFxjavwAAAIB29NU/AAAAgGE4sD8AAADgJWfNvwAAAGAwNbg/AAAAgN+g4T8AAADA4I2Cvw==\",\"dtype\":\"float64\",\"shape\":[35]}},\"selected\":{\"id\":\"1063\",\"type\":\"Selection\"},\"selection_policy\":{\"id\":\"1064\",\"type\":\"UnionRenderers\"}},\"id\":\"1048\",\"type\":\"ColumnDataSource\"},{\"attributes\":{},\"id\":\"1023\",\"type\":\"PanTool\"},{\"attributes\":{},\"id\":\"1061\",\"type\":\"Selection\"},{\"attributes\":{\"fill_alpha\":{\"value\":0.8},\"fill_color\":{\"value\":\"slateblue\"},\"line_alpha\":{\"value\":0.8},\"line_color\":{\"value\":\"slateblue\"},\"size\":{\"units\":\"screen\",\"value\":10},\"x\":{\"field\":\"x\"},\"y\":{\"field\":\"y\"}},\"id\":\"1049\",\"type\":\"Scatter\"},{\"attributes\":{},\"id\":\"1054\",\"type\":\"BasicTickFormatter\"},{\"attributes\":{},\"id\":\"1024\",\"type\":\"WheelZoomTool\"},{\"attributes\":{\"fill_alpha\":{\"value\":0.1},\"fill_color\":{\"value\":\"#1f77b4\"},\"line_alpha\":{\"value\":0.1},\"line_color\":{\"value\":\"#1f77b4\"},\"size\":{\"units\":\"screen\",\"value\":10},\"x\":{\"field\":\"x\"},\"y\":{\"field\":\"y\"}},\"id\":\"1050\",\"type\":\"Scatter\"},{\"attributes\":{\"overlay\":{\"id\":\"1031\",\"type\":\"BoxAnnotation\"}},\"id\":\"1025\",\"type\":\"BoxZoomTool\"},{\"attributes\":{\"data_source\":{\"id\":\"1048\",\"type\":\"ColumnDataSource\"},\"glyph\":{\"id\":\"1049\",\"type\":\"Scatter\"},\"hover_glyph\":null,\"muted_glyph\":null,\"nonselection_glyph\":{\"id\":\"1050\",\"type\":\"Scatter\"},\"selection_glyph\":null,\"view\":{\"id\":\"1052\",\"type\":\"CDSView\"}},\"id\":\"1051\",\"type\":\"GlyphRenderer\"},{\"attributes\":{},\"id\":\"1062\",\"type\":\"UnionRenderers\"},{\"attributes\":{},\"id\":\"1027\",\"type\":\"ResetTool\"},{\"attributes\":{\"plot\":null,\"text\":\"Data\"},\"id\":\"1002\",\"type\":\"Title\"},{\"attributes\":{\"source\":{\"id\":\"1048\",\"type\":\"ColumnDataSource\"}},\"id\":\"1052\",\"type\":\"CDSView\"},{\"attributes\":{},\"id\":\"1028\",\"type\":\"HelpTool\"},{\"attributes\":{},\"id\":\"1064\",\"type\":\"UnionRenderers\"},{\"attributes\":{\"callback\":null},\"id\":\"1005\",\"type\":\"DataRange1d\"},{\"attributes\":{\"active_drag\":\"auto\",\"active_inspect\":\"auto\",\"active_multi\":null,\"active_scroll\":\"auto\",\"active_tap\":\"auto\",\"tools\":[{\"id\":\"1023\",\"type\":\"PanTool\"},{\"id\":\"1024\",\"type\":\"WheelZoomTool\"},{\"id\":\"1025\",\"type\":\"BoxZoomTool\"},{\"id\":\"1026\",\"type\":\"SaveTool\"},{\"id\":\"1027\",\"type\":\"ResetTool\"},{\"id\":\"1028\",\"type\":\"HelpTool\"}]},\"id\":\"1029\",\"type\":\"Toolbar\"},{\"attributes\":{\"line_alpha\":0.1,\"line_color\":\"#1f77b4\",\"line_width\":3,\"x\":{\"field\":\"x\"},\"y\":{\"field\":\"y\"}},\"id\":\"1040\",\"type\":\"Line\"},{\"attributes\":{},\"id\":\"1059\",\"type\":\"Selection\"},{\"attributes\":{\"callback\":null},\"id\":\"1007\",\"type\":\"DataRange1d\"},{\"attributes\":{\"bottom_units\":\"screen\",\"fill_alpha\":{\"value\":0.5},\"fill_color\":{\"value\":\"lightgrey\"},\"left_units\":\"screen\",\"level\":\"overlay\",\"line_alpha\":{\"value\":1.0},\"line_color\":{\"value\":\"black\"},\"line_dash\":[4,4],\"line_width\":{\"value\":2},\"plot\":null,\"render_mode\":\"css\",\"right_units\":\"screen\",\"top_units\":\"screen\"},\"id\":\"1031\",\"type\":\"BoxAnnotation\"},{\"attributes\":{},\"id\":\"1009\",\"type\":\"LinearScale\"},{\"attributes\":{\"data_source\":{\"id\":\"1038\",\"type\":\"ColumnDataSource\"},\"glyph\":{\"id\":\"1039\",\"type\":\"Line\"},\"hover_glyph\":null,\"muted_glyph\":null,\"nonselection_glyph\":{\"id\":\"1040\",\"type\":\"Line\"},\"selection_glyph\":null,\"view\":{\"id\":\"1042\",\"type\":\"CDSView\"}},\"id\":\"1041\",\"type\":\"GlyphRenderer\"},{\"attributes\":{},\"id\":\"1011\",\"type\":\"LinearScale\"},{\"attributes\":{},\"id\":\"1060\",\"type\":\"UnionRenderers\"},{\"attributes\":{\"source\":{\"id\":\"1038\",\"type\":\"ColumnDataSource\"}},\"id\":\"1042\",\"type\":\"CDSView\"},{\"attributes\":{\"formatter\":{\"id\":\"1054\",\"type\":\"BasicTickFormatter\"},\"plot\":{\"id\":\"1003\",\"subtype\":\"Figure\",\"type\":\"Plot\"},\"ticker\":{\"id\":\"1014\",\"type\":\"BasicTicker\"}},\"id\":\"1013\",\"type\":\"LinearAxis\"},{\"attributes\":{},\"id\":\"1014\",\"type\":\"BasicTicker\"},{\"attributes\":{},\"id\":\"1063\",\"type\":\"Selection\"},{\"attributes\":{},\"id\":\"1026\",\"type\":\"SaveTool\"},{\"attributes\":{\"callback\":null,\"data\":{\"x\":{\"__ndarray__\":\"AAAAQJqh3j8AAAAgYKbcPwAAACAT774/AAAAYFxs0T8AAAAANZbWPwAAAODWJcE/AAAA4KB84T8AAADAAz3SPwAAAACv/Nc/AAAAYE3a2z8AAABAm1m+PwAAAGAuSMQ/AAAAwMkO4D8AAABAVT/OPwAAACAU268/AAAA4FLavz8AAAAgRpniPwAAAMB2EOE/AAAAgD7A4T8AAAAAiZLSPwAAAACO3OE/AAAAYDXrxT8AAABA0zKcPwAAAACU49I/AAAA4Ckc8T8AAABAyxjvPwAAAIA/m+4/AAAAgLp28D8AAAAgANrwPwAAAMAlJPA/AAAAoEEC7j8AAACATCHvPwAAAICJAPE/AAAAAAeg7T8AAAAgMiPwPw==\",\"dtype\":\"float64\",\"shape\":[35]},\"y\":{\"__ndarray__\":\"AAAAYHrX8j8AAACANkPpPwAAAOB0cvU/AAAAgJWp3z8AAACAtmrZPwAAAGDcyfQ/AAAAgKreAUAAAABA/6jcPwAAAADbPdk/AAAAgFs55z8AAACgz2v3PwAAAOBMP/o/AAAAQDKb+j8AAAAg4lvpPwAAAKBp2uo/AAAA4KIf+j8AAAAgZ1ABQAAAAACkc/0/AAAA4O36/j8AAAAgIvjnPwAAAEBeT/8/AAAAwJxJ+D8AAABAQ2KuPwAAAIDAzOs/AAAAoNcy8T8AAACgF03gPwAAAKDQf84/AAAAIPo58T8AAAAASqTiPwAAAODDAuc/AAAAIGHt3D8AAABgliq6vwAAAODTcfI/AAAAAOBa2b8AAADAcNXnPw==\",\"dtype\":\"float64\",\"shape\":[35]}},\"selected\":{\"id\":\"1061\",\"type\":\"Selection\"},\"selection_policy\":{\"id\":\"1062\",\"type\":\"UnionRenderers\"}},\"id\":\"1043\",\"type\":\"ColumnDataSource\"},{\"attributes\":{\"plot\":{\"id\":\"1003\",\"subtype\":\"Figure\",\"type\":\"Plot\"},\"ticker\":{\"id\":\"1014\",\"type\":\"BasicTicker\"}},\"id\":\"1017\",\"type\":\"Grid\"},{\"attributes\":{},\"id\":\"1056\",\"type\":\"BasicTickFormatter\"},{\"attributes\":{\"fill_alpha\":{\"value\":0.8},\"fill_color\":{\"value\":\"magenta\"},\"line_alpha\":{\"value\":0.8},\"line_color\":{\"value\":\"magenta\"},\"size\":{\"units\":\"screen\",\"value\":7},\"x\":{\"field\":\"x\"},\"y\":{\"field\":\"y\"}},\"id\":\"1044\",\"type\":\"Scatter\"},{\"attributes\":{\"formatter\":{\"id\":\"1056\",\"type\":\"BasicTickFormatter\"},\"plot\":{\"id\":\"1003\",\"subtype\":\"Figure\",\"type\":\"Plot\"},\"ticker\":{\"id\":\"1019\",\"type\":\"BasicTicker\"}},\"id\":\"1018\",\"type\":\"LinearAxis\"},{\"attributes\":{\"fill_alpha\":{\"value\":0.1},\"fill_color\":{\"value\":\"#1f77b4\"},\"line_alpha\":{\"value\":0.1},\"line_color\":{\"value\":\"#1f77b4\"},\"size\":{\"units\":\"screen\",\"value\":7},\"x\":{\"field\":\"x\"},\"y\":{\"field\":\"y\"}},\"id\":\"1045\",\"type\":\"Scatter\"},{\"attributes\":{},\"id\":\"1019\",\"type\":\"BasicTicker\"},{\"attributes\":{\"data_source\":{\"id\":\"1043\",\"type\":\"ColumnDataSource\"},\"glyph\":{\"id\":\"1044\",\"type\":\"Scatter\"},\"hover_glyph\":null,\"muted_glyph\":null,\"nonselection_glyph\":{\"id\":\"1045\",\"type\":\"Scatter\"},\"selection_glyph\":null,\"view\":{\"id\":\"1047\",\"type\":\"CDSView\"}},\"id\":\"1046\",\"type\":\"GlyphRenderer\"},{\"attributes\":{\"dimension\":1,\"plot\":{\"id\":\"1003\",\"subtype\":\"Figure\",\"type\":\"Plot\"},\"ticker\":{\"id\":\"1019\",\"type\":\"BasicTicker\"}},\"id\":\"1022\",\"type\":\"Grid\"}],\"root_ids\":[\"1003\"]},\"title\":\"Bokeh Application\",\"version\":\"1.0.1\"}};\n",
       "  var render_items = [{\"docid\":\"8882cda2-3885-4c19-9a20-3c0a9ec439a5\",\"notebook_comms_target\":\"1065\",\"roots\":{\"1003\":\"2ea6b457-a99c-49b6-8952-61a3bc7543a8\"}}];\n",
       "  root.Bokeh.embed.embed_items_notebook(docs_json, render_items);\n",
       "\n",
       "  }\n",
       "  if (root.Bokeh !== undefined) {\n",
       "    embed_document(root);\n",
       "  } else {\n",
       "    var attempts = 0;\n",
       "    var timer = setInterval(function(root) {\n",
       "      if (root.Bokeh !== undefined) {\n",
       "        embed_document(root);\n",
       "        clearInterval(timer);\n",
       "      }\n",
       "      attempts++;\n",
       "      if (attempts > 100) {\n",
       "        console.log(\"Bokeh: ERROR: Unable to run BokehJS code because BokehJS library is missing\");\n",
       "        clearInterval(timer);\n",
       "      }\n",
       "    }, 10, root)\n",
       "  }\n",
       "})(window);"
      ],
      "application/vnd.bokehjs_exec.v0+json": ""
     },
     "metadata": {
      "application/vnd.bokehjs_exec.v0+json": {
       "id": "1003"
      }
     },
     "output_type": "display_data"
    },
    {
     "data": {
      "text/html": [
       "<p><code>&lt;Bokeh Notebook handle for <strong>In[6]</strong>&gt;</code></p>"
      ],
      "text/plain": [
       "<bokeh.io.notebook.CommsHandle at 0x7fd8979eb320>"
      ]
     },
     "execution_count": 6,
     "metadata": {},
     "output_type": "execute_result"
    }
   ],
   "source": [
    "show(data_plt, notebook_handle=True)"
   ]
  },
  {
   "cell_type": "markdown",
   "metadata": {},
   "source": [
    "## Create a custom dataset that bootstraps the data"
   ]
  },
  {
   "cell_type": "code",
   "execution_count": 7,
   "metadata": {},
   "outputs": [],
   "source": [
    "from torch.utils.data import DataLoader, Dataset"
   ]
  },
  {
   "cell_type": "code",
   "execution_count": 8,
   "metadata": {},
   "outputs": [],
   "source": [
    "class BootstrappedLoader(Dataset):\n",
    "    def __init__(self, features, targets, B=10):\n",
    "        # Generate B datasets by sampling with replacement\n",
    "        # from the original data\n",
    "        self.__data_sz = N = features.shape[0]\n",
    "        masks = [np.random.randint(N, size=(N,)) for _ in range(B)]\n",
    "        self.__boot_dsets = [(features[m], targets[m]) for m in masks]\n",
    "    \n",
    "    def __getitem__(self, idx):\n",
    "        # Return an item from each bootstrapped dataset\n",
    "        samples = [(boot_ds[0][idx], boot_ds[1][idx]) for boot_ds in self.__boot_dsets]\n",
    "        return samples\n",
    "    \n",
    "    def __len__(self):\n",
    "        return self.__data_sz"
   ]
  },
  {
   "cell_type": "code",
   "execution_count": 9,
   "metadata": {},
   "outputs": [],
   "source": [
    "def _collate(samples):\n",
    "    features_batches = [torch.tensor([[el[0]] for el in batch]) for batch in zip(*samples)]\n",
    "    target_batches = [torch.tensor([[el[1]] for el in batch]) for batch in zip(*samples)]\n",
    "    \n",
    "    return zip(features_batches, target_batches)"
   ]
  },
  {
   "cell_type": "markdown",
   "metadata": {},
   "source": [
    "## Create ensemble and train it"
   ]
  },
  {
   "cell_type": "code",
   "execution_count": 10,
   "metadata": {},
   "outputs": [],
   "source": [
    "from torch import nn\n",
    "from torch import optim\n",
    "import torch.nn.functional as F"
   ]
  },
  {
   "cell_type": "code",
   "execution_count": 20,
   "metadata": {},
   "outputs": [
    {
     "data": {
      "text/html": [
       "<div>\n",
       "<style scoped>\n",
       "    .dataframe tbody tr th:only-of-type {\n",
       "        vertical-align: middle;\n",
       "    }\n",
       "\n",
       "    .dataframe tbody tr th {\n",
       "        vertical-align: top;\n",
       "    }\n",
       "\n",
       "    .dataframe thead th {\n",
       "        text-align: right;\n",
       "    }\n",
       "</style>\n",
       "<table border=\"1\" class=\"dataframe\">\n",
       "  <thead>\n",
       "    <tr style=\"text-align: right;\">\n",
       "      <th></th>\n",
       "      <th>x</th>\n",
       "      <th>y</th>\n",
       "      <th>series</th>\n",
       "    </tr>\n",
       "  </thead>\n",
       "  <tbody>\n",
       "    <tr>\n",
       "      <th>137</th>\n",
       "      <td>0.120835</td>\n",
       "      <td>1.340443</td>\n",
       "      <td>test</td>\n",
       "    </tr>\n",
       "    <tr>\n",
       "      <th>106</th>\n",
       "      <td>0.590332</td>\n",
       "      <td>1.468967</td>\n",
       "      <td>obs</td>\n",
       "    </tr>\n",
       "    <tr>\n",
       "      <th>158</th>\n",
       "      <td>0.295140</td>\n",
       "      <td>0.868744</td>\n",
       "      <td>test</td>\n",
       "    </tr>\n",
       "    <tr>\n",
       "      <th>122</th>\n",
       "      <td>0.226392</td>\n",
       "      <td>1.457901</td>\n",
       "      <td>obs</td>\n",
       "    </tr>\n",
       "    <tr>\n",
       "      <th>151</th>\n",
       "      <td>0.581210</td>\n",
       "      <td>2.164259</td>\n",
       "      <td>test</td>\n",
       "    </tr>\n",
       "  </tbody>\n",
       "</table>\n",
       "</div>"
      ],
      "text/plain": [
       "            x         y series\n",
       "137  0.120835  1.340443   test\n",
       "106  0.590332  1.468967    obs\n",
       "158  0.295140  0.868744   test\n",
       "122  0.226392  1.457901    obs\n",
       "151  0.581210  2.164259   test"
      ]
     },
     "execution_count": 20,
     "metadata": {},
     "output_type": "execute_result"
    }
   ],
   "source": [
    "B=50\n",
    "batch_sz = 10\n",
    "epochs = 6000\n",
    "\n",
    "train_data = data.loc[data['series'] == 'obs']\n",
    "test_data = data.loc[data['series'] == 'test']\n",
    "\n",
    "data.loc[data['series'].isin(['obs', 'test'])].sample(5)"
   ]
  },
  {
   "cell_type": "code",
   "execution_count": 21,
   "metadata": {},
   "outputs": [],
   "source": [
    "ensemble = [nn.Sequential(nn.Linear(1,20, bias=True), nn.ReLU(inplace=True), nn.Linear(20,1, bias=True))\n",
    "            for _ in range(B)]\n",
    "\n",
    "optims = [optim.SGD(model.parameters(), lr=0.1) for model in ensemble]\n",
    "\n",
    "boot_ds = BootstrappedLoader(features=train_data['x'].values, targets=train_data['y'].values, B=B)\n",
    "train_loader = DataLoader(boot_ds, batch_size=batch_sz, collate_fn=_collate)"
   ]
  },
  {
   "cell_type": "code",
   "execution_count": 22,
   "metadata": {},
   "outputs": [],
   "source": [
    "def train(train_loader, test_data, ensemble, optims, epochs=100, verbose=True, update_plot=False):\n",
    "    # do some training\n",
    "    x_axis = np.array([])\n",
    "    y_axis = np.array([])\n",
    "    std_axis = np.array([])\n",
    "    \n",
    "    x = torch.from_numpy(test_data['x'].values).unsqueeze(1).float()\n",
    "    t = torch.from_numpy(test_data['y'].values).unsqueeze(1).float()\n",
    "\n",
    "    for epoch in range(epochs):\n",
    "        for bidx, boot_batches in enumerate(train_loader):\n",
    "            for idx, ((x, t), model, sgd) in enumerate(zip(boot_batches, ensemble, optims)):\n",
    "                sgd.zero_grad()\n",
    "            \n",
    "                y = model(x)\n",
    "                loss = F.mse_loss(y, t)\n",
    "                loss.backward()\n",
    "                sgd.step()\n",
    "\n",
    "        with torch.no_grad():\n",
    "            predictions = [model(x) for model in ensemble]    \n",
    "    \n",
    "            y = torch.cat(predictions, 1).mean(1).unsqueeze(1)\n",
    "            ensemble_loss = F.mse_loss(y, t).item()\n",
    "            losses = [F.mse_loss(y, t).item() for y in predictions]\n",
    "            variance = torch.cat(predictions, 1).std(1).mean().item()\n",
    "        \n",
    "        if verbose:\n",
    "            print(f'epoch {epoch:02d} done, testing...')\n",
    "            print(f'  | loss={ensemble_loss:2.3f}',\n",
    "                  f'  |  mean_loss={np.mean(losses):2.3f}, std_loss={np.std(losses):2.3f}')\n",
    "        \n",
    "        if update_plot:\n",
    "            x_axis = np.append(x_axis, [epoch])\n",
    "            y_axis = np.append(y_axis, [ensemble_loss])\n",
    "            std_axis = np.append(std_axis, [variance])\n",
    "            update_plot(x_axis, y_axis, std_axis)"
   ]
  },
  {
   "cell_type": "markdown",
   "metadata": {},
   "source": [
    "## Visualize the training process"
   ]
  },
  {
   "cell_type": "code",
   "execution_count": 23,
   "metadata": {},
   "outputs": [],
   "source": [
    "x = np.array([])\n",
    "y = np.array([])\n",
    "std = np.array([])\n",
    "\n",
    "train_plt = figure(title=\"Ensemble Loss\",\n",
    "                   plot_height=400,\n",
    "                   plot_width=800, \n",
    "                   x_range=(0, epochs),\n",
    "                   background_fill_color='whitesmoke')\n",
    "loss_plt = train_plt.line(x, y, color=\"orangered\", line_width=2.5, alpha=0.9)\n",
    "std_plt = train_plt.line(x, std, color=\"dodgerblue\", line_width=2.5, alpha=0.9)\n",
    "\n",
    "\n",
    "def update(x, y, std):\n",
    "    loss_plt.data_source.data.update(x=x, y=y)\n",
    "    std_plt.data_source.data.update(x=x, y=std)\n",
    "    push_notebook()"
   ]
  },
  {
   "cell_type": "code",
   "execution_count": 24,
   "metadata": {},
   "outputs": [
    {
     "data": {
      "text/html": [
       "\n",
       "\n",
       "\n",
       "\n",
       "\n",
       "\n",
       "  <div class=\"bk-root\" id=\"4f1b13da-9948-4fd2-9a2b-22232cbad5f8\"></div>\n"
      ]
     },
     "metadata": {},
     "output_type": "display_data"
    },
    {
     "data": {
      "application/javascript": [
       "(function(root) {\n",
       "  function embed_document(root) {\n",
       "    \n",
       "  var docs_json = {\"1a6ec68d-b48e-45da-bfe3-bab02ff1a6fb\":{\"roots\":{\"references\":[{\"attributes\":{\"background_fill_color\":{\"value\":\"whitesmoke\"},\"below\":[{\"id\":\"21434\",\"type\":\"LinearAxis\"}],\"left\":[{\"id\":\"21439\",\"type\":\"LinearAxis\"}],\"plot_height\":400,\"plot_width\":800,\"renderers\":[{\"id\":\"21434\",\"type\":\"LinearAxis\"},{\"id\":\"21438\",\"type\":\"Grid\"},{\"id\":\"21439\",\"type\":\"LinearAxis\"},{\"id\":\"21443\",\"type\":\"Grid\"},{\"id\":\"21452\",\"type\":\"BoxAnnotation\"},{\"id\":\"21462\",\"type\":\"GlyphRenderer\"},{\"id\":\"21467\",\"type\":\"GlyphRenderer\"}],\"title\":{\"id\":\"21423\",\"type\":\"Title\"},\"toolbar\":{\"id\":\"21450\",\"type\":\"Toolbar\"},\"x_range\":{\"id\":\"21426\",\"type\":\"Range1d\"},\"x_scale\":{\"id\":\"21430\",\"type\":\"LinearScale\"},\"y_range\":{\"id\":\"21428\",\"type\":\"DataRange1d\"},\"y_scale\":{\"id\":\"21432\",\"type\":\"LinearScale\"}},\"id\":\"21424\",\"subtype\":\"Figure\",\"type\":\"Plot\"},{\"attributes\":{},\"id\":\"21449\",\"type\":\"HelpTool\"},{\"attributes\":{\"callback\":null},\"id\":\"21428\",\"type\":\"DataRange1d\"},{\"attributes\":{},\"id\":\"21510\",\"type\":\"UnionRenderers\"},{\"attributes\":{\"active_drag\":\"auto\",\"active_inspect\":\"auto\",\"active_multi\":null,\"active_scroll\":\"auto\",\"active_tap\":\"auto\",\"tools\":[{\"id\":\"21444\",\"type\":\"PanTool\"},{\"id\":\"21445\",\"type\":\"WheelZoomTool\"},{\"id\":\"21446\",\"type\":\"BoxZoomTool\"},{\"id\":\"21447\",\"type\":\"SaveTool\"},{\"id\":\"21448\",\"type\":\"ResetTool\"},{\"id\":\"21449\",\"type\":\"HelpTool\"}]},\"id\":\"21450\",\"type\":\"Toolbar\"},{\"attributes\":{},\"id\":\"21430\",\"type\":\"LinearScale\"},{\"attributes\":{\"data_source\":{\"id\":\"21459\",\"type\":\"ColumnDataSource\"},\"glyph\":{\"id\":\"21460\",\"type\":\"Line\"},\"hover_glyph\":null,\"muted_glyph\":null,\"nonselection_glyph\":{\"id\":\"21461\",\"type\":\"Line\"},\"selection_glyph\":null,\"view\":{\"id\":\"21463\",\"type\":\"CDSView\"}},\"id\":\"21462\",\"type\":\"GlyphRenderer\"},{\"attributes\":{\"bottom_units\":\"screen\",\"fill_alpha\":{\"value\":0.5},\"fill_color\":{\"value\":\"lightgrey\"},\"left_units\":\"screen\",\"level\":\"overlay\",\"line_alpha\":{\"value\":1.0},\"line_color\":{\"value\":\"black\"},\"line_dash\":[4,4],\"line_width\":{\"value\":2},\"plot\":null,\"render_mode\":\"css\",\"right_units\":\"screen\",\"top_units\":\"screen\"},\"id\":\"21452\",\"type\":\"BoxAnnotation\"},{\"attributes\":{},\"id\":\"21432\",\"type\":\"LinearScale\"},{\"attributes\":{\"source\":{\"id\":\"21459\",\"type\":\"ColumnDataSource\"}},\"id\":\"21463\",\"type\":\"CDSView\"},{\"attributes\":{\"formatter\":{\"id\":\"21504\",\"type\":\"BasicTickFormatter\"},\"plot\":{\"id\":\"21424\",\"subtype\":\"Figure\",\"type\":\"Plot\"},\"ticker\":{\"id\":\"21435\",\"type\":\"BasicTicker\"}},\"id\":\"21434\",\"type\":\"LinearAxis\"},{\"attributes\":{},\"id\":\"21509\",\"type\":\"Selection\"},{\"attributes\":{},\"id\":\"21435\",\"type\":\"BasicTicker\"},{\"attributes\":{},\"id\":\"21511\",\"type\":\"Selection\"},{\"attributes\":{\"line_alpha\":0.9,\"line_color\":\"dodgerblue\",\"line_width\":2.5,\"x\":{\"field\":\"x\"},\"y\":{\"field\":\"y\"}},\"id\":\"21465\",\"type\":\"Line\"},{\"attributes\":{\"callback\":null,\"end\":6000},\"id\":\"21426\",\"type\":\"Range1d\"},{\"attributes\":{\"callback\":null,\"data\":{\"x\":{\"__ndarray__\":\"\",\"dtype\":\"float64\",\"shape\":[0]},\"y\":{\"__ndarray__\":\"\",\"dtype\":\"float64\",\"shape\":[0]}},\"selected\":{\"id\":\"21511\",\"type\":\"Selection\"},\"selection_policy\":{\"id\":\"21512\",\"type\":\"UnionRenderers\"}},\"id\":\"21464\",\"type\":\"ColumnDataSource\"},{\"attributes\":{\"plot\":{\"id\":\"21424\",\"subtype\":\"Figure\",\"type\":\"Plot\"},\"ticker\":{\"id\":\"21435\",\"type\":\"BasicTicker\"}},\"id\":\"21438\",\"type\":\"Grid\"},{\"attributes\":{\"line_alpha\":0.1,\"line_color\":\"#1f77b4\",\"line_width\":2.5,\"x\":{\"field\":\"x\"},\"y\":{\"field\":\"y\"}},\"id\":\"21466\",\"type\":\"Line\"},{\"attributes\":{\"data_source\":{\"id\":\"21464\",\"type\":\"ColumnDataSource\"},\"glyph\":{\"id\":\"21465\",\"type\":\"Line\"},\"hover_glyph\":null,\"muted_glyph\":null,\"nonselection_glyph\":{\"id\":\"21466\",\"type\":\"Line\"},\"selection_glyph\":null,\"view\":{\"id\":\"21468\",\"type\":\"CDSView\"}},\"id\":\"21467\",\"type\":\"GlyphRenderer\"},{\"attributes\":{\"formatter\":{\"id\":\"21506\",\"type\":\"BasicTickFormatter\"},\"plot\":{\"id\":\"21424\",\"subtype\":\"Figure\",\"type\":\"Plot\"},\"ticker\":{\"id\":\"21440\",\"type\":\"BasicTicker\"}},\"id\":\"21439\",\"type\":\"LinearAxis\"},{\"attributes\":{\"source\":{\"id\":\"21464\",\"type\":\"ColumnDataSource\"}},\"id\":\"21468\",\"type\":\"CDSView\"},{\"attributes\":{},\"id\":\"21440\",\"type\":\"BasicTicker\"},{\"attributes\":{\"line_alpha\":0.1,\"line_color\":\"#1f77b4\",\"line_width\":2.5,\"x\":{\"field\":\"x\"},\"y\":{\"field\":\"y\"}},\"id\":\"21461\",\"type\":\"Line\"},{\"attributes\":{\"dimension\":1,\"plot\":{\"id\":\"21424\",\"subtype\":\"Figure\",\"type\":\"Plot\"},\"ticker\":{\"id\":\"21440\",\"type\":\"BasicTicker\"}},\"id\":\"21443\",\"type\":\"Grid\"},{\"attributes\":{\"plot\":null,\"text\":\"Ensemble Loss\"},\"id\":\"21423\",\"type\":\"Title\"},{\"attributes\":{},\"id\":\"21506\",\"type\":\"BasicTickFormatter\"},{\"attributes\":{\"line_alpha\":0.9,\"line_color\":\"orangered\",\"line_width\":2.5,\"x\":{\"field\":\"x\"},\"y\":{\"field\":\"y\"}},\"id\":\"21460\",\"type\":\"Line\"},{\"attributes\":{\"callback\":null,\"data\":{\"x\":{\"__ndarray__\":\"\",\"dtype\":\"float64\",\"shape\":[0]},\"y\":{\"__ndarray__\":\"\",\"dtype\":\"float64\",\"shape\":[0]}},\"selected\":{\"id\":\"21509\",\"type\":\"Selection\"},\"selection_policy\":{\"id\":\"21510\",\"type\":\"UnionRenderers\"}},\"id\":\"21459\",\"type\":\"ColumnDataSource\"},{\"attributes\":{},\"id\":\"21512\",\"type\":\"UnionRenderers\"},{\"attributes\":{},\"id\":\"21444\",\"type\":\"PanTool\"},{\"attributes\":{},\"id\":\"21445\",\"type\":\"WheelZoomTool\"},{\"attributes\":{\"overlay\":{\"id\":\"21452\",\"type\":\"BoxAnnotation\"}},\"id\":\"21446\",\"type\":\"BoxZoomTool\"},{\"attributes\":{},\"id\":\"21447\",\"type\":\"SaveTool\"},{\"attributes\":{},\"id\":\"21448\",\"type\":\"ResetTool\"},{\"attributes\":{},\"id\":\"21504\",\"type\":\"BasicTickFormatter\"}],\"root_ids\":[\"21424\"]},\"title\":\"Bokeh Application\",\"version\":\"1.0.1\"}};\n",
       "  var render_items = [{\"docid\":\"1a6ec68d-b48e-45da-bfe3-bab02ff1a6fb\",\"notebook_comms_target\":\"21513\",\"roots\":{\"21424\":\"4f1b13da-9948-4fd2-9a2b-22232cbad5f8\"}}];\n",
       "  root.Bokeh.embed.embed_items_notebook(docs_json, render_items);\n",
       "\n",
       "  }\n",
       "  if (root.Bokeh !== undefined) {\n",
       "    embed_document(root);\n",
       "  } else {\n",
       "    var attempts = 0;\n",
       "    var timer = setInterval(function(root) {\n",
       "      if (root.Bokeh !== undefined) {\n",
       "        embed_document(root);\n",
       "        clearInterval(timer);\n",
       "      }\n",
       "      attempts++;\n",
       "      if (attempts > 100) {\n",
       "        console.log(\"Bokeh: ERROR: Unable to run BokehJS code because BokehJS library is missing\");\n",
       "        clearInterval(timer);\n",
       "      }\n",
       "    }, 10, root)\n",
       "  }\n",
       "})(window);"
      ],
      "application/vnd.bokehjs_exec.v0+json": ""
     },
     "metadata": {
      "application/vnd.bokehjs_exec.v0+json": {
       "id": "21424"
      }
     },
     "output_type": "display_data"
    },
    {
     "data": {
      "text/html": [
       "<p><code>&lt;Bokeh Notebook handle for <strong>In[24]</strong>&gt;</code></p>"
      ],
      "text/plain": [
       "<bokeh.io.notebook.CommsHandle at 0x7fd8978bd0f0>"
      ]
     },
     "execution_count": 24,
     "metadata": {},
     "output_type": "execute_result"
    }
   ],
   "source": [
    "show(train_plt, notebook_handle=True)"
   ]
  },
  {
   "cell_type": "code",
   "execution_count": 25,
   "metadata": {},
   "outputs": [],
   "source": [
    "train(train_loader, test_data, ensemble, optims, epochs=epochs, verbose=False, update_plot=update)"
   ]
  },
  {
   "cell_type": "code",
   "execution_count": 26,
   "metadata": {},
   "outputs": [],
   "source": [
    "def get_predictions(ensemble, x):\n",
    "    with torch.no_grad():\n",
    "        predictions = [model(x) for model in ensemble]\n",
    "        predictions = torch.cat(predictions, 1)\n",
    "        return predictions.mean(1), predictions.std(1)"
   ]
  },
  {
   "cell_type": "code",
   "execution_count": 27,
   "metadata": {},
   "outputs": [],
   "source": [
    "x_axis = torch.arange(-1, 2.01, 1/33).unsqueeze(1).float()\n",
    "y_axis, std = get_predictions(ensemble, x_axis)\n",
    "\n",
    "x_axis = x_axis.squeeze().numpy()\n",
    "y_axis = y_axis.squeeze().numpy()\n",
    "std = std.squeeze().numpy()\n",
    "\n",
    "x_obs = obs_data['x'].values\n",
    "y_obs = obs_data['y'].values\n",
    "\n",
    "df = pd.DataFrame(data=dict(x=x_axis, lower=y_axis-std, upper=y_axis+std)).sort_values(by=\"x\")\n",
    "source = ColumnDataSource(df.reset_index())\n",
    "\n",
    "data_plt = figure(title=\"Data\",\n",
    "                  plot_height=400,\n",
    "                  plot_width=900,\n",
    "                  x_range=(-1, 2),\n",
    "                  background_fill_color='#ffffff')\n",
    "\n",
    "fx = data_plt.line(x_axis, y_axis, color=\"springgreen\", line_width=3, alpha=0.8)\n",
    "obs = data_plt.scatter(x_obs, y_obs, size=10, fill_color=\"slateblue\", alpha=0.8, line_color='slateblue')\n",
    "band = Band(base='x', lower='lower', upper='upper', source=source, level='underlay',\n",
    "            fill_alpha=0.3, fill_color='lightcoral', line_width=0, line_color='#ffffff')\n",
    "data_plt.add_layout(band)"
   ]
  },
  {
   "cell_type": "code",
   "execution_count": 28,
   "metadata": {},
   "outputs": [
    {
     "data": {
      "text/html": [
       "\n",
       "\n",
       "\n",
       "\n",
       "\n",
       "\n",
       "  <div class=\"bk-root\" id=\"e7190e2f-05f2-42b3-a735-4a31d3f5dcb2\"></div>\n"
      ]
     },
     "metadata": {},
     "output_type": "display_data"
    },
    {
     "data": {
      "application/javascript": [
       "(function(root) {\n",
       "  function embed_document(root) {\n",
       "    \n",
       "  var docs_json = {\"74d711c2-4403-468c-8133-04c5a960bfaf\":{\"roots\":{\"references\":[{\"attributes\":{\"below\":[{\"id\":\"51586\",\"type\":\"LinearAxis\"}],\"left\":[{\"id\":\"51591\",\"type\":\"LinearAxis\"}],\"plot_height\":400,\"plot_width\":900,\"renderers\":[{\"id\":\"51586\",\"type\":\"LinearAxis\"},{\"id\":\"51590\",\"type\":\"Grid\"},{\"id\":\"51591\",\"type\":\"LinearAxis\"},{\"id\":\"51595\",\"type\":\"Grid\"},{\"id\":\"51604\",\"type\":\"BoxAnnotation\"},{\"id\":\"51614\",\"type\":\"GlyphRenderer\"},{\"id\":\"51619\",\"type\":\"GlyphRenderer\"},{\"id\":\"51621\",\"type\":\"Band\"}],\"title\":{\"id\":\"51575\",\"type\":\"Title\"},\"toolbar\":{\"id\":\"51602\",\"type\":\"Toolbar\"},\"x_range\":{\"id\":\"51578\",\"type\":\"Range1d\"},\"x_scale\":{\"id\":\"51582\",\"type\":\"LinearScale\"},\"y_range\":{\"id\":\"51580\",\"type\":\"DataRange1d\"},\"y_scale\":{\"id\":\"51584\",\"type\":\"LinearScale\"}},\"id\":\"51576\",\"subtype\":\"Figure\",\"type\":\"Plot\"},{\"attributes\":{\"fill_alpha\":{\"value\":0.1},\"fill_color\":{\"value\":\"#1f77b4\"},\"line_alpha\":{\"value\":0.1},\"line_color\":{\"value\":\"#1f77b4\"},\"size\":{\"units\":\"screen\",\"value\":10},\"x\":{\"field\":\"x\"},\"y\":{\"field\":\"y\"}},\"id\":\"51618\",\"type\":\"Scatter\"},{\"attributes\":{},\"id\":\"51587\",\"type\":\"BasicTicker\"},{\"attributes\":{\"data_source\":{\"id\":\"51616\",\"type\":\"ColumnDataSource\"},\"glyph\":{\"id\":\"51617\",\"type\":\"Scatter\"},\"hover_glyph\":null,\"muted_glyph\":null,\"nonselection_glyph\":{\"id\":\"51618\",\"type\":\"Scatter\"},\"selection_glyph\":null,\"view\":{\"id\":\"51620\",\"type\":\"CDSView\"}},\"id\":\"51619\",\"type\":\"GlyphRenderer\"},{\"attributes\":{\"plot\":{\"id\":\"51576\",\"subtype\":\"Figure\",\"type\":\"Plot\"},\"ticker\":{\"id\":\"51587\",\"type\":\"BasicTicker\"}},\"id\":\"51590\",\"type\":\"Grid\"},{\"attributes\":{\"source\":{\"id\":\"51616\",\"type\":\"ColumnDataSource\"}},\"id\":\"51620\",\"type\":\"CDSView\"},{\"attributes\":{\"formatter\":{\"id\":\"51670\",\"type\":\"BasicTickFormatter\"},\"plot\":{\"id\":\"51576\",\"subtype\":\"Figure\",\"type\":\"Plot\"},\"ticker\":{\"id\":\"51592\",\"type\":\"BasicTicker\"}},\"id\":\"51591\",\"type\":\"LinearAxis\"},{\"attributes\":{},\"id\":\"51592\",\"type\":\"BasicTicker\"},{\"attributes\":{},\"id\":\"51675\",\"type\":\"Selection\"},{\"attributes\":{\"dimension\":1,\"plot\":{\"id\":\"51576\",\"subtype\":\"Figure\",\"type\":\"Plot\"},\"ticker\":{\"id\":\"51592\",\"type\":\"BasicTicker\"}},\"id\":\"51595\",\"type\":\"Grid\"},{\"attributes\":{\"source\":{\"id\":\"51611\",\"type\":\"ColumnDataSource\"}},\"id\":\"51615\",\"type\":\"CDSView\"},{\"attributes\":{\"line_alpha\":0.1,\"line_color\":\"#1f77b4\",\"line_width\":3,\"x\":{\"field\":\"x\"},\"y\":{\"field\":\"y\"}},\"id\":\"51613\",\"type\":\"Line\"},{\"attributes\":{\"plot\":null,\"text\":\"Data\"},\"id\":\"51575\",\"type\":\"Title\"},{\"attributes\":{\"callback\":null,\"data\":{\"x\":{\"__ndarray__\":\"AACAvxA+eL8ffHC/L7povz74YL9ONlm/XXRRv22ySb988EG/jC46v5tsMr+rqiq/uugiv8omG7/ZZBO/6aILv/jgA78QPvi+L7rovk422b5tssm+jC66vquqqr7KJpu+6aKLvhA+eL5ONlm+jC46vsomG74QPvi9jC66vRA+eL0QPvi8AAAAABA++DwQPng9jC66PRA++D3KJhs+jC46Pk42WT4QPng+6aKLPsommz6rqqo+jC66Pm2yyT5ONtk+L7roPhA++D744AM/6aILP9lkEz/KJhs/uugiP6uqKj+bbDI/jC46P3zwQT9tskk/XXRRP042WT8++GA/L7poPx98cD8QPng/AACAP/jggz/wwYc/6aKLP+GDjz/ZZJM/0UWXP8ommz/CB58/uuiiP7LJpj+rqqo/o4uuP5tssj+TTbY/jC66P4QPvj988ME/dNHFP22yyT9lk80/XXTRP1VV1T9ONtk/RhfdPz744D822eQ/L7roPyeb7D8ffPA/F130PxA++D8IH/w/AAAAQA==\",\"dtype\":\"float32\",\"shape\":[100]},\"y\":{\"__ndarray__\":\"7memv71Tnb/NPpS/KiyLv2YZgr/4DXK/e+lfv7PBTb/Kmju/QHApv1RAF79xDwW/l7TlvrI/wb4ou5y+qFhwvk5cJ76S4Ly9L+6svHHUTD1aEvg9bNVEPgTVhj7/Ras+TMbPPhI+9D7tWAw/fJMeP2HVMD//GUM/YFtVP9KbZz9jznk/ffmFP5dijz/dLZk/CN2iPwO4qj8706o/gT+jP1+nmT+cw48/DLWFPyFLdz8KUmQ/1F5YP7NaYD8lcHo/ofaOP8jFoj9KCrY/DSLDP+NNxT8G3bc/ZICgPz/kiD88kGI/8lczP10kBD97qas+CS44Ptmznz2uhzO3XD3CvOodj7xk3wE8DD0DPR3rgD0MnMY9zAwGPiW2KD77Rks+2NptPtY3iD7xf5k+N8aqPtIDvD4fOs0+bGnePpyK7z7DUwA/uN0IP21jET+86Rk/7nEiPyz9Kj86iDM/lBA8P3aZRD+4Ik0/AKtVP4MxXj+0uGY/1kFvP+TOdz9ILoA/KnWEPw28iD8KA40/DEyRPw==\",\"dtype\":\"float32\",\"shape\":[100]}},\"selected\":{\"id\":\"51673\",\"type\":\"Selection\"},\"selection_policy\":{\"id\":\"51674\",\"type\":\"UnionRenderers\"}},\"id\":\"51611\",\"type\":\"ColumnDataSource\"},{\"attributes\":{\"callback\":null,\"data\":{\"index\":[0,1,2,3,4,5,6,7,8,9,10,11,12,13,14,15,16,17,18,19,20,21,22,23,24,25,26,27,28,29,30,31,32,33,34,35,36,37,38,39,40,41,42,43,44,45,46,47,48,49,50,51,52,53,54,55,56,57,58,59,60,61,62,63,64,65,66,67,68,69,70,71,72,73,74,75,76,77,78,79,80,81,82,83,84,85,86,87,88,89,90,91,92,93,94,95,96,97,98,99],\"level_0\":[0,1,2,3,4,5,6,7,8,9,10,11,12,13,14,15,16,17,18,19,20,21,22,23,24,25,26,27,28,29,30,31,32,33,34,35,36,37,38,39,40,41,42,43,44,45,46,47,48,49,50,51,52,53,54,55,56,57,58,59,60,61,62,63,64,65,66,67,68,69,70,71,72,73,74,75,76,77,78,79,80,81,82,83,84,85,86,87,88,89,90,91,92,93,94,95,96,97,98,99],\"lower\":{\"__ndarray__\":\"CM3mwBhv38BtENjAKLHQwAZSycA/88HAzpS6wJU2s8Ci2KvAA3qkwN4ancBFvJXALF6OwBUAh8BWQ3/A9IdwwF7RYcDmHVPAR3FEwNHINcDBJSfA1oYYwEbtCcAytfa/g6PZv7quvL9+25+/7jCDv5t5Tb+jHRW/CAm7vkj+G75AS1491qqAPuy33z7+yBo/ai49P1adVT9kAl0/NG5WP9Z9TT/iJEA/OC8uPyBbFz/Aqv0+l/PgPu1R9D4MNRs/XmlBPz2/Yj+MXXg/OS+CP9FYfj9lbmQ/SvFBP5RCHj+XOPE+ltegPgCjFD5Q2gG9M3s9vhuYkL56ZsC+D5rNvsPy1L4fFOW+fK4Bv8qoE78YVSm/OG5Bv2EOW7+TsXW/lH6Ivzxhlr8ucKS/9qGyv/LxwL/AU8+/xcXdvwtG7L940fq/j7QEwDwGDMBQWxPA0LEawAkKIsCUZCnAOMIwwDghOMCQgT/AgONGwPdGTsAxq1XAVg9dwLtyZMCe1mvAGztzwCigesCoAoHAuLSEwA==\",\"dtype\":\"float32\",\"shape\":[100]},\"upper\":{\"__ndarray__\":\"EJmTQDrFkEAH8Y1AEhuLQFJFiEDBb4VAcJqCQFGMf0Dg43lA5jt0QJGVbkDS8GhAM09jQD6wXUCMFFhA3nxSQNTlTEDcT0dAj71BQHUvPEDnpjZAhCExQIiiK0AZLCZAVMMgQOJmG0A1GhZANeIQQBfJC0Bo1AZA0Q4CQJsb+z8J3PI/RMjrPzPX5j879+Q/2yLnP1uh6j9EJec/6EfbP9OPzD/HdL8/fFK0P5Gdqz9a56Q/7iGgPzhGoz+f1aw/kzi9P/Ir1D/O5e8/cAoCQK+3BUDagv0/IwjgPzSnwj8WQqY/DCKLP/ofYz8gxzM/0XULPwdy4D6sY8A+Y1K1PgUPwz4VMu0+HhYSP5LjMz8a/Fo/TzqCP7q0lz+Iqq0/SvXDPyh92j8mMPE/iQIEQO15D0Bo+BpAPn0mQKwFMkCekj1AayNJQPK3VEAuUGBAyOprQJ+Id0BYlIFAQWWHQPo2jUB2CZNAgNyYQNyvnkDGg6RAIViqQBYtsEBzArZAIti7QBquwUAshMdAvlrNQA==\",\"dtype\":\"float32\",\"shape\":[100]},\"x\":{\"__ndarray__\":\"AACAvxA+eL8ffHC/L7povz74YL9ONlm/XXRRv22ySb988EG/jC46v5tsMr+rqiq/uugiv8omG7/ZZBO/6aILv/jgA78QPvi+L7rovk422b5tssm+jC66vquqqr7KJpu+6aKLvhA+eL5ONlm+jC46vsomG74QPvi9jC66vRA+eL0QPvi8AAAAABA++DwQPng9jC66PRA++D3KJhs+jC46Pk42WT4QPng+6aKLPsommz6rqqo+jC66Pm2yyT5ONtk+L7roPhA++D744AM/6aILP9lkEz/KJhs/uugiP6uqKj+bbDI/jC46P3zwQT9tskk/XXRRP042WT8++GA/L7poPx98cD8QPng/AACAP/jggz/wwYc/6aKLP+GDjz/ZZJM/0UWXP8ommz/CB58/uuiiP7LJpj+rqqo/o4uuP5tssj+TTbY/jC66P4QPvj988ME/dNHFP22yyT9lk80/XXTRP1VV1T9ONtk/RhfdPz744D822eQ/L7roPyeb7D8ffPA/F130PxA++D8IH/w/AAAAQA==\",\"dtype\":\"float32\",\"shape\":[100]}},\"selected\":{\"id\":\"51677\",\"type\":\"Selection\"},\"selection_policy\":{\"id\":\"51678\",\"type\":\"UnionRenderers\"}},\"id\":\"51574\",\"type\":\"ColumnDataSource\"},{\"attributes\":{\"line_alpha\":0.8,\"line_color\":\"springgreen\",\"line_width\":3,\"x\":{\"field\":\"x\"},\"y\":{\"field\":\"y\"}},\"id\":\"51612\",\"type\":\"Line\"},{\"attributes\":{\"callback\":null,\"data\":{\"x\":{\"__ndarray__\":\"AAAAIFqW3z8AAACA2cHePwAAAIAM7sI/AAAAICvH0j8AAABADTHHPwAAAMAiq9w/AAAAwADk4j8AAACgrZfXPwAAAIAaWsI/AAAA4P0G3j8AAAAAziHBPwAAACBbPcw/AAAA4MKCxj8AAABAbVeiPwAAAADTKuE/AAAAYGKC4D8AAADgNvnbPwAAACDTGOI/AAAAQHvEkj8AAACAodDVPwAAAIChGuM/AAAA4B3h2D8AAAAgbPrMPwAAACCHf94/AAAAgEi36T8AAAAg4lftPwAAAKAOw+8/AAAAgOG46z8AAADg49/sPwAAACDJc+4/AAAAAEXl7T8AAABA5njtPwAAAGCAo+4/AAAAQN+z7z8AAABALODpPw==\",\"dtype\":\"float64\",\"shape\":[35]},\"y\":{\"__ndarray__\":\"AAAA4OLx+T8AAADAEbX5PwAAAICUl/c/AAAAQKhy1z8AAADga3v1PwAAAGBLlPA/AAAA4OOA9z8AAABgTmzYPwAAAEBXFPo/AAAAYLeb7T8AAADgOyP6PwAAAGAAUPY/AAAAwNf0+T8AAACA8YfnPwAAAMAtSPw/AAAAABPbAEAAAAAAs0nXPwAAAOBaAAJAAAAA4DSn6D8AAABgxKTWPwAAAEBwNAJAAAAAAJCP1j8AAACAkFP3PwAAAKDVmvE/AAAAoFv8kL8AAACA+Z3XvwAAAACmPt0/AAAA4D9R2r8AAACgFxjavwAAAIB29NU/AAAAgGE4sD8AAADgJWfNvwAAAGAwNbg/AAAAgN+g4T8AAADA4I2Cvw==\",\"dtype\":\"float64\",\"shape\":[35]}},\"selected\":{\"id\":\"51675\",\"type\":\"Selection\"},\"selection_policy\":{\"id\":\"51676\",\"type\":\"UnionRenderers\"}},\"id\":\"51616\",\"type\":\"ColumnDataSource\"},{\"attributes\":{\"base\":{\"field\":\"x\",\"units\":\"data\"},\"fill_alpha\":{\"value\":0.3},\"fill_color\":{\"value\":\"lightcoral\"},\"level\":\"underlay\",\"line_color\":{\"value\":\"#ffffff\"},\"line_width\":{\"value\":0},\"lower\":{\"field\":\"lower\",\"units\":\"data\"},\"plot\":{\"id\":\"51576\",\"subtype\":\"Figure\",\"type\":\"Plot\"},\"source\":{\"id\":\"51574\",\"type\":\"ColumnDataSource\"},\"upper\":{\"field\":\"upper\",\"units\":\"data\"}},\"id\":\"51621\",\"type\":\"Band\"},{\"attributes\":{},\"id\":\"51596\",\"type\":\"PanTool\"},{\"attributes\":{},\"id\":\"51597\",\"type\":\"WheelZoomTool\"},{\"attributes\":{},\"id\":\"51674\",\"type\":\"UnionRenderers\"},{\"attributes\":{\"data_source\":{\"id\":\"51611\",\"type\":\"ColumnDataSource\"},\"glyph\":{\"id\":\"51612\",\"type\":\"Line\"},\"hover_glyph\":null,\"muted_glyph\":null,\"nonselection_glyph\":{\"id\":\"51613\",\"type\":\"Line\"},\"selection_glyph\":null,\"view\":{\"id\":\"51615\",\"type\":\"CDSView\"}},\"id\":\"51614\",\"type\":\"GlyphRenderer\"},{\"attributes\":{\"overlay\":{\"id\":\"51604\",\"type\":\"BoxAnnotation\"}},\"id\":\"51598\",\"type\":\"BoxZoomTool\"},{\"attributes\":{},\"id\":\"51582\",\"type\":\"LinearScale\"},{\"attributes\":{},\"id\":\"51599\",\"type\":\"SaveTool\"},{\"attributes\":{},\"id\":\"51600\",\"type\":\"ResetTool\"},{\"attributes\":{},\"id\":\"51677\",\"type\":\"Selection\"},{\"attributes\":{},\"id\":\"51601\",\"type\":\"HelpTool\"},{\"attributes\":{},\"id\":\"51676\",\"type\":\"UnionRenderers\"},{\"attributes\":{\"active_drag\":\"auto\",\"active_inspect\":\"auto\",\"active_multi\":null,\"active_scroll\":\"auto\",\"active_tap\":\"auto\",\"tools\":[{\"id\":\"51596\",\"type\":\"PanTool\"},{\"id\":\"51597\",\"type\":\"WheelZoomTool\"},{\"id\":\"51598\",\"type\":\"BoxZoomTool\"},{\"id\":\"51599\",\"type\":\"SaveTool\"},{\"id\":\"51600\",\"type\":\"ResetTool\"},{\"id\":\"51601\",\"type\":\"HelpTool\"}]},\"id\":\"51602\",\"type\":\"Toolbar\"},{\"attributes\":{\"callback\":null},\"id\":\"51580\",\"type\":\"DataRange1d\"},{\"attributes\":{},\"id\":\"51673\",\"type\":\"Selection\"},{\"attributes\":{},\"id\":\"51670\",\"type\":\"BasicTickFormatter\"},{\"attributes\":{},\"id\":\"51668\",\"type\":\"BasicTickFormatter\"},{\"attributes\":{\"callback\":null,\"end\":2,\"start\":-1},\"id\":\"51578\",\"type\":\"Range1d\"},{\"attributes\":{\"bottom_units\":\"screen\",\"fill_alpha\":{\"value\":0.5},\"fill_color\":{\"value\":\"lightgrey\"},\"left_units\":\"screen\",\"level\":\"overlay\",\"line_alpha\":{\"value\":1.0},\"line_color\":{\"value\":\"black\"},\"line_dash\":[4,4],\"line_width\":{\"value\":2},\"plot\":null,\"render_mode\":\"css\",\"right_units\":\"screen\",\"top_units\":\"screen\"},\"id\":\"51604\",\"type\":\"BoxAnnotation\"},{\"attributes\":{},\"id\":\"51584\",\"type\":\"LinearScale\"},{\"attributes\":{\"fill_alpha\":{\"value\":0.8},\"fill_color\":{\"value\":\"slateblue\"},\"line_alpha\":{\"value\":0.8},\"line_color\":{\"value\":\"slateblue\"},\"size\":{\"units\":\"screen\",\"value\":10},\"x\":{\"field\":\"x\"},\"y\":{\"field\":\"y\"}},\"id\":\"51617\",\"type\":\"Scatter\"},{\"attributes\":{},\"id\":\"51678\",\"type\":\"UnionRenderers\"},{\"attributes\":{\"formatter\":{\"id\":\"51668\",\"type\":\"BasicTickFormatter\"},\"plot\":{\"id\":\"51576\",\"subtype\":\"Figure\",\"type\":\"Plot\"},\"ticker\":{\"id\":\"51587\",\"type\":\"BasicTicker\"}},\"id\":\"51586\",\"type\":\"LinearAxis\"}],\"root_ids\":[\"51576\"]},\"title\":\"Bokeh Application\",\"version\":\"1.0.1\"}};\n",
       "  var render_items = [{\"docid\":\"74d711c2-4403-468c-8133-04c5a960bfaf\",\"notebook_comms_target\":\"51679\",\"roots\":{\"51576\":\"e7190e2f-05f2-42b3-a735-4a31d3f5dcb2\"}}];\n",
       "  root.Bokeh.embed.embed_items_notebook(docs_json, render_items);\n",
       "\n",
       "  }\n",
       "  if (root.Bokeh !== undefined) {\n",
       "    embed_document(root);\n",
       "  } else {\n",
       "    var attempts = 0;\n",
       "    var timer = setInterval(function(root) {\n",
       "      if (root.Bokeh !== undefined) {\n",
       "        embed_document(root);\n",
       "        clearInterval(timer);\n",
       "      }\n",
       "      attempts++;\n",
       "      if (attempts > 100) {\n",
       "        console.log(\"Bokeh: ERROR: Unable to run BokehJS code because BokehJS library is missing\");\n",
       "        clearInterval(timer);\n",
       "      }\n",
       "    }, 10, root)\n",
       "  }\n",
       "})(window);"
      ],
      "application/vnd.bokehjs_exec.v0+json": ""
     },
     "metadata": {
      "application/vnd.bokehjs_exec.v0+json": {
       "id": "51576"
      }
     },
     "output_type": "display_data"
    },
    {
     "data": {
      "text/html": [
       "<p><code>&lt;Bokeh Notebook handle for <strong>In[28]</strong>&gt;</code></p>"
      ],
      "text/plain": [
       "<bokeh.io.notebook.CommsHandle at 0x7fd897945198>"
      ]
     },
     "execution_count": 28,
     "metadata": {},
     "output_type": "execute_result"
    }
   ],
   "source": [
    "show(data_plt, notebook_handle=True)"
   ]
  }
 ],
 "metadata": {
  "kernelspec": {
   "display_name": "Python 3",
   "language": "python",
   "name": "python3"
  },
  "language_info": {
   "codemirror_mode": {
    "name": "ipython",
    "version": 3
   },
   "file_extension": ".py",
   "mimetype": "text/x-python",
   "name": "python",
   "nbconvert_exporter": "python",
   "pygments_lexer": "ipython3",
   "version": "3.7.0"
  }
 },
 "nbformat": 4,
 "nbformat_minor": 2
}
