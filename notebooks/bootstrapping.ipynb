{
 "cells": [
  {
   "cell_type": "markdown",
   "metadata": {},
   "source": [
    "# Bootstrapped regression\n",
    "\n",
    "Reproduces the bootstrapped regression experiments using neural networks from [**Bootstrapped DQN**](https://papers.nips.cc/paper/6501-deep-exploration-via-bootstrapped-dqn.pdf)."
   ]
  },
  {
   "cell_type": "code",
   "execution_count": 1,
   "metadata": {},
   "outputs": [
    {
     "data": {
      "text/html": [
       "\n",
       "    <div class=\"bk-root\">\n",
       "        <a href=\"https://bokeh.pydata.org\" target=\"_blank\" class=\"bk-logo bk-logo-small bk-logo-notebook\"></a>\n",
       "        <span id=\"1001\">Loading BokehJS ...</span>\n",
       "    </div>"
      ]
     },
     "metadata": {},
     "output_type": "display_data"
    },
    {
     "data": {
      "application/javascript": [
       "\n",
       "(function(root) {\n",
       "  function now() {\n",
       "    return new Date();\n",
       "  }\n",
       "\n",
       "  var force = true;\n",
       "\n",
       "  if (typeof (root._bokeh_onload_callbacks) === \"undefined\" || force === true) {\n",
       "    root._bokeh_onload_callbacks = [];\n",
       "    root._bokeh_is_loading = undefined;\n",
       "  }\n",
       "\n",
       "  var JS_MIME_TYPE = 'application/javascript';\n",
       "  var HTML_MIME_TYPE = 'text/html';\n",
       "  var EXEC_MIME_TYPE = 'application/vnd.bokehjs_exec.v0+json';\n",
       "  var CLASS_NAME = 'output_bokeh rendered_html';\n",
       "\n",
       "  /**\n",
       "   * Render data to the DOM node\n",
       "   */\n",
       "  function render(props, node) {\n",
       "    var script = document.createElement(\"script\");\n",
       "    node.appendChild(script);\n",
       "  }\n",
       "\n",
       "  /**\n",
       "   * Handle when an output is cleared or removed\n",
       "   */\n",
       "  function handleClearOutput(event, handle) {\n",
       "    var cell = handle.cell;\n",
       "\n",
       "    var id = cell.output_area._bokeh_element_id;\n",
       "    var server_id = cell.output_area._bokeh_server_id;\n",
       "    // Clean up Bokeh references\n",
       "    if (id != null && id in Bokeh.index) {\n",
       "      Bokeh.index[id].model.document.clear();\n",
       "      delete Bokeh.index[id];\n",
       "    }\n",
       "\n",
       "    if (server_id !== undefined) {\n",
       "      // Clean up Bokeh references\n",
       "      var cmd = \"from bokeh.io.state import curstate; print(curstate().uuid_to_server['\" + server_id + \"'].get_sessions()[0].document.roots[0]._id)\";\n",
       "      cell.notebook.kernel.execute(cmd, {\n",
       "        iopub: {\n",
       "          output: function(msg) {\n",
       "            var id = msg.content.text.trim();\n",
       "            if (id in Bokeh.index) {\n",
       "              Bokeh.index[id].model.document.clear();\n",
       "              delete Bokeh.index[id];\n",
       "            }\n",
       "          }\n",
       "        }\n",
       "      });\n",
       "      // Destroy server and session\n",
       "      var cmd = \"import bokeh.io.notebook as ion; ion.destroy_server('\" + server_id + \"')\";\n",
       "      cell.notebook.kernel.execute(cmd);\n",
       "    }\n",
       "  }\n",
       "\n",
       "  /**\n",
       "   * Handle when a new output is added\n",
       "   */\n",
       "  function handleAddOutput(event, handle) {\n",
       "    var output_area = handle.output_area;\n",
       "    var output = handle.output;\n",
       "\n",
       "    // limit handleAddOutput to display_data with EXEC_MIME_TYPE content only\n",
       "    if ((output.output_type != \"display_data\") || (!output.data.hasOwnProperty(EXEC_MIME_TYPE))) {\n",
       "      return\n",
       "    }\n",
       "\n",
       "    var toinsert = output_area.element.find(\".\" + CLASS_NAME.split(' ')[0]);\n",
       "\n",
       "    if (output.metadata[EXEC_MIME_TYPE][\"id\"] !== undefined) {\n",
       "      toinsert[toinsert.length - 1].firstChild.textContent = output.data[JS_MIME_TYPE];\n",
       "      // store reference to embed id on output_area\n",
       "      output_area._bokeh_element_id = output.metadata[EXEC_MIME_TYPE][\"id\"];\n",
       "    }\n",
       "    if (output.metadata[EXEC_MIME_TYPE][\"server_id\"] !== undefined) {\n",
       "      var bk_div = document.createElement(\"div\");\n",
       "      bk_div.innerHTML = output.data[HTML_MIME_TYPE];\n",
       "      var script_attrs = bk_div.children[0].attributes;\n",
       "      for (var i = 0; i < script_attrs.length; i++) {\n",
       "        toinsert[toinsert.length - 1].firstChild.setAttribute(script_attrs[i].name, script_attrs[i].value);\n",
       "      }\n",
       "      // store reference to server id on output_area\n",
       "      output_area._bokeh_server_id = output.metadata[EXEC_MIME_TYPE][\"server_id\"];\n",
       "    }\n",
       "  }\n",
       "\n",
       "  function register_renderer(events, OutputArea) {\n",
       "\n",
       "    function append_mime(data, metadata, element) {\n",
       "      // create a DOM node to render to\n",
       "      var toinsert = this.create_output_subarea(\n",
       "        metadata,\n",
       "        CLASS_NAME,\n",
       "        EXEC_MIME_TYPE\n",
       "      );\n",
       "      this.keyboard_manager.register_events(toinsert);\n",
       "      // Render to node\n",
       "      var props = {data: data, metadata: metadata[EXEC_MIME_TYPE]};\n",
       "      render(props, toinsert[toinsert.length - 1]);\n",
       "      element.append(toinsert);\n",
       "      return toinsert\n",
       "    }\n",
       "\n",
       "    /* Handle when an output is cleared or removed */\n",
       "    events.on('clear_output.CodeCell', handleClearOutput);\n",
       "    events.on('delete.Cell', handleClearOutput);\n",
       "\n",
       "    /* Handle when a new output is added */\n",
       "    events.on('output_added.OutputArea', handleAddOutput);\n",
       "\n",
       "    /**\n",
       "     * Register the mime type and append_mime function with output_area\n",
       "     */\n",
       "    OutputArea.prototype.register_mime_type(EXEC_MIME_TYPE, append_mime, {\n",
       "      /* Is output safe? */\n",
       "      safe: true,\n",
       "      /* Index of renderer in `output_area.display_order` */\n",
       "      index: 0\n",
       "    });\n",
       "  }\n",
       "\n",
       "  // register the mime type if in Jupyter Notebook environment and previously unregistered\n",
       "  if (root.Jupyter !== undefined) {\n",
       "    var events = require('base/js/events');\n",
       "    var OutputArea = require('notebook/js/outputarea').OutputArea;\n",
       "\n",
       "    if (OutputArea.prototype.mime_types().indexOf(EXEC_MIME_TYPE) == -1) {\n",
       "      register_renderer(events, OutputArea);\n",
       "    }\n",
       "  }\n",
       "\n",
       "  \n",
       "  if (typeof (root._bokeh_timeout) === \"undefined\" || force === true) {\n",
       "    root._bokeh_timeout = Date.now() + 5000;\n",
       "    root._bokeh_failed_load = false;\n",
       "  }\n",
       "\n",
       "  var NB_LOAD_WARNING = {'data': {'text/html':\n",
       "     \"<div style='background-color: #fdd'>\\n\"+\n",
       "     \"<p>\\n\"+\n",
       "     \"BokehJS does not appear to have successfully loaded. If loading BokehJS from CDN, this \\n\"+\n",
       "     \"may be due to a slow or bad network connection. Possible fixes:\\n\"+\n",
       "     \"</p>\\n\"+\n",
       "     \"<ul>\\n\"+\n",
       "     \"<li>re-rerun `output_notebook()` to attempt to load from CDN again, or</li>\\n\"+\n",
       "     \"<li>use INLINE resources instead, as so:</li>\\n\"+\n",
       "     \"</ul>\\n\"+\n",
       "     \"<code>\\n\"+\n",
       "     \"from bokeh.resources import INLINE\\n\"+\n",
       "     \"output_notebook(resources=INLINE)\\n\"+\n",
       "     \"</code>\\n\"+\n",
       "     \"</div>\"}};\n",
       "\n",
       "  function display_loaded() {\n",
       "    var el = document.getElementById(\"1001\");\n",
       "    if (el != null) {\n",
       "      el.textContent = \"BokehJS is loading...\";\n",
       "    }\n",
       "    if (root.Bokeh !== undefined) {\n",
       "      if (el != null) {\n",
       "        el.textContent = \"BokehJS \" + root.Bokeh.version + \" successfully loaded.\";\n",
       "      }\n",
       "    } else if (Date.now() < root._bokeh_timeout) {\n",
       "      setTimeout(display_loaded, 100)\n",
       "    }\n",
       "  }\n",
       "\n",
       "\n",
       "  function run_callbacks() {\n",
       "    try {\n",
       "      root._bokeh_onload_callbacks.forEach(function(callback) { callback() });\n",
       "    }\n",
       "    finally {\n",
       "      delete root._bokeh_onload_callbacks\n",
       "    }\n",
       "    console.info(\"Bokeh: all callbacks have finished\");\n",
       "  }\n",
       "\n",
       "  function load_libs(js_urls, callback) {\n",
       "    root._bokeh_onload_callbacks.push(callback);\n",
       "    if (root._bokeh_is_loading > 0) {\n",
       "      console.log(\"Bokeh: BokehJS is being loaded, scheduling callback at\", now());\n",
       "      return null;\n",
       "    }\n",
       "    if (js_urls == null || js_urls.length === 0) {\n",
       "      run_callbacks();\n",
       "      return null;\n",
       "    }\n",
       "    console.log(\"Bokeh: BokehJS not loaded, scheduling load and callback at\", now());\n",
       "    root._bokeh_is_loading = js_urls.length;\n",
       "    for (var i = 0; i < js_urls.length; i++) {\n",
       "      var url = js_urls[i];\n",
       "      var s = document.createElement('script');\n",
       "      s.src = url;\n",
       "      s.async = false;\n",
       "      s.onreadystatechange = s.onload = function() {\n",
       "        root._bokeh_is_loading--;\n",
       "        if (root._bokeh_is_loading === 0) {\n",
       "          console.log(\"Bokeh: all BokehJS libraries loaded\");\n",
       "          run_callbacks()\n",
       "        }\n",
       "      };\n",
       "      s.onerror = function() {\n",
       "        console.warn(\"failed to load library \" + url);\n",
       "      };\n",
       "      console.log(\"Bokeh: injecting script tag for BokehJS library: \", url);\n",
       "      document.getElementsByTagName(\"head\")[0].appendChild(s);\n",
       "    }\n",
       "  };var element = document.getElementById(\"1001\");\n",
       "  if (element == null) {\n",
       "    console.log(\"Bokeh: ERROR: autoload.js configured with elementid '1001' but no matching script tag was found. \")\n",
       "    return false;\n",
       "  }\n",
       "\n",
       "  var js_urls = [\"https://cdn.pydata.org/bokeh/release/bokeh-1.0.1.min.js\", \"https://cdn.pydata.org/bokeh/release/bokeh-widgets-1.0.1.min.js\", \"https://cdn.pydata.org/bokeh/release/bokeh-tables-1.0.1.min.js\", \"https://cdn.pydata.org/bokeh/release/bokeh-gl-1.0.1.min.js\"];\n",
       "\n",
       "  var inline_js = [\n",
       "    function(Bokeh) {\n",
       "      Bokeh.set_log_level(\"info\");\n",
       "    },\n",
       "    \n",
       "    function(Bokeh) {\n",
       "      \n",
       "    },\n",
       "    function(Bokeh) {\n",
       "      console.log(\"Bokeh: injecting CSS: https://cdn.pydata.org/bokeh/release/bokeh-1.0.1.min.css\");\n",
       "      Bokeh.embed.inject_css(\"https://cdn.pydata.org/bokeh/release/bokeh-1.0.1.min.css\");\n",
       "      console.log(\"Bokeh: injecting CSS: https://cdn.pydata.org/bokeh/release/bokeh-widgets-1.0.1.min.css\");\n",
       "      Bokeh.embed.inject_css(\"https://cdn.pydata.org/bokeh/release/bokeh-widgets-1.0.1.min.css\");\n",
       "      console.log(\"Bokeh: injecting CSS: https://cdn.pydata.org/bokeh/release/bokeh-tables-1.0.1.min.css\");\n",
       "      Bokeh.embed.inject_css(\"https://cdn.pydata.org/bokeh/release/bokeh-tables-1.0.1.min.css\");\n",
       "    }\n",
       "  ];\n",
       "\n",
       "  function run_inline_js() {\n",
       "    \n",
       "    if ((root.Bokeh !== undefined) || (force === true)) {\n",
       "      for (var i = 0; i < inline_js.length; i++) {\n",
       "        inline_js[i].call(root, root.Bokeh);\n",
       "      }if (force === true) {\n",
       "        display_loaded();\n",
       "      }} else if (Date.now() < root._bokeh_timeout) {\n",
       "      setTimeout(run_inline_js, 100);\n",
       "    } else if (!root._bokeh_failed_load) {\n",
       "      console.log(\"Bokeh: BokehJS failed to load within specified timeout.\");\n",
       "      root._bokeh_failed_load = true;\n",
       "    } else if (force !== true) {\n",
       "      var cell = $(document.getElementById(\"1001\")).parents('.cell').data().cell;\n",
       "      cell.output_area.append_execute_result(NB_LOAD_WARNING)\n",
       "    }\n",
       "\n",
       "  }\n",
       "\n",
       "  if (root._bokeh_is_loading === 0) {\n",
       "    console.log(\"Bokeh: BokehJS loaded, going straight to plotting\");\n",
       "    run_inline_js();\n",
       "  } else {\n",
       "    load_libs(js_urls, function() {\n",
       "      console.log(\"Bokeh: BokehJS plotting callback run at\", now());\n",
       "      run_inline_js();\n",
       "    });\n",
       "  }\n",
       "}(window));"
      ],
      "application/vnd.bokehjs_load.v0+json": "\n(function(root) {\n  function now() {\n    return new Date();\n  }\n\n  var force = true;\n\n  if (typeof (root._bokeh_onload_callbacks) === \"undefined\" || force === true) {\n    root._bokeh_onload_callbacks = [];\n    root._bokeh_is_loading = undefined;\n  }\n\n  \n\n  \n  if (typeof (root._bokeh_timeout) === \"undefined\" || force === true) {\n    root._bokeh_timeout = Date.now() + 5000;\n    root._bokeh_failed_load = false;\n  }\n\n  var NB_LOAD_WARNING = {'data': {'text/html':\n     \"<div style='background-color: #fdd'>\\n\"+\n     \"<p>\\n\"+\n     \"BokehJS does not appear to have successfully loaded. If loading BokehJS from CDN, this \\n\"+\n     \"may be due to a slow or bad network connection. Possible fixes:\\n\"+\n     \"</p>\\n\"+\n     \"<ul>\\n\"+\n     \"<li>re-rerun `output_notebook()` to attempt to load from CDN again, or</li>\\n\"+\n     \"<li>use INLINE resources instead, as so:</li>\\n\"+\n     \"</ul>\\n\"+\n     \"<code>\\n\"+\n     \"from bokeh.resources import INLINE\\n\"+\n     \"output_notebook(resources=INLINE)\\n\"+\n     \"</code>\\n\"+\n     \"</div>\"}};\n\n  function display_loaded() {\n    var el = document.getElementById(\"1001\");\n    if (el != null) {\n      el.textContent = \"BokehJS is loading...\";\n    }\n    if (root.Bokeh !== undefined) {\n      if (el != null) {\n        el.textContent = \"BokehJS \" + root.Bokeh.version + \" successfully loaded.\";\n      }\n    } else if (Date.now() < root._bokeh_timeout) {\n      setTimeout(display_loaded, 100)\n    }\n  }\n\n\n  function run_callbacks() {\n    try {\n      root._bokeh_onload_callbacks.forEach(function(callback) { callback() });\n    }\n    finally {\n      delete root._bokeh_onload_callbacks\n    }\n    console.info(\"Bokeh: all callbacks have finished\");\n  }\n\n  function load_libs(js_urls, callback) {\n    root._bokeh_onload_callbacks.push(callback);\n    if (root._bokeh_is_loading > 0) {\n      console.log(\"Bokeh: BokehJS is being loaded, scheduling callback at\", now());\n      return null;\n    }\n    if (js_urls == null || js_urls.length === 0) {\n      run_callbacks();\n      return null;\n    }\n    console.log(\"Bokeh: BokehJS not loaded, scheduling load and callback at\", now());\n    root._bokeh_is_loading = js_urls.length;\n    for (var i = 0; i < js_urls.length; i++) {\n      var url = js_urls[i];\n      var s = document.createElement('script');\n      s.src = url;\n      s.async = false;\n      s.onreadystatechange = s.onload = function() {\n        root._bokeh_is_loading--;\n        if (root._bokeh_is_loading === 0) {\n          console.log(\"Bokeh: all BokehJS libraries loaded\");\n          run_callbacks()\n        }\n      };\n      s.onerror = function() {\n        console.warn(\"failed to load library \" + url);\n      };\n      console.log(\"Bokeh: injecting script tag for BokehJS library: \", url);\n      document.getElementsByTagName(\"head\")[0].appendChild(s);\n    }\n  };var element = document.getElementById(\"1001\");\n  if (element == null) {\n    console.log(\"Bokeh: ERROR: autoload.js configured with elementid '1001' but no matching script tag was found. \")\n    return false;\n  }\n\n  var js_urls = [\"https://cdn.pydata.org/bokeh/release/bokeh-1.0.1.min.js\", \"https://cdn.pydata.org/bokeh/release/bokeh-widgets-1.0.1.min.js\", \"https://cdn.pydata.org/bokeh/release/bokeh-tables-1.0.1.min.js\", \"https://cdn.pydata.org/bokeh/release/bokeh-gl-1.0.1.min.js\"];\n\n  var inline_js = [\n    function(Bokeh) {\n      Bokeh.set_log_level(\"info\");\n    },\n    \n    function(Bokeh) {\n      \n    },\n    function(Bokeh) {\n      console.log(\"Bokeh: injecting CSS: https://cdn.pydata.org/bokeh/release/bokeh-1.0.1.min.css\");\n      Bokeh.embed.inject_css(\"https://cdn.pydata.org/bokeh/release/bokeh-1.0.1.min.css\");\n      console.log(\"Bokeh: injecting CSS: https://cdn.pydata.org/bokeh/release/bokeh-widgets-1.0.1.min.css\");\n      Bokeh.embed.inject_css(\"https://cdn.pydata.org/bokeh/release/bokeh-widgets-1.0.1.min.css\");\n      console.log(\"Bokeh: injecting CSS: https://cdn.pydata.org/bokeh/release/bokeh-tables-1.0.1.min.css\");\n      Bokeh.embed.inject_css(\"https://cdn.pydata.org/bokeh/release/bokeh-tables-1.0.1.min.css\");\n    }\n  ];\n\n  function run_inline_js() {\n    \n    if ((root.Bokeh !== undefined) || (force === true)) {\n      for (var i = 0; i < inline_js.length; i++) {\n        inline_js[i].call(root, root.Bokeh);\n      }if (force === true) {\n        display_loaded();\n      }} else if (Date.now() < root._bokeh_timeout) {\n      setTimeout(run_inline_js, 100);\n    } else if (!root._bokeh_failed_load) {\n      console.log(\"Bokeh: BokehJS failed to load within specified timeout.\");\n      root._bokeh_failed_load = true;\n    } else if (force !== true) {\n      var cell = $(document.getElementById(\"1001\")).parents('.cell').data().cell;\n      cell.output_area.append_execute_result(NB_LOAD_WARNING)\n    }\n\n  }\n\n  if (root._bokeh_is_loading === 0) {\n    console.log(\"Bokeh: BokehJS loaded, going straight to plotting\");\n    run_inline_js();\n  } else {\n    load_libs(js_urls, function() {\n      console.log(\"Bokeh: BokehJS plotting callback run at\", now());\n      run_inline_js();\n    });\n  }\n}(window));"
     },
     "metadata": {},
     "output_type": "display_data"
    }
   ],
   "source": [
    "import numpy as np\n",
    "import torch\n",
    "from torch.distributions import Uniform, Normal\n",
    "import pandas as pd\n",
    "\n",
    "import altair as alt\n",
    "alt.renderers.enable('notebook')\n",
    "\n",
    "import time\n",
    "from bokeh.io import push_notebook, show, output_notebook\n",
    "from bokeh.plotting import figure\n",
    "from bokeh.models import Band, ColumnDataSource\n",
    "output_notebook()"
   ]
  },
  {
   "cell_type": "code",
   "execution_count": 2,
   "metadata": {},
   "outputs": [],
   "source": [
    "def f(x, α=4, β=13, μ=0, σ=0.03, noisy=True):\n",
    "    w = 0\n",
    "    if noisy:\n",
    "        w = Normal(μ, σ).sample((x.shape[0],))\n",
    "    return x + torch.sin(α * (x + w)) + torch.sin(β * (x + w)) + w"
   ]
  },
  {
   "cell_type": "code",
   "execution_count": 3,
   "metadata": {},
   "outputs": [],
   "source": [
    "def generate_dataset():\n",
    "    columns = ['x', 'y', 'series']\n",
    "    data = pd.DataFrame(columns=columns)\n",
    "    \n",
    "    # the function that generates the data\n",
    "    x = torch.linspace(-1, 2, 100)\n",
    "    fx = f(x, noisy=False)\n",
    "    series_name = ['f(x)' for _ in range(100)]\n",
    "    \n",
    "    true_data = pd.DataFrame(list(zip(x.numpy(), fx.numpy(), series_name)), columns=columns)\n",
    "    data = data.append(true_data, ignore_index=False)\n",
    "\n",
    "    # the training dataset\n",
    "    x = torch.cat((Uniform(0, 0.6).sample((24,)), Uniform(0.8, 1).sample((11,))))\n",
    "    t = f(x, noisy=True)\n",
    "    series_name = ['obs' for _ in range(x.shape[0])]\n",
    "    df = pd.DataFrame(list(zip(x.numpy(), t.numpy(), series_name)), columns=columns)\n",
    "    data = data.append(df, ignore_index=True)\n",
    "    \n",
    "    # the test dataset\n",
    "    x = torch.cat((Uniform(0, 0.6).sample((24,)), Uniform(0.9, 1.1).sample((11,))))\n",
    "    t = f(x, noisy=True)\n",
    "    series_name = ['test' for _ in range(x.shape[0])]\n",
    "    df = pd.DataFrame(list(zip(x.numpy(), t.numpy(), series_name)), columns=columns)\n",
    "    data = data.append(df, ignore_index=True)\n",
    "    return data"
   ]
  },
  {
   "cell_type": "code",
   "execution_count": 4,
   "metadata": {},
   "outputs": [],
   "source": [
    "data = generate_dataset()"
   ]
  },
  {
   "cell_type": "code",
   "execution_count": 73,
   "metadata": {},
   "outputs": [],
   "source": [
    "true_data = data.loc[data['series'] == 'f(x)']\n",
    "obs_data = data.loc[data['series'] == 'obs']\n",
    "tst_data = data.loc[data['series'] == 'test']\n",
    "\n",
    "\n",
    "data_plt = figure(title=\"Data\",\n",
    "                  plot_height=400,\n",
    "                  plot_width=900,\n",
    "                  background_fill_color='#ffffff')\n",
    "\n",
    "fx = data_plt.line(true_data['x'].values, true_data['y'].values,\n",
    "                   color=\"mediumspringgreen\", line_width=3, alpha=0.8, legend='f(x)')\n",
    "tst = data_plt.scatter(tst_data['x'].values, tst_data['y'].values,\n",
    "                       size=7, fill_color=\"indianred\", alpha=0.8, line_color='indianred', legend='test data')\n",
    "obs = data_plt.scatter(obs_data['x'].values, obs_data['y'].values,\n",
    "                       size=10, fill_color=\"slateblue\", alpha=0.8, line_color='slateblue', legend='obs data')\n",
    "data_plt.legend.location = \"top_left\""
   ]
  },
  {
   "cell_type": "code",
   "execution_count": 74,
   "metadata": {},
   "outputs": [
    {
     "data": {
      "text/html": [
       "\n",
       "\n",
       "\n",
       "\n",
       "\n",
       "\n",
       "  <div class=\"bk-root\" id=\"f4793db6-ca2f-449c-82ba-b7ee146250c2\"></div>\n"
      ]
     },
     "metadata": {},
     "output_type": "display_data"
    },
    {
     "data": {
      "application/javascript": [
       "(function(root) {\n",
       "  function embed_document(root) {\n",
       "    \n",
       "  var docs_json = {\"0ed9797e-f103-4744-862b-7d2682a3c25b\":{\"roots\":{\"references\":[{\"attributes\":{\"below\":[{\"id\":\"54040\",\"type\":\"LinearAxis\"}],\"left\":[{\"id\":\"54045\",\"type\":\"LinearAxis\"}],\"plot_height\":400,\"plot_width\":900,\"renderers\":[{\"id\":\"54040\",\"type\":\"LinearAxis\"},{\"id\":\"54044\",\"type\":\"Grid\"},{\"id\":\"54045\",\"type\":\"LinearAxis\"},{\"id\":\"54049\",\"type\":\"Grid\"},{\"id\":\"54058\",\"type\":\"BoxAnnotation\"},{\"id\":\"54076\",\"type\":\"Legend\"},{\"id\":\"54068\",\"type\":\"GlyphRenderer\"},{\"id\":\"54081\",\"type\":\"GlyphRenderer\"},{\"id\":\"54095\",\"type\":\"GlyphRenderer\"}],\"title\":{\"id\":\"54029\",\"type\":\"Title\"},\"toolbar\":{\"id\":\"54056\",\"type\":\"Toolbar\"},\"x_range\":{\"id\":\"54032\",\"type\":\"DataRange1d\"},\"x_scale\":{\"id\":\"54036\",\"type\":\"LinearScale\"},\"y_range\":{\"id\":\"54034\",\"type\":\"DataRange1d\"},\"y_scale\":{\"id\":\"54038\",\"type\":\"LinearScale\"}},\"id\":\"54030\",\"subtype\":\"Figure\",\"type\":\"Plot\"},{\"attributes\":{\"data_source\":{\"id\":\"54065\",\"type\":\"ColumnDataSource\"},\"glyph\":{\"id\":\"54066\",\"type\":\"Line\"},\"hover_glyph\":null,\"muted_glyph\":null,\"nonselection_glyph\":{\"id\":\"54067\",\"type\":\"Line\"},\"selection_glyph\":null,\"view\":{\"id\":\"54069\",\"type\":\"CDSView\"}},\"id\":\"54068\",\"type\":\"GlyphRenderer\"},{\"attributes\":{\"callback\":null,\"data\":{\"x\":{\"__ndarray__\":\"AAAAQK694D8AAADg/QrdPwAAACARntA/AAAAoICUyD8AAAAgTuHYPwAAAEBjSNA/AAAA4PO9zz8AAAAAINrEPwAAAECZObw/AAAAYAsM1D8AAACAzRbLPwAAAKDMf7o/AAAA4GOi2z8AAACgntnePwAAAEBvVds/AAAA4BXawT8AAABAQffMPwAAAMAzuNM/AAAAQEVs3j8AAACgWDu+PwAAAICDiOI/AAAAwF6G1z8AAABg8ADFPwAAAABBSMQ/AAAAQFTi6z8AAAAAPW7vPwAAAMAzbu8/AAAAQJla7D8AAADAyrHuPwAAAGD+1+w/AAAAYHEk7z8AAADA7xXsPwAAAOBa4e8/AAAAQH8F7z8AAACgxYbqPw==\",\"dtype\":\"float64\",\"shape\":[35]},\"y\":{\"__ndarray__\":\"AAAAoBgmAUAAAADAEzn6PwAAAOCVZOc/AAAAwB4r+T8AAADgH8ziPwAAAGANJfA/AAAAoEZy6D8AAABA/Ur0PwAAAKB0iPc/AAAAAOiS3T8AAADgoC3wPwAAAKD4G/o/AAAAgDYP+D8AAAAAXQn3PwAAAMASm+M/AAAAAJOX9T8AAADAl7HrPwAAAOB8WtY/AAAAQBSWAEAAAABgsxr4PwAAAIDAKwJAAAAAQLoz4T8AAAAAMBj4PwAAACC3ufk/AAAAIDJE2r8AAAAABXjwPwAAAEDocKk/AAAAYKdF2r8AAAAAqHqnvwAAAMCo97u/AAAAgPYl4j8AAADA/YnavwAAACDmbes/AAAAYHb64D8AAACA+2OVvw==\",\"dtype\":\"float64\",\"shape\":[35]}},\"selected\":{\"id\":\"54265\",\"type\":\"Selection\"},\"selection_policy\":{\"id\":\"54266\",\"type\":\"UnionRenderers\"}},\"id\":\"54092\",\"type\":\"ColumnDataSource\"},{\"attributes\":{},\"id\":\"54038\",\"type\":\"LinearScale\"},{\"attributes\":{\"source\":{\"id\":\"54065\",\"type\":\"ColumnDataSource\"}},\"id\":\"54069\",\"type\":\"CDSView\"},{\"attributes\":{\"fill_alpha\":{\"value\":0.8},\"fill_color\":{\"value\":\"slateblue\"},\"line_alpha\":{\"value\":0.8},\"line_color\":{\"value\":\"slateblue\"},\"size\":{\"units\":\"screen\",\"value\":10},\"x\":{\"field\":\"x\"},\"y\":{\"field\":\"y\"}},\"id\":\"54093\",\"type\":\"Scatter\"},{\"attributes\":{},\"id\":\"54072\",\"type\":\"BasicTickFormatter\"},{\"attributes\":{\"formatter\":{\"id\":\"54072\",\"type\":\"BasicTickFormatter\"},\"plot\":{\"id\":\"54030\",\"subtype\":\"Figure\",\"type\":\"Plot\"},\"ticker\":{\"id\":\"54041\",\"type\":\"BasicTicker\"}},\"id\":\"54040\",\"type\":\"LinearAxis\"},{\"attributes\":{},\"id\":\"54041\",\"type\":\"BasicTicker\"},{\"attributes\":{\"fill_alpha\":{\"value\":0.1},\"fill_color\":{\"value\":\"#1f77b4\"},\"line_alpha\":{\"value\":0.1},\"line_color\":{\"value\":\"#1f77b4\"},\"size\":{\"units\":\"screen\",\"value\":10},\"x\":{\"field\":\"x\"},\"y\":{\"field\":\"y\"}},\"id\":\"54094\",\"type\":\"Scatter\"},{\"attributes\":{},\"id\":\"54074\",\"type\":\"BasicTickFormatter\"},{\"attributes\":{\"plot\":{\"id\":\"54030\",\"subtype\":\"Figure\",\"type\":\"Plot\"},\"ticker\":{\"id\":\"54041\",\"type\":\"BasicTicker\"}},\"id\":\"54044\",\"type\":\"Grid\"},{\"attributes\":{\"data_source\":{\"id\":\"54092\",\"type\":\"ColumnDataSource\"},\"glyph\":{\"id\":\"54093\",\"type\":\"Scatter\"},\"hover_glyph\":null,\"muted_glyph\":null,\"nonselection_glyph\":{\"id\":\"54094\",\"type\":\"Scatter\"},\"selection_glyph\":null,\"view\":{\"id\":\"54096\",\"type\":\"CDSView\"}},\"id\":\"54095\",\"type\":\"GlyphRenderer\"},{\"attributes\":{\"plot\":null,\"text\":\"Data\"},\"id\":\"54029\",\"type\":\"Title\"},{\"attributes\":{\"formatter\":{\"id\":\"54074\",\"type\":\"BasicTickFormatter\"},\"plot\":{\"id\":\"54030\",\"subtype\":\"Figure\",\"type\":\"Plot\"},\"ticker\":{\"id\":\"54046\",\"type\":\"BasicTicker\"}},\"id\":\"54045\",\"type\":\"LinearAxis\"},{\"attributes\":{\"source\":{\"id\":\"54092\",\"type\":\"ColumnDataSource\"}},\"id\":\"54096\",\"type\":\"CDSView\"},{\"attributes\":{},\"id\":\"54046\",\"type\":\"BasicTicker\"},{\"attributes\":{},\"id\":\"54104\",\"type\":\"Selection\"},{\"attributes\":{\"items\":[{\"id\":\"54077\",\"type\":\"LegendItem\"},{\"id\":\"54091\",\"type\":\"LegendItem\"},{\"id\":\"54107\",\"type\":\"LegendItem\"}],\"location\":\"top_left\",\"plot\":{\"id\":\"54030\",\"subtype\":\"Figure\",\"type\":\"Plot\"}},\"id\":\"54076\",\"type\":\"Legend\"},{\"attributes\":{},\"id\":\"54265\",\"type\":\"Selection\"},{\"attributes\":{\"dimension\":1,\"plot\":{\"id\":\"54030\",\"subtype\":\"Figure\",\"type\":\"Plot\"},\"ticker\":{\"id\":\"54046\",\"type\":\"BasicTicker\"}},\"id\":\"54049\",\"type\":\"Grid\"},{\"attributes\":{},\"id\":\"54105\",\"type\":\"UnionRenderers\"},{\"attributes\":{\"label\":{\"value\":\"f(x)\"},\"renderers\":[{\"id\":\"54068\",\"type\":\"GlyphRenderer\"}]},\"id\":\"54077\",\"type\":\"LegendItem\"},{\"attributes\":{\"label\":{\"value\":\"obs data\"},\"renderers\":[{\"id\":\"54095\",\"type\":\"GlyphRenderer\"}]},\"id\":\"54107\",\"type\":\"LegendItem\"},{\"attributes\":{\"line_alpha\":0.8,\"line_color\":\"mediumspringgreen\",\"line_width\":3,\"x\":{\"field\":\"x\"},\"y\":{\"field\":\"y\"}},\"id\":\"54066\",\"type\":\"Line\"},{\"attributes\":{\"callback\":null,\"data\":{\"x\":{\"__ndarray__\":\"AAAAAAAA8L8AAAAAwgfvvwAAAOCDD+6/AAAAwEUX7b8AAADABx/svwAAAMDJJuu/AAAAoIsu6r8AAACATTbpvwAAAIAPPui/AAAAgNFF578AAABgk03mvwAAAEBVVeW/AAAAQBdd5L8AAABA2WTjvwAAACCbbOK/AAAAAF104b8AAAAAH3zgvwAAAADCB9+/AAAAwEUX3b8AAACAySbbvwAAAIBNNtm/AAAAgNFF178AAABAVVXVvwAAAADZZNO/AAAAAF100b8AAAAAwgfPvwAAAIDJJsu/AAAAANFFx78AAAAA2WTDvwAAAADCB7+/AAAAANFFt78AAAAAwAevvwAAAADAB5+/AAAAAAAAAAAAAAAAwAefPwAAAADEB68/AAAAANJFtz8AAAAAwge/PwAAAADaZMM/AAAAANJFxz8AAAAAyibLPwAAAADCB88/AAAAAF100T8AAACA2WTTPwAAAIBVVdU/AAAAgNFF1z8AAAAATjbZPwAAAADKJts/AAAAAEYX3T8AAAAAwgffPwAAAAAffOA/AAAAQF104T8AAABAm2ziPwAAAEDZZOM/AAAAgBdd5D8AAACAVVXlPwAAAICTTeY/AAAAgNFF5z8AAACADz7oPwAAAMBNNuk/AAAAwIsu6j8AAADAySbrPwAAAAAIH+w/AAAAAEYX7T8AAAAAhA/uPwAAAADCB+8/AAAAAAAA8D8AAAAAH3zwPwAAAAA++PA/AAAAQF108T8AAABAfPDxPwAAAECbbPI/AAAAQLro8j8AAABA2WTzPwAAAED44PM/AAAAQBdd9D8AAACANtn0PwAAAIBVVfU/AAAAgHTR9T8AAACAk032PwAAAICyyfY/AAAAgNFF9z8AAACA8MH3PwAAAIAPPvg/AAAAgC66+D8AAADATTb5PwAAAMBssvk/AAAAwIsu+j8AAADAqqr6PwAAAMDJJvs/AAAAwOii+z8AAADABx/8PwAAAAAnm/w/AAAAAEYX/T8AAAAAZZP9PwAAAACED/4/AAAAAKOL/j8AAAAAwgf/PwAAAADhg/8/AAAAAAAAAEA=\",\"dtype\":\"float64\",\"shape\":[100]},\"y\":{\"__ndarray__\":\"AAAAQEg65b8AAACAE5TVvwAAAAAsM46/AAAAwKJ+zz8AAABAjVLZPwAAAIBBo9k/AAAAABvXzz8AAAAAVMqovwAAACCSR92/AAAA4Iix7b8AAAAAeWT2vwAAAADe+/y/AAAAQC3kAMAAAADA6hoCwAAAAABDBALAAAAAwKayAMAAAADgXsv8vwAAAEAbAPe/AAAAQFHw8L8AAADgGhfnvwAAAEBRfN6/AAAAgAzZ1r8AAABAlxTYvwAAAOAXweC/AAAAQKSJ6L8AAACgW+rwvwAAAECNZPW/AAAAQJHG+L8AAACgPkj6vwAAAKB5Zfm/AAAAgDnz9b8AAAAA/ybwvwAAACAbH+G/AAAAAAAAAAAAAAAgGx/hPwAAAMAAJ/A/AAAAQDrz9T8AAACgeWX5PwAAAIA+SPo/AAAAgJDG+D8AAADAjGT1PwAAAKBb6vA/AAAAQKSJ6D8AAAAAFsHgPwAAAMCWFNg/AAAAgAzZ1j8AAABAVHzePwAAACAdF+c/AAAAQFLw8D8AAABAGwD3PwAAAOBey/w/AAAAQKeyAEAAAAAAQwQCQAAAAMDqGgJAAAAAoCzkAEAAAABA3Pv8PwAAAAB4ZPY/AAAA4Iix7T8AAAAgkkfdPwAAAAAyyqg/AAAAgBzXz78AAACAQaPZvwAAAICLUtm/AAAAQJl+z78AAAAAlDOOPwAAAIATlNU/AAAAQEg65T8AAADgN/btPwAAAGD7vPE/AAAAgNxm8j8AAADgYNbwPwAAAMC9kOo/AAAAwKyf4D8AAACAvvzFPwAAAEDlr8O/AAAAAJyQ2b8AAADgj5DgvwAAAEDan96/AAAAAOOQ0b8AAAAAtRO0PwAAAKDQXuE/AAAAIMgM8T8AAABgxF/5PwAAAIAQWgBAAAAAgLUfA0AAAAAAib8EQAAAAOCsJQVAAAAAQEBuBEAAAABAiOACQAAAAGCM4wBAAAAAwJrb/T8AAADAYeX6PwAAAEC9oPk/AAAAAPKB+j8AAACgpaL9PwAAAICyXgFAAAAAoN+bBEAAAAAgxRwIQAAAACDgZgtAAAAA4OwDDkA=\",\"dtype\":\"float64\",\"shape\":[100]}},\"selected\":{\"id\":\"54088\",\"type\":\"Selection\"},\"selection_policy\":{\"id\":\"54089\",\"type\":\"UnionRenderers\"}},\"id\":\"54065\",\"type\":\"ColumnDataSource\"},{\"attributes\":{\"callback\":null,\"data\":{\"x\":{\"__ndarray__\":\"AAAAgF8Q4z8AAACgNe7iPwAAAGCiZOI/AAAAgCDM2D8AAABgKunXPwAAAOA7VeA/AAAAgEEi0z8AAABA0rXgPwAAAOC4fdQ/AAAAgK/VvD8AAACg/9+hPwAAAED4V98/AAAAQEd3tT8AAADAzNrdPwAAAKCef94/AAAAAGSdxj8AAADgrbXbPwAAACDi7ME/AAAAoLCatT8AAACA+2jSPwAAAAB3xdQ/AAAAgM5f1T8AAAAAv0jePwAAAACMhs4/AAAA4N7J8D8AAADA9u3uPwAAAIDYCPE/AAAAoB2p8D8AAADAQoTwPwAAACB0GvE/AAAAYJW77z8AAADgyAXtPwAAAMCzW/A/AAAA4LmR8T8AAABgji7wPw==\",\"dtype\":\"float64\",\"shape\":[35]},\"y\":{\"__ndarray__\":\"AAAAYGQGAEAAAADg6zUCQAAAAKAQLgJAAAAAYGwr4T8AAABAPlDWPwAAAMDIQgBAAAAAIIaN4j8AAAAAiMb4PwAAAAAuo+A/AAAAILfp8j8AAADAHyTgPwAAAODq+/I/AAAAIBDQ8D8AAADgfNz6PwAAAEA+huw/AAAA4Axe8j8AAACgix7hPwAAAMAazPc/AAAAQMBc9z8AAABAae7pPwAAAAAF0tk/AAAAIOQP2D8AAACgjGbyPwAAAEAjy/M/AAAAYK5r6D8AAADAohKOvwAAAOC8KfI/AAAAQOdx7z8AAACgzGfiPwAAAOBGcfI/AAAAwBdU5z8AAAAg8pPUvwAAAID4yug/AAAAABTK7j8AAACAjzfYPw==\",\"dtype\":\"float64\",\"shape\":[35]}},\"selected\":{\"id\":\"54104\",\"type\":\"Selection\"},\"selection_policy\":{\"id\":\"54105\",\"type\":\"UnionRenderers\"}},\"id\":\"54078\",\"type\":\"ColumnDataSource\"},{\"attributes\":{},\"id\":\"54050\",\"type\":\"PanTool\"},{\"attributes\":{\"fill_alpha\":{\"value\":0.8},\"fill_color\":{\"value\":\"indianred\"},\"line_alpha\":{\"value\":0.8},\"line_color\":{\"value\":\"indianred\"},\"size\":{\"units\":\"screen\",\"value\":7},\"x\":{\"field\":\"x\"},\"y\":{\"field\":\"y\"}},\"id\":\"54079\",\"type\":\"Scatter\"},{\"attributes\":{},\"id\":\"54051\",\"type\":\"WheelZoomTool\"},{\"attributes\":{\"callback\":null},\"id\":\"54034\",\"type\":\"DataRange1d\"},{\"attributes\":{\"fill_alpha\":{\"value\":0.1},\"fill_color\":{\"value\":\"#1f77b4\"},\"line_alpha\":{\"value\":0.1},\"line_color\":{\"value\":\"#1f77b4\"},\"size\":{\"units\":\"screen\",\"value\":7},\"x\":{\"field\":\"x\"},\"y\":{\"field\":\"y\"}},\"id\":\"54080\",\"type\":\"Scatter\"},{\"attributes\":{\"overlay\":{\"id\":\"54058\",\"type\":\"BoxAnnotation\"}},\"id\":\"54052\",\"type\":\"BoxZoomTool\"},{\"attributes\":{\"data_source\":{\"id\":\"54078\",\"type\":\"ColumnDataSource\"},\"glyph\":{\"id\":\"54079\",\"type\":\"Scatter\"},\"hover_glyph\":null,\"muted_glyph\":null,\"nonselection_glyph\":{\"id\":\"54080\",\"type\":\"Scatter\"},\"selection_glyph\":null,\"view\":{\"id\":\"54082\",\"type\":\"CDSView\"}},\"id\":\"54081\",\"type\":\"GlyphRenderer\"},{\"attributes\":{},\"id\":\"54053\",\"type\":\"SaveTool\"},{\"attributes\":{\"source\":{\"id\":\"54078\",\"type\":\"ColumnDataSource\"}},\"id\":\"54082\",\"type\":\"CDSView\"},{\"attributes\":{},\"id\":\"54036\",\"type\":\"LinearScale\"},{\"attributes\":{},\"id\":\"54054\",\"type\":\"ResetTool\"},{\"attributes\":{},\"id\":\"54088\",\"type\":\"Selection\"},{\"attributes\":{},\"id\":\"54055\",\"type\":\"HelpTool\"},{\"attributes\":{},\"id\":\"54089\",\"type\":\"UnionRenderers\"},{\"attributes\":{},\"id\":\"54266\",\"type\":\"UnionRenderers\"},{\"attributes\":{\"active_drag\":\"auto\",\"active_inspect\":\"auto\",\"active_multi\":null,\"active_scroll\":\"auto\",\"active_tap\":\"auto\",\"tools\":[{\"id\":\"54050\",\"type\":\"PanTool\"},{\"id\":\"54051\",\"type\":\"WheelZoomTool\"},{\"id\":\"54052\",\"type\":\"BoxZoomTool\"},{\"id\":\"54053\",\"type\":\"SaveTool\"},{\"id\":\"54054\",\"type\":\"ResetTool\"},{\"id\":\"54055\",\"type\":\"HelpTool\"}]},\"id\":\"54056\",\"type\":\"Toolbar\"},{\"attributes\":{\"label\":{\"value\":\"test data\"},\"renderers\":[{\"id\":\"54081\",\"type\":\"GlyphRenderer\"}]},\"id\":\"54091\",\"type\":\"LegendItem\"},{\"attributes\":{\"line_alpha\":0.1,\"line_color\":\"#1f77b4\",\"line_width\":3,\"x\":{\"field\":\"x\"},\"y\":{\"field\":\"y\"}},\"id\":\"54067\",\"type\":\"Line\"},{\"attributes\":{\"bottom_units\":\"screen\",\"fill_alpha\":{\"value\":0.5},\"fill_color\":{\"value\":\"lightgrey\"},\"left_units\":\"screen\",\"level\":\"overlay\",\"line_alpha\":{\"value\":1.0},\"line_color\":{\"value\":\"black\"},\"line_dash\":[4,4],\"line_width\":{\"value\":2},\"plot\":null,\"render_mode\":\"css\",\"right_units\":\"screen\",\"top_units\":\"screen\"},\"id\":\"54058\",\"type\":\"BoxAnnotation\"},{\"attributes\":{\"callback\":null},\"id\":\"54032\",\"type\":\"DataRange1d\"}],\"root_ids\":[\"54030\"]},\"title\":\"Bokeh Application\",\"version\":\"1.0.1\"}};\n",
       "  var render_items = [{\"docid\":\"0ed9797e-f103-4744-862b-7d2682a3c25b\",\"notebook_comms_target\":\"54268\",\"roots\":{\"54030\":\"f4793db6-ca2f-449c-82ba-b7ee146250c2\"}}];\n",
       "  root.Bokeh.embed.embed_items_notebook(docs_json, render_items);\n",
       "\n",
       "  }\n",
       "  if (root.Bokeh !== undefined) {\n",
       "    embed_document(root);\n",
       "  } else {\n",
       "    var attempts = 0;\n",
       "    var timer = setInterval(function(root) {\n",
       "      if (root.Bokeh !== undefined) {\n",
       "        embed_document(root);\n",
       "        clearInterval(timer);\n",
       "      }\n",
       "      attempts++;\n",
       "      if (attempts > 100) {\n",
       "        console.log(\"Bokeh: ERROR: Unable to run BokehJS code because BokehJS library is missing\");\n",
       "        clearInterval(timer);\n",
       "      }\n",
       "    }, 10, root)\n",
       "  }\n",
       "})(window);"
      ],
      "application/vnd.bokehjs_exec.v0+json": ""
     },
     "metadata": {
      "application/vnd.bokehjs_exec.v0+json": {
       "id": "54030"
      }
     },
     "output_type": "display_data"
    },
    {
     "data": {
      "text/html": [
       "<p><code>&lt;Bokeh Notebook handle for <strong>In[74]</strong>&gt;</code></p>"
      ],
      "text/plain": [
       "<bokeh.io.notebook.CommsHandle at 0x7fe09803be10>"
      ]
     },
     "execution_count": 74,
     "metadata": {},
     "output_type": "execute_result"
    }
   ],
   "source": [
    "show(data_plt, notebook_handle=True)"
   ]
  },
  {
   "cell_type": "markdown",
   "metadata": {},
   "source": [
    "## Create a custom dataset that bootstraps the data"
   ]
  },
  {
   "cell_type": "code",
   "execution_count": 75,
   "metadata": {},
   "outputs": [],
   "source": [
    "from torch.utils.data import DataLoader, Dataset"
   ]
  },
  {
   "cell_type": "code",
   "execution_count": 76,
   "metadata": {},
   "outputs": [],
   "source": [
    "class BootstrappedLoader(Dataset):\n",
    "    def __init__(self, features, targets, B=10):\n",
    "        # Generate B datasets by sampling with replacement\n",
    "        # from the original data\n",
    "        self.__data_sz = N = features.shape[0]\n",
    "        masks = [np.random.randint(N, size=(N,)) for _ in range(B)]\n",
    "        self.__boot_dsets = [(features[m], targets[m]) for m in masks]\n",
    "    \n",
    "    def __getitem__(self, idx):\n",
    "        # Return an item from each bootstrapped dataset\n",
    "        samples = [(boot_ds[0][idx], boot_ds[1][idx]) for boot_ds in self.__boot_dsets]\n",
    "        return samples\n",
    "    \n",
    "    def __len__(self):\n",
    "        return self.__data_sz"
   ]
  },
  {
   "cell_type": "code",
   "execution_count": 77,
   "metadata": {},
   "outputs": [],
   "source": [
    "def _collate(samples):\n",
    "    features_batches = [torch.tensor([[el[0]] for el in batch]) for batch in zip(*samples)]\n",
    "    target_batches = [torch.tensor([[el[1]] for el in batch]) for batch in zip(*samples)]\n",
    "    \n",
    "    return zip(features_batches, target_batches)"
   ]
  },
  {
   "cell_type": "markdown",
   "metadata": {},
   "source": [
    "## Create ensemble and train it"
   ]
  },
  {
   "cell_type": "code",
   "execution_count": 115,
   "metadata": {},
   "outputs": [],
   "source": [
    "from torch import nn\n",
    "from torch import optim\n",
    "import torch.nn.functional as F"
   ]
  },
  {
   "cell_type": "code",
   "execution_count": 116,
   "metadata": {},
   "outputs": [
    {
     "data": {
      "text/html": [
       "<div>\n",
       "<style scoped>\n",
       "    .dataframe tbody tr th:only-of-type {\n",
       "        vertical-align: middle;\n",
       "    }\n",
       "\n",
       "    .dataframe tbody tr th {\n",
       "        vertical-align: top;\n",
       "    }\n",
       "\n",
       "    .dataframe thead th {\n",
       "        text-align: right;\n",
       "    }\n",
       "</style>\n",
       "<table border=\"1\" class=\"dataframe\">\n",
       "  <thead>\n",
       "    <tr style=\"text-align: right;\">\n",
       "      <th></th>\n",
       "      <th>x</th>\n",
       "      <th>y</th>\n",
       "      <th>series</th>\n",
       "    </tr>\n",
       "  </thead>\n",
       "  <tbody>\n",
       "    <tr>\n",
       "      <th>130</th>\n",
       "      <td>0.973199</td>\n",
       "      <td>0.567134</td>\n",
       "      <td>obs</td>\n",
       "    </tr>\n",
       "    <tr>\n",
       "      <th>140</th>\n",
       "      <td>0.510405</td>\n",
       "      <td>2.032609</td>\n",
       "      <td>test</td>\n",
       "    </tr>\n",
       "    <tr>\n",
       "      <th>107</th>\n",
       "      <td>0.162907</td>\n",
       "      <td>1.268308</td>\n",
       "      <td>obs</td>\n",
       "    </tr>\n",
       "    <tr>\n",
       "      <th>101</th>\n",
       "      <td>0.453796</td>\n",
       "      <td>1.638935</td>\n",
       "      <td>obs</td>\n",
       "    </tr>\n",
       "    <tr>\n",
       "      <th>141</th>\n",
       "      <td>0.298966</td>\n",
       "      <td>0.579776</td>\n",
       "      <td>test</td>\n",
       "    </tr>\n",
       "  </tbody>\n",
       "</table>\n",
       "</div>"
      ],
      "text/plain": [
       "            x         y series\n",
       "130  0.973199  0.567134    obs\n",
       "140  0.510405  2.032609   test\n",
       "107  0.162907  1.268308    obs\n",
       "101  0.453796  1.638935    obs\n",
       "141  0.298966  0.579776   test"
      ]
     },
     "execution_count": 116,
     "metadata": {},
     "output_type": "execute_result"
    }
   ],
   "source": [
    "B=50  # no of bootsrapped samples (no of datasets and no of models)\n",
    "batch_sz = 10\n",
    "epochs = 6000\n",
    "\n",
    "train_data = data.loc[data['series'] == 'obs']\n",
    "test_data = data.loc[data['series'] == 'test']\n",
    "\n",
    "data.loc[data['series'].isin(['obs', 'test'])].sample(5)"
   ]
  },
  {
   "cell_type": "code",
   "execution_count": 117,
   "metadata": {},
   "outputs": [],
   "source": [
    "ensemble = [nn.Sequential(nn.Linear(1,20, bias=True), nn.ReLU(inplace=True), nn.Linear(20,1, bias=True))\n",
    "            for _ in range(B)]\n",
    "\n",
    "optims = [optim.SGD(model.parameters(), lr=0.1) for model in ensemble]\n",
    "\n",
    "boot_ds = BootstrappedLoader(features=train_data['x'].values, targets=train_data['y'].values, B=B)\n",
    "train_loader = DataLoader(boot_ds, batch_size=batch_sz, collate_fn=_collate)"
   ]
  },
  {
   "cell_type": "code",
   "execution_count": 118,
   "metadata": {},
   "outputs": [],
   "source": [
    "def train(train_loader, test_data, ensemble, optims, epochs=100, verbose=True, update_plot=False):\n",
    "    # do some training\n",
    "    x_axis = np.array([])\n",
    "    y_axis = np.array([])\n",
    "    std_axis = np.array([])\n",
    "    std_var_axis = np.array([])\n",
    "    \n",
    "    \n",
    "    x = torch.from_numpy(test_data['x'].values).unsqueeze(1).float()\n",
    "    t = torch.from_numpy(test_data['y'].values).unsqueeze(1).float()\n",
    "\n",
    "    for epoch in range(epochs):\n",
    "        for bidx, boot_batches in enumerate(train_loader):\n",
    "            for idx, ((x, t), model, sgd) in enumerate(zip(boot_batches, ensemble, optims)):\n",
    "                sgd.zero_grad()\n",
    "            \n",
    "                y = model(x)\n",
    "                loss = F.mse_loss(y, t)\n",
    "                loss.backward()\n",
    "                sgd.step()\n",
    "\n",
    "        with torch.no_grad():\n",
    "            predictions = [model(x) for model in ensemble]    \n",
    "    \n",
    "            y = torch.cat(predictions, 1).mean(1).unsqueeze(1)\n",
    "            ensemble_loss = F.mse_loss(y, t).item()\n",
    "            losses = [F.mse_loss(y, t).item() for y in predictions]\n",
    "            std = torch.cat(predictions, 1).std(1).mean().item()\n",
    "            std_var = torch.cat(predictions, 1).std(1).std().item()\n",
    "        \n",
    "        if verbose:\n",
    "            print(f'epoch {epoch:02d} done, testing...')\n",
    "            print(f'  | loss={ensemble_loss:2.3f}',\n",
    "                  f'  |  mean_loss={np.mean(losses):2.3f}, std_loss={np.std(losses):2.3f}')\n",
    "        \n",
    "        if update_plot:\n",
    "            x_axis = np.append(x_axis, [epoch])\n",
    "            y_axis = np.append(y_axis, [ensemble_loss])\n",
    "            std_axis = np.append(std_axis, [std])\n",
    "            std_var_axis = np.append(std_var_axis, [std_var])\n",
    "            update_plot(x_axis, y_axis, std_axis, std_var_axis)"
   ]
  },
  {
   "cell_type": "markdown",
   "metadata": {},
   "source": [
    "## Visualize the training process"
   ]
  },
  {
   "cell_type": "code",
   "execution_count": 119,
   "metadata": {},
   "outputs": [],
   "source": [
    "x = np.array([])\n",
    "y = np.array([])\n",
    "std = np.array([])\n",
    "std_var = np.array([])\n",
    "\n",
    "train_plt = figure(title=\"Ensemble Loss / Mean Model Uncertainty\",\n",
    "                   plot_height=400,\n",
    "                   plot_width=800, \n",
    "                   x_range=(0, epochs),\n",
    "                   background_fill_color='whitesmoke')\n",
    "\n",
    "std_plt = train_plt.line(x, std, color=\"dodgerblue\", line_width=2.5, alpha=0.9, legend='test uncertainty')\n",
    "std_var_plt = train_plt.line(x, std, color=\"MediumPurple\", line_width=2.5, alpha=0.9, legend='var uncertainty')\n",
    "loss_plt = train_plt.line(x, y, color=\"orangered\", line_width=2.5, alpha=0.9, legend='test loss')\n",
    "\n",
    "\n",
    "def update(x, y, std, std_var):\n",
    "    loss_plt.data_source.data.update(x=x, y=y)\n",
    "    std_plt.data_source.data.update(x=x, y=std)\n",
    "    std_var_plt.data_source.data.update(x=x, y=std_var)\n",
    "    push_notebook()"
   ]
  },
  {
   "cell_type": "code",
   "execution_count": 120,
   "metadata": {},
   "outputs": [
    {
     "data": {
      "text/html": [
       "\n",
       "\n",
       "\n",
       "\n",
       "\n",
       "\n",
       "  <div class=\"bk-root\" id=\"c31c19c7-78f0-4682-bb9a-910a3a1cde39\"></div>\n"
      ]
     },
     "metadata": {},
     "output_type": "display_data"
    },
    {
     "data": {
      "application/javascript": [
       "(function(root) {\n",
       "  function embed_document(root) {\n",
       "    \n",
       "  var docs_json = {\"6c4d40b5-79c2-4810-a508-90d429bb0abc\":{\"roots\":{\"references\":[{\"attributes\":{\"background_fill_color\":{\"value\":\"whitesmoke\"},\"below\":[{\"id\":\"80927\",\"type\":\"LinearAxis\"}],\"left\":[{\"id\":\"80932\",\"type\":\"LinearAxis\"}],\"plot_height\":400,\"plot_width\":800,\"renderers\":[{\"id\":\"80927\",\"type\":\"LinearAxis\"},{\"id\":\"80931\",\"type\":\"Grid\"},{\"id\":\"80932\",\"type\":\"LinearAxis\"},{\"id\":\"80936\",\"type\":\"Grid\"},{\"id\":\"80945\",\"type\":\"BoxAnnotation\"},{\"id\":\"80963\",\"type\":\"Legend\"},{\"id\":\"80955\",\"type\":\"GlyphRenderer\"},{\"id\":\"80968\",\"type\":\"GlyphRenderer\"},{\"id\":\"80982\",\"type\":\"GlyphRenderer\"}],\"title\":{\"id\":\"80916\",\"type\":\"Title\"},\"toolbar\":{\"id\":\"80943\",\"type\":\"Toolbar\"},\"x_range\":{\"id\":\"80919\",\"type\":\"Range1d\"},\"x_scale\":{\"id\":\"80923\",\"type\":\"LinearScale\"},\"y_range\":{\"id\":\"80921\",\"type\":\"DataRange1d\"},\"y_scale\":{\"id\":\"80925\",\"type\":\"LinearScale\"}},\"id\":\"80917\",\"subtype\":\"Figure\",\"type\":\"Plot\"},{\"attributes\":{\"callback\":null,\"data\":{\"x\":{\"__ndarray__\":\"\",\"dtype\":\"float64\",\"shape\":[0]},\"y\":{\"__ndarray__\":\"\",\"dtype\":\"float64\",\"shape\":[0]}},\"selected\":{\"id\":\"81236\",\"type\":\"Selection\"},\"selection_policy\":{\"id\":\"81237\",\"type\":\"UnionRenderers\"}},\"id\":\"80979\",\"type\":\"ColumnDataSource\"},{\"attributes\":{\"line_alpha\":0.1,\"line_color\":\"#1f77b4\",\"line_width\":2.5,\"x\":{\"field\":\"x\"},\"y\":{\"field\":\"y\"}},\"id\":\"80954\",\"type\":\"Line\"},{\"attributes\":{\"line_alpha\":0.9,\"line_color\":\"MediumPurple\",\"line_width\":2.5,\"x\":{\"field\":\"x\"},\"y\":{\"field\":\"y\"}},\"id\":\"80966\",\"type\":\"Line\"},{\"attributes\":{\"line_alpha\":0.9,\"line_color\":\"dodgerblue\",\"line_width\":2.5,\"x\":{\"field\":\"x\"},\"y\":{\"field\":\"y\"}},\"id\":\"80953\",\"type\":\"Line\"},{\"attributes\":{\"line_alpha\":0.1,\"line_color\":\"#1f77b4\",\"line_width\":2.5,\"x\":{\"field\":\"x\"},\"y\":{\"field\":\"y\"}},\"id\":\"80967\",\"type\":\"Line\"},{\"attributes\":{\"data_source\":{\"id\":\"80952\",\"type\":\"ColumnDataSource\"},\"glyph\":{\"id\":\"80953\",\"type\":\"Line\"},\"hover_glyph\":null,\"muted_glyph\":null,\"nonselection_glyph\":{\"id\":\"80954\",\"type\":\"Line\"},\"selection_glyph\":null,\"view\":{\"id\":\"80956\",\"type\":\"CDSView\"}},\"id\":\"80955\",\"type\":\"GlyphRenderer\"},{\"attributes\":{\"data_source\":{\"id\":\"80965\",\"type\":\"ColumnDataSource\"},\"glyph\":{\"id\":\"80966\",\"type\":\"Line\"},\"hover_glyph\":null,\"muted_glyph\":null,\"nonselection_glyph\":{\"id\":\"80967\",\"type\":\"Line\"},\"selection_glyph\":null,\"view\":{\"id\":\"80969\",\"type\":\"CDSView\"}},\"id\":\"80968\",\"type\":\"GlyphRenderer\"},{\"attributes\":{\"callback\":null,\"data\":{\"x\":{\"__ndarray__\":\"\",\"dtype\":\"float64\",\"shape\":[0]},\"y\":{\"__ndarray__\":\"\",\"dtype\":\"float64\",\"shape\":[0]}},\"selected\":{\"id\":\"80975\",\"type\":\"Selection\"},\"selection_policy\":{\"id\":\"80976\",\"type\":\"UnionRenderers\"}},\"id\":\"80952\",\"type\":\"ColumnDataSource\"},{\"attributes\":{},\"id\":\"80937\",\"type\":\"PanTool\"},{\"attributes\":{\"source\":{\"id\":\"80965\",\"type\":\"ColumnDataSource\"}},\"id\":\"80969\",\"type\":\"CDSView\"},{\"attributes\":{},\"id\":\"80938\",\"type\":\"WheelZoomTool\"},{\"attributes\":{},\"id\":\"80975\",\"type\":\"Selection\"},{\"attributes\":{\"overlay\":{\"id\":\"80945\",\"type\":\"BoxAnnotation\"}},\"id\":\"80939\",\"type\":\"BoxZoomTool\"},{\"attributes\":{},\"id\":\"81237\",\"type\":\"UnionRenderers\"},{\"attributes\":{},\"id\":\"80976\",\"type\":\"UnionRenderers\"},{\"attributes\":{},\"id\":\"80940\",\"type\":\"SaveTool\"},{\"attributes\":{},\"id\":\"81236\",\"type\":\"Selection\"},{\"attributes\":{\"label\":{\"value\":\"var uncertainty\"},\"renderers\":[{\"id\":\"80968\",\"type\":\"GlyphRenderer\"}]},\"id\":\"80978\",\"type\":\"LegendItem\"},{\"attributes\":{\"callback\":null,\"data\":{\"x\":{\"__ndarray__\":\"\",\"dtype\":\"float64\",\"shape\":[0]},\"y\":{\"__ndarray__\":\"\",\"dtype\":\"float64\",\"shape\":[0]}},\"selected\":{\"id\":\"80991\",\"type\":\"Selection\"},\"selection_policy\":{\"id\":\"80992\",\"type\":\"UnionRenderers\"}},\"id\":\"80965\",\"type\":\"ColumnDataSource\"},{\"attributes\":{},\"id\":\"80941\",\"type\":\"ResetTool\"},{\"attributes\":{\"callback\":null},\"id\":\"80921\",\"type\":\"DataRange1d\"},{\"attributes\":{\"plot\":null,\"text\":\"Ensemble Loss / Mean Model Uncertainty\"},\"id\":\"80916\",\"type\":\"Title\"},{\"attributes\":{},\"id\":\"80942\",\"type\":\"HelpTool\"},{\"attributes\":{\"callback\":null,\"end\":6000},\"id\":\"80919\",\"type\":\"Range1d\"},{\"attributes\":{\"line_alpha\":0.9,\"line_color\":\"orangered\",\"line_width\":2.5,\"x\":{\"field\":\"x\"},\"y\":{\"field\":\"y\"}},\"id\":\"80980\",\"type\":\"Line\"},{\"attributes\":{\"active_drag\":\"auto\",\"active_inspect\":\"auto\",\"active_multi\":null,\"active_scroll\":\"auto\",\"active_tap\":\"auto\",\"tools\":[{\"id\":\"80937\",\"type\":\"PanTool\"},{\"id\":\"80938\",\"type\":\"WheelZoomTool\"},{\"id\":\"80939\",\"type\":\"BoxZoomTool\"},{\"id\":\"80940\",\"type\":\"SaveTool\"},{\"id\":\"80941\",\"type\":\"ResetTool\"},{\"id\":\"80942\",\"type\":\"HelpTool\"}]},\"id\":\"80943\",\"type\":\"Toolbar\"},{\"attributes\":{\"line_alpha\":0.1,\"line_color\":\"#1f77b4\",\"line_width\":2.5,\"x\":{\"field\":\"x\"},\"y\":{\"field\":\"y\"}},\"id\":\"80981\",\"type\":\"Line\"},{\"attributes\":{},\"id\":\"80923\",\"type\":\"LinearScale\"},{\"attributes\":{\"bottom_units\":\"screen\",\"fill_alpha\":{\"value\":0.5},\"fill_color\":{\"value\":\"lightgrey\"},\"left_units\":\"screen\",\"level\":\"overlay\",\"line_alpha\":{\"value\":1.0},\"line_color\":{\"value\":\"black\"},\"line_dash\":[4,4],\"line_width\":{\"value\":2},\"plot\":null,\"render_mode\":\"css\",\"right_units\":\"screen\",\"top_units\":\"screen\"},\"id\":\"80945\",\"type\":\"BoxAnnotation\"},{\"attributes\":{\"data_source\":{\"id\":\"80979\",\"type\":\"ColumnDataSource\"},\"glyph\":{\"id\":\"80980\",\"type\":\"Line\"},\"hover_glyph\":null,\"muted_glyph\":null,\"nonselection_glyph\":{\"id\":\"80981\",\"type\":\"Line\"},\"selection_glyph\":null,\"view\":{\"id\":\"80983\",\"type\":\"CDSView\"}},\"id\":\"80982\",\"type\":\"GlyphRenderer\"},{\"attributes\":{},\"id\":\"80925\",\"type\":\"LinearScale\"},{\"attributes\":{\"formatter\":{\"id\":\"80959\",\"type\":\"BasicTickFormatter\"},\"plot\":{\"id\":\"80917\",\"subtype\":\"Figure\",\"type\":\"Plot\"},\"ticker\":{\"id\":\"80928\",\"type\":\"BasicTicker\"}},\"id\":\"80927\",\"type\":\"LinearAxis\"},{\"attributes\":{\"source\":{\"id\":\"80979\",\"type\":\"ColumnDataSource\"}},\"id\":\"80983\",\"type\":\"CDSView\"},{\"attributes\":{\"source\":{\"id\":\"80952\",\"type\":\"ColumnDataSource\"}},\"id\":\"80956\",\"type\":\"CDSView\"},{\"attributes\":{},\"id\":\"80991\",\"type\":\"Selection\"},{\"attributes\":{},\"id\":\"80959\",\"type\":\"BasicTickFormatter\"},{\"attributes\":{},\"id\":\"80928\",\"type\":\"BasicTicker\"},{\"attributes\":{},\"id\":\"80992\",\"type\":\"UnionRenderers\"},{\"attributes\":{},\"id\":\"80961\",\"type\":\"BasicTickFormatter\"},{\"attributes\":{\"plot\":{\"id\":\"80917\",\"subtype\":\"Figure\",\"type\":\"Plot\"},\"ticker\":{\"id\":\"80928\",\"type\":\"BasicTicker\"}},\"id\":\"80931\",\"type\":\"Grid\"},{\"attributes\":{\"label\":{\"value\":\"test loss\"},\"renderers\":[{\"id\":\"80982\",\"type\":\"GlyphRenderer\"}]},\"id\":\"80994\",\"type\":\"LegendItem\"},{\"attributes\":{\"formatter\":{\"id\":\"80961\",\"type\":\"BasicTickFormatter\"},\"plot\":{\"id\":\"80917\",\"subtype\":\"Figure\",\"type\":\"Plot\"},\"ticker\":{\"id\":\"80933\",\"type\":\"BasicTicker\"}},\"id\":\"80932\",\"type\":\"LinearAxis\"},{\"attributes\":{\"items\":[{\"id\":\"80964\",\"type\":\"LegendItem\"},{\"id\":\"80978\",\"type\":\"LegendItem\"},{\"id\":\"80994\",\"type\":\"LegendItem\"}],\"plot\":{\"id\":\"80917\",\"subtype\":\"Figure\",\"type\":\"Plot\"}},\"id\":\"80963\",\"type\":\"Legend\"},{\"attributes\":{},\"id\":\"80933\",\"type\":\"BasicTicker\"},{\"attributes\":{\"label\":{\"value\":\"test uncertainty\"},\"renderers\":[{\"id\":\"80955\",\"type\":\"GlyphRenderer\"}]},\"id\":\"80964\",\"type\":\"LegendItem\"},{\"attributes\":{\"dimension\":1,\"plot\":{\"id\":\"80917\",\"subtype\":\"Figure\",\"type\":\"Plot\"},\"ticker\":{\"id\":\"80933\",\"type\":\"BasicTicker\"}},\"id\":\"80936\",\"type\":\"Grid\"}],\"root_ids\":[\"80917\"]},\"title\":\"Bokeh Application\",\"version\":\"1.0.1\"}};\n",
       "  var render_items = [{\"docid\":\"6c4d40b5-79c2-4810-a508-90d429bb0abc\",\"notebook_comms_target\":\"81239\",\"roots\":{\"80917\":\"c31c19c7-78f0-4682-bb9a-910a3a1cde39\"}}];\n",
       "  root.Bokeh.embed.embed_items_notebook(docs_json, render_items);\n",
       "\n",
       "  }\n",
       "  if (root.Bokeh !== undefined) {\n",
       "    embed_document(root);\n",
       "  } else {\n",
       "    var attempts = 0;\n",
       "    var timer = setInterval(function(root) {\n",
       "      if (root.Bokeh !== undefined) {\n",
       "        embed_document(root);\n",
       "        clearInterval(timer);\n",
       "      }\n",
       "      attempts++;\n",
       "      if (attempts > 100) {\n",
       "        console.log(\"Bokeh: ERROR: Unable to run BokehJS code because BokehJS library is missing\");\n",
       "        clearInterval(timer);\n",
       "      }\n",
       "    }, 10, root)\n",
       "  }\n",
       "})(window);"
      ],
      "application/vnd.bokehjs_exec.v0+json": ""
     },
     "metadata": {
      "application/vnd.bokehjs_exec.v0+json": {
       "id": "80917"
      }
     },
     "output_type": "display_data"
    },
    {
     "data": {
      "text/html": [
       "<p><code>&lt;Bokeh Notebook handle for <strong>In[120]</strong>&gt;</code></p>"
      ],
      "text/plain": [
       "<bokeh.io.notebook.CommsHandle at 0x7fe09338eeb8>"
      ]
     },
     "execution_count": 120,
     "metadata": {},
     "output_type": "execute_result"
    }
   ],
   "source": [
    "show(train_plt, notebook_handle=True)"
   ]
  },
  {
   "cell_type": "code",
   "execution_count": 121,
   "metadata": {},
   "outputs": [],
   "source": [
    "train(train_loader, test_data, ensemble, optims, epochs=epochs, verbose=False, update_plot=update)"
   ]
  },
  {
   "cell_type": "code",
   "execution_count": 122,
   "metadata": {},
   "outputs": [],
   "source": [
    "def get_predictions(ensemble, x):\n",
    "    with torch.no_grad():\n",
    "        predictions = [model(x) for model in ensemble]\n",
    "        predictions = torch.cat(predictions, 1)\n",
    "        return predictions.mean(1), predictions.std(1)"
   ]
  },
  {
   "cell_type": "code",
   "execution_count": 125,
   "metadata": {},
   "outputs": [],
   "source": [
    "x_axis = torch.arange(-1, 2.01, 1/33).unsqueeze(1).float()\n",
    "y_axis, std = get_predictions(ensemble, x_axis)\n",
    "\n",
    "x_axis = x_axis.squeeze().numpy()\n",
    "y_axis = y_axis.squeeze().numpy()\n",
    "std = std.squeeze().numpy()\n",
    "\n",
    "x_obs = obs_data['x'].values\n",
    "y_obs = obs_data['y'].values\n",
    "\n",
    "x_tst = tst_data['x'].values\n",
    "y_tst = tst_data['y'].values\n",
    "\n",
    "df = pd.DataFrame(data=dict(x=x_axis, lower=y_axis-std, upper=y_axis+std)).sort_values(by=\"x\")\n",
    "source = ColumnDataSource(df.reset_index())\n",
    "\n",
    "data_plt = figure(title=\"Data\",\n",
    "                  plot_height=400,\n",
    "                  plot_width=900,\n",
    "                  y_range=(-1, 5),\n",
    "                  x_range=(-1, 2),\n",
    "                  background_fill_color='#ffffff')\n",
    "\n",
    "fx = data_plt.line(x_axis, y_axis, color=\"mediumspringgreen\", line_width=3, alpha=0.8, legend='model(x)')\n",
    "obs = data_plt.scatter(x_obs, y_obs,\n",
    "                       size=10, fill_color=\"slateblue\", line_color=\"slateblue\", alpha=0.8, legend='observed')\n",
    "tst = data_plt.scatter(x_tst, y_tst,\n",
    "                       size=7, fill_color=\"indianred\", line_color=\"indianred\", alpha=0.8, legend='test data')\n",
    "band = Band(base='x', lower='lower', upper='upper', source=source, level='underlay',\n",
    "            fill_alpha=0.3, fill_color='MediumAquamarine', line_width=0, line_color='#ffffff')\n",
    "data_plt.add_layout(band)"
   ]
  },
  {
   "cell_type": "code",
   "execution_count": 126,
   "metadata": {},
   "outputs": [
    {
     "data": {
      "text/html": [
       "\n",
       "\n",
       "\n",
       "\n",
       "\n",
       "\n",
       "  <div class=\"bk-root\" id=\"dc0696b6-3dab-45f8-bddf-83b1e7abc834\"></div>\n"
      ]
     },
     "metadata": {},
     "output_type": "display_data"
    },
    {
     "data": {
      "application/javascript": [
       "(function(root) {\n",
       "  function embed_document(root) {\n",
       "    \n",
       "  var docs_json = {\"ba8eef9f-383c-4fef-9d0f-3087cd1f9366\":{\"roots\":{\"references\":[{\"attributes\":{\"below\":[{\"id\":\"123749\",\"type\":\"LinearAxis\"}],\"left\":[{\"id\":\"123754\",\"type\":\"LinearAxis\"}],\"plot_height\":400,\"plot_width\":900,\"renderers\":[{\"id\":\"123749\",\"type\":\"LinearAxis\"},{\"id\":\"123753\",\"type\":\"Grid\"},{\"id\":\"123754\",\"type\":\"LinearAxis\"},{\"id\":\"123758\",\"type\":\"Grid\"},{\"id\":\"123767\",\"type\":\"BoxAnnotation\"},{\"id\":\"123785\",\"type\":\"Legend\"},{\"id\":\"123777\",\"type\":\"GlyphRenderer\"},{\"id\":\"123790\",\"type\":\"GlyphRenderer\"},{\"id\":\"123804\",\"type\":\"GlyphRenderer\"},{\"id\":\"123817\",\"type\":\"Band\"}],\"title\":{\"id\":\"123738\",\"type\":\"Title\"},\"toolbar\":{\"id\":\"123765\",\"type\":\"Toolbar\"},\"x_range\":{\"id\":\"123741\",\"type\":\"Range1d\"},\"x_scale\":{\"id\":\"123745\",\"type\":\"LinearScale\"},\"y_range\":{\"id\":\"123743\",\"type\":\"Range1d\"},\"y_scale\":{\"id\":\"123747\",\"type\":\"LinearScale\"}},\"id\":\"123739\",\"subtype\":\"Figure\",\"type\":\"Plot\"},{\"attributes\":{},\"id\":\"123750\",\"type\":\"BasicTicker\"},{\"attributes\":{\"fill_alpha\":{\"value\":0.1},\"fill_color\":{\"value\":\"#1f77b4\"},\"line_alpha\":{\"value\":0.1},\"line_color\":{\"value\":\"#1f77b4\"},\"size\":{\"units\":\"screen\",\"value\":7},\"x\":{\"field\":\"x\"},\"y\":{\"field\":\"y\"}},\"id\":\"123803\",\"type\":\"Scatter\"},{\"attributes\":{},\"id\":\"123747\",\"type\":\"LinearScale\"},{\"attributes\":{\"label\":{\"value\":\"test data\"},\"renderers\":[{\"id\":\"123804\",\"type\":\"GlyphRenderer\"}]},\"id\":\"123816\",\"type\":\"LegendItem\"},{\"attributes\":{},\"id\":\"123762\",\"type\":\"SaveTool\"},{\"attributes\":{\"callback\":null,\"data\":{\"x\":{\"__ndarray__\":\"AAAAQK694D8AAADg/QrdPwAAACARntA/AAAAoICUyD8AAAAgTuHYPwAAAEBjSNA/AAAA4PO9zz8AAAAAINrEPwAAAECZObw/AAAAYAsM1D8AAACAzRbLPwAAAKDMf7o/AAAA4GOi2z8AAACgntnePwAAAEBvVds/AAAA4BXawT8AAABAQffMPwAAAMAzuNM/AAAAQEVs3j8AAACgWDu+PwAAAICDiOI/AAAAwF6G1z8AAABg8ADFPwAAAABBSMQ/AAAAQFTi6z8AAAAAPW7vPwAAAMAzbu8/AAAAQJla7D8AAADAyrHuPwAAAGD+1+w/AAAAYHEk7z8AAADA7xXsPwAAAOBa4e8/AAAAQH8F7z8AAACgxYbqPw==\",\"dtype\":\"float64\",\"shape\":[35]},\"y\":{\"__ndarray__\":\"AAAAoBgmAUAAAADAEzn6PwAAAOCVZOc/AAAAwB4r+T8AAADgH8ziPwAAAGANJfA/AAAAoEZy6D8AAABA/Ur0PwAAAKB0iPc/AAAAAOiS3T8AAADgoC3wPwAAAKD4G/o/AAAAgDYP+D8AAAAAXQn3PwAAAMASm+M/AAAAAJOX9T8AAADAl7HrPwAAAOB8WtY/AAAAQBSWAEAAAABgsxr4PwAAAIDAKwJAAAAAQLoz4T8AAAAAMBj4PwAAACC3ufk/AAAAIDJE2r8AAAAABXjwPwAAAEDocKk/AAAAYKdF2r8AAAAAqHqnvwAAAMCo97u/AAAAgPYl4j8AAADA/YnavwAAACDmbes/AAAAYHb64D8AAACA+2OVvw==\",\"dtype\":\"float64\",\"shape\":[35]}},\"selected\":{\"id\":\"123813\",\"type\":\"Selection\"},\"selection_policy\":{\"id\":\"123814\",\"type\":\"UnionRenderers\"}},\"id\":\"123787\",\"type\":\"ColumnDataSource\"},{\"attributes\":{},\"id\":\"123763\",\"type\":\"ResetTool\"},{\"attributes\":{},\"id\":\"123764\",\"type\":\"HelpTool\"},{\"attributes\":{\"callback\":null,\"end\":2,\"start\":-1},\"id\":\"123741\",\"type\":\"Range1d\"},{\"attributes\":{\"line_alpha\":0.1,\"line_color\":\"#1f77b4\",\"line_width\":3,\"x\":{\"field\":\"x\"},\"y\":{\"field\":\"y\"}},\"id\":\"123776\",\"type\":\"Line\"},{\"attributes\":{},\"id\":\"123759\",\"type\":\"PanTool\"},{\"attributes\":{\"active_drag\":\"auto\",\"active_inspect\":\"auto\",\"active_multi\":null,\"active_scroll\":\"auto\",\"active_tap\":\"auto\",\"tools\":[{\"id\":\"123759\",\"type\":\"PanTool\"},{\"id\":\"123760\",\"type\":\"WheelZoomTool\"},{\"id\":\"123761\",\"type\":\"BoxZoomTool\"},{\"id\":\"123762\",\"type\":\"SaveTool\"},{\"id\":\"123763\",\"type\":\"ResetTool\"},{\"id\":\"123764\",\"type\":\"HelpTool\"}]},\"id\":\"123765\",\"type\":\"Toolbar\"},{\"attributes\":{\"formatter\":{\"id\":\"123781\",\"type\":\"BasicTickFormatter\"},\"plot\":{\"id\":\"123739\",\"subtype\":\"Figure\",\"type\":\"Plot\"},\"ticker\":{\"id\":\"123750\",\"type\":\"BasicTicker\"}},\"id\":\"123749\",\"type\":\"LinearAxis\"},{\"attributes\":{\"data_source\":{\"id\":\"123801\",\"type\":\"ColumnDataSource\"},\"glyph\":{\"id\":\"123802\",\"type\":\"Scatter\"},\"hover_glyph\":null,\"muted_glyph\":null,\"nonselection_glyph\":{\"id\":\"123803\",\"type\":\"Scatter\"},\"selection_glyph\":null,\"view\":{\"id\":\"123805\",\"type\":\"CDSView\"}},\"id\":\"123804\",\"type\":\"GlyphRenderer\"},{\"attributes\":{\"data_source\":{\"id\":\"123787\",\"type\":\"ColumnDataSource\"},\"glyph\":{\"id\":\"123788\",\"type\":\"Scatter\"},\"hover_glyph\":null,\"muted_glyph\":null,\"nonselection_glyph\":{\"id\":\"123789\",\"type\":\"Scatter\"},\"selection_glyph\":null,\"view\":{\"id\":\"123791\",\"type\":\"CDSView\"}},\"id\":\"123790\",\"type\":\"GlyphRenderer\"},{\"attributes\":{\"callback\":null,\"end\":5,\"start\":-1},\"id\":\"123743\",\"type\":\"Range1d\"},{\"attributes\":{\"base\":{\"field\":\"x\",\"units\":\"data\"},\"fill_alpha\":{\"value\":0.3},\"fill_color\":{\"value\":\"MediumAquamarine\"},\"level\":\"underlay\",\"line_color\":{\"value\":\"#ffffff\"},\"line_width\":{\"value\":0},\"lower\":{\"field\":\"lower\",\"units\":\"data\"},\"plot\":{\"id\":\"123739\",\"subtype\":\"Figure\",\"type\":\"Plot\"},\"source\":{\"id\":\"123737\",\"type\":\"ColumnDataSource\"},\"upper\":{\"field\":\"upper\",\"units\":\"data\"}},\"id\":\"123817\",\"type\":\"Band\"},{\"attributes\":{},\"id\":\"123814\",\"type\":\"UnionRenderers\"},{\"attributes\":{},\"id\":\"123797\",\"type\":\"Selection\"},{\"attributes\":{\"callback\":null,\"data\":{\"index\":[0,1,2,3,4,5,6,7,8,9,10,11,12,13,14,15,16,17,18,19,20,21,22,23,24,25,26,27,28,29,30,31,32,33,34,35,36,37,38,39,40,41,42,43,44,45,46,47,48,49,50,51,52,53,54,55,56,57,58,59,60,61,62,63,64,65,66,67,68,69,70,71,72,73,74,75,76,77,78,79,80,81,82,83,84,85,86,87,88,89,90,91,92,93,94,95,96,97,98,99],\"level_0\":[0,1,2,3,4,5,6,7,8,9,10,11,12,13,14,15,16,17,18,19,20,21,22,23,24,25,26,27,28,29,30,31,32,33,34,35,36,37,38,39,40,41,42,43,44,45,46,47,48,49,50,51,52,53,54,55,56,57,58,59,60,61,62,63,64,65,66,67,68,69,70,71,72,73,74,75,76,77,78,79,80,81,82,83,84,85,86,87,88,89,90,91,92,93,94,95,96,97,98,99],\"lower\":{\"__ndarray__\":\"1cB1QOuFcUDVSm1AKBBpQFfXZEALoGBAlWxcQNY8WEA3DVRAyN9PQAmzS0A9hkdAsVdDQD4pP0Cp+jpAjMs2QJKbMkAWZy5ASi0qQIL3JUDWvyFAioUdQDRHGUBwBRVA0cAQQGB2DEBQIwhA5cUDQOK6/j80zPU/T7zsP+CD4z/ID9o/MEPQP2j6xT/NBbs/zCCvP+I/oj9WeJQ/ZPKFP8BJbj9AZk4/gB4vP9K5Dz+ezAk/KBwVP6jfPT/eJVk/bNpmPx2Yaz+hc20/GVFjPxguUT/72Dg/CNAePyV3Az+jAM0+ri+PPry+GT6A4DM8zNoMvtEojr4y5L++SD+svtLzj75I6X6+WBh+vh9ugr7fXoe+LkaVvg4Xqb4kxsC+lgzbvhAv974QWAq//JoZv7JFKb8WQjm/bHxJvw7jWb+ac2q/Kid7vzX6hb/tbY6/P+uWv4Bxn7+y/6e/OpOwvzwsub9OysG//mzKv8gT07/mvdu/Bmvkv8Qa7b+Uy/W/cH3+v6qYA8Cj8wfA9E8MwA==\",\"dtype\":\"float32\",\"shape\":[100]},\"upper\":{\"__ndarray__\":\"uDkGQZJJA0GoWQBBTtP6QJTz9EAgFe9AwDfpQHta40CYfN1Ahp7XQAjA0UA04ctAnAHGQEkiwEC2Q7pAqGa0QOWKrkAvsKhALNaiQHL8nEAxJpdA7lGRQMJ+i0AorIVAbbd/QEQadEAAg2hAnfRcQFtyUUCc/EVAOpc6QEpGL0CMFCRAGg4ZQL1EDkBJ0ANAlrfzP27z4D+oss8/qom/P2gisD929KI/Q4aYP19Hkj8iGJI/WGSYP7KKoz9TYLc/QoDSP0aU8D9CzQNAbaYHQKOsA0Ayh/I/bMLaP5ylwz/GV60/wAKYP5bNgz/UqGE/DkA+P/IFID8zDxA/YHkYP58wKD88W0E/uv1jP3OUhz/v8Z8/8K26P5bk1j+FFfQ/ivkIQMwlGEB3eydA1+82QAZ8RkDoGVZAN8ZlQMx+dUCfoIJArYWKQNtukkDwWppAa0miQOo5qkAiLLJAJiC6QLAVwkDcDMpAOgXSQK7+2UD6+OFABvTpQL/v8UAz7PlAq/QAQajzBEEQ8whBpPIMQQ==\",\"dtype\":\"float32\",\"shape\":[100]},\"x\":{\"__ndarray__\":\"AACAvxA+eL8ffHC/L7povz74YL9ONlm/XXRRv22ySb988EG/jC46v5tsMr+rqiq/uugiv8omG7/ZZBO/6aILv/jgA78QPvi+L7rovk422b5tssm+jC66vquqqr7KJpu+6aKLvhA+eL5ONlm+jC46vsomG74QPvi9jC66vRA+eL0QPvi8AAAAABA++DwQPng9jC66PRA++D3KJhs+jC46Pk42WT4QPng+6aKLPsommz6rqqo+jC66Pm2yyT5ONtk+L7roPhA++D744AM/6aILP9lkEz/KJhs/uugiP6uqKj+bbDI/jC46P3zwQT9tskk/XXRRP042WT8++GA/L7poPx98cD8QPng/AACAP/jggz/wwYc/6aKLP+GDjz/ZZJM/0UWXP8ommz/CB58/uuiiP7LJpj+rqqo/o4uuP5tssj+TTbY/jC66P4QPvj988ME/dNHFP22yyT9lk80/XXTRP1VV1T9ONtk/RhfdPz744D822eQ/L7roPyeb7D8ffPA/F130PxA++D8IH/w/AAAAQA==\",\"dtype\":\"float32\",\"shape\":[100]}},\"selected\":{\"id\":\"124088\",\"type\":\"Selection\"},\"selection_policy\":{\"id\":\"124089\",\"type\":\"UnionRenderers\"}},\"id\":\"123737\",\"type\":\"ColumnDataSource\"},{\"attributes\":{},\"id\":\"124087\",\"type\":\"UnionRenderers\"},{\"attributes\":{},\"id\":\"123760\",\"type\":\"WheelZoomTool\"},{\"attributes\":{},\"id\":\"124089\",\"type\":\"UnionRenderers\"},{\"attributes\":{},\"id\":\"123783\",\"type\":\"BasicTickFormatter\"},{\"attributes\":{\"bottom_units\":\"screen\",\"fill_alpha\":{\"value\":0.5},\"fill_color\":{\"value\":\"lightgrey\"},\"left_units\":\"screen\",\"level\":\"overlay\",\"line_alpha\":{\"value\":1.0},\"line_color\":{\"value\":\"black\"},\"line_dash\":[4,4],\"line_width\":{\"value\":2},\"plot\":null,\"render_mode\":\"css\",\"right_units\":\"screen\",\"top_units\":\"screen\"},\"id\":\"123767\",\"type\":\"BoxAnnotation\"},{\"attributes\":{\"source\":{\"id\":\"123774\",\"type\":\"ColumnDataSource\"}},\"id\":\"123778\",\"type\":\"CDSView\"},{\"attributes\":{\"callback\":null,\"data\":{\"x\":{\"__ndarray__\":\"AAAAgF8Q4z8AAACgNe7iPwAAAGCiZOI/AAAAgCDM2D8AAABgKunXPwAAAOA7VeA/AAAAgEEi0z8AAABA0rXgPwAAAOC4fdQ/AAAAgK/VvD8AAACg/9+hPwAAAED4V98/AAAAQEd3tT8AAADAzNrdPwAAAKCef94/AAAAAGSdxj8AAADgrbXbPwAAACDi7ME/AAAAoLCatT8AAACA+2jSPwAAAAB3xdQ/AAAAgM5f1T8AAAAAv0jePwAAAACMhs4/AAAA4N7J8D8AAADA9u3uPwAAAIDYCPE/AAAAoB2p8D8AAADAQoTwPwAAACB0GvE/AAAAYJW77z8AAADgyAXtPwAAAMCzW/A/AAAA4LmR8T8AAABgji7wPw==\",\"dtype\":\"float64\",\"shape\":[35]},\"y\":{\"__ndarray__\":\"AAAAYGQGAEAAAADg6zUCQAAAAKAQLgJAAAAAYGwr4T8AAABAPlDWPwAAAMDIQgBAAAAAIIaN4j8AAAAAiMb4PwAAAAAuo+A/AAAAILfp8j8AAADAHyTgPwAAAODq+/I/AAAAIBDQ8D8AAADgfNz6PwAAAEA+huw/AAAA4Axe8j8AAACgix7hPwAAAMAazPc/AAAAQMBc9z8AAABAae7pPwAAAAAF0tk/AAAAIOQP2D8AAACgjGbyPwAAAEAjy/M/AAAAYK5r6D8AAADAohKOvwAAAOC8KfI/AAAAQOdx7z8AAACgzGfiPwAAAOBGcfI/AAAAwBdU5z8AAAAg8pPUvwAAAID4yug/AAAAABTK7j8AAACAjzfYPw==\",\"dtype\":\"float64\",\"shape\":[35]}},\"selected\":{\"id\":\"124086\",\"type\":\"Selection\"},\"selection_policy\":{\"id\":\"124087\",\"type\":\"UnionRenderers\"}},\"id\":\"123801\",\"type\":\"ColumnDataSource\"},{\"attributes\":{\"dimension\":1,\"plot\":{\"id\":\"123739\",\"subtype\":\"Figure\",\"type\":\"Plot\"},\"ticker\":{\"id\":\"123755\",\"type\":\"BasicTicker\"}},\"id\":\"123758\",\"type\":\"Grid\"},{\"attributes\":{\"overlay\":{\"id\":\"123767\",\"type\":\"BoxAnnotation\"}},\"id\":\"123761\",\"type\":\"BoxZoomTool\"},{\"attributes\":{\"line_alpha\":0.8,\"line_color\":\"mediumspringgreen\",\"line_width\":3,\"x\":{\"field\":\"x\"},\"y\":{\"field\":\"y\"}},\"id\":\"123775\",\"type\":\"Line\"},{\"attributes\":{},\"id\":\"123755\",\"type\":\"BasicTicker\"},{\"attributes\":{},\"id\":\"124086\",\"type\":\"Selection\"},{\"attributes\":{\"plot\":null,\"text\":\"Data\"},\"id\":\"123738\",\"type\":\"Title\"},{\"attributes\":{},\"id\":\"123745\",\"type\":\"LinearScale\"},{\"attributes\":{\"fill_alpha\":{\"value\":0.8},\"fill_color\":{\"value\":\"indianred\"},\"line_alpha\":{\"value\":0.8},\"line_color\":{\"value\":\"indianred\"},\"size\":{\"units\":\"screen\",\"value\":7},\"x\":{\"field\":\"x\"},\"y\":{\"field\":\"y\"}},\"id\":\"123802\",\"type\":\"Scatter\"},{\"attributes\":{},\"id\":\"123781\",\"type\":\"BasicTickFormatter\"},{\"attributes\":{},\"id\":\"124088\",\"type\":\"Selection\"},{\"attributes\":{\"fill_alpha\":{\"value\":0.1},\"fill_color\":{\"value\":\"#1f77b4\"},\"line_alpha\":{\"value\":0.1},\"line_color\":{\"value\":\"#1f77b4\"},\"size\":{\"units\":\"screen\",\"value\":10},\"x\":{\"field\":\"x\"},\"y\":{\"field\":\"y\"}},\"id\":\"123789\",\"type\":\"Scatter\"},{\"attributes\":{\"source\":{\"id\":\"123787\",\"type\":\"ColumnDataSource\"}},\"id\":\"123791\",\"type\":\"CDSView\"},{\"attributes\":{\"source\":{\"id\":\"123801\",\"type\":\"ColumnDataSource\"}},\"id\":\"123805\",\"type\":\"CDSView\"},{\"attributes\":{\"data_source\":{\"id\":\"123774\",\"type\":\"ColumnDataSource\"},\"glyph\":{\"id\":\"123775\",\"type\":\"Line\"},\"hover_glyph\":null,\"muted_glyph\":null,\"nonselection_glyph\":{\"id\":\"123776\",\"type\":\"Line\"},\"selection_glyph\":null,\"view\":{\"id\":\"123778\",\"type\":\"CDSView\"}},\"id\":\"123777\",\"type\":\"GlyphRenderer\"},{\"attributes\":{},\"id\":\"123813\",\"type\":\"Selection\"},{\"attributes\":{},\"id\":\"123798\",\"type\":\"UnionRenderers\"},{\"attributes\":{\"label\":{\"value\":\"observed\"},\"renderers\":[{\"id\":\"123790\",\"type\":\"GlyphRenderer\"}]},\"id\":\"123800\",\"type\":\"LegendItem\"},{\"attributes\":{\"label\":{\"value\":\"model(x)\"},\"renderers\":[{\"id\":\"123777\",\"type\":\"GlyphRenderer\"}]},\"id\":\"123786\",\"type\":\"LegendItem\"},{\"attributes\":{\"callback\":null,\"data\":{\"x\":{\"__ndarray__\":\"AACAvxA+eL8ffHC/L7povz74YL9ONlm/XXRRv22ySb988EG/jC46v5tsMr+rqiq/uugiv8omG7/ZZBO/6aILv/jgA78QPvi+L7rovk422b5tssm+jC66vquqqr7KJpu+6aKLvhA+eL5ONlm+jC46vsomG74QPvi9jC66vRA+eL0QPvi8AAAAABA++DwQPng9jC66PRA++D3KJhs+jC46Pk42WT4QPng+6aKLPsommz6rqqo+jC66Pm2yyT5ONtk+L7roPhA++D744AM/6aILP9lkEz/KJhs/uugiP6uqKj+bbDI/jC46P3zwQT9tskk/XXRRP042WT8++GA/L7poPx98cD8QPng/AACAP/jggz/wwYc/6aKLP+GDjz/ZZJM/0UWXP8ommz/CB58/uuiiP7LJpj+rqqo/o4uuP5tssj+TTbY/jC66P4QPvj988ME/dNHFP22yyT9lk80/XXTRP1VV1T9ONtk/RhfdPz744D822eQ/L7roPyeb7D8ffPA/F130PxA++D8IH/w/AAAAQA==\",\"dtype\":\"float32\",\"shape\":[100]},\"y\":{\"__ndarray__\":\"7anDQA2rv0BdrLtAsa23QKCvs0CTsq9ABberQHO8p0CawaNANcefQMbMm0Ap0pdAutaTQHTbj0CF4ItAN+aHQFfsg0C6439A0ex3QDP4b0AcBmhAsxRgQFwiWEDgLlBAHzxIQFJIQEAoUzhAQV0wQOZnKEBbcSBAsXoYQB2EEEA4jghA2ZcAQPFB8T8vU+E/MWzRP6iZwT9/FbI/B76iP6Sjkz/LE4U/gxVwP0gkWj9x/lY/bPJiP0M9gT+h+ZE/vPaiPyowsz8qKr8/s3rAPyn4tz/Yeac/OBWVP5ewgj/vl2A/rM47P24FFz9WeOQ+WwmbPhTjMT5odMA9eLMEPm1tQD7qoIE+pHekPtfxzT5vNPw+ZFwVP9OeLD/840M/7y9bP9R/cj9z5YQ/GImQP5kqnD9jyac/HGezPwkGvz9XpMo/j0HWP5vg4T/pfu0/Nx35P4pdAkA2LAhAV/sNQKHKE0BImhlA+2kfQLw5JUCBCStARdkwQA6pNkBOeTxA+klCQPoaSEBP7E1ATr1TQA==\",\"dtype\":\"float32\",\"shape\":[100]}},\"selected\":{\"id\":\"123797\",\"type\":\"Selection\"},\"selection_policy\":{\"id\":\"123798\",\"type\":\"UnionRenderers\"}},\"id\":\"123774\",\"type\":\"ColumnDataSource\"},{\"attributes\":{\"fill_alpha\":{\"value\":0.8},\"fill_color\":{\"value\":\"slateblue\"},\"line_alpha\":{\"value\":0.8},\"line_color\":{\"value\":\"slateblue\"},\"size\":{\"units\":\"screen\",\"value\":10},\"x\":{\"field\":\"x\"},\"y\":{\"field\":\"y\"}},\"id\":\"123788\",\"type\":\"Scatter\"},{\"attributes\":{\"formatter\":{\"id\":\"123783\",\"type\":\"BasicTickFormatter\"},\"plot\":{\"id\":\"123739\",\"subtype\":\"Figure\",\"type\":\"Plot\"},\"ticker\":{\"id\":\"123755\",\"type\":\"BasicTicker\"}},\"id\":\"123754\",\"type\":\"LinearAxis\"},{\"attributes\":{\"plot\":{\"id\":\"123739\",\"subtype\":\"Figure\",\"type\":\"Plot\"},\"ticker\":{\"id\":\"123750\",\"type\":\"BasicTicker\"}},\"id\":\"123753\",\"type\":\"Grid\"},{\"attributes\":{\"items\":[{\"id\":\"123786\",\"type\":\"LegendItem\"},{\"id\":\"123800\",\"type\":\"LegendItem\"},{\"id\":\"123816\",\"type\":\"LegendItem\"}],\"plot\":{\"id\":\"123739\",\"subtype\":\"Figure\",\"type\":\"Plot\"}},\"id\":\"123785\",\"type\":\"Legend\"}],\"root_ids\":[\"123739\"]},\"title\":\"Bokeh Application\",\"version\":\"1.0.1\"}};\n",
       "  var render_items = [{\"docid\":\"ba8eef9f-383c-4fef-9d0f-3087cd1f9366\",\"notebook_comms_target\":\"124091\",\"roots\":{\"123739\":\"dc0696b6-3dab-45f8-bddf-83b1e7abc834\"}}];\n",
       "  root.Bokeh.embed.embed_items_notebook(docs_json, render_items);\n",
       "\n",
       "  }\n",
       "  if (root.Bokeh !== undefined) {\n",
       "    embed_document(root);\n",
       "  } else {\n",
       "    var attempts = 0;\n",
       "    var timer = setInterval(function(root) {\n",
       "      if (root.Bokeh !== undefined) {\n",
       "        embed_document(root);\n",
       "        clearInterval(timer);\n",
       "      }\n",
       "      attempts++;\n",
       "      if (attempts > 100) {\n",
       "        console.log(\"Bokeh: ERROR: Unable to run BokehJS code because BokehJS library is missing\");\n",
       "        clearInterval(timer);\n",
       "      }\n",
       "    }, 10, root)\n",
       "  }\n",
       "})(window);"
      ],
      "application/vnd.bokehjs_exec.v0+json": ""
     },
     "metadata": {
      "application/vnd.bokehjs_exec.v0+json": {
       "id": "123739"
      }
     },
     "output_type": "display_data"
    },
    {
     "data": {
      "text/html": [
       "<p><code>&lt;Bokeh Notebook handle for <strong>In[126]</strong>&gt;</code></p>"
      ],
      "text/plain": [
       "<bokeh.io.notebook.CommsHandle at 0x7fe0933b3f60>"
      ]
     },
     "execution_count": 126,
     "metadata": {},
     "output_type": "execute_result"
    }
   ],
   "source": [
    "show(data_plt, notebook_handle=True)"
   ]
  }
 ],
 "metadata": {
  "kernelspec": {
   "display_name": "Python 3",
   "language": "python",
   "name": "python3"
  },
  "language_info": {
   "codemirror_mode": {
    "name": "ipython",
    "version": 3
   },
   "file_extension": ".py",
   "mimetype": "text/x-python",
   "name": "python",
   "nbconvert_exporter": "python",
   "pygments_lexer": "ipython3",
   "version": "3.7.0"
  }
 },
 "nbformat": 4,
 "nbformat_minor": 2
}
