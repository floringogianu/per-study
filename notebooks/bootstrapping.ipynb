{
 "cells": [
  {
   "cell_type": "markdown",
   "metadata": {},
   "source": [
    "# Bootstrapped regression\n",
    "\n",
    "Reproduces the bootstrapped regression experiments using neural networks from [**Bootstrapped DQN**](https://papers.nips.cc/paper/6501-deep-exploration-via-bootstrapped-dqn.pdf)."
   ]
  },
  {
   "cell_type": "code",
   "execution_count": 1,
   "metadata": {},
   "outputs": [
    {
     "data": {
      "text/html": [
       "\n",
       "    <div class=\"bk-root\">\n",
       "        <a href=\"https://bokeh.pydata.org\" target=\"_blank\" class=\"bk-logo bk-logo-small bk-logo-notebook\"></a>\n",
       "        <span id=\"1001\">Loading BokehJS ...</span>\n",
       "    </div>"
      ]
     },
     "metadata": {},
     "output_type": "display_data"
    },
    {
     "data": {
      "application/javascript": [
       "\n",
       "(function(root) {\n",
       "  function now() {\n",
       "    return new Date();\n",
       "  }\n",
       "\n",
       "  var force = true;\n",
       "\n",
       "  if (typeof (root._bokeh_onload_callbacks) === \"undefined\" || force === true) {\n",
       "    root._bokeh_onload_callbacks = [];\n",
       "    root._bokeh_is_loading = undefined;\n",
       "  }\n",
       "\n",
       "  var JS_MIME_TYPE = 'application/javascript';\n",
       "  var HTML_MIME_TYPE = 'text/html';\n",
       "  var EXEC_MIME_TYPE = 'application/vnd.bokehjs_exec.v0+json';\n",
       "  var CLASS_NAME = 'output_bokeh rendered_html';\n",
       "\n",
       "  /**\n",
       "   * Render data to the DOM node\n",
       "   */\n",
       "  function render(props, node) {\n",
       "    var script = document.createElement(\"script\");\n",
       "    node.appendChild(script);\n",
       "  }\n",
       "\n",
       "  /**\n",
       "   * Handle when an output is cleared or removed\n",
       "   */\n",
       "  function handleClearOutput(event, handle) {\n",
       "    var cell = handle.cell;\n",
       "\n",
       "    var id = cell.output_area._bokeh_element_id;\n",
       "    var server_id = cell.output_area._bokeh_server_id;\n",
       "    // Clean up Bokeh references\n",
       "    if (id != null && id in Bokeh.index) {\n",
       "      Bokeh.index[id].model.document.clear();\n",
       "      delete Bokeh.index[id];\n",
       "    }\n",
       "\n",
       "    if (server_id !== undefined) {\n",
       "      // Clean up Bokeh references\n",
       "      var cmd = \"from bokeh.io.state import curstate; print(curstate().uuid_to_server['\" + server_id + \"'].get_sessions()[0].document.roots[0]._id)\";\n",
       "      cell.notebook.kernel.execute(cmd, {\n",
       "        iopub: {\n",
       "          output: function(msg) {\n",
       "            var id = msg.content.text.trim();\n",
       "            if (id in Bokeh.index) {\n",
       "              Bokeh.index[id].model.document.clear();\n",
       "              delete Bokeh.index[id];\n",
       "            }\n",
       "          }\n",
       "        }\n",
       "      });\n",
       "      // Destroy server and session\n",
       "      var cmd = \"import bokeh.io.notebook as ion; ion.destroy_server('\" + server_id + \"')\";\n",
       "      cell.notebook.kernel.execute(cmd);\n",
       "    }\n",
       "  }\n",
       "\n",
       "  /**\n",
       "   * Handle when a new output is added\n",
       "   */\n",
       "  function handleAddOutput(event, handle) {\n",
       "    var output_area = handle.output_area;\n",
       "    var output = handle.output;\n",
       "\n",
       "    // limit handleAddOutput to display_data with EXEC_MIME_TYPE content only\n",
       "    if ((output.output_type != \"display_data\") || (!output.data.hasOwnProperty(EXEC_MIME_TYPE))) {\n",
       "      return\n",
       "    }\n",
       "\n",
       "    var toinsert = output_area.element.find(\".\" + CLASS_NAME.split(' ')[0]);\n",
       "\n",
       "    if (output.metadata[EXEC_MIME_TYPE][\"id\"] !== undefined) {\n",
       "      toinsert[toinsert.length - 1].firstChild.textContent = output.data[JS_MIME_TYPE];\n",
       "      // store reference to embed id on output_area\n",
       "      output_area._bokeh_element_id = output.metadata[EXEC_MIME_TYPE][\"id\"];\n",
       "    }\n",
       "    if (output.metadata[EXEC_MIME_TYPE][\"server_id\"] !== undefined) {\n",
       "      var bk_div = document.createElement(\"div\");\n",
       "      bk_div.innerHTML = output.data[HTML_MIME_TYPE];\n",
       "      var script_attrs = bk_div.children[0].attributes;\n",
       "      for (var i = 0; i < script_attrs.length; i++) {\n",
       "        toinsert[toinsert.length - 1].firstChild.setAttribute(script_attrs[i].name, script_attrs[i].value);\n",
       "      }\n",
       "      // store reference to server id on output_area\n",
       "      output_area._bokeh_server_id = output.metadata[EXEC_MIME_TYPE][\"server_id\"];\n",
       "    }\n",
       "  }\n",
       "\n",
       "  function register_renderer(events, OutputArea) {\n",
       "\n",
       "    function append_mime(data, metadata, element) {\n",
       "      // create a DOM node to render to\n",
       "      var toinsert = this.create_output_subarea(\n",
       "        metadata,\n",
       "        CLASS_NAME,\n",
       "        EXEC_MIME_TYPE\n",
       "      );\n",
       "      this.keyboard_manager.register_events(toinsert);\n",
       "      // Render to node\n",
       "      var props = {data: data, metadata: metadata[EXEC_MIME_TYPE]};\n",
       "      render(props, toinsert[toinsert.length - 1]);\n",
       "      element.append(toinsert);\n",
       "      return toinsert\n",
       "    }\n",
       "\n",
       "    /* Handle when an output is cleared or removed */\n",
       "    events.on('clear_output.CodeCell', handleClearOutput);\n",
       "    events.on('delete.Cell', handleClearOutput);\n",
       "\n",
       "    /* Handle when a new output is added */\n",
       "    events.on('output_added.OutputArea', handleAddOutput);\n",
       "\n",
       "    /**\n",
       "     * Register the mime type and append_mime function with output_area\n",
       "     */\n",
       "    OutputArea.prototype.register_mime_type(EXEC_MIME_TYPE, append_mime, {\n",
       "      /* Is output safe? */\n",
       "      safe: true,\n",
       "      /* Index of renderer in `output_area.display_order` */\n",
       "      index: 0\n",
       "    });\n",
       "  }\n",
       "\n",
       "  // register the mime type if in Jupyter Notebook environment and previously unregistered\n",
       "  if (root.Jupyter !== undefined) {\n",
       "    var events = require('base/js/events');\n",
       "    var OutputArea = require('notebook/js/outputarea').OutputArea;\n",
       "\n",
       "    if (OutputArea.prototype.mime_types().indexOf(EXEC_MIME_TYPE) == -1) {\n",
       "      register_renderer(events, OutputArea);\n",
       "    }\n",
       "  }\n",
       "\n",
       "  \n",
       "  if (typeof (root._bokeh_timeout) === \"undefined\" || force === true) {\n",
       "    root._bokeh_timeout = Date.now() + 5000;\n",
       "    root._bokeh_failed_load = false;\n",
       "  }\n",
       "\n",
       "  var NB_LOAD_WARNING = {'data': {'text/html':\n",
       "     \"<div style='background-color: #fdd'>\\n\"+\n",
       "     \"<p>\\n\"+\n",
       "     \"BokehJS does not appear to have successfully loaded. If loading BokehJS from CDN, this \\n\"+\n",
       "     \"may be due to a slow or bad network connection. Possible fixes:\\n\"+\n",
       "     \"</p>\\n\"+\n",
       "     \"<ul>\\n\"+\n",
       "     \"<li>re-rerun `output_notebook()` to attempt to load from CDN again, or</li>\\n\"+\n",
       "     \"<li>use INLINE resources instead, as so:</li>\\n\"+\n",
       "     \"</ul>\\n\"+\n",
       "     \"<code>\\n\"+\n",
       "     \"from bokeh.resources import INLINE\\n\"+\n",
       "     \"output_notebook(resources=INLINE)\\n\"+\n",
       "     \"</code>\\n\"+\n",
       "     \"</div>\"}};\n",
       "\n",
       "  function display_loaded() {\n",
       "    var el = document.getElementById(\"1001\");\n",
       "    if (el != null) {\n",
       "      el.textContent = \"BokehJS is loading...\";\n",
       "    }\n",
       "    if (root.Bokeh !== undefined) {\n",
       "      if (el != null) {\n",
       "        el.textContent = \"BokehJS \" + root.Bokeh.version + \" successfully loaded.\";\n",
       "      }\n",
       "    } else if (Date.now() < root._bokeh_timeout) {\n",
       "      setTimeout(display_loaded, 100)\n",
       "    }\n",
       "  }\n",
       "\n",
       "\n",
       "  function run_callbacks() {\n",
       "    try {\n",
       "      root._bokeh_onload_callbacks.forEach(function(callback) { callback() });\n",
       "    }\n",
       "    finally {\n",
       "      delete root._bokeh_onload_callbacks\n",
       "    }\n",
       "    console.info(\"Bokeh: all callbacks have finished\");\n",
       "  }\n",
       "\n",
       "  function load_libs(js_urls, callback) {\n",
       "    root._bokeh_onload_callbacks.push(callback);\n",
       "    if (root._bokeh_is_loading > 0) {\n",
       "      console.log(\"Bokeh: BokehJS is being loaded, scheduling callback at\", now());\n",
       "      return null;\n",
       "    }\n",
       "    if (js_urls == null || js_urls.length === 0) {\n",
       "      run_callbacks();\n",
       "      return null;\n",
       "    }\n",
       "    console.log(\"Bokeh: BokehJS not loaded, scheduling load and callback at\", now());\n",
       "    root._bokeh_is_loading = js_urls.length;\n",
       "    for (var i = 0; i < js_urls.length; i++) {\n",
       "      var url = js_urls[i];\n",
       "      var s = document.createElement('script');\n",
       "      s.src = url;\n",
       "      s.async = false;\n",
       "      s.onreadystatechange = s.onload = function() {\n",
       "        root._bokeh_is_loading--;\n",
       "        if (root._bokeh_is_loading === 0) {\n",
       "          console.log(\"Bokeh: all BokehJS libraries loaded\");\n",
       "          run_callbacks()\n",
       "        }\n",
       "      };\n",
       "      s.onerror = function() {\n",
       "        console.warn(\"failed to load library \" + url);\n",
       "      };\n",
       "      console.log(\"Bokeh: injecting script tag for BokehJS library: \", url);\n",
       "      document.getElementsByTagName(\"head\")[0].appendChild(s);\n",
       "    }\n",
       "  };var element = document.getElementById(\"1001\");\n",
       "  if (element == null) {\n",
       "    console.log(\"Bokeh: ERROR: autoload.js configured with elementid '1001' but no matching script tag was found. \")\n",
       "    return false;\n",
       "  }\n",
       "\n",
       "  var js_urls = [\"https://cdn.pydata.org/bokeh/release/bokeh-1.0.1.min.js\", \"https://cdn.pydata.org/bokeh/release/bokeh-widgets-1.0.1.min.js\", \"https://cdn.pydata.org/bokeh/release/bokeh-tables-1.0.1.min.js\", \"https://cdn.pydata.org/bokeh/release/bokeh-gl-1.0.1.min.js\"];\n",
       "\n",
       "  var inline_js = [\n",
       "    function(Bokeh) {\n",
       "      Bokeh.set_log_level(\"info\");\n",
       "    },\n",
       "    \n",
       "    function(Bokeh) {\n",
       "      \n",
       "    },\n",
       "    function(Bokeh) {\n",
       "      console.log(\"Bokeh: injecting CSS: https://cdn.pydata.org/bokeh/release/bokeh-1.0.1.min.css\");\n",
       "      Bokeh.embed.inject_css(\"https://cdn.pydata.org/bokeh/release/bokeh-1.0.1.min.css\");\n",
       "      console.log(\"Bokeh: injecting CSS: https://cdn.pydata.org/bokeh/release/bokeh-widgets-1.0.1.min.css\");\n",
       "      Bokeh.embed.inject_css(\"https://cdn.pydata.org/bokeh/release/bokeh-widgets-1.0.1.min.css\");\n",
       "      console.log(\"Bokeh: injecting CSS: https://cdn.pydata.org/bokeh/release/bokeh-tables-1.0.1.min.css\");\n",
       "      Bokeh.embed.inject_css(\"https://cdn.pydata.org/bokeh/release/bokeh-tables-1.0.1.min.css\");\n",
       "    }\n",
       "  ];\n",
       "\n",
       "  function run_inline_js() {\n",
       "    \n",
       "    if ((root.Bokeh !== undefined) || (force === true)) {\n",
       "      for (var i = 0; i < inline_js.length; i++) {\n",
       "        inline_js[i].call(root, root.Bokeh);\n",
       "      }if (force === true) {\n",
       "        display_loaded();\n",
       "      }} else if (Date.now() < root._bokeh_timeout) {\n",
       "      setTimeout(run_inline_js, 100);\n",
       "    } else if (!root._bokeh_failed_load) {\n",
       "      console.log(\"Bokeh: BokehJS failed to load within specified timeout.\");\n",
       "      root._bokeh_failed_load = true;\n",
       "    } else if (force !== true) {\n",
       "      var cell = $(document.getElementById(\"1001\")).parents('.cell').data().cell;\n",
       "      cell.output_area.append_execute_result(NB_LOAD_WARNING)\n",
       "    }\n",
       "\n",
       "  }\n",
       "\n",
       "  if (root._bokeh_is_loading === 0) {\n",
       "    console.log(\"Bokeh: BokehJS loaded, going straight to plotting\");\n",
       "    run_inline_js();\n",
       "  } else {\n",
       "    load_libs(js_urls, function() {\n",
       "      console.log(\"Bokeh: BokehJS plotting callback run at\", now());\n",
       "      run_inline_js();\n",
       "    });\n",
       "  }\n",
       "}(window));"
      ],
      "application/vnd.bokehjs_load.v0+json": "\n(function(root) {\n  function now() {\n    return new Date();\n  }\n\n  var force = true;\n\n  if (typeof (root._bokeh_onload_callbacks) === \"undefined\" || force === true) {\n    root._bokeh_onload_callbacks = [];\n    root._bokeh_is_loading = undefined;\n  }\n\n  \n\n  \n  if (typeof (root._bokeh_timeout) === \"undefined\" || force === true) {\n    root._bokeh_timeout = Date.now() + 5000;\n    root._bokeh_failed_load = false;\n  }\n\n  var NB_LOAD_WARNING = {'data': {'text/html':\n     \"<div style='background-color: #fdd'>\\n\"+\n     \"<p>\\n\"+\n     \"BokehJS does not appear to have successfully loaded. If loading BokehJS from CDN, this \\n\"+\n     \"may be due to a slow or bad network connection. Possible fixes:\\n\"+\n     \"</p>\\n\"+\n     \"<ul>\\n\"+\n     \"<li>re-rerun `output_notebook()` to attempt to load from CDN again, or</li>\\n\"+\n     \"<li>use INLINE resources instead, as so:</li>\\n\"+\n     \"</ul>\\n\"+\n     \"<code>\\n\"+\n     \"from bokeh.resources import INLINE\\n\"+\n     \"output_notebook(resources=INLINE)\\n\"+\n     \"</code>\\n\"+\n     \"</div>\"}};\n\n  function display_loaded() {\n    var el = document.getElementById(\"1001\");\n    if (el != null) {\n      el.textContent = \"BokehJS is loading...\";\n    }\n    if (root.Bokeh !== undefined) {\n      if (el != null) {\n        el.textContent = \"BokehJS \" + root.Bokeh.version + \" successfully loaded.\";\n      }\n    } else if (Date.now() < root._bokeh_timeout) {\n      setTimeout(display_loaded, 100)\n    }\n  }\n\n\n  function run_callbacks() {\n    try {\n      root._bokeh_onload_callbacks.forEach(function(callback) { callback() });\n    }\n    finally {\n      delete root._bokeh_onload_callbacks\n    }\n    console.info(\"Bokeh: all callbacks have finished\");\n  }\n\n  function load_libs(js_urls, callback) {\n    root._bokeh_onload_callbacks.push(callback);\n    if (root._bokeh_is_loading > 0) {\n      console.log(\"Bokeh: BokehJS is being loaded, scheduling callback at\", now());\n      return null;\n    }\n    if (js_urls == null || js_urls.length === 0) {\n      run_callbacks();\n      return null;\n    }\n    console.log(\"Bokeh: BokehJS not loaded, scheduling load and callback at\", now());\n    root._bokeh_is_loading = js_urls.length;\n    for (var i = 0; i < js_urls.length; i++) {\n      var url = js_urls[i];\n      var s = document.createElement('script');\n      s.src = url;\n      s.async = false;\n      s.onreadystatechange = s.onload = function() {\n        root._bokeh_is_loading--;\n        if (root._bokeh_is_loading === 0) {\n          console.log(\"Bokeh: all BokehJS libraries loaded\");\n          run_callbacks()\n        }\n      };\n      s.onerror = function() {\n        console.warn(\"failed to load library \" + url);\n      };\n      console.log(\"Bokeh: injecting script tag for BokehJS library: \", url);\n      document.getElementsByTagName(\"head\")[0].appendChild(s);\n    }\n  };var element = document.getElementById(\"1001\");\n  if (element == null) {\n    console.log(\"Bokeh: ERROR: autoload.js configured with elementid '1001' but no matching script tag was found. \")\n    return false;\n  }\n\n  var js_urls = [\"https://cdn.pydata.org/bokeh/release/bokeh-1.0.1.min.js\", \"https://cdn.pydata.org/bokeh/release/bokeh-widgets-1.0.1.min.js\", \"https://cdn.pydata.org/bokeh/release/bokeh-tables-1.0.1.min.js\", \"https://cdn.pydata.org/bokeh/release/bokeh-gl-1.0.1.min.js\"];\n\n  var inline_js = [\n    function(Bokeh) {\n      Bokeh.set_log_level(\"info\");\n    },\n    \n    function(Bokeh) {\n      \n    },\n    function(Bokeh) {\n      console.log(\"Bokeh: injecting CSS: https://cdn.pydata.org/bokeh/release/bokeh-1.0.1.min.css\");\n      Bokeh.embed.inject_css(\"https://cdn.pydata.org/bokeh/release/bokeh-1.0.1.min.css\");\n      console.log(\"Bokeh: injecting CSS: https://cdn.pydata.org/bokeh/release/bokeh-widgets-1.0.1.min.css\");\n      Bokeh.embed.inject_css(\"https://cdn.pydata.org/bokeh/release/bokeh-widgets-1.0.1.min.css\");\n      console.log(\"Bokeh: injecting CSS: https://cdn.pydata.org/bokeh/release/bokeh-tables-1.0.1.min.css\");\n      Bokeh.embed.inject_css(\"https://cdn.pydata.org/bokeh/release/bokeh-tables-1.0.1.min.css\");\n    }\n  ];\n\n  function run_inline_js() {\n    \n    if ((root.Bokeh !== undefined) || (force === true)) {\n      for (var i = 0; i < inline_js.length; i++) {\n        inline_js[i].call(root, root.Bokeh);\n      }if (force === true) {\n        display_loaded();\n      }} else if (Date.now() < root._bokeh_timeout) {\n      setTimeout(run_inline_js, 100);\n    } else if (!root._bokeh_failed_load) {\n      console.log(\"Bokeh: BokehJS failed to load within specified timeout.\");\n      root._bokeh_failed_load = true;\n    } else if (force !== true) {\n      var cell = $(document.getElementById(\"1001\")).parents('.cell').data().cell;\n      cell.output_area.append_execute_result(NB_LOAD_WARNING)\n    }\n\n  }\n\n  if (root._bokeh_is_loading === 0) {\n    console.log(\"Bokeh: BokehJS loaded, going straight to plotting\");\n    run_inline_js();\n  } else {\n    load_libs(js_urls, function() {\n      console.log(\"Bokeh: BokehJS plotting callback run at\", now());\n      run_inline_js();\n    });\n  }\n}(window));"
     },
     "metadata": {},
     "output_type": "display_data"
    }
   ],
   "source": [
    "import numpy as np\n",
    "import torch\n",
    "from torch.distributions import Uniform, Normal\n",
    "import pandas as pd\n",
    "\n",
    "import altair as alt\n",
    "alt.renderers.enable('notebook')\n",
    "\n",
    "import time\n",
    "from bokeh.io import push_notebook, show, output_notebook\n",
    "from bokeh.plotting import figure\n",
    "from bokeh.models import Band, ColumnDataSource\n",
    "output_notebook()"
   ]
  },
  {
   "cell_type": "code",
   "execution_count": 2,
   "metadata": {},
   "outputs": [],
   "source": [
    "def f(x, α=4, β=13, μ=0, σ=0.03, noisy=True):\n",
    "    w = 0\n",
    "    if noisy:\n",
    "        w = Normal(μ, σ).sample((x.shape[0],))\n",
    "    return x + torch.sin(α * (x + w)) + torch.sin(β * (x + w)) + w"
   ]
  },
  {
   "cell_type": "code",
   "execution_count": 3,
   "metadata": {},
   "outputs": [],
   "source": [
    "def generate_dataset():\n",
    "    columns = ['x', 'y', 'series']\n",
    "    data = pd.DataFrame(columns=columns)\n",
    "    \n",
    "    # the function that generates the data\n",
    "    x = torch.linspace(-1, 2, 100)\n",
    "    fx = f(x, noisy=False)\n",
    "    series_name = ['f(x)' for _ in range(100)]\n",
    "    \n",
    "    true_data = pd.DataFrame(list(zip(x.numpy(), fx.numpy(), series_name)), columns=columns)\n",
    "    data = data.append(true_data, ignore_index=False)\n",
    "\n",
    "    # the training dataset\n",
    "    x = torch.cat((Uniform(0, 0.6).sample((24,)), Uniform(0.8, 1).sample((11,))))\n",
    "    t = f(x, noisy=True)\n",
    "    series_name = ['obs' for _ in range(x.shape[0])]\n",
    "    df = pd.DataFrame(list(zip(x.numpy(), t.numpy(), series_name)), columns=columns)\n",
    "    data = data.append(df, ignore_index=True)\n",
    "    \n",
    "    # the test dataset\n",
    "    x = torch.cat((Uniform(0, 0.6).sample((24,)), Uniform(0.9, 1.1).sample((11,))))\n",
    "    t = f(x, noisy=True)\n",
    "    series_name = ['test' for _ in range(x.shape[0])]\n",
    "    df = pd.DataFrame(list(zip(x.numpy(), t.numpy(), series_name)), columns=columns)\n",
    "    data = data.append(df, ignore_index=True)\n",
    "    return data"
   ]
  },
  {
   "cell_type": "code",
   "execution_count": 4,
   "metadata": {},
   "outputs": [],
   "source": [
    "data = generate_dataset()"
   ]
  },
  {
   "cell_type": "code",
   "execution_count": 5,
   "metadata": {},
   "outputs": [],
   "source": [
    "true_data = data.loc[data['series'] == 'f(x)']\n",
    "obs_data = data.loc[data['series'] == 'obs']\n",
    "tst_data = data.loc[data['series'] == 'test']\n",
    "\n",
    "\n",
    "data_plt = figure(title=\"Data\",\n",
    "                  plot_height=400,\n",
    "                  plot_width=900,\n",
    "                  background_fill_color='#ffffff')\n",
    "\n",
    "fx = data_plt.line(x='x', y='y', legend='series', source=true_data,\n",
    "                   color=\"mediumspringgreen\", line_width=3, alpha=0.8)\n",
    "tst = data_plt.scatter(x='x', y='y', legend='series', source=tst_data,\n",
    "                       size=7, fill_color=\"indianred\", alpha=0.8, line_color='indianred')\n",
    "obs = data_plt.scatter(x='x', y='y', legend='series', source=obs_data,\n",
    "                       size=10, fill_color=\"slateblue\", alpha=0.8, line_color='slateblue')\n",
    "data_plt.legend.location = \"top_left\""
   ]
  },
  {
   "cell_type": "code",
   "execution_count": 6,
   "metadata": {},
   "outputs": [
    {
     "data": {
      "text/html": [
       "\n",
       "\n",
       "\n",
       "\n",
       "\n",
       "\n",
       "  <div class=\"bk-root\" id=\"9231b818-b819-455f-884c-8505591dc975\"></div>\n"
      ]
     },
     "metadata": {},
     "output_type": "display_data"
    },
    {
     "data": {
      "application/javascript": [
       "(function(root) {\n",
       "  function embed_document(root) {\n",
       "    \n",
       "  var docs_json = {\"1a9937f7-ed54-4bc1-b9f2-313fe909d084\":{\"roots\":{\"references\":[{\"attributes\":{\"below\":[{\"id\":\"1013\",\"type\":\"LinearAxis\"}],\"left\":[{\"id\":\"1018\",\"type\":\"LinearAxis\"}],\"plot_height\":400,\"plot_width\":900,\"renderers\":[{\"id\":\"1013\",\"type\":\"LinearAxis\"},{\"id\":\"1017\",\"type\":\"Grid\"},{\"id\":\"1018\",\"type\":\"LinearAxis\"},{\"id\":\"1022\",\"type\":\"Grid\"},{\"id\":\"1031\",\"type\":\"BoxAnnotation\"},{\"id\":\"1050\",\"type\":\"Legend\"},{\"id\":\"1042\",\"type\":\"GlyphRenderer\"},{\"id\":\"1056\",\"type\":\"GlyphRenderer\"},{\"id\":\"1071\",\"type\":\"GlyphRenderer\"}],\"title\":{\"id\":\"1002\",\"type\":\"Title\"},\"toolbar\":{\"id\":\"1029\",\"type\":\"Toolbar\"},\"x_range\":{\"id\":\"1005\",\"type\":\"DataRange1d\"},\"x_scale\":{\"id\":\"1009\",\"type\":\"LinearScale\"},\"y_range\":{\"id\":\"1007\",\"type\":\"DataRange1d\"},\"y_scale\":{\"id\":\"1011\",\"type\":\"LinearScale\"}},\"id\":\"1003\",\"subtype\":\"Figure\",\"type\":\"Plot\"},{\"attributes\":{\"overlay\":{\"id\":\"1031\",\"type\":\"BoxAnnotation\"}},\"id\":\"1025\",\"type\":\"BoxZoomTool\"},{\"attributes\":{},\"id\":\"1082\",\"type\":\"Selection\"},{\"attributes\":{},\"id\":\"1081\",\"type\":\"UnionRenderers\"},{\"attributes\":{},\"id\":\"1026\",\"type\":\"SaveTool\"},{\"attributes\":{\"callback\":null,\"data\":{\"index\":[0,1,2,3,4,5,6,7,8,9,10,11,12,13,14,15,16,17,18,19,20,21,22,23,24,25,26,27,28,29,30,31,32,33,34,35,36,37,38,39,40,41,42,43,44,45,46,47,48,49,50,51,52,53,54,55,56,57,58,59,60,61,62,63,64,65,66,67,68,69,70,71,72,73,74,75,76,77,78,79,80,81,82,83,84,85,86,87,88,89,90,91,92,93,94,95,96,97,98,99],\"series\":[\"f(x)\",\"f(x)\",\"f(x)\",\"f(x)\",\"f(x)\",\"f(x)\",\"f(x)\",\"f(x)\",\"f(x)\",\"f(x)\",\"f(x)\",\"f(x)\",\"f(x)\",\"f(x)\",\"f(x)\",\"f(x)\",\"f(x)\",\"f(x)\",\"f(x)\",\"f(x)\",\"f(x)\",\"f(x)\",\"f(x)\",\"f(x)\",\"f(x)\",\"f(x)\",\"f(x)\",\"f(x)\",\"f(x)\",\"f(x)\",\"f(x)\",\"f(x)\",\"f(x)\",\"f(x)\",\"f(x)\",\"f(x)\",\"f(x)\",\"f(x)\",\"f(x)\",\"f(x)\",\"f(x)\",\"f(x)\",\"f(x)\",\"f(x)\",\"f(x)\",\"f(x)\",\"f(x)\",\"f(x)\",\"f(x)\",\"f(x)\",\"f(x)\",\"f(x)\",\"f(x)\",\"f(x)\",\"f(x)\",\"f(x)\",\"f(x)\",\"f(x)\",\"f(x)\",\"f(x)\",\"f(x)\",\"f(x)\",\"f(x)\",\"f(x)\",\"f(x)\",\"f(x)\",\"f(x)\",\"f(x)\",\"f(x)\",\"f(x)\",\"f(x)\",\"f(x)\",\"f(x)\",\"f(x)\",\"f(x)\",\"f(x)\",\"f(x)\",\"f(x)\",\"f(x)\",\"f(x)\",\"f(x)\",\"f(x)\",\"f(x)\",\"f(x)\",\"f(x)\",\"f(x)\",\"f(x)\",\"f(x)\",\"f(x)\",\"f(x)\",\"f(x)\",\"f(x)\",\"f(x)\",\"f(x)\",\"f(x)\",\"f(x)\",\"f(x)\",\"f(x)\",\"f(x)\",\"f(x)\"],\"x\":{\"__ndarray__\":\"AAAAAAAA8L8AAAAAwgfvvwAAAOCDD+6/AAAAwEUX7b8AAADABx/svwAAAMDJJuu/AAAAoIsu6r8AAACATTbpvwAAAIAPPui/AAAAgNFF578AAABgk03mvwAAAEBVVeW/AAAAQBdd5L8AAABA2WTjvwAAACCbbOK/AAAAAF104b8AAAAAH3zgvwAAAADCB9+/AAAAwEUX3b8AAACAySbbvwAAAIBNNtm/AAAAgNFF178AAABAVVXVvwAAAADZZNO/AAAAAF100b8AAAAAwgfPvwAAAIDJJsu/AAAAANFFx78AAAAA2WTDvwAAAADCB7+/AAAAANFFt78AAAAAwAevvwAAAADAB5+/AAAAAAAAAAAAAAAAwAefPwAAAADEB68/AAAAANJFtz8AAAAAwge/PwAAAADaZMM/AAAAANJFxz8AAAAAyibLPwAAAADCB88/AAAAAF100T8AAACA2WTTPwAAAIBVVdU/AAAAgNFF1z8AAAAATjbZPwAAAADKJts/AAAAAEYX3T8AAAAAwgffPwAAAAAffOA/AAAAQF104T8AAABAm2ziPwAAAEDZZOM/AAAAgBdd5D8AAACAVVXlPwAAAICTTeY/AAAAgNFF5z8AAACADz7oPwAAAMBNNuk/AAAAwIsu6j8AAADAySbrPwAAAAAIH+w/AAAAAEYX7T8AAAAAhA/uPwAAAADCB+8/AAAAAAAA8D8AAAAAH3zwPwAAAAA++PA/AAAAQF108T8AAABAfPDxPwAAAECbbPI/AAAAQLro8j8AAABA2WTzPwAAAED44PM/AAAAQBdd9D8AAACANtn0PwAAAIBVVfU/AAAAgHTR9T8AAACAk032PwAAAICyyfY/AAAAgNFF9z8AAACA8MH3PwAAAIAPPvg/AAAAgC66+D8AAADATTb5PwAAAMBssvk/AAAAwIsu+j8AAADAqqr6PwAAAMDJJvs/AAAAwOii+z8AAADABx/8PwAAAAAnm/w/AAAAAEYX/T8AAAAAZZP9PwAAAACED/4/AAAAAKOL/j8AAAAAwgf/PwAAAADhg/8/AAAAAAAAAEA=\",\"dtype\":\"float64\",\"shape\":[100]},\"y\":{\"__ndarray__\":\"AAAAQEg65b8AAACAE5TVvwAAAAAsM46/AAAAwKJ+zz8AAABAjVLZPwAAAIBBo9k/AAAAABvXzz8AAAAAVMqovwAAACCSR92/AAAA4Iix7b8AAAAAeWT2vwAAAADe+/y/AAAAQC3kAMAAAADA6hoCwAAAAABDBALAAAAAwKayAMAAAADgXsv8vwAAAEAbAPe/AAAAQFHw8L8AAADgGhfnvwAAAEBRfN6/AAAAgAzZ1r8AAABAlxTYvwAAAOAXweC/AAAAQKSJ6L8AAACgW+rwvwAAAECNZPW/AAAAQJHG+L8AAACgPkj6vwAAAKB5Zfm/AAAAgDnz9b8AAAAA/ybwvwAAACAbH+G/AAAAAAAAAAAAAAAgGx/hPwAAAMAAJ/A/AAAAQDrz9T8AAACgeWX5PwAAAIA+SPo/AAAAgJDG+D8AAADAjGT1PwAAAKBb6vA/AAAAQKSJ6D8AAAAAFsHgPwAAAMCWFNg/AAAAgAzZ1j8AAABAVHzePwAAACAdF+c/AAAAQFLw8D8AAABAGwD3PwAAAOBey/w/AAAAQKeyAEAAAAAAQwQCQAAAAMDqGgJAAAAAoCzkAEAAAABA3Pv8PwAAAAB4ZPY/AAAA4Iix7T8AAAAgkkfdPwAAAAAyyqg/AAAAgBzXz78AAACAQaPZvwAAAICLUtm/AAAAQJl+z78AAAAAlDOOPwAAAIATlNU/AAAAQEg65T8AAADgN/btPwAAAGD7vPE/AAAAgNxm8j8AAADgYNbwPwAAAMC9kOo/AAAAwKyf4D8AAACAvvzFPwAAAEDlr8O/AAAAAJyQ2b8AAADgj5DgvwAAAEDan96/AAAAAOOQ0b8AAAAAtRO0PwAAAKDQXuE/AAAAIMgM8T8AAABgxF/5PwAAAIAQWgBAAAAAgLUfA0AAAAAAib8EQAAAAOCsJQVAAAAAQEBuBEAAAABAiOACQAAAAGCM4wBAAAAAwJrb/T8AAADAYeX6PwAAAEC9oPk/AAAAAPKB+j8AAACgpaL9PwAAAICyXgFAAAAAoN+bBEAAAAAgxRwIQAAAACDgZgtAAAAA4OwDDkA=\",\"dtype\":\"float64\",\"shape\":[100]}},\"selected\":{\"id\":\"1065\",\"type\":\"Selection\"},\"selection_policy\":{\"id\":\"1064\",\"type\":\"UnionRenderers\"}},\"id\":\"1038\",\"type\":\"ColumnDataSource\"},{\"attributes\":{\"label\":{\"field\":\"series\"},\"renderers\":[{\"id\":\"1071\",\"type\":\"GlyphRenderer\"}]},\"id\":\"1083\",\"type\":\"LegendItem\"},{\"attributes\":{\"plot\":null,\"text\":\"Data\"},\"id\":\"1002\",\"type\":\"Title\"},{\"attributes\":{\"fill_alpha\":{\"value\":0.1},\"fill_color\":{\"value\":\"#1f77b4\"},\"line_alpha\":{\"value\":0.1},\"line_color\":{\"value\":\"#1f77b4\"},\"size\":{\"units\":\"screen\",\"value\":7},\"x\":{\"field\":\"x\"},\"y\":{\"field\":\"y\"}},\"id\":\"1055\",\"type\":\"Scatter\"},{\"attributes\":{},\"id\":\"1027\",\"type\":\"ResetTool\"},{\"attributes\":{},\"id\":\"1028\",\"type\":\"HelpTool\"},{\"attributes\":{\"callback\":null},\"id\":\"1005\",\"type\":\"DataRange1d\"},{\"attributes\":{\"active_drag\":\"auto\",\"active_inspect\":\"auto\",\"active_multi\":null,\"active_scroll\":\"auto\",\"active_tap\":\"auto\",\"tools\":[{\"id\":\"1023\",\"type\":\"PanTool\"},{\"id\":\"1024\",\"type\":\"WheelZoomTool\"},{\"id\":\"1025\",\"type\":\"BoxZoomTool\"},{\"id\":\"1026\",\"type\":\"SaveTool\"},{\"id\":\"1027\",\"type\":\"ResetTool\"},{\"id\":\"1028\",\"type\":\"HelpTool\"}]},\"id\":\"1029\",\"type\":\"Toolbar\"},{\"attributes\":{\"callback\":null},\"id\":\"1007\",\"type\":\"DataRange1d\"},{\"attributes\":{\"line_alpha\":0.1,\"line_color\":\"#1f77b4\",\"line_width\":3,\"x\":{\"field\":\"x\"},\"y\":{\"field\":\"y\"}},\"id\":\"1041\",\"type\":\"Line\"},{\"attributes\":{\"fill_alpha\":{\"value\":0.8},\"fill_color\":{\"value\":\"indianred\"},\"line_alpha\":{\"value\":0.8},\"line_color\":{\"value\":\"indianred\"},\"size\":{\"units\":\"screen\",\"value\":7},\"x\":{\"field\":\"x\"},\"y\":{\"field\":\"y\"}},\"id\":\"1054\",\"type\":\"Scatter\"},{\"attributes\":{},\"id\":\"1009\",\"type\":\"LinearScale\"},{\"attributes\":{\"bottom_units\":\"screen\",\"fill_alpha\":{\"value\":0.5},\"fill_color\":{\"value\":\"lightgrey\"},\"left_units\":\"screen\",\"level\":\"overlay\",\"line_alpha\":{\"value\":1.0},\"line_color\":{\"value\":\"black\"},\"line_dash\":[4,4],\"line_width\":{\"value\":2},\"plot\":null,\"render_mode\":\"css\",\"right_units\":\"screen\",\"top_units\":\"screen\"},\"id\":\"1031\",\"type\":\"BoxAnnotation\"},{\"attributes\":{\"data_source\":{\"id\":\"1052\",\"type\":\"ColumnDataSource\"},\"glyph\":{\"id\":\"1054\",\"type\":\"Scatter\"},\"hover_glyph\":null,\"muted_glyph\":null,\"nonselection_glyph\":{\"id\":\"1055\",\"type\":\"Scatter\"},\"selection_glyph\":null,\"view\":{\"id\":\"1057\",\"type\":\"CDSView\"}},\"id\":\"1056\",\"type\":\"GlyphRenderer\"},{\"attributes\":{},\"id\":\"1011\",\"type\":\"LinearScale\"},{\"attributes\":{\"source\":{\"id\":\"1052\",\"type\":\"ColumnDataSource\"}},\"id\":\"1057\",\"type\":\"CDSView\"},{\"attributes\":{},\"id\":\"1094\",\"type\":\"UnionRenderers\"},{\"attributes\":{\"formatter\":{\"id\":\"1045\",\"type\":\"BasicTickFormatter\"},\"plot\":{\"id\":\"1003\",\"subtype\":\"Figure\",\"type\":\"Plot\"},\"ticker\":{\"id\":\"1014\",\"type\":\"BasicTicker\"}},\"id\":\"1013\",\"type\":\"LinearAxis\"},{\"attributes\":{\"fill_alpha\":{\"value\":0.8},\"fill_color\":{\"value\":\"slateblue\"},\"line_alpha\":{\"value\":0.8},\"line_color\":{\"value\":\"slateblue\"},\"size\":{\"units\":\"screen\",\"value\":10},\"x\":{\"field\":\"x\"},\"y\":{\"field\":\"y\"}},\"id\":\"1069\",\"type\":\"Scatter\"},{\"attributes\":{},\"id\":\"1014\",\"type\":\"BasicTicker\"},{\"attributes\":{},\"id\":\"1065\",\"type\":\"Selection\"},{\"attributes\":{},\"id\":\"1047\",\"type\":\"BasicTickFormatter\"},{\"attributes\":{\"label\":{\"field\":\"series\"},\"renderers\":[{\"id\":\"1056\",\"type\":\"GlyphRenderer\"}]},\"id\":\"1066\",\"type\":\"LegendItem\"},{\"attributes\":{\"plot\":{\"id\":\"1003\",\"subtype\":\"Figure\",\"type\":\"Plot\"},\"ticker\":{\"id\":\"1014\",\"type\":\"BasicTicker\"}},\"id\":\"1017\",\"type\":\"Grid\"},{\"attributes\":{\"formatter\":{\"id\":\"1047\",\"type\":\"BasicTickFormatter\"},\"plot\":{\"id\":\"1003\",\"subtype\":\"Figure\",\"type\":\"Plot\"},\"ticker\":{\"id\":\"1019\",\"type\":\"BasicTicker\"}},\"id\":\"1018\",\"type\":\"LinearAxis\"},{\"attributes\":{},\"id\":\"1019\",\"type\":\"BasicTicker\"},{\"attributes\":{\"line_alpha\":0.8,\"line_color\":\"mediumspringgreen\",\"line_width\":3,\"x\":{\"field\":\"x\"},\"y\":{\"field\":\"y\"}},\"id\":\"1040\",\"type\":\"Line\"},{\"attributes\":{\"dimension\":1,\"plot\":{\"id\":\"1003\",\"subtype\":\"Figure\",\"type\":\"Plot\"},\"ticker\":{\"id\":\"1019\",\"type\":\"BasicTicker\"}},\"id\":\"1022\",\"type\":\"Grid\"},{\"attributes\":{\"label\":{\"field\":\"series\"},\"renderers\":[{\"id\":\"1042\",\"type\":\"GlyphRenderer\"}]},\"id\":\"1051\",\"type\":\"LegendItem\"},{\"attributes\":{\"fill_alpha\":{\"value\":0.1},\"fill_color\":{\"value\":\"#1f77b4\"},\"line_alpha\":{\"value\":0.1},\"line_color\":{\"value\":\"#1f77b4\"},\"size\":{\"units\":\"screen\",\"value\":10},\"x\":{\"field\":\"x\"},\"y\":{\"field\":\"y\"}},\"id\":\"1070\",\"type\":\"Scatter\"},{\"attributes\":{\"items\":[{\"id\":\"1051\",\"type\":\"LegendItem\"},{\"id\":\"1066\",\"type\":\"LegendItem\"},{\"id\":\"1083\",\"type\":\"LegendItem\"}],\"location\":\"top_left\",\"plot\":{\"id\":\"1003\",\"subtype\":\"Figure\",\"type\":\"Plot\"}},\"id\":\"1050\",\"type\":\"Legend\"},{\"attributes\":{\"data_source\":{\"id\":\"1038\",\"type\":\"ColumnDataSource\"},\"glyph\":{\"id\":\"1040\",\"type\":\"Line\"},\"hover_glyph\":null,\"muted_glyph\":null,\"nonselection_glyph\":{\"id\":\"1041\",\"type\":\"Line\"},\"selection_glyph\":null,\"view\":{\"id\":\"1043\",\"type\":\"CDSView\"}},\"id\":\"1042\",\"type\":\"GlyphRenderer\"},{\"attributes\":{},\"id\":\"1095\",\"type\":\"Selection\"},{\"attributes\":{\"source\":{\"id\":\"1038\",\"type\":\"ColumnDataSource\"}},\"id\":\"1043\",\"type\":\"CDSView\"},{\"attributes\":{\"data_source\":{\"id\":\"1067\",\"type\":\"ColumnDataSource\"},\"glyph\":{\"id\":\"1069\",\"type\":\"Scatter\"},\"hover_glyph\":null,\"muted_glyph\":null,\"nonselection_glyph\":{\"id\":\"1070\",\"type\":\"Scatter\"},\"selection_glyph\":null,\"view\":{\"id\":\"1072\",\"type\":\"CDSView\"}},\"id\":\"1071\",\"type\":\"GlyphRenderer\"},{\"attributes\":{\"callback\":null,\"data\":{\"index\":[135,136,137,138,139,140,141,142,143,144,145,146,147,148,149,150,151,152,153,154,155,156,157,158,159,160,161,162,163,164,165,166,167,168,169],\"series\":[\"test\",\"test\",\"test\",\"test\",\"test\",\"test\",\"test\",\"test\",\"test\",\"test\",\"test\",\"test\",\"test\",\"test\",\"test\",\"test\",\"test\",\"test\",\"test\",\"test\",\"test\",\"test\",\"test\",\"test\",\"test\",\"test\",\"test\",\"test\",\"test\",\"test\",\"test\",\"test\",\"test\",\"test\",\"test\"],\"x\":{\"__ndarray__\":\"AAAAAPhP0T8AAABAnqfgPwAAAOARXt4/AAAAgIG1vD8AAABgvvbbPwAAAIB5Z9k/AAAAII413z8AAABgSzHbPwAAACBbYMo/AAAAINJl1z8AAABA/UXOPwAAAMBJXd8/AAAAIHSy2D8AAAAgiGXUPwAAAGDQuNQ/AAAA4GXs4T8AAABgFD7iPwAAAMC0QdE/AAAA4EjN2D8AAABAvwHMPwAAAIAzbMY/AAAAgP1kyD8AAACAnMTcPwAAAOC/Frk/AAAAACFW8T8AAABAUQrwPwAAAKD9k+0/AAAA4EdW7j8AAAAAwzTtPwAAACBFIe4/AAAAYFlm7T8AAACgLT/wPwAAAIBgX/A/AAAAICcY8T8AAAAA1BHvPw==\",\"dtype\":\"float64\",\"shape\":[35]},\"y\":{\"__ndarray__\":\"AAAAIImT5T8AAAAANkb6PwAAAABCr/E/AAAA4Akw+j8AAADASwLcPwAAAEDTT9Y/AAAAQPNK+D8AAADg8MroPwAAAKB4kvA/AAAAQGZk1z8AAAAgwbn0PwAAAMB5Kfc/AAAAYB804T8AAABA9kXWPwAAAOA5XeA/AAAAAEXl/D8AAACAIMEAQAAAAIDEwOY/AAAAwBVx1j8AAAAgF6f0PwAAAMBWjfY/AAAAQGJM+j8AAACAc1b3PwAAAKC3evk/AAAAwKEn8j8AAAAAtSnrPwAAAIA3+tK/AAAAYOJLpj8AAADgaTrAvwAAAEBNh9G/AAAAIE7N2b8AAADAix/jPwAAAEBxt+Y/AAAA4NSY7D8AAAAgw5PZPw==\",\"dtype\":\"float64\",\"shape\":[35]}},\"selected\":{\"id\":\"1082\",\"type\":\"Selection\"},\"selection_policy\":{\"id\":\"1081\",\"type\":\"UnionRenderers\"}},\"id\":\"1052\",\"type\":\"ColumnDataSource\"},{\"attributes\":{},\"id\":\"1045\",\"type\":\"BasicTickFormatter\"},{\"attributes\":{},\"id\":\"1023\",\"type\":\"PanTool\"},{\"attributes\":{\"source\":{\"id\":\"1067\",\"type\":\"ColumnDataSource\"}},\"id\":\"1072\",\"type\":\"CDSView\"},{\"attributes\":{},\"id\":\"1024\",\"type\":\"WheelZoomTool\"},{\"attributes\":{},\"id\":\"1064\",\"type\":\"UnionRenderers\"},{\"attributes\":{\"callback\":null,\"data\":{\"index\":[100,101,102,103,104,105,106,107,108,109,110,111,112,113,114,115,116,117,118,119,120,121,122,123,124,125,126,127,128,129,130,131,132,133,134],\"series\":[\"obs\",\"obs\",\"obs\",\"obs\",\"obs\",\"obs\",\"obs\",\"obs\",\"obs\",\"obs\",\"obs\",\"obs\",\"obs\",\"obs\",\"obs\",\"obs\",\"obs\",\"obs\",\"obs\",\"obs\",\"obs\",\"obs\",\"obs\",\"obs\",\"obs\",\"obs\",\"obs\",\"obs\",\"obs\",\"obs\",\"obs\",\"obs\",\"obs\",\"obs\",\"obs\"],\"x\":{\"__ndarray__\":\"AAAAIKw34T8AAACA45THPwAAACBF5ME/AAAAgGcuyz8AAACg/A62PwAAAEDP/tI/AAAAAB8P0D8AAADAa+3YPwAAAGCq2eI/AAAA4EB24D8AAADgOLrePwAAACBk09E/AAAAADzkoj8AAACg0cHiPwAAAICEkL0/AAAAgDkQtj8AAAAAXsvMPwAAAMALM8U/AAAAQANU4D8AAADgO4TePwAAAADgBM8/AAAAQOwP3T8AAACgZFLVPwAAAOA2xLg/AAAAoJgL7T8AAABAIlTtPwAAAEC0UO0/AAAAABAj7j8AAABgGXnvPwAAAOD/quo/AAAAgINx7z8AAABAUmLuPwAAAEDjr+4/AAAAYCN67T8AAABg4S7uPw==\",\"dtype\":\"float64\",\"shape\":[35]},\"y\":{\"__ndarray__\":\"AAAAwOJZ/z8AAABAZk/6PwAAAOAIO/o/AAAAwOr28z8AAABgdDnuPwAAAKBcpOE/AAAAAOba5z8AAABA6hrZPwAAAMBQ1AFAAAAAAOKj8T8AAABAvUT8PwAAAMA9cfE/AAAA4Jvy7T8AAADAfLoBQAAAAMDpB/o/AAAAAPqe9j8AAAAARffqPwAAAOD8rvk/AAAAwJbk+T8AAACgQQzrPwAAAMAmQu0/AAAAgLkV9T8AAACAv43iPwAAAADJFPo/AAAA4NkR1L8AAACg3CHZvwAAACAlwMO/AAAAQIGQtb8AAACglMrSPwAAAMAMudq/AAAAoAqo5j8AAADA7zGwvwAAAACFWMO/AAAAYEjqyj8AAACgagfavw==\",\"dtype\":\"float64\",\"shape\":[35]}},\"selected\":{\"id\":\"1095\",\"type\":\"Selection\"},\"selection_policy\":{\"id\":\"1094\",\"type\":\"UnionRenderers\"}},\"id\":\"1067\",\"type\":\"ColumnDataSource\"}],\"root_ids\":[\"1003\"]},\"title\":\"Bokeh Application\",\"version\":\"1.0.1\"}};\n",
       "  var render_items = [{\"docid\":\"1a9937f7-ed54-4bc1-b9f2-313fe909d084\",\"notebook_comms_target\":\"1096\",\"roots\":{\"1003\":\"9231b818-b819-455f-884c-8505591dc975\"}}];\n",
       "  root.Bokeh.embed.embed_items_notebook(docs_json, render_items);\n",
       "\n",
       "  }\n",
       "  if (root.Bokeh !== undefined) {\n",
       "    embed_document(root);\n",
       "  } else {\n",
       "    var attempts = 0;\n",
       "    var timer = setInterval(function(root) {\n",
       "      if (root.Bokeh !== undefined) {\n",
       "        embed_document(root);\n",
       "        clearInterval(timer);\n",
       "      }\n",
       "      attempts++;\n",
       "      if (attempts > 100) {\n",
       "        console.log(\"Bokeh: ERROR: Unable to run BokehJS code because BokehJS library is missing\");\n",
       "        clearInterval(timer);\n",
       "      }\n",
       "    }, 10, root)\n",
       "  }\n",
       "})(window);"
      ],
      "application/vnd.bokehjs_exec.v0+json": ""
     },
     "metadata": {
      "application/vnd.bokehjs_exec.v0+json": {
       "id": "1003"
      }
     },
     "output_type": "display_data"
    },
    {
     "data": {
      "text/html": [
       "<p><code>&lt;Bokeh Notebook handle for <strong>In[6]</strong>&gt;</code></p>"
      ],
      "text/plain": [
       "<bokeh.io.notebook.CommsHandle at 0x7fa7b93360f0>"
      ]
     },
     "execution_count": 6,
     "metadata": {},
     "output_type": "execute_result"
    }
   ],
   "source": [
    "show(data_plt, notebook_handle=True)"
   ]
  },
  {
   "cell_type": "markdown",
   "metadata": {},
   "source": [
    "## Create a custom dataset that bootstraps the data"
   ]
  },
  {
   "cell_type": "code",
   "execution_count": 7,
   "metadata": {},
   "outputs": [],
   "source": [
    "from torch.utils.data import DataLoader, Dataset"
   ]
  },
  {
   "cell_type": "code",
   "execution_count": 8,
   "metadata": {},
   "outputs": [],
   "source": [
    "class BootstrappedLoader(Dataset):\n",
    "    def __init__(self, features, targets, B=10):\n",
    "        # Generate B datasets by sampling with replacement\n",
    "        # from the original data\n",
    "        self.__data_sz = N = features.shape[0]\n",
    "        masks = [np.random.randint(N, size=(N,)) for _ in range(B)]\n",
    "        self.__boot_dsets = [(features[m], targets[m]) for m in masks]\n",
    "    \n",
    "    def __getitem__(self, idx):\n",
    "        # Return an item from each bootstrapped dataset\n",
    "        samples = [(boot_ds[0][idx], boot_ds[1][idx]) for boot_ds in self.__boot_dsets]\n",
    "        return samples\n",
    "    \n",
    "    def __len__(self):\n",
    "        return self.__data_sz"
   ]
  },
  {
   "cell_type": "code",
   "execution_count": 9,
   "metadata": {},
   "outputs": [],
   "source": [
    "def _collate(samples):\n",
    "    features_batches = [torch.tensor([[el[0]] for el in batch]) for batch in zip(*samples)]\n",
    "    target_batches = [torch.tensor([[el[1]] for el in batch]) for batch in zip(*samples)]\n",
    "    \n",
    "    return zip(features_batches, target_batches)"
   ]
  },
  {
   "cell_type": "markdown",
   "metadata": {},
   "source": [
    "## Create ensemble and train it"
   ]
  },
  {
   "cell_type": "code",
   "execution_count": 10,
   "metadata": {},
   "outputs": [],
   "source": [
    "from torch import nn\n",
    "from torch import optim\n",
    "import torch.nn.functional as F"
   ]
  },
  {
   "cell_type": "code",
   "execution_count": 11,
   "metadata": {},
   "outputs": [
    {
     "data": {
      "text/html": [
       "<div>\n",
       "<style scoped>\n",
       "    .dataframe tbody tr th:only-of-type {\n",
       "        vertical-align: middle;\n",
       "    }\n",
       "\n",
       "    .dataframe tbody tr th {\n",
       "        vertical-align: top;\n",
       "    }\n",
       "\n",
       "    .dataframe thead th {\n",
       "        text-align: right;\n",
       "    }\n",
       "</style>\n",
       "<table border=\"1\" class=\"dataframe\">\n",
       "  <thead>\n",
       "    <tr style=\"text-align: right;\">\n",
       "      <th></th>\n",
       "      <th>x</th>\n",
       "      <th>y</th>\n",
       "      <th>series</th>\n",
       "    </tr>\n",
       "  </thead>\n",
       "  <tbody>\n",
       "    <tr>\n",
       "      <th>128</th>\n",
       "      <td>0.983533</td>\n",
       "      <td>0.293615</td>\n",
       "      <td>obs</td>\n",
       "    </tr>\n",
       "    <tr>\n",
       "      <th>153</th>\n",
       "      <td>0.387530</td>\n",
       "      <td>0.350652</td>\n",
       "      <td>test</td>\n",
       "    </tr>\n",
       "    <tr>\n",
       "      <th>103</th>\n",
       "      <td>0.212354</td>\n",
       "      <td>1.247782</td>\n",
       "      <td>obs</td>\n",
       "    </tr>\n",
       "    <tr>\n",
       "      <th>100</th>\n",
       "      <td>0.538046</td>\n",
       "      <td>1.959445</td>\n",
       "      <td>obs</td>\n",
       "    </tr>\n",
       "    <tr>\n",
       "      <th>108</th>\n",
       "      <td>0.589070</td>\n",
       "      <td>2.228670</td>\n",
       "      <td>obs</td>\n",
       "    </tr>\n",
       "  </tbody>\n",
       "</table>\n",
       "</div>"
      ],
      "text/plain": [
       "            x         y series\n",
       "128  0.983533  0.293615    obs\n",
       "153  0.387530  0.350652   test\n",
       "103  0.212354  1.247782    obs\n",
       "100  0.538046  1.959445    obs\n",
       "108  0.589070  2.228670    obs"
      ]
     },
     "execution_count": 11,
     "metadata": {},
     "output_type": "execute_result"
    }
   ],
   "source": [
    "B=50  # no of bootsrapped samples (no of datasets and no of models)\n",
    "batch_sz = 10\n",
    "epochs = 6000\n",
    "\n",
    "train_data = data.loc[data['series'] == 'obs']\n",
    "test_data = data.loc[data['series'] == 'test']\n",
    "\n",
    "data.loc[data['series'].isin(['obs', 'test'])].sample(5)"
   ]
  },
  {
   "cell_type": "code",
   "execution_count": 12,
   "metadata": {},
   "outputs": [],
   "source": [
    "ensemble = [nn.Sequential(nn.Linear(1,20, bias=True), nn.ReLU(inplace=True), nn.Linear(20,1, bias=True))\n",
    "            for _ in range(B)]\n",
    "\n",
    "optims = [optim.SGD(model.parameters(), lr=0.1) for model in ensemble]\n",
    "\n",
    "boot_ds = BootstrappedLoader(features=train_data['x'].values, targets=train_data['y'].values, B=B)\n",
    "train_loader = DataLoader(boot_ds, batch_size=batch_sz, collate_fn=_collate)"
   ]
  },
  {
   "cell_type": "code",
   "execution_count": 13,
   "metadata": {},
   "outputs": [],
   "source": [
    "def train(train_loader, test_data, ensemble, optims, epochs=100, verbose=True, update_plot=False, plt_data=None):\n",
    "    # do some training\n",
    "    if update_plot:\n",
    "        x_axis, y_axis, std_axis, std_var_axis = plt_data\n",
    "    \n",
    "    \n",
    "    x_tst = torch.from_numpy(test_data['x'].values).unsqueeze(1).float()\n",
    "    t_tst = torch.from_numpy(test_data['y'].values).unsqueeze(1).float()\n",
    "\n",
    "    for epoch in range(epochs):\n",
    "        for bidx, boot_batches in enumerate(train_loader):\n",
    "            for idx, ((x, t), model, sgd) in enumerate(zip(boot_batches, ensemble, optims)):\n",
    "                sgd.zero_grad()\n",
    "            \n",
    "                y = model(x)\n",
    "                loss = F.mse_loss(y, t)\n",
    "                loss.backward()\n",
    "                sgd.step()\n",
    "\n",
    "        with torch.no_grad():\n",
    "            predictions = [model(x_tst) for model in ensemble]    \n",
    "    \n",
    "            y = torch.cat(predictions, 1).mean(1).unsqueeze(1)\n",
    "            ensemble_loss = F.mse_loss(y, t_tst).item()\n",
    "            \n",
    "            losses = [F.mse_loss(y, t_tst).item() for y in predictions]\n",
    "            std = torch.cat(predictions, 1).std(1).mean().item()\n",
    "            std_var = torch.cat(predictions, 1).std(1).std().item()\n",
    "        \n",
    "        if verbose:\n",
    "            print(f'epoch {epoch:02d} done, testing...')\n",
    "            print(f'  | loss={ensemble_loss:2.3f}',\n",
    "                  f'  |  mean_loss={np.mean(losses):2.3f}, std_loss={np.std(losses):2.3f}')\n",
    "        \n",
    "        if update_plot:\n",
    "            x_axis = np.append(x_axis, [epoch])\n",
    "            y_axis = np.append(y_axis, [ensemble_loss])\n",
    "            std_axis = np.append(std_axis, [std])\n",
    "            std_var_axis = np.append(std_var_axis, [std_var])\n",
    "            update_plot(x_axis, y_axis, std_axis, std_var_axis)\n",
    "    if update_plot:\n",
    "        return [x_axis, y_axis, std_axis, std_var_axis]"
   ]
  },
  {
   "cell_type": "markdown",
   "metadata": {},
   "source": [
    "## Visualize the training process"
   ]
  },
  {
   "cell_type": "code",
   "execution_count": 14,
   "metadata": {},
   "outputs": [],
   "source": [
    "x = np.array([])\n",
    "y = np.array([])\n",
    "std = np.array([])\n",
    "std_var = np.array([])\n",
    "plt_data = [x, y, std, std_var]\n",
    "\n",
    "train_plt = figure(title=\"Ensemble Loss / Mean Model Uncertainty\",\n",
    "                   plot_height=400,\n",
    "                   plot_width=800, \n",
    "                   x_range=(0, epochs),\n",
    "                   background_fill_color='whitesmoke')\n",
    "\n",
    "std_plt = train_plt.line(x, std, color=\"dodgerblue\", line_width=2.5, alpha=0.9, legend='test uncertainty')\n",
    "std_var_plt = train_plt.line(x, std_var, color=\"MediumPurple\", line_width=2.5, alpha=0.9, legend='var uncertainty')\n",
    "loss_plt = train_plt.line(x, y, color=\"orangered\", line_width=2.5, alpha=0.9, legend='test loss')\n",
    "train_plt.legend.location = \"top_left\"\n",
    "\n",
    "\n",
    "def update(x, y, std, std_var):\n",
    "    loss_plt.data_source.data.update(x=x, y=y)\n",
    "    std_plt.data_source.data.update(x=x, y=std)\n",
    "    std_var_plt.data_source.data.update(x=x, y=std_var)\n",
    "    push_notebook()"
   ]
  },
  {
   "cell_type": "code",
   "execution_count": 15,
   "metadata": {},
   "outputs": [
    {
     "data": {
      "text/html": [
       "\n",
       "\n",
       "\n",
       "\n",
       "\n",
       "\n",
       "  <div class=\"bk-root\" id=\"1cfb1f52-6e35-45fe-8730-ba6e307033f5\"></div>\n"
      ]
     },
     "metadata": {},
     "output_type": "display_data"
    },
    {
     "data": {
      "application/javascript": [
       "(function(root) {\n",
       "  function embed_document(root) {\n",
       "    \n",
       "  var docs_json = {\"31aba8e9-dacc-41fb-a1b8-6c08630f3a95\":{\"roots\":{\"references\":[{\"attributes\":{\"background_fill_color\":{\"value\":\"whitesmoke\"},\"below\":[{\"id\":\"1180\",\"type\":\"LinearAxis\"}],\"left\":[{\"id\":\"1185\",\"type\":\"LinearAxis\"}],\"plot_height\":400,\"plot_width\":800,\"renderers\":[{\"id\":\"1180\",\"type\":\"LinearAxis\"},{\"id\":\"1184\",\"type\":\"Grid\"},{\"id\":\"1185\",\"type\":\"LinearAxis\"},{\"id\":\"1189\",\"type\":\"Grid\"},{\"id\":\"1198\",\"type\":\"BoxAnnotation\"},{\"id\":\"1216\",\"type\":\"Legend\"},{\"id\":\"1208\",\"type\":\"GlyphRenderer\"},{\"id\":\"1221\",\"type\":\"GlyphRenderer\"},{\"id\":\"1235\",\"type\":\"GlyphRenderer\"}],\"title\":{\"id\":\"1169\",\"type\":\"Title\"},\"toolbar\":{\"id\":\"1196\",\"type\":\"Toolbar\"},\"x_range\":{\"id\":\"1172\",\"type\":\"Range1d\"},\"x_scale\":{\"id\":\"1176\",\"type\":\"LinearScale\"},\"y_range\":{\"id\":\"1174\",\"type\":\"DataRange1d\"},\"y_scale\":{\"id\":\"1178\",\"type\":\"LinearScale\"}},\"id\":\"1170\",\"subtype\":\"Figure\",\"type\":\"Plot\"},{\"attributes\":{\"source\":{\"id\":\"1205\",\"type\":\"ColumnDataSource\"}},\"id\":\"1209\",\"type\":\"CDSView\"},{\"attributes\":{\"source\":{\"id\":\"1232\",\"type\":\"ColumnDataSource\"}},\"id\":\"1236\",\"type\":\"CDSView\"},{\"attributes\":{\"formatter\":{\"id\":\"1211\",\"type\":\"BasicTickFormatter\"},\"plot\":{\"id\":\"1170\",\"subtype\":\"Figure\",\"type\":\"Plot\"},\"ticker\":{\"id\":\"1181\",\"type\":\"BasicTicker\"}},\"id\":\"1180\",\"type\":\"LinearAxis\"},{\"attributes\":{},\"id\":\"1245\",\"type\":\"UnionRenderers\"},{\"attributes\":{},\"id\":\"1181\",\"type\":\"BasicTicker\"},{\"attributes\":{},\"id\":\"1211\",\"type\":\"BasicTickFormatter\"},{\"attributes\":{},\"id\":\"1246\",\"type\":\"Selection\"},{\"attributes\":{\"plot\":{\"id\":\"1170\",\"subtype\":\"Figure\",\"type\":\"Plot\"},\"ticker\":{\"id\":\"1181\",\"type\":\"BasicTicker\"}},\"id\":\"1184\",\"type\":\"Grid\"},{\"attributes\":{},\"id\":\"1213\",\"type\":\"BasicTickFormatter\"},{\"attributes\":{\"label\":{\"value\":\"test loss\"},\"renderers\":[{\"id\":\"1235\",\"type\":\"GlyphRenderer\"}]},\"id\":\"1247\",\"type\":\"LegendItem\"},{\"attributes\":{\"formatter\":{\"id\":\"1213\",\"type\":\"BasicTickFormatter\"},\"plot\":{\"id\":\"1170\",\"subtype\":\"Figure\",\"type\":\"Plot\"},\"ticker\":{\"id\":\"1186\",\"type\":\"BasicTicker\"}},\"id\":\"1185\",\"type\":\"LinearAxis\"},{\"attributes\":{\"items\":[{\"id\":\"1217\",\"type\":\"LegendItem\"},{\"id\":\"1231\",\"type\":\"LegendItem\"},{\"id\":\"1247\",\"type\":\"LegendItem\"}],\"location\":\"top_left\",\"plot\":{\"id\":\"1170\",\"subtype\":\"Figure\",\"type\":\"Plot\"}},\"id\":\"1216\",\"type\":\"Legend\"},{\"attributes\":{},\"id\":\"1186\",\"type\":\"BasicTicker\"},{\"attributes\":{\"label\":{\"value\":\"test uncertainty\"},\"renderers\":[{\"id\":\"1208\",\"type\":\"GlyphRenderer\"}]},\"id\":\"1217\",\"type\":\"LegendItem\"},{\"attributes\":{},\"id\":\"1271\",\"type\":\"Selection\"},{\"attributes\":{\"dimension\":1,\"plot\":{\"id\":\"1170\",\"subtype\":\"Figure\",\"type\":\"Plot\"},\"ticker\":{\"id\":\"1186\",\"type\":\"BasicTicker\"}},\"id\":\"1189\",\"type\":\"Grid\"},{\"attributes\":{\"callback\":null,\"data\":{\"x\":{\"__ndarray__\":\"\",\"dtype\":\"float64\",\"shape\":[0]},\"y\":{\"__ndarray__\":\"\",\"dtype\":\"float64\",\"shape\":[0]}},\"selected\":{\"id\":\"1271\",\"type\":\"Selection\"},\"selection_policy\":{\"id\":\"1270\",\"type\":\"UnionRenderers\"}},\"id\":\"1232\",\"type\":\"ColumnDataSource\"},{\"attributes\":{\"line_alpha\":0.1,\"line_color\":\"#1f77b4\",\"line_width\":2.5,\"x\":{\"field\":\"x\"},\"y\":{\"field\":\"y\"}},\"id\":\"1207\",\"type\":\"Line\"},{\"attributes\":{\"line_alpha\":0.9,\"line_color\":\"MediumPurple\",\"line_width\":2.5,\"x\":{\"field\":\"x\"},\"y\":{\"field\":\"y\"}},\"id\":\"1219\",\"type\":\"Line\"},{\"attributes\":{\"line_alpha\":0.9,\"line_color\":\"dodgerblue\",\"line_width\":2.5,\"x\":{\"field\":\"x\"},\"y\":{\"field\":\"y\"}},\"id\":\"1206\",\"type\":\"Line\"},{\"attributes\":{\"line_alpha\":0.1,\"line_color\":\"#1f77b4\",\"line_width\":2.5,\"x\":{\"field\":\"x\"},\"y\":{\"field\":\"y\"}},\"id\":\"1220\",\"type\":\"Line\"},{\"attributes\":{},\"id\":\"1270\",\"type\":\"UnionRenderers\"},{\"attributes\":{\"data_source\":{\"id\":\"1205\",\"type\":\"ColumnDataSource\"},\"glyph\":{\"id\":\"1206\",\"type\":\"Line\"},\"hover_glyph\":null,\"muted_glyph\":null,\"nonselection_glyph\":{\"id\":\"1207\",\"type\":\"Line\"},\"selection_glyph\":null,\"view\":{\"id\":\"1209\",\"type\":\"CDSView\"}},\"id\":\"1208\",\"type\":\"GlyphRenderer\"},{\"attributes\":{\"data_source\":{\"id\":\"1218\",\"type\":\"ColumnDataSource\"},\"glyph\":{\"id\":\"1219\",\"type\":\"Line\"},\"hover_glyph\":null,\"muted_glyph\":null,\"nonselection_glyph\":{\"id\":\"1220\",\"type\":\"Line\"},\"selection_glyph\":null,\"view\":{\"id\":\"1222\",\"type\":\"CDSView\"}},\"id\":\"1221\",\"type\":\"GlyphRenderer\"},{\"attributes\":{},\"id\":\"1190\",\"type\":\"PanTool\"},{\"attributes\":{\"source\":{\"id\":\"1218\",\"type\":\"ColumnDataSource\"}},\"id\":\"1222\",\"type\":\"CDSView\"},{\"attributes\":{},\"id\":\"1191\",\"type\":\"WheelZoomTool\"},{\"attributes\":{},\"id\":\"1229\",\"type\":\"UnionRenderers\"},{\"attributes\":{\"overlay\":{\"id\":\"1198\",\"type\":\"BoxAnnotation\"}},\"id\":\"1192\",\"type\":\"BoxZoomTool\"},{\"attributes\":{\"callback\":null,\"data\":{\"x\":{\"__ndarray__\":\"\",\"dtype\":\"float64\",\"shape\":[0]},\"y\":{\"__ndarray__\":\"\",\"dtype\":\"float64\",\"shape\":[0]}},\"selected\":{\"id\":\"1246\",\"type\":\"Selection\"},\"selection_policy\":{\"id\":\"1245\",\"type\":\"UnionRenderers\"}},\"id\":\"1218\",\"type\":\"ColumnDataSource\"},{\"attributes\":{\"callback\":null,\"data\":{\"x\":{\"__ndarray__\":\"\",\"dtype\":\"float64\",\"shape\":[0]},\"y\":{\"__ndarray__\":\"\",\"dtype\":\"float64\",\"shape\":[0]}},\"selected\":{\"id\":\"1230\",\"type\":\"Selection\"},\"selection_policy\":{\"id\":\"1229\",\"type\":\"UnionRenderers\"}},\"id\":\"1205\",\"type\":\"ColumnDataSource\"},{\"attributes\":{},\"id\":\"1230\",\"type\":\"Selection\"},{\"attributes\":{},\"id\":\"1193\",\"type\":\"SaveTool\"},{\"attributes\":{\"plot\":null,\"text\":\"Ensemble Loss / Mean Model Uncertainty\"},\"id\":\"1169\",\"type\":\"Title\"},{\"attributes\":{\"label\":{\"value\":\"var uncertainty\"},\"renderers\":[{\"id\":\"1221\",\"type\":\"GlyphRenderer\"}]},\"id\":\"1231\",\"type\":\"LegendItem\"},{\"attributes\":{},\"id\":\"1194\",\"type\":\"ResetTool\"},{\"attributes\":{},\"id\":\"1195\",\"type\":\"HelpTool\"},{\"attributes\":{\"callback\":null,\"end\":6000},\"id\":\"1172\",\"type\":\"Range1d\"},{\"attributes\":{\"line_alpha\":0.9,\"line_color\":\"orangered\",\"line_width\":2.5,\"x\":{\"field\":\"x\"},\"y\":{\"field\":\"y\"}},\"id\":\"1233\",\"type\":\"Line\"},{\"attributes\":{\"active_drag\":\"auto\",\"active_inspect\":\"auto\",\"active_multi\":null,\"active_scroll\":\"auto\",\"active_tap\":\"auto\",\"tools\":[{\"id\":\"1190\",\"type\":\"PanTool\"},{\"id\":\"1191\",\"type\":\"WheelZoomTool\"},{\"id\":\"1192\",\"type\":\"BoxZoomTool\"},{\"id\":\"1193\",\"type\":\"SaveTool\"},{\"id\":\"1194\",\"type\":\"ResetTool\"},{\"id\":\"1195\",\"type\":\"HelpTool\"}]},\"id\":\"1196\",\"type\":\"Toolbar\"},{\"attributes\":{\"callback\":null},\"id\":\"1174\",\"type\":\"DataRange1d\"},{\"attributes\":{\"line_alpha\":0.1,\"line_color\":\"#1f77b4\",\"line_width\":2.5,\"x\":{\"field\":\"x\"},\"y\":{\"field\":\"y\"}},\"id\":\"1234\",\"type\":\"Line\"},{\"attributes\":{},\"id\":\"1176\",\"type\":\"LinearScale\"},{\"attributes\":{\"bottom_units\":\"screen\",\"fill_alpha\":{\"value\":0.5},\"fill_color\":{\"value\":\"lightgrey\"},\"left_units\":\"screen\",\"level\":\"overlay\",\"line_alpha\":{\"value\":1.0},\"line_color\":{\"value\":\"black\"},\"line_dash\":[4,4],\"line_width\":{\"value\":2},\"plot\":null,\"render_mode\":\"css\",\"right_units\":\"screen\",\"top_units\":\"screen\"},\"id\":\"1198\",\"type\":\"BoxAnnotation\"},{\"attributes\":{\"data_source\":{\"id\":\"1232\",\"type\":\"ColumnDataSource\"},\"glyph\":{\"id\":\"1233\",\"type\":\"Line\"},\"hover_glyph\":null,\"muted_glyph\":null,\"nonselection_glyph\":{\"id\":\"1234\",\"type\":\"Line\"},\"selection_glyph\":null,\"view\":{\"id\":\"1236\",\"type\":\"CDSView\"}},\"id\":\"1235\",\"type\":\"GlyphRenderer\"},{\"attributes\":{},\"id\":\"1178\",\"type\":\"LinearScale\"}],\"root_ids\":[\"1170\"]},\"title\":\"Bokeh Application\",\"version\":\"1.0.1\"}};\n",
       "  var render_items = [{\"docid\":\"31aba8e9-dacc-41fb-a1b8-6c08630f3a95\",\"notebook_comms_target\":\"1272\",\"roots\":{\"1170\":\"1cfb1f52-6e35-45fe-8730-ba6e307033f5\"}}];\n",
       "  root.Bokeh.embed.embed_items_notebook(docs_json, render_items);\n",
       "\n",
       "  }\n",
       "  if (root.Bokeh !== undefined) {\n",
       "    embed_document(root);\n",
       "  } else {\n",
       "    var attempts = 0;\n",
       "    var timer = setInterval(function(root) {\n",
       "      if (root.Bokeh !== undefined) {\n",
       "        embed_document(root);\n",
       "        clearInterval(timer);\n",
       "      }\n",
       "      attempts++;\n",
       "      if (attempts > 100) {\n",
       "        console.log(\"Bokeh: ERROR: Unable to run BokehJS code because BokehJS library is missing\");\n",
       "        clearInterval(timer);\n",
       "      }\n",
       "    }, 10, root)\n",
       "  }\n",
       "})(window);"
      ],
      "application/vnd.bokehjs_exec.v0+json": ""
     },
     "metadata": {
      "application/vnd.bokehjs_exec.v0+json": {
       "id": "1170"
      }
     },
     "output_type": "display_data"
    },
    {
     "data": {
      "text/html": [
       "<p><code>&lt;Bokeh Notebook handle for <strong>In[15]</strong>&gt;</code></p>"
      ],
      "text/plain": [
       "<bokeh.io.notebook.CommsHandle at 0x7fa81c712390>"
      ]
     },
     "execution_count": 15,
     "metadata": {},
     "output_type": "execute_result"
    }
   ],
   "source": [
    "show(train_plt, notebook_handle=True)"
   ]
  },
  {
   "cell_type": "code",
   "execution_count": 16,
   "metadata": {},
   "outputs": [],
   "source": [
    "plt_data = train(train_loader, test_data, ensemble, optims, epochs=epochs,\n",
    "                 verbose=False, update_plot=update, plt_data=plt_data)"
   ]
  },
  {
   "cell_type": "code",
   "execution_count": 17,
   "metadata": {},
   "outputs": [],
   "source": [
    "def get_predictions(ensemble, x):\n",
    "    with torch.no_grad():\n",
    "        predictions = [model(x) for model in ensemble]\n",
    "        predictions = torch.cat(predictions, 1)\n",
    "        return predictions.mean(1), predictions.std(1)"
   ]
  },
  {
   "cell_type": "code",
   "execution_count": 18,
   "metadata": {},
   "outputs": [],
   "source": [
    "x_axis = torch.arange(-1, 2.01, 1/33).unsqueeze(1).float()\n",
    "y_axis, std = get_predictions(ensemble, x_axis)\n",
    "\n",
    "x_axis = x_axis.squeeze().numpy()\n",
    "y_axis = y_axis.squeeze().numpy()\n",
    "std = std.squeeze().numpy()\n",
    "\n",
    "x_obs = obs_data['x'].values\n",
    "y_obs = obs_data['y'].values\n",
    "\n",
    "x_tst = tst_data['x'].values\n",
    "y_tst = tst_data['y'].values\n",
    "\n",
    "df = pd.DataFrame(data=dict(x=x_axis, lower=y_axis-std, upper=y_axis+std)).sort_values(by=\"x\")\n",
    "source = ColumnDataSource(df.reset_index())\n",
    "\n",
    "data_plt = figure(title=\"Data\",\n",
    "                  plot_height=400,\n",
    "                  plot_width=900,\n",
    "                  y_range=(-1, 5),\n",
    "                  x_range=(-1, 2),\n",
    "                  background_fill_color='#ffffff')\n",
    "\n",
    "fx = data_plt.line(x_axis, y_axis, color=\"mediumspringgreen\", line_width=3, alpha=0.8, legend='model(x)')\n",
    "obs = data_plt.scatter(x_obs, y_obs,\n",
    "                       size=10, fill_color=\"slateblue\", line_color=\"slateblue\", alpha=0.8, legend='observed')\n",
    "tst = data_plt.scatter(x_tst, y_tst,\n",
    "                       size=7, fill_color=\"indianred\", line_color=\"indianred\", alpha=0.8, legend='test data')\n",
    "band = Band(base='x', lower='lower', upper='upper', source=source, level='underlay',\n",
    "            fill_alpha=0.3, fill_color='MediumAquamarine', line_width=0, line_color='#ffffff')\n",
    "data_plt.add_layout(band)"
   ]
  },
  {
   "cell_type": "code",
   "execution_count": 19,
   "metadata": {},
   "outputs": [
    {
     "data": {
      "text/html": [
       "\n",
       "\n",
       "\n",
       "\n",
       "\n",
       "\n",
       "  <div class=\"bk-root\" id=\"c73e7eff-508b-4e7c-945a-e63005f897b2\"></div>\n"
      ]
     },
     "metadata": {},
     "output_type": "display_data"
    },
    {
     "data": {
      "application/javascript": [
       "(function(root) {\n",
       "  function embed_document(root) {\n",
       "    \n",
       "  var docs_json = {\"2440bf73-ce93-4903-9112-0025afeac79f\":{\"roots\":{\"references\":[{\"attributes\":{\"below\":[{\"id\":\"43357\",\"type\":\"LinearAxis\"}],\"left\":[{\"id\":\"43362\",\"type\":\"LinearAxis\"}],\"plot_height\":400,\"plot_width\":900,\"renderers\":[{\"id\":\"43357\",\"type\":\"LinearAxis\"},{\"id\":\"43361\",\"type\":\"Grid\"},{\"id\":\"43362\",\"type\":\"LinearAxis\"},{\"id\":\"43366\",\"type\":\"Grid\"},{\"id\":\"43375\",\"type\":\"BoxAnnotation\"},{\"id\":\"43393\",\"type\":\"Legend\"},{\"id\":\"43385\",\"type\":\"GlyphRenderer\"},{\"id\":\"43398\",\"type\":\"GlyphRenderer\"},{\"id\":\"43412\",\"type\":\"GlyphRenderer\"},{\"id\":\"43425\",\"type\":\"Band\"}],\"title\":{\"id\":\"43346\",\"type\":\"Title\"},\"toolbar\":{\"id\":\"43373\",\"type\":\"Toolbar\"},\"x_range\":{\"id\":\"43349\",\"type\":\"Range1d\"},\"x_scale\":{\"id\":\"43353\",\"type\":\"LinearScale\"},\"y_range\":{\"id\":\"43351\",\"type\":\"Range1d\"},\"y_scale\":{\"id\":\"43355\",\"type\":\"LinearScale\"}},\"id\":\"43347\",\"subtype\":\"Figure\",\"type\":\"Plot\"},{\"attributes\":{\"line_alpha\":0.8,\"line_color\":\"mediumspringgreen\",\"line_width\":3,\"x\":{\"field\":\"x\"},\"y\":{\"field\":\"y\"}},\"id\":\"43383\",\"type\":\"Line\"},{\"attributes\":{\"source\":{\"id\":\"43395\",\"type\":\"ColumnDataSource\"}},\"id\":\"43399\",\"type\":\"CDSView\"},{\"attributes\":{},\"id\":\"43367\",\"type\":\"PanTool\"},{\"attributes\":{\"plot\":null,\"text\":\"Data\"},\"id\":\"43346\",\"type\":\"Title\"},{\"attributes\":{},\"id\":\"43406\",\"type\":\"UnionRenderers\"},{\"attributes\":{},\"id\":\"43368\",\"type\":\"WheelZoomTool\"},{\"attributes\":{},\"id\":\"43407\",\"type\":\"Selection\"},{\"attributes\":{\"overlay\":{\"id\":\"43375\",\"type\":\"BoxAnnotation\"}},\"id\":\"43369\",\"type\":\"BoxZoomTool\"},{\"attributes\":{\"label\":{\"value\":\"observed\"},\"renderers\":[{\"id\":\"43398\",\"type\":\"GlyphRenderer\"}]},\"id\":\"43408\",\"type\":\"LegendItem\"},{\"attributes\":{},\"id\":\"43370\",\"type\":\"SaveTool\"},{\"attributes\":{\"base\":{\"field\":\"x\",\"units\":\"data\"},\"fill_alpha\":{\"value\":0.3},\"fill_color\":{\"value\":\"MediumAquamarine\"},\"level\":\"underlay\",\"line_color\":{\"value\":\"#ffffff\"},\"line_width\":{\"value\":0},\"lower\":{\"field\":\"lower\",\"units\":\"data\"},\"plot\":{\"id\":\"43347\",\"subtype\":\"Figure\",\"type\":\"Plot\"},\"source\":{\"id\":\"43345\",\"type\":\"ColumnDataSource\"},\"upper\":{\"field\":\"upper\",\"units\":\"data\"}},\"id\":\"43425\",\"type\":\"Band\"},{\"attributes\":{},\"id\":\"43371\",\"type\":\"ResetTool\"},{\"attributes\":{},\"id\":\"43353\",\"type\":\"LinearScale\"},{\"attributes\":{\"fill_alpha\":{\"value\":0.8},\"fill_color\":{\"value\":\"indianred\"},\"line_alpha\":{\"value\":0.8},\"line_color\":{\"value\":\"indianred\"},\"size\":{\"units\":\"screen\",\"value\":7},\"x\":{\"field\":\"x\"},\"y\":{\"field\":\"y\"}},\"id\":\"43410\",\"type\":\"Scatter\"},{\"attributes\":{},\"id\":\"43372\",\"type\":\"HelpTool\"},{\"attributes\":{},\"id\":\"43461\",\"type\":\"UnionRenderers\"},{\"attributes\":{\"fill_alpha\":{\"value\":0.1},\"fill_color\":{\"value\":\"#1f77b4\"},\"line_alpha\":{\"value\":0.1},\"line_color\":{\"value\":\"#1f77b4\"},\"size\":{\"units\":\"screen\",\"value\":7},\"x\":{\"field\":\"x\"},\"y\":{\"field\":\"y\"}},\"id\":\"43411\",\"type\":\"Scatter\"},{\"attributes\":{\"active_drag\":\"auto\",\"active_inspect\":\"auto\",\"active_multi\":null,\"active_scroll\":\"auto\",\"active_tap\":\"auto\",\"tools\":[{\"id\":\"43367\",\"type\":\"PanTool\"},{\"id\":\"43368\",\"type\":\"WheelZoomTool\"},{\"id\":\"43369\",\"type\":\"BoxZoomTool\"},{\"id\":\"43370\",\"type\":\"SaveTool\"},{\"id\":\"43371\",\"type\":\"ResetTool\"},{\"id\":\"43372\",\"type\":\"HelpTool\"}]},\"id\":\"43373\",\"type\":\"Toolbar\"},{\"attributes\":{\"data_source\":{\"id\":\"43382\",\"type\":\"ColumnDataSource\"},\"glyph\":{\"id\":\"43383\",\"type\":\"Line\"},\"hover_glyph\":null,\"muted_glyph\":null,\"nonselection_glyph\":{\"id\":\"43384\",\"type\":\"Line\"},\"selection_glyph\":null,\"view\":{\"id\":\"43386\",\"type\":\"CDSView\"}},\"id\":\"43385\",\"type\":\"GlyphRenderer\"},{\"attributes\":{\"data_source\":{\"id\":\"43409\",\"type\":\"ColumnDataSource\"},\"glyph\":{\"id\":\"43410\",\"type\":\"Scatter\"},\"hover_glyph\":null,\"muted_glyph\":null,\"nonselection_glyph\":{\"id\":\"43411\",\"type\":\"Scatter\"},\"selection_glyph\":null,\"view\":{\"id\":\"43413\",\"type\":\"CDSView\"}},\"id\":\"43412\",\"type\":\"GlyphRenderer\"},{\"attributes\":{\"bottom_units\":\"screen\",\"fill_alpha\":{\"value\":0.5},\"fill_color\":{\"value\":\"lightgrey\"},\"left_units\":\"screen\",\"level\":\"overlay\",\"line_alpha\":{\"value\":1.0},\"line_color\":{\"value\":\"black\"},\"line_dash\":[4,4],\"line_width\":{\"value\":2},\"plot\":null,\"render_mode\":\"css\",\"right_units\":\"screen\",\"top_units\":\"screen\"},\"id\":\"43375\",\"type\":\"BoxAnnotation\"},{\"attributes\":{\"callback\":null,\"end\":5,\"start\":-1},\"id\":\"43351\",\"type\":\"Range1d\"},{\"attributes\":{\"source\":{\"id\":\"43409\",\"type\":\"ColumnDataSource\"}},\"id\":\"43413\",\"type\":\"CDSView\"},{\"attributes\":{},\"id\":\"43464\",\"type\":\"Selection\"},{\"attributes\":{\"source\":{\"id\":\"43382\",\"type\":\"ColumnDataSource\"}},\"id\":\"43386\",\"type\":\"CDSView\"},{\"attributes\":{\"callback\":null,\"end\":2,\"start\":-1},\"id\":\"43349\",\"type\":\"Range1d\"},{\"attributes\":{},\"id\":\"43422\",\"type\":\"UnionRenderers\"},{\"attributes\":{},\"id\":\"43388\",\"type\":\"BasicTickFormatter\"},{\"attributes\":{},\"id\":\"43423\",\"type\":\"Selection\"},{\"attributes\":{},\"id\":\"43355\",\"type\":\"LinearScale\"},{\"attributes\":{},\"id\":\"43390\",\"type\":\"BasicTickFormatter\"},{\"attributes\":{\"label\":{\"value\":\"test data\"},\"renderers\":[{\"id\":\"43412\",\"type\":\"GlyphRenderer\"}]},\"id\":\"43424\",\"type\":\"LegendItem\"},{\"attributes\":{\"formatter\":{\"id\":\"43388\",\"type\":\"BasicTickFormatter\"},\"plot\":{\"id\":\"43347\",\"subtype\":\"Figure\",\"type\":\"Plot\"},\"ticker\":{\"id\":\"43358\",\"type\":\"BasicTicker\"}},\"id\":\"43357\",\"type\":\"LinearAxis\"},{\"attributes\":{\"items\":[{\"id\":\"43394\",\"type\":\"LegendItem\"},{\"id\":\"43408\",\"type\":\"LegendItem\"},{\"id\":\"43424\",\"type\":\"LegendItem\"}],\"plot\":{\"id\":\"43347\",\"subtype\":\"Figure\",\"type\":\"Plot\"}},\"id\":\"43393\",\"type\":\"Legend\"},{\"attributes\":{},\"id\":\"43358\",\"type\":\"BasicTicker\"},{\"attributes\":{\"formatter\":{\"id\":\"43390\",\"type\":\"BasicTickFormatter\"},\"plot\":{\"id\":\"43347\",\"subtype\":\"Figure\",\"type\":\"Plot\"},\"ticker\":{\"id\":\"43363\",\"type\":\"BasicTicker\"}},\"id\":\"43362\",\"type\":\"LinearAxis\"},{\"attributes\":{\"label\":{\"value\":\"model(x)\"},\"renderers\":[{\"id\":\"43385\",\"type\":\"GlyphRenderer\"}]},\"id\":\"43394\",\"type\":\"LegendItem\"},{\"attributes\":{\"plot\":{\"id\":\"43347\",\"subtype\":\"Figure\",\"type\":\"Plot\"},\"ticker\":{\"id\":\"43358\",\"type\":\"BasicTicker\"}},\"id\":\"43361\",\"type\":\"Grid\"},{\"attributes\":{\"callback\":null,\"data\":{\"x\":{\"__ndarray__\":\"AAAAAPhP0T8AAABAnqfgPwAAAOARXt4/AAAAgIG1vD8AAABgvvbbPwAAAIB5Z9k/AAAAII413z8AAABgSzHbPwAAACBbYMo/AAAAINJl1z8AAABA/UXOPwAAAMBJXd8/AAAAIHSy2D8AAAAgiGXUPwAAAGDQuNQ/AAAA4GXs4T8AAABgFD7iPwAAAMC0QdE/AAAA4EjN2D8AAABAvwHMPwAAAIAzbMY/AAAAgP1kyD8AAACAnMTcPwAAAOC/Frk/AAAAACFW8T8AAABAUQrwPwAAAKD9k+0/AAAA4EdW7j8AAAAAwzTtPwAAACBFIe4/AAAAYFlm7T8AAACgLT/wPwAAAIBgX/A/AAAAICcY8T8AAAAA1BHvPw==\",\"dtype\":\"float64\",\"shape\":[35]},\"y\":{\"__ndarray__\":\"AAAAIImT5T8AAAAANkb6PwAAAABCr/E/AAAA4Akw+j8AAADASwLcPwAAAEDTT9Y/AAAAQPNK+D8AAADg8MroPwAAAKB4kvA/AAAAQGZk1z8AAAAgwbn0PwAAAMB5Kfc/AAAAYB804T8AAABA9kXWPwAAAOA5XeA/AAAAAEXl/D8AAACAIMEAQAAAAIDEwOY/AAAAwBVx1j8AAAAgF6f0PwAAAMBWjfY/AAAAQGJM+j8AAACAc1b3PwAAAKC3evk/AAAAwKEn8j8AAAAAtSnrPwAAAIA3+tK/AAAAYOJLpj8AAADgaTrAvwAAAEBNh9G/AAAAIE7N2b8AAADAix/jPwAAAEBxt+Y/AAAA4NSY7D8AAAAgw5PZPw==\",\"dtype\":\"float64\",\"shape\":[35]}},\"selected\":{\"id\":\"43462\",\"type\":\"Selection\"},\"selection_policy\":{\"id\":\"43461\",\"type\":\"UnionRenderers\"}},\"id\":\"43409\",\"type\":\"ColumnDataSource\"},{\"attributes\":{},\"id\":\"43462\",\"type\":\"Selection\"},{\"attributes\":{},\"id\":\"43463\",\"type\":\"UnionRenderers\"},{\"attributes\":{},\"id\":\"43363\",\"type\":\"BasicTicker\"},{\"attributes\":{\"callback\":null,\"data\":{\"x\":{\"__ndarray__\":\"AACAvxA+eL8ffHC/L7povz74YL9ONlm/XXRRv22ySb988EG/jC46v5tsMr+rqiq/uugiv8omG7/ZZBO/6aILv/jgA78QPvi+L7rovk422b5tssm+jC66vquqqr7KJpu+6aKLvhA+eL5ONlm+jC46vsomG74QPvi9jC66vRA+eL0QPvi8AAAAABA++DwQPng9jC66PRA++D3KJhs+jC46Pk42WT4QPng+6aKLPsommz6rqqo+jC66Pm2yyT5ONtk+L7roPhA++D744AM/6aILP9lkEz/KJhs/uugiP6uqKj+bbDI/jC46P3zwQT9tskk/XXRRP042WT8++GA/L7poPx98cD8QPng/AACAP/jggz/wwYc/6aKLP+GDjz/ZZJM/0UWXP8ommz/CB58/uuiiP7LJpj+rqqo/o4uuP5tssj+TTbY/jC66P4QPvj988ME/dNHFP22yyT9lk80/XXTRP1VV1T9ONtk/RhfdPz744D822eQ/L7roPyeb7D8ffPA/F130PxA++D8IH/w/AAAAQA==\",\"dtype\":\"float32\",\"shape\":[100]},\"y\":{\"__ndarray__\":\"XS4EQGz/AkDmzgFAYZ4AQPbd/j9Offw/IBz6P2W79z9pWPU/4PDyP4OK8D+SJu4/6b7rPylT6T/q4uY/2m3kP2D34T97g98/cxLdP8+g2j82MNg/6cHVP8lV0z+A69A/+njOPywJzD+9l8k/3yPHP/+kxD8NI8I/CZ+/P6kZvT/ckLo/Vwe4P6R+tT+pJbM/hR6xP6Zgrj+S6qc/yOefP2ZIlz8DqY4/AfWGP1gRgT9AFn0/nM19PzEuhT9bkJE/ydOeP0RCrD86d7k/JAPEP2oKyz+/psA/DIGpP51Xkj9jXHY/iQlIP7K2GT+vx9Y+KnB7Pj3b7D07RMk8POQuvZOqmb3lH4O9JjgvvftOcLzig6A80X1dPTQ2tT3Gqfs9miUhPteARD4N0Wc+r4OFPqkblz5lpag+TCe6Pkiqyz6NL90+VrruPpMkAD/U7Qg/0LYRP0B/Gj92RSM/5AssP5zSND9KmT0/yWBGP2UlTz946Vc/hq1gPwBwaT/vMHI/ifJ6P43ZgT8BOIY/B5WKPw==\",\"dtype\":\"float32\",\"shape\":[100]}},\"selected\":{\"id\":\"43407\",\"type\":\"Selection\"},\"selection_policy\":{\"id\":\"43406\",\"type\":\"UnionRenderers\"}},\"id\":\"43382\",\"type\":\"ColumnDataSource\"},{\"attributes\":{\"fill_alpha\":{\"value\":0.8},\"fill_color\":{\"value\":\"slateblue\"},\"line_alpha\":{\"value\":0.8},\"line_color\":{\"value\":\"slateblue\"},\"size\":{\"units\":\"screen\",\"value\":10},\"x\":{\"field\":\"x\"},\"y\":{\"field\":\"y\"}},\"id\":\"43396\",\"type\":\"Scatter\"},{\"attributes\":{\"dimension\":1,\"plot\":{\"id\":\"43347\",\"subtype\":\"Figure\",\"type\":\"Plot\"},\"ticker\":{\"id\":\"43363\",\"type\":\"BasicTicker\"}},\"id\":\"43366\",\"type\":\"Grid\"},{\"attributes\":{\"callback\":null,\"data\":{\"x\":{\"__ndarray__\":\"AAAAIKw34T8AAACA45THPwAAACBF5ME/AAAAgGcuyz8AAACg/A62PwAAAEDP/tI/AAAAAB8P0D8AAADAa+3YPwAAAGCq2eI/AAAA4EB24D8AAADgOLrePwAAACBk09E/AAAAADzkoj8AAACg0cHiPwAAAICEkL0/AAAAgDkQtj8AAAAAXsvMPwAAAMALM8U/AAAAQANU4D8AAADgO4TePwAAAADgBM8/AAAAQOwP3T8AAACgZFLVPwAAAOA2xLg/AAAAoJgL7T8AAABAIlTtPwAAAEC0UO0/AAAAABAj7j8AAABgGXnvPwAAAOD/quo/AAAAgINx7z8AAABAUmLuPwAAAEDjr+4/AAAAYCN67T8AAABg4S7uPw==\",\"dtype\":\"float64\",\"shape\":[35]},\"y\":{\"__ndarray__\":\"AAAAwOJZ/z8AAABAZk/6PwAAAOAIO/o/AAAAwOr28z8AAABgdDnuPwAAAKBcpOE/AAAAAOba5z8AAABA6hrZPwAAAMBQ1AFAAAAAAOKj8T8AAABAvUT8PwAAAMA9cfE/AAAA4Jvy7T8AAADAfLoBQAAAAMDpB/o/AAAAAPqe9j8AAAAARffqPwAAAOD8rvk/AAAAwJbk+T8AAACgQQzrPwAAAMAmQu0/AAAAgLkV9T8AAACAv43iPwAAAADJFPo/AAAA4NkR1L8AAACg3CHZvwAAACAlwMO/AAAAQIGQtb8AAACglMrSPwAAAMAMudq/AAAAoAqo5j8AAADA7zGwvwAAAACFWMO/AAAAYEjqyj8AAACgagfavw==\",\"dtype\":\"float64\",\"shape\":[35]}},\"selected\":{\"id\":\"43423\",\"type\":\"Selection\"},\"selection_policy\":{\"id\":\"43422\",\"type\":\"UnionRenderers\"}},\"id\":\"43395\",\"type\":\"ColumnDataSource\"},{\"attributes\":{\"fill_alpha\":{\"value\":0.1},\"fill_color\":{\"value\":\"#1f77b4\"},\"line_alpha\":{\"value\":0.1},\"line_color\":{\"value\":\"#1f77b4\"},\"size\":{\"units\":\"screen\",\"value\":10},\"x\":{\"field\":\"x\"},\"y\":{\"field\":\"y\"}},\"id\":\"43397\",\"type\":\"Scatter\"},{\"attributes\":{\"callback\":null,\"data\":{\"index\":[0,1,2,3,4,5,6,7,8,9,10,11,12,13,14,15,16,17,18,19,20,21,22,23,24,25,26,27,28,29,30,31,32,33,34,35,36,37,38,39,40,41,42,43,44,45,46,47,48,49,50,51,52,53,54,55,56,57,58,59,60,61,62,63,64,65,66,67,68,69,70,71,72,73,74,75,76,77,78,79,80,81,82,83,84,85,86,87,88,89,90,91,92,93,94,95,96,97,98,99],\"level_0\":[0,1,2,3,4,5,6,7,8,9,10,11,12,13,14,15,16,17,18,19,20,21,22,23,24,25,26,27,28,29,30,31,32,33,34,35,36,37,38,39,40,41,42,43,44,45,46,47,48,49,50,51,52,53,54,55,56,57,58,59,60,61,62,63,64,65,66,67,68,69,70,71,72,73,74,75,76,77,78,79,80,81,82,83,84,85,86,87,88,89,90,91,92,93,94,95,96,97,98,99],\"lower\":{\"__ndarray__\":\"gm+fvxhklr9AWI2/5k2Ev5SGdr8EaWS/PEtSvxIuQL++GS6/qCEcv1IsCr+4bvC+tJjMvvzOqL7IIoW+AApDvjCv972Ao1K9AN6TPHD6sj04ViA+CBlnPtDXlj6MBLo+cPzcPsTT/z42MhE/00EiP6jUMj8lGEM/PPNSP3FCYj+pvHA/gft9P+anhD8wIIk/iB2MP0lriz92IoY/orF+PwpdbT/IEVg/795DP7COND/klCs/3MUpP1jzOT/Xuls/Aqd4P1bhhj9RDo4/Et2RP7M6kD9xvYM/0NdiPzy+PD/ezBQ/lUXVPkbKdz6wn2k9ahUAvtR+f76r0Ky+9MfPvq/I7r49RQa/z8Qfv13zQL/I9WS/EjCGv+/qmr+FQ7C/+wPGvxIN3L9wSPK/LlUEwBWUD8BB4BrAKjUmwPmPMcAR8DzA2lNIwH+6U8BrI1/AFo9qwDb9dcAat4DAcHCGwIwqjMBs5ZHAVaGXwOhdncDhGqPAQtiowGOWrsA1VbTALhS6wKzTv8AulMXAdFXLwA==\",\"dtype\":\"float32\",\"shape\":[100]},\"upper\":{\"__ndarray__\":\"PgqsQHKYqED2JKVA2rGhQM4/nkDIy5pAeFeXQHXjk0Bsb5BApfyMQMyKiUA0GoZAAKmCQAhtfkBDh3dAep5wQNq0aUAJzmJAt+pbQPwIVUDSKk5AWFBHQM96QEDuqjlAbNkyQLQOLEAwSyVAapMeQNXvF0AEXRFAOuIKQA2JBEBkw/w/7hDxP2JV5j8iK90/gh/WPwNW0T+ussk/v3bAP0fitz8iSbE/ivqrP1jbpz/OS6c/ruqoP7ZirT9KQ7U/EVTBPzKj0T8j4OQ/Nin2PxDtAkANkP0/MJbhPxxQxj/09as/JLiSP9J6dT+0LUg/cL0dPwgt9j4z+cU+5A6kPmXzoT6H+so+y90JP+VwOT8G/m4/8AeUP7WRsT+9uM8/YU3uP6SWBkBaHhZAGrYlQP9aNUCbCUVA/L5UQIt6ZED1O3RAOAGCQGTmiUAqzZFAP7WZQGueoUB4iKlAaHOxQDJfuUC+S8FAhznJQEIn0UA/FdlApAPhQGPy6EBx4fBA0ND4QDlgAEEXWARB/E8IQQ==\",\"dtype\":\"float32\",\"shape\":[100]},\"x\":{\"__ndarray__\":\"AACAvxA+eL8ffHC/L7povz74YL9ONlm/XXRRv22ySb988EG/jC46v5tsMr+rqiq/uugiv8omG7/ZZBO/6aILv/jgA78QPvi+L7rovk422b5tssm+jC66vquqqr7KJpu+6aKLvhA+eL5ONlm+jC46vsomG74QPvi9jC66vRA+eL0QPvi8AAAAABA++DwQPng9jC66PRA++D3KJhs+jC46Pk42WT4QPng+6aKLPsommz6rqqo+jC66Pm2yyT5ONtk+L7roPhA++D744AM/6aILP9lkEz/KJhs/uugiP6uqKj+bbDI/jC46P3zwQT9tskk/XXRRP042WT8++GA/L7poPx98cD8QPng/AACAP/jggz/wwYc/6aKLP+GDjz/ZZJM/0UWXP8ommz/CB58/uuiiP7LJpj+rqqo/o4uuP5tssj+TTbY/jC66P4QPvj988ME/dNHFP22yyT9lk80/XXTRP1VV1T9ONtk/RhfdPz744D822eQ/L7roPyeb7D8ffPA/F130PxA++D8IH/w/AAAAQA==\",\"dtype\":\"float32\",\"shape\":[100]}},\"selected\":{\"id\":\"43464\",\"type\":\"Selection\"},\"selection_policy\":{\"id\":\"43463\",\"type\":\"UnionRenderers\"}},\"id\":\"43345\",\"type\":\"ColumnDataSource\"},{\"attributes\":{\"line_alpha\":0.1,\"line_color\":\"#1f77b4\",\"line_width\":3,\"x\":{\"field\":\"x\"},\"y\":{\"field\":\"y\"}},\"id\":\"43384\",\"type\":\"Line\"},{\"attributes\":{\"data_source\":{\"id\":\"43395\",\"type\":\"ColumnDataSource\"},\"glyph\":{\"id\":\"43396\",\"type\":\"Scatter\"},\"hover_glyph\":null,\"muted_glyph\":null,\"nonselection_glyph\":{\"id\":\"43397\",\"type\":\"Scatter\"},\"selection_glyph\":null,\"view\":{\"id\":\"43399\",\"type\":\"CDSView\"}},\"id\":\"43398\",\"type\":\"GlyphRenderer\"}],\"root_ids\":[\"43347\"]},\"title\":\"Bokeh Application\",\"version\":\"1.0.1\"}};\n",
       "  var render_items = [{\"docid\":\"2440bf73-ce93-4903-9112-0025afeac79f\",\"notebook_comms_target\":\"43465\",\"roots\":{\"43347\":\"c73e7eff-508b-4e7c-945a-e63005f897b2\"}}];\n",
       "  root.Bokeh.embed.embed_items_notebook(docs_json, render_items);\n",
       "\n",
       "  }\n",
       "  if (root.Bokeh !== undefined) {\n",
       "    embed_document(root);\n",
       "  } else {\n",
       "    var attempts = 0;\n",
       "    var timer = setInterval(function(root) {\n",
       "      if (root.Bokeh !== undefined) {\n",
       "        embed_document(root);\n",
       "        clearInterval(timer);\n",
       "      }\n",
       "      attempts++;\n",
       "      if (attempts > 100) {\n",
       "        console.log(\"Bokeh: ERROR: Unable to run BokehJS code because BokehJS library is missing\");\n",
       "        clearInterval(timer);\n",
       "      }\n",
       "    }, 10, root)\n",
       "  }\n",
       "})(window);"
      ],
      "application/vnd.bokehjs_exec.v0+json": ""
     },
     "metadata": {
      "application/vnd.bokehjs_exec.v0+json": {
       "id": "43347"
      }
     },
     "output_type": "display_data"
    },
    {
     "data": {
      "text/html": [
       "<p><code>&lt;Bokeh Notebook handle for <strong>In[3]</strong>&gt;</code></p>"
      ],
      "text/plain": [
       "<bokeh.io.notebook.CommsHandle at 0x7fa7b91c52e8>"
      ]
     },
     "execution_count": 19,
     "metadata": {},
     "output_type": "execute_result"
    }
   ],
   "source": [
    "show(data_plt, notebook_handle=True)"
   ]
  }
 ],
 "metadata": {
  "kernelspec": {
   "display_name": "Python 3",
   "language": "python",
   "name": "python3"
  },
  "language_info": {
   "codemirror_mode": {
    "name": "ipython",
    "version": 3
   },
   "file_extension": ".py",
   "mimetype": "text/x-python",
   "name": "python",
   "nbconvert_exporter": "python",
   "pygments_lexer": "ipython3",
   "version": "3.7.0"
  }
 },
 "nbformat": 4,
 "nbformat_minor": 2
}
